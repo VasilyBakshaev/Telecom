{
  "cells": [
    {
      "cell_type": "markdown",
      "metadata": {
        "id": "lSYFDR5IDHrC"
      },
      "source": [
        "# **Проект \"Телеком\"**\n",
        "\n"
      ]
    },
    {
      "cell_type": "markdown",
      "metadata": {
        "id": "9D96ZMloDRTC"
      },
      "source": [
        "## Описание задачи\n",
        "Задача - научиться прогназировать отток клиентов из компании - мобильного оператора. Если выяснится, что пользователь планирует уйти, ему будут предложены промокоды и специальные условия. Оператором были собраны перрсональные данные о некторых клиенатах, информация об их тарифах и договорах.\n",
        "\n",
        "Оператор предоставляет два основных типа услуг: \n",
        "\n",
        "1. Стационарную телефонную связь. Возможно подключение телефонного аппарата к нескольким линиям одновременно.\n",
        "2. Интернет. Подключение может быть двух типов: через телефонную линию (DSL*,* от англ. *digital subscriber line*, «цифровая абонентская линия») или оптоволоконный кабель (*Fiber optic*).  \n",
        "\n",
        "Также доступны такие услуги:\n",
        "\n",
        "- Интернет-безопасность: антивирус (*DeviceProtection*) и блокировка небезопасных сайтов (*OnlineSecurity*);\n",
        "- Выделенная линия технической поддержки (*TechSupport*);\n",
        "- Облачное хранилище файлов для резервного копирования данных (*OnlineBackup*);\n",
        "- Стриминговое телевидение (*StreamingTV*) и каталог фильмов (*StreamingMovies*).\n",
        "\n",
        "За услуги клиенты могут платить каждый месяц или заключить договор на 1–2 года. Доступны различные способы расчёта и возможность получения электронного чека.\n",
        "\n",
        "\n",
        "Данные состоят из файлов, полученных из разных источников:\n",
        "\n",
        "- `contract.csv` — информация о договоре;\n",
        "- `personal.csv` — персональные данные клиента;\n",
        "- `internet.csv` — информация об интернет-услугах;\n",
        "- `phone.csv` — информация об услугах телефонии.\n",
        "\n",
        "Во всех файлах столбец `customerID` содержит код клиента.\n",
        "\n",
        "Информация о договорах актуальна на 1 февраля 2020.\n",
        "\n",
        "Цель задачи:\n",
        "\n",
        "Обучить модель которая бы предсказывала уйдёт клиент или нет. Метрика AUC-ROC не менее 0.75."
      ]
    },
    {
      "cell_type": "markdown",
      "metadata": {
        "id": "gzYy-KYYEM-M"
      },
      "source": [
        "## План работы\n",
        "\n",
        "*   Обзор задачи, постановка цели\n",
        "*   Блок импорта библиотек\n",
        "*   Загрузка и первичный обзор данных\n",
        "*   Объединение таблиц\n",
        "*   Обработка пропусков\n",
        "*   Создание/удаление признаков\n",
        "*   Исследование корреляции признаков\n",
        "*   Разделение выборки на тестовую и тренеровочную\n",
        "*   Кодировка признаков (One-hot)\n",
        "*   Обучение моделей\n",
        "*   Сравнение моделей\n",
        "*   Финальная проверка на тестовой выборке\n",
        "*   Анализ значимости признаков\n",
        "*   Попытка улучшить качество модели на основе анализа значимости признаков\n",
        "\n"
      ]
    },
    {
      "cell_type": "markdown",
      "metadata": {
        "id": "LikJE-Z6DQgd"
      },
      "source": [
        "## Импорт библиотек"
      ]
    },
    {
      "cell_type": "code",
      "execution_count": 1,
      "metadata": {
        "id": "7SaUoJIxRzCT"
      },
      "outputs": [],
      "source": [
        "! pip install -q phik\n",
        "! pip install -q catboost"
      ]
    },
    {
      "cell_type": "code",
      "execution_count": 2,
      "metadata": {
        "id": "yME6tUP1tcz4",
        "colab": {
          "base_uri": "https://localhost:8080/"
        },
        "outputId": "02ab5068-fef2-4c9e-e936-ae97ff402ba8"
      },
      "outputs": [
        {
          "output_type": "stream",
          "name": "stdout",
          "text": [
            "Drive already mounted at /content/drive; to attempt to forcibly remount, call drive.mount(\"/content/drive\", force_remount=True).\n"
          ]
        }
      ],
      "source": [
        "import pandas as pd\n",
        "from datetime import datetime\n",
        "import numpy as np\n",
        "\n",
        "import matplotlib.pyplot as plt\n",
        "import seaborn as sns\n",
        "sns.set_theme(style=\"darkgrid\")\n",
        "\n",
        "from sklearn.model_selection import train_test_split\n",
        "from sklearn.preprocessing import OneHotEncoder\n",
        "from sklearn.model_selection import GridSearchCV\n",
        "from sklearn.ensemble import RandomForestClassifier\n",
        "from sklearn import metrics\n",
        "from sklearn.metrics import SCORERS\n",
        "from sklearn.metrics import roc_auc_score\n",
        "\n",
        "from catboost import CatBoostClassifier\n",
        "from catboost import cv, Pool\n",
        "\n",
        "import phik\n",
        "from phik.report import plot_correlation_matrix\n",
        "from phik import report\n",
        "\n",
        "from google.colab import drive\n",
        "drive.mount('/content/drive')"
      ]
    },
    {
      "cell_type": "markdown",
      "metadata": {
        "id": "KTq6Q0Q6tOhX"
      },
      "source": [
        "## Загрузка и первичный обзор данных"
      ]
    },
    {
      "cell_type": "code",
      "execution_count": 3,
      "metadata": {
        "colab": {
          "base_uri": "https://localhost:8080/"
        },
        "id": "8NUkbflqsbJM",
        "outputId": "d508382f-3c92-4e7d-844c-f3d32c04266d"
      },
      "outputs": [
        {
          "output_type": "stream",
          "name": "stdout",
          "text": [
            "Archive:  /content/drive/MyDrive/Practicum_projects/Telecom/final_provider.zip\n",
            "  inflating: final_provider/personal.csv  \n",
            "  inflating: __MACOSX/final_provider/._personal.csv  \n",
            "  inflating: final_provider/contract.csv  \n",
            "  inflating: final_provider/phone.csv  \n",
            "  inflating: __MACOSX/final_provider/._phone.csv  \n",
            "  inflating: final_provider/internet.csv  \n"
          ]
        }
      ],
      "source": [
        "try:\n",
        "  ! unzip -o /content/drive/MyDrive/Practicum_projects/Telecom/final_provider.zip\n",
        "except:\n",
        "  print('Error')"
      ]
    },
    {
      "cell_type": "markdown",
      "metadata": {
        "id": "t3ha4ys_DmUr"
      },
      "source": [
        "### Таблица contract"
      ]
    },
    {
      "cell_type": "code",
      "execution_count": 4,
      "metadata": {
        "id": "aBmRwb3GtBpR"
      },
      "outputs": [],
      "source": [
        "try:\n",
        "  df_contract = pd.read_csv('/content/final_provider/contract.csv')\n",
        "except:\n",
        "  print('Error')"
      ]
    },
    {
      "cell_type": "code",
      "execution_count": 5,
      "metadata": {
        "colab": {
          "base_uri": "https://localhost:8080/"
        },
        "id": "K16zoXfudD0L",
        "outputId": "fba0644b-8d6f-42b5-c9ca-194121c3f6be"
      },
      "outputs": [
        {
          "output_type": "stream",
          "name": "stdout",
          "text": [
            "<class 'pandas.core.frame.DataFrame'>\n",
            "RangeIndex: 7043 entries, 0 to 7042\n",
            "Data columns (total 8 columns):\n",
            " #   Column            Non-Null Count  Dtype  \n",
            "---  ------            --------------  -----  \n",
            " 0   customerID        7043 non-null   object \n",
            " 1   BeginDate         7043 non-null   object \n",
            " 2   EndDate           7043 non-null   object \n",
            " 3   Type              7043 non-null   object \n",
            " 4   PaperlessBilling  7043 non-null   object \n",
            " 5   PaymentMethod     7043 non-null   object \n",
            " 6   MonthlyCharges    7043 non-null   float64\n",
            " 7   TotalCharges      7043 non-null   object \n",
            "dtypes: float64(1), object(7)\n",
            "memory usage: 440.3+ KB\n"
          ]
        }
      ],
      "source": [
        "df_contract.info()"
      ]
    },
    {
      "cell_type": "code",
      "execution_count": 6,
      "metadata": {
        "colab": {
          "base_uri": "https://localhost:8080/",
          "height": 277
        },
        "id": "66OrTnAVEU91",
        "outputId": "8cc4a273-fbde-477d-ceb3-a0b2f2531bbf"
      },
      "outputs": [
        {
          "output_type": "execute_result",
          "data": {
            "text/plain": [
              "      customerID   BeginDate EndDate            Type PaperlessBilling  \\\n",
              "4274  3572-UUHRS  2016-05-01      No        One year               No   \n",
              "739   7503-MIOGA  2014-02-01      No        Two year              Yes   \n",
              "684   8040-MNRTF  2020-01-01      No  Month-to-month               No   \n",
              "\n",
              "                  PaymentMethod  MonthlyCharges TotalCharges  \n",
              "4274  Bank transfer (automatic)           18.85        867.3  \n",
              "739   Bank transfer (automatic)           89.85      6697.35  \n",
              "684                Mailed check           71.10         71.1  "
            ],
            "text/html": [
              "\n",
              "  <div id=\"df-ac29a910-d0fa-4780-aabc-f9d5e83bdffd\">\n",
              "    <div class=\"colab-df-container\">\n",
              "      <div>\n",
              "<style scoped>\n",
              "    .dataframe tbody tr th:only-of-type {\n",
              "        vertical-align: middle;\n",
              "    }\n",
              "\n",
              "    .dataframe tbody tr th {\n",
              "        vertical-align: top;\n",
              "    }\n",
              "\n",
              "    .dataframe thead th {\n",
              "        text-align: right;\n",
              "    }\n",
              "</style>\n",
              "<table border=\"1\" class=\"dataframe\">\n",
              "  <thead>\n",
              "    <tr style=\"text-align: right;\">\n",
              "      <th></th>\n",
              "      <th>customerID</th>\n",
              "      <th>BeginDate</th>\n",
              "      <th>EndDate</th>\n",
              "      <th>Type</th>\n",
              "      <th>PaperlessBilling</th>\n",
              "      <th>PaymentMethod</th>\n",
              "      <th>MonthlyCharges</th>\n",
              "      <th>TotalCharges</th>\n",
              "    </tr>\n",
              "  </thead>\n",
              "  <tbody>\n",
              "    <tr>\n",
              "      <th>4274</th>\n",
              "      <td>3572-UUHRS</td>\n",
              "      <td>2016-05-01</td>\n",
              "      <td>No</td>\n",
              "      <td>One year</td>\n",
              "      <td>No</td>\n",
              "      <td>Bank transfer (automatic)</td>\n",
              "      <td>18.85</td>\n",
              "      <td>867.3</td>\n",
              "    </tr>\n",
              "    <tr>\n",
              "      <th>739</th>\n",
              "      <td>7503-MIOGA</td>\n",
              "      <td>2014-02-01</td>\n",
              "      <td>No</td>\n",
              "      <td>Two year</td>\n",
              "      <td>Yes</td>\n",
              "      <td>Bank transfer (automatic)</td>\n",
              "      <td>89.85</td>\n",
              "      <td>6697.35</td>\n",
              "    </tr>\n",
              "    <tr>\n",
              "      <th>684</th>\n",
              "      <td>8040-MNRTF</td>\n",
              "      <td>2020-01-01</td>\n",
              "      <td>No</td>\n",
              "      <td>Month-to-month</td>\n",
              "      <td>No</td>\n",
              "      <td>Mailed check</td>\n",
              "      <td>71.10</td>\n",
              "      <td>71.1</td>\n",
              "    </tr>\n",
              "  </tbody>\n",
              "</table>\n",
              "</div>\n",
              "      <button class=\"colab-df-convert\" onclick=\"convertToInteractive('df-ac29a910-d0fa-4780-aabc-f9d5e83bdffd')\"\n",
              "              title=\"Convert this dataframe to an interactive table.\"\n",
              "              style=\"display:none;\">\n",
              "        \n",
              "  <svg xmlns=\"http://www.w3.org/2000/svg\" height=\"24px\"viewBox=\"0 0 24 24\"\n",
              "       width=\"24px\">\n",
              "    <path d=\"M0 0h24v24H0V0z\" fill=\"none\"/>\n",
              "    <path d=\"M18.56 5.44l.94 2.06.94-2.06 2.06-.94-2.06-.94-.94-2.06-.94 2.06-2.06.94zm-11 1L8.5 8.5l.94-2.06 2.06-.94-2.06-.94L8.5 2.5l-.94 2.06-2.06.94zm10 10l.94 2.06.94-2.06 2.06-.94-2.06-.94-.94-2.06-.94 2.06-2.06.94z\"/><path d=\"M17.41 7.96l-1.37-1.37c-.4-.4-.92-.59-1.43-.59-.52 0-1.04.2-1.43.59L10.3 9.45l-7.72 7.72c-.78.78-.78 2.05 0 2.83L4 21.41c.39.39.9.59 1.41.59.51 0 1.02-.2 1.41-.59l7.78-7.78 2.81-2.81c.8-.78.8-2.07 0-2.86zM5.41 20L4 18.59l7.72-7.72 1.47 1.35L5.41 20z\"/>\n",
              "  </svg>\n",
              "      </button>\n",
              "      \n",
              "  <style>\n",
              "    .colab-df-container {\n",
              "      display:flex;\n",
              "      flex-wrap:wrap;\n",
              "      gap: 12px;\n",
              "    }\n",
              "\n",
              "    .colab-df-convert {\n",
              "      background-color: #E8F0FE;\n",
              "      border: none;\n",
              "      border-radius: 50%;\n",
              "      cursor: pointer;\n",
              "      display: none;\n",
              "      fill: #1967D2;\n",
              "      height: 32px;\n",
              "      padding: 0 0 0 0;\n",
              "      width: 32px;\n",
              "    }\n",
              "\n",
              "    .colab-df-convert:hover {\n",
              "      background-color: #E2EBFA;\n",
              "      box-shadow: 0px 1px 2px rgba(60, 64, 67, 0.3), 0px 1px 3px 1px rgba(60, 64, 67, 0.15);\n",
              "      fill: #174EA6;\n",
              "    }\n",
              "\n",
              "    [theme=dark] .colab-df-convert {\n",
              "      background-color: #3B4455;\n",
              "      fill: #D2E3FC;\n",
              "    }\n",
              "\n",
              "    [theme=dark] .colab-df-convert:hover {\n",
              "      background-color: #434B5C;\n",
              "      box-shadow: 0px 1px 3px 1px rgba(0, 0, 0, 0.15);\n",
              "      filter: drop-shadow(0px 1px 2px rgba(0, 0, 0, 0.3));\n",
              "      fill: #FFFFFF;\n",
              "    }\n",
              "  </style>\n",
              "\n",
              "      <script>\n",
              "        const buttonEl =\n",
              "          document.querySelector('#df-ac29a910-d0fa-4780-aabc-f9d5e83bdffd button.colab-df-convert');\n",
              "        buttonEl.style.display =\n",
              "          google.colab.kernel.accessAllowed ? 'block' : 'none';\n",
              "\n",
              "        async function convertToInteractive(key) {\n",
              "          const element = document.querySelector('#df-ac29a910-d0fa-4780-aabc-f9d5e83bdffd');\n",
              "          const dataTable =\n",
              "            await google.colab.kernel.invokeFunction('convertToInteractive',\n",
              "                                                     [key], {});\n",
              "          if (!dataTable) return;\n",
              "\n",
              "          const docLinkHtml = 'Like what you see? Visit the ' +\n",
              "            '<a target=\"_blank\" href=https://colab.research.google.com/notebooks/data_table.ipynb>data table notebook</a>'\n",
              "            + ' to learn more about interactive tables.';\n",
              "          element.innerHTML = '';\n",
              "          dataTable['output_type'] = 'display_data';\n",
              "          await google.colab.output.renderOutput(dataTable, element);\n",
              "          const docLink = document.createElement('div');\n",
              "          docLink.innerHTML = docLinkHtml;\n",
              "          element.appendChild(docLink);\n",
              "        }\n",
              "      </script>\n",
              "    </div>\n",
              "  </div>\n",
              "  "
            ]
          },
          "metadata": {},
          "execution_count": 6
        }
      ],
      "source": [
        "df_contract.sample(3)"
      ]
    },
    {
      "cell_type": "code",
      "execution_count": 7,
      "metadata": {
        "id": "ByDWijjCG5_q",
        "colab": {
          "base_uri": "https://localhost:8080/"
        },
        "outputId": "18c37d2a-4ab2-404e-ad4a-a9b078fd4743"
      },
      "outputs": [
        {
          "output_type": "execute_result",
          "data": {
            "text/plain": [
              "array(['29.85', '1889.5', '108.15', ..., '346.45', '306.6', '6844.5'],\n",
              "      dtype=object)"
            ]
          },
          "metadata": {},
          "execution_count": 7
        }
      ],
      "source": [
        "df_contract['TotalCharges'].unique()"
      ]
    },
    {
      "cell_type": "code",
      "execution_count": 8,
      "metadata": {
        "colab": {
          "base_uri": "https://localhost:8080/",
          "height": 649
        },
        "id": "8WP40pgYH4La",
        "outputId": "6cb96a25-4a71-45a0-a753-9ea48c9ede79"
      },
      "outputs": [
        {
          "output_type": "execute_result",
          "data": {
            "text/plain": [
              "      customerID   BeginDate EndDate      Type PaperlessBilling  \\\n",
              "488   4472-LVYGI  2020-02-01      No  Two year              Yes   \n",
              "753   3115-CZMZD  2020-02-01      No  Two year               No   \n",
              "936   5709-LVOEQ  2020-02-01      No  Two year               No   \n",
              "1082  4367-NUYAO  2020-02-01      No  Two year               No   \n",
              "1340  1371-DWPAZ  2020-02-01      No  Two year               No   \n",
              "3331  7644-OMVMY  2020-02-01      No  Two year               No   \n",
              "3826  3213-VVOLG  2020-02-01      No  Two year               No   \n",
              "4380  2520-SGTTA  2020-02-01      No  Two year               No   \n",
              "5218  2923-ARZLG  2020-02-01      No  One year              Yes   \n",
              "6670  4075-WKNIU  2020-02-01      No  Two year               No   \n",
              "6754  2775-SEFEE  2020-02-01      No  Two year              Yes   \n",
              "\n",
              "                  PaymentMethod  MonthlyCharges TotalCharges  \n",
              "488   Bank transfer (automatic)           52.55               \n",
              "753                Mailed check           20.25               \n",
              "936                Mailed check           80.85               \n",
              "1082               Mailed check           25.75               \n",
              "1340    Credit card (automatic)           56.05               \n",
              "3331               Mailed check           19.85               \n",
              "3826               Mailed check           25.35               \n",
              "4380               Mailed check           20.00               \n",
              "5218               Mailed check           19.70               \n",
              "6670               Mailed check           73.35               \n",
              "6754  Bank transfer (automatic)           61.90               "
            ],
            "text/html": [
              "\n",
              "  <div id=\"df-0274cf87-c2b6-4cce-b528-6e4695539a5d\">\n",
              "    <div class=\"colab-df-container\">\n",
              "      <div>\n",
              "<style scoped>\n",
              "    .dataframe tbody tr th:only-of-type {\n",
              "        vertical-align: middle;\n",
              "    }\n",
              "\n",
              "    .dataframe tbody tr th {\n",
              "        vertical-align: top;\n",
              "    }\n",
              "\n",
              "    .dataframe thead th {\n",
              "        text-align: right;\n",
              "    }\n",
              "</style>\n",
              "<table border=\"1\" class=\"dataframe\">\n",
              "  <thead>\n",
              "    <tr style=\"text-align: right;\">\n",
              "      <th></th>\n",
              "      <th>customerID</th>\n",
              "      <th>BeginDate</th>\n",
              "      <th>EndDate</th>\n",
              "      <th>Type</th>\n",
              "      <th>PaperlessBilling</th>\n",
              "      <th>PaymentMethod</th>\n",
              "      <th>MonthlyCharges</th>\n",
              "      <th>TotalCharges</th>\n",
              "    </tr>\n",
              "  </thead>\n",
              "  <tbody>\n",
              "    <tr>\n",
              "      <th>488</th>\n",
              "      <td>4472-LVYGI</td>\n",
              "      <td>2020-02-01</td>\n",
              "      <td>No</td>\n",
              "      <td>Two year</td>\n",
              "      <td>Yes</td>\n",
              "      <td>Bank transfer (automatic)</td>\n",
              "      <td>52.55</td>\n",
              "      <td></td>\n",
              "    </tr>\n",
              "    <tr>\n",
              "      <th>753</th>\n",
              "      <td>3115-CZMZD</td>\n",
              "      <td>2020-02-01</td>\n",
              "      <td>No</td>\n",
              "      <td>Two year</td>\n",
              "      <td>No</td>\n",
              "      <td>Mailed check</td>\n",
              "      <td>20.25</td>\n",
              "      <td></td>\n",
              "    </tr>\n",
              "    <tr>\n",
              "      <th>936</th>\n",
              "      <td>5709-LVOEQ</td>\n",
              "      <td>2020-02-01</td>\n",
              "      <td>No</td>\n",
              "      <td>Two year</td>\n",
              "      <td>No</td>\n",
              "      <td>Mailed check</td>\n",
              "      <td>80.85</td>\n",
              "      <td></td>\n",
              "    </tr>\n",
              "    <tr>\n",
              "      <th>1082</th>\n",
              "      <td>4367-NUYAO</td>\n",
              "      <td>2020-02-01</td>\n",
              "      <td>No</td>\n",
              "      <td>Two year</td>\n",
              "      <td>No</td>\n",
              "      <td>Mailed check</td>\n",
              "      <td>25.75</td>\n",
              "      <td></td>\n",
              "    </tr>\n",
              "    <tr>\n",
              "      <th>1340</th>\n",
              "      <td>1371-DWPAZ</td>\n",
              "      <td>2020-02-01</td>\n",
              "      <td>No</td>\n",
              "      <td>Two year</td>\n",
              "      <td>No</td>\n",
              "      <td>Credit card (automatic)</td>\n",
              "      <td>56.05</td>\n",
              "      <td></td>\n",
              "    </tr>\n",
              "    <tr>\n",
              "      <th>3331</th>\n",
              "      <td>7644-OMVMY</td>\n",
              "      <td>2020-02-01</td>\n",
              "      <td>No</td>\n",
              "      <td>Two year</td>\n",
              "      <td>No</td>\n",
              "      <td>Mailed check</td>\n",
              "      <td>19.85</td>\n",
              "      <td></td>\n",
              "    </tr>\n",
              "    <tr>\n",
              "      <th>3826</th>\n",
              "      <td>3213-VVOLG</td>\n",
              "      <td>2020-02-01</td>\n",
              "      <td>No</td>\n",
              "      <td>Two year</td>\n",
              "      <td>No</td>\n",
              "      <td>Mailed check</td>\n",
              "      <td>25.35</td>\n",
              "      <td></td>\n",
              "    </tr>\n",
              "    <tr>\n",
              "      <th>4380</th>\n",
              "      <td>2520-SGTTA</td>\n",
              "      <td>2020-02-01</td>\n",
              "      <td>No</td>\n",
              "      <td>Two year</td>\n",
              "      <td>No</td>\n",
              "      <td>Mailed check</td>\n",
              "      <td>20.00</td>\n",
              "      <td></td>\n",
              "    </tr>\n",
              "    <tr>\n",
              "      <th>5218</th>\n",
              "      <td>2923-ARZLG</td>\n",
              "      <td>2020-02-01</td>\n",
              "      <td>No</td>\n",
              "      <td>One year</td>\n",
              "      <td>Yes</td>\n",
              "      <td>Mailed check</td>\n",
              "      <td>19.70</td>\n",
              "      <td></td>\n",
              "    </tr>\n",
              "    <tr>\n",
              "      <th>6670</th>\n",
              "      <td>4075-WKNIU</td>\n",
              "      <td>2020-02-01</td>\n",
              "      <td>No</td>\n",
              "      <td>Two year</td>\n",
              "      <td>No</td>\n",
              "      <td>Mailed check</td>\n",
              "      <td>73.35</td>\n",
              "      <td></td>\n",
              "    </tr>\n",
              "    <tr>\n",
              "      <th>6754</th>\n",
              "      <td>2775-SEFEE</td>\n",
              "      <td>2020-02-01</td>\n",
              "      <td>No</td>\n",
              "      <td>Two year</td>\n",
              "      <td>Yes</td>\n",
              "      <td>Bank transfer (automatic)</td>\n",
              "      <td>61.90</td>\n",
              "      <td></td>\n",
              "    </tr>\n",
              "  </tbody>\n",
              "</table>\n",
              "</div>\n",
              "      <button class=\"colab-df-convert\" onclick=\"convertToInteractive('df-0274cf87-c2b6-4cce-b528-6e4695539a5d')\"\n",
              "              title=\"Convert this dataframe to an interactive table.\"\n",
              "              style=\"display:none;\">\n",
              "        \n",
              "  <svg xmlns=\"http://www.w3.org/2000/svg\" height=\"24px\"viewBox=\"0 0 24 24\"\n",
              "       width=\"24px\">\n",
              "    <path d=\"M0 0h24v24H0V0z\" fill=\"none\"/>\n",
              "    <path d=\"M18.56 5.44l.94 2.06.94-2.06 2.06-.94-2.06-.94-.94-2.06-.94 2.06-2.06.94zm-11 1L8.5 8.5l.94-2.06 2.06-.94-2.06-.94L8.5 2.5l-.94 2.06-2.06.94zm10 10l.94 2.06.94-2.06 2.06-.94-2.06-.94-.94-2.06-.94 2.06-2.06.94z\"/><path d=\"M17.41 7.96l-1.37-1.37c-.4-.4-.92-.59-1.43-.59-.52 0-1.04.2-1.43.59L10.3 9.45l-7.72 7.72c-.78.78-.78 2.05 0 2.83L4 21.41c.39.39.9.59 1.41.59.51 0 1.02-.2 1.41-.59l7.78-7.78 2.81-2.81c.8-.78.8-2.07 0-2.86zM5.41 20L4 18.59l7.72-7.72 1.47 1.35L5.41 20z\"/>\n",
              "  </svg>\n",
              "      </button>\n",
              "      \n",
              "  <style>\n",
              "    .colab-df-container {\n",
              "      display:flex;\n",
              "      flex-wrap:wrap;\n",
              "      gap: 12px;\n",
              "    }\n",
              "\n",
              "    .colab-df-convert {\n",
              "      background-color: #E8F0FE;\n",
              "      border: none;\n",
              "      border-radius: 50%;\n",
              "      cursor: pointer;\n",
              "      display: none;\n",
              "      fill: #1967D2;\n",
              "      height: 32px;\n",
              "      padding: 0 0 0 0;\n",
              "      width: 32px;\n",
              "    }\n",
              "\n",
              "    .colab-df-convert:hover {\n",
              "      background-color: #E2EBFA;\n",
              "      box-shadow: 0px 1px 2px rgba(60, 64, 67, 0.3), 0px 1px 3px 1px rgba(60, 64, 67, 0.15);\n",
              "      fill: #174EA6;\n",
              "    }\n",
              "\n",
              "    [theme=dark] .colab-df-convert {\n",
              "      background-color: #3B4455;\n",
              "      fill: #D2E3FC;\n",
              "    }\n",
              "\n",
              "    [theme=dark] .colab-df-convert:hover {\n",
              "      background-color: #434B5C;\n",
              "      box-shadow: 0px 1px 3px 1px rgba(0, 0, 0, 0.15);\n",
              "      filter: drop-shadow(0px 1px 2px rgba(0, 0, 0, 0.3));\n",
              "      fill: #FFFFFF;\n",
              "    }\n",
              "  </style>\n",
              "\n",
              "      <script>\n",
              "        const buttonEl =\n",
              "          document.querySelector('#df-0274cf87-c2b6-4cce-b528-6e4695539a5d button.colab-df-convert');\n",
              "        buttonEl.style.display =\n",
              "          google.colab.kernel.accessAllowed ? 'block' : 'none';\n",
              "\n",
              "        async function convertToInteractive(key) {\n",
              "          const element = document.querySelector('#df-0274cf87-c2b6-4cce-b528-6e4695539a5d');\n",
              "          const dataTable =\n",
              "            await google.colab.kernel.invokeFunction('convertToInteractive',\n",
              "                                                     [key], {});\n",
              "          if (!dataTable) return;\n",
              "\n",
              "          const docLinkHtml = 'Like what you see? Visit the ' +\n",
              "            '<a target=\"_blank\" href=https://colab.research.google.com/notebooks/data_table.ipynb>data table notebook</a>'\n",
              "            + ' to learn more about interactive tables.';\n",
              "          element.innerHTML = '';\n",
              "          dataTable['output_type'] = 'display_data';\n",
              "          await google.colab.output.renderOutput(dataTable, element);\n",
              "          const docLink = document.createElement('div');\n",
              "          docLink.innerHTML = docLinkHtml;\n",
              "          element.appendChild(docLink);\n",
              "        }\n",
              "      </script>\n",
              "    </div>\n",
              "  </div>\n",
              "  "
            ]
          },
          "metadata": {},
          "execution_count": 8
        }
      ],
      "source": [
        "df_contract[df_contract['TotalCharges'] == ' ']"
      ]
    },
    {
      "cell_type": "markdown",
      "metadata": {
        "id": "36MHNK82IH03"
      },
      "source": [
        "Эти пользователи зарегистрировались в момент выгрузки таблиц из базы данных и ещё не успели заплатить. Изменим пробелы в столбце `TotalCharges` на `0` и приведём данные в столбце к типу `float` чтобы была возможность посмотреть на гистограмму."
      ]
    },
    {
      "cell_type": "code",
      "execution_count": 9,
      "metadata": {
        "id": "owL67C49IPAc"
      },
      "outputs": [],
      "source": [
        "df_contract.loc[df_contract['TotalCharges'] == ' ', 'TotalCharges'] = df_contract['MonthlyCharges']"
      ]
    },
    {
      "cell_type": "code",
      "execution_count": 10,
      "metadata": {
        "id": "caHM0cC4I8t7"
      },
      "outputs": [],
      "source": [
        "df_contract['TotalCharges'] = df_contract['TotalCharges'].astype('float')"
      ]
    },
    {
      "cell_type": "code",
      "execution_count": 11,
      "metadata": {
        "colab": {
          "base_uri": "https://localhost:8080/"
        },
        "id": "z2s84JhlEen8",
        "outputId": "9bcdc0a8-8a6c-45ee-d47d-6c1530b5a975"
      },
      "outputs": [
        {
          "output_type": "execute_result",
          "data": {
            "text/plain": [
              "count    7043.000000\n",
              "mean     2279.798992\n",
              "std      2266.730170\n",
              "min        18.800000\n",
              "25%       398.550000\n",
              "50%      1394.550000\n",
              "75%      3786.600000\n",
              "max      8684.800000\n",
              "Name: TotalCharges, dtype: float64"
            ]
          },
          "metadata": {},
          "execution_count": 11
        }
      ],
      "source": [
        "df_contract['TotalCharges'].describe()"
      ]
    },
    {
      "cell_type": "code",
      "execution_count": 12,
      "metadata": {
        "colab": {
          "base_uri": "https://localhost:8080/"
        },
        "id": "Qsq4AAM6AnfQ",
        "outputId": "4ab11574-dff2-4d7a-e001-1d5da2869cee"
      },
      "outputs": [
        {
          "output_type": "execute_result",
          "data": {
            "text/plain": [
              "count    7043.000000\n",
              "mean       64.761692\n",
              "std        30.090047\n",
              "min        18.250000\n",
              "25%        35.500000\n",
              "50%        70.350000\n",
              "75%        89.850000\n",
              "max       118.750000\n",
              "Name: MonthlyCharges, dtype: float64"
            ]
          },
          "metadata": {},
          "execution_count": 12
        }
      ],
      "source": [
        "df_contract['MonthlyCharges'].describe()"
      ]
    },
    {
      "cell_type": "code",
      "source": [
        "a = sns.histplot(df_contract, x='MonthlyCharges', bins=100)\n",
        "a.set(xlabel='Monthly Charges', ylabel='Count', \n",
        "      title='Monthly Charges Histogram')\n",
        "plt.show()"
      ],
      "metadata": {
        "colab": {
          "base_uri": "https://localhost:8080/",
          "height": 301
        },
        "id": "IrNt2HC-rwVl",
        "outputId": "8ebaa947-e4ba-4865-ee89-f190f18299ea"
      },
      "execution_count": 13,
      "outputs": [
        {
          "output_type": "display_data",
          "data": {
            "text/plain": [
              "<Figure size 432x288 with 1 Axes>"
            ],
            "image/png": "[encoded data removed]"
          },
          "metadata": {}
        }
      ]
    },
    {
      "cell_type": "code",
      "source": [
        "a = sns.histplot(df_contract, x='TotalCharges', bins=100)\n",
        "a.set(xlabel='Total Charges', ylabel='Count', \n",
        "      title='Total Charges Histogram')\n",
        "plt.show()"
      ],
      "metadata": {
        "colab": {
          "base_uri": "https://localhost:8080/",
          "height": 301
        },
        "id": "rFTYf-Ueu8fi",
        "outputId": "244ed094-818a-4c11-e498-011bfeb9cf34"
      },
      "execution_count": 14,
      "outputs": [
        {
          "output_type": "display_data",
          "data": {
            "text/plain": [
              "<Figure size 432x288 with 1 Axes>"
            ],
            "image/png": "[encoded data removed]"
          },
          "metadata": {}
        }
      ]
    },
    {
      "cell_type": "code",
      "execution_count": 15,
      "metadata": {
        "colab": {
          "base_uri": "https://localhost:8080/"
        },
        "id": "HxG3JNtD9ZHL",
        "outputId": "d8c9ba27-49af-400d-f075-e8f342d4d205"
      },
      "outputs": [
        {
          "output_type": "execute_result",
          "data": {
            "text/plain": [
              "7043"
            ]
          },
          "metadata": {},
          "execution_count": 15
        }
      ],
      "source": [
        "len(df_contract['customerID'].unique())"
      ]
    },
    {
      "cell_type": "code",
      "execution_count": 16,
      "metadata": {
        "colab": {
          "base_uri": "https://localhost:8080/"
        },
        "id": "f9ZsErBZ8u4q",
        "outputId": "7f8bde61-f7e1-41bc-81ec-d1178654bb59"
      },
      "outputs": [
        {
          "output_type": "execute_result",
          "data": {
            "text/plain": [
              "0.7346301292063041"
            ]
          },
          "metadata": {},
          "execution_count": 16
        }
      ],
      "source": [
        "df_contract.loc[df_contract['EndDate'] == 'No', 'EndDate'].count()/ df_contract['EndDate'].count()"
      ]
    },
    {
      "cell_type": "code",
      "execution_count": 17,
      "metadata": {
        "colab": {
          "base_uri": "https://localhost:8080/"
        },
        "id": "vlCrliKO91Ii",
        "outputId": "06b54954-57a1-4e6a-81c2-585e0788c73b"
      },
      "outputs": [
        {
          "output_type": "execute_result",
          "data": {
            "text/plain": [
              "array(['Month-to-month', 'One year', 'Two year'], dtype=object)"
            ]
          },
          "metadata": {},
          "execution_count": 17
        }
      ],
      "source": [
        "df_contract['Type'].unique()"
      ]
    },
    {
      "cell_type": "code",
      "execution_count": 18,
      "metadata": {
        "colab": {
          "base_uri": "https://localhost:8080/"
        },
        "id": "-YN_v51S9W07",
        "outputId": "121877ac-862a-4635-9ca0-b6ec2b2e02ff"
      },
      "outputs": [
        {
          "output_type": "execute_result",
          "data": {
            "text/plain": [
              "array(['Yes', 'No'], dtype=object)"
            ]
          },
          "metadata": {},
          "execution_count": 18
        }
      ],
      "source": [
        "df_contract['PaperlessBilling'].unique()"
      ]
    },
    {
      "cell_type": "code",
      "execution_count": 19,
      "metadata": {
        "colab": {
          "base_uri": "https://localhost:8080/"
        },
        "id": "pjf--Kjk-0gy",
        "outputId": "ff74c308-0a9a-4228-82b9-e854cfec7bf2"
      },
      "outputs": [
        {
          "output_type": "execute_result",
          "data": {
            "text/plain": [
              "array(['Electronic check', 'Mailed check', 'Bank transfer (automatic)',\n",
              "       'Credit card (automatic)'], dtype=object)"
            ]
          },
          "metadata": {},
          "execution_count": 19
        }
      ],
      "source": [
        "df_contract['PaymentMethod'].unique()"
      ]
    },
    {
      "cell_type": "code",
      "execution_count": 20,
      "metadata": {
        "colab": {
          "base_uri": "https://localhost:8080/",
          "height": 35
        },
        "id": "EwWAxHGFKUK6",
        "outputId": "01245787-6183-43cd-f1ff-c73ceb3aa428"
      },
      "outputs": [
        {
          "output_type": "execute_result",
          "data": {
            "text/plain": [
              "'2013-10-01'"
            ],
            "application/vnd.google.colaboratory.intrinsic+json": {
              "type": "string"
            }
          },
          "metadata": {},
          "execution_count": 20
        }
      ],
      "source": [
        "df_contract['BeginDate'].min()"
      ]
    },
    {
      "cell_type": "code",
      "execution_count": 21,
      "metadata": {
        "colab": {
          "base_uri": "https://localhost:8080/",
          "height": 35
        },
        "id": "97Nd6uynKbKZ",
        "outputId": "a70ebff8-2c1d-4cbf-8cc4-7fc69052db93"
      },
      "outputs": [
        {
          "output_type": "execute_result",
          "data": {
            "text/plain": [
              "'2019-10-01 00:00:00'"
            ],
            "application/vnd.google.colaboratory.intrinsic+json": {
              "type": "string"
            }
          },
          "metadata": {},
          "execution_count": 21
        }
      ],
      "source": [
        "df_contract[df_contract['EndDate'] != 'No']['EndDate'].min()"
      ]
    },
    {
      "cell_type": "code",
      "execution_count": 22,
      "metadata": {
        "colab": {
          "base_uri": "https://localhost:8080/",
          "height": 35
        },
        "id": "LoLeIA7UKcX5",
        "outputId": "044abf18-715f-4697-cc24-4779f21f4dbf"
      },
      "outputs": [
        {
          "output_type": "execute_result",
          "data": {
            "text/plain": [
              "'2020-01-01 00:00:00'"
            ],
            "application/vnd.google.colaboratory.intrinsic+json": {
              "type": "string"
            }
          },
          "metadata": {},
          "execution_count": 22
        }
      ],
      "source": [
        "df_contract[df_contract['EndDate'] != 'No']['EndDate'].max()"
      ]
    },
    {
      "cell_type": "markdown",
      "metadata": {
        "id": "QdMqrY3S6VOJ"
      },
      "source": [
        "#### Вывод\n",
        "\n",
        "Это таблица с информацией о заключённых контрактах. В ней содержится 8 столбцов по 7043 строк в каждом, без пропусков (за исключением тех что мы уже обработали).\n",
        "\n",
        "\n",
        "*   `customerID` - уникальный идентификатор пользователя, не повторяется, встречается во всех таблицах, пригодится для объединения. Удалить перед обучением меделей.\n",
        "*   `BeginDate` - дата заключения контракта, есть у каждого клиента.\n",
        "*   `EndDate` - дата прекращения действия контракта. У большинаства(73.5%) пользователей значение `No`. Если указана дата - значит пользователь ушёл. В соответствии с нашей задачей заменим на бинарный столбец Ушёл/Не ушёл.\n",
        "*   `Type` - категориальный признак, содержит информацию о типах контрактов. Всего их три: с помесячной оплатой, на год, на два.\n",
        "*   `PaperlessBilling` - бинарный признак. выставляются ли счета в бумажном виде или нет.\n",
        "*   `PaymentMethod` - категориальный признак с информацией о способе оплаты, всего 4 способа.\n",
        "*   `MonthlyCharges` - количественный признак с информацией о месячных затратах абонента.\n",
        "*   `TotalCharges` - количественный признак с информацией о общих расходах абонента за весь период действия контракта.\n",
        "\n",
        "При взгляде на гистограмму месячных затрат (`MonthlyCharges`) можно заметить, что распределение довольно равномерное, не считая резкого пика в  районе 19-20 долларов (очевидно, абоненты с минимальным пакетом услег). Также отчётливо видны пики, расположенные через равномерные промежутки в цене. Это может говорить о популярности определённых комплектов услуг среди абонентов. Средее не сильно отличается от медианы.\n",
        "\n",
        "На гистограмме общих затрат (`TotalCharges`) отчётливо видно геометрическое распределение, что вполне очевидно: старых клиентов почти всегда меньше чем новых, соответственно тех, кто потратил немного денег за весь период своих отношений с компанией будет значительно больше. Среднее гораздо больше медианы.\n",
        "\n",
        "Данные предоставлены с конца 2013 года, данные об ушедьших клиентах доступны за ноябрь-декабрь 2019 года.\n",
        "\n"
      ]
    },
    {
      "cell_type": "markdown",
      "metadata": {
        "id": "v5NGkAxODuAK"
      },
      "source": [
        "### Таблица internet"
      ]
    },
    {
      "cell_type": "code",
      "execution_count": 23,
      "metadata": {
        "id": "2rIMpj-Ntq8c"
      },
      "outputs": [],
      "source": [
        "try:\n",
        "  df_internet = pd.read_csv('/content/final_provider/internet.csv')\n",
        "except:\n",
        "  print('Error')"
      ]
    },
    {
      "cell_type": "code",
      "execution_count": 24,
      "metadata": {
        "colab": {
          "base_uri": "https://localhost:8080/"
        },
        "id": "OrRdQk0dFiYC",
        "outputId": "fa75a280-db38-46d2-aaa7-10e8c659e202"
      },
      "outputs": [
        {
          "output_type": "stream",
          "name": "stdout",
          "text": [
            "<class 'pandas.core.frame.DataFrame'>\n",
            "RangeIndex: 5517 entries, 0 to 5516\n",
            "Data columns (total 8 columns):\n",
            " #   Column            Non-Null Count  Dtype \n",
            "---  ------            --------------  ----- \n",
            " 0   customerID        5517 non-null   object\n",
            " 1   InternetService   5517 non-null   object\n",
            " 2   OnlineSecurity    5517 non-null   object\n",
            " 3   OnlineBackup      5517 non-null   object\n",
            " 4   DeviceProtection  5517 non-null   object\n",
            " 5   TechSupport       5517 non-null   object\n",
            " 6   StreamingTV       5517 non-null   object\n",
            " 7   StreamingMovies   5517 non-null   object\n",
            "dtypes: object(8)\n",
            "memory usage: 344.9+ KB\n"
          ]
        }
      ],
      "source": [
        "df_internet.info()"
      ]
    },
    {
      "cell_type": "code",
      "execution_count": 25,
      "metadata": {
        "colab": {
          "base_uri": "https://localhost:8080/",
          "height": 225
        },
        "id": "qAAew9-PFiPK",
        "outputId": "61644980-87ed-484b-d5ff-b0a783b77231"
      },
      "outputs": [
        {
          "output_type": "execute_result",
          "data": {
            "text/plain": [
              "      customerID InternetService OnlineSecurity OnlineBackup DeviceProtection  \\\n",
              "632   0229-LFJAF             DSL            Yes          Yes              Yes   \n",
              "3027  5299-SJCZT     Fiber optic             No           No              Yes   \n",
              "4728  7568-PODML             DSL             No           No               No   \n",
              "\n",
              "     TechSupport StreamingTV StreamingMovies  \n",
              "632          Yes          No              No  \n",
              "3027          No         Yes             Yes  \n",
              "4728          No         Yes             Yes  "
            ],
            "text/html": [
              "\n",
              "  <div id=\"df-f6516929-7bcc-45c3-b4fd-a31dd4a4c9a6\">\n",
              "    <div class=\"colab-df-container\">\n",
              "      <div>\n",
              "<style scoped>\n",
              "    .dataframe tbody tr th:only-of-type {\n",
              "        vertical-align: middle;\n",
              "    }\n",
              "\n",
              "    .dataframe tbody tr th {\n",
              "        vertical-align: top;\n",
              "    }\n",
              "\n",
              "    .dataframe thead th {\n",
              "        text-align: right;\n",
              "    }\n",
              "</style>\n",
              "<table border=\"1\" class=\"dataframe\">\n",
              "  <thead>\n",
              "    <tr style=\"text-align: right;\">\n",
              "      <th></th>\n",
              "      <th>customerID</th>\n",
              "      <th>InternetService</th>\n",
              "      <th>OnlineSecurity</th>\n",
              "      <th>OnlineBackup</th>\n",
              "      <th>DeviceProtection</th>\n",
              "      <th>TechSupport</th>\n",
              "      <th>StreamingTV</th>\n",
              "      <th>StreamingMovies</th>\n",
              "    </tr>\n",
              "  </thead>\n",
              "  <tbody>\n",
              "    <tr>\n",
              "      <th>632</th>\n",
              "      <td>0229-LFJAF</td>\n",
              "      <td>DSL</td>\n",
              "      <td>Yes</td>\n",
              "      <td>Yes</td>\n",
              "      <td>Yes</td>\n",
              "      <td>Yes</td>\n",
              "      <td>No</td>\n",
              "      <td>No</td>\n",
              "    </tr>\n",
              "    <tr>\n",
              "      <th>3027</th>\n",
              "      <td>5299-SJCZT</td>\n",
              "      <td>Fiber optic</td>\n",
              "      <td>No</td>\n",
              "      <td>No</td>\n",
              "      <td>Yes</td>\n",
              "      <td>No</td>\n",
              "      <td>Yes</td>\n",
              "      <td>Yes</td>\n",
              "    </tr>\n",
              "    <tr>\n",
              "      <th>4728</th>\n",
              "      <td>7568-PODML</td>\n",
              "      <td>DSL</td>\n",
              "      <td>No</td>\n",
              "      <td>No</td>\n",
              "      <td>No</td>\n",
              "      <td>No</td>\n",
              "      <td>Yes</td>\n",
              "      <td>Yes</td>\n",
              "    </tr>\n",
              "  </tbody>\n",
              "</table>\n",
              "</div>\n",
              "      <button class=\"colab-df-convert\" onclick=\"convertToInteractive('df-f6516929-7bcc-45c3-b4fd-a31dd4a4c9a6')\"\n",
              "              title=\"Convert this dataframe to an interactive table.\"\n",
              "              style=\"display:none;\">\n",
              "        \n",
              "  <svg xmlns=\"http://www.w3.org/2000/svg\" height=\"24px\"viewBox=\"0 0 24 24\"\n",
              "       width=\"24px\">\n",
              "    <path d=\"M0 0h24v24H0V0z\" fill=\"none\"/>\n",
              "    <path d=\"M18.56 5.44l.94 2.06.94-2.06 2.06-.94-2.06-.94-.94-2.06-.94 2.06-2.06.94zm-11 1L8.5 8.5l.94-2.06 2.06-.94-2.06-.94L8.5 2.5l-.94 2.06-2.06.94zm10 10l.94 2.06.94-2.06 2.06-.94-2.06-.94-.94-2.06-.94 2.06-2.06.94z\"/><path d=\"M17.41 7.96l-1.37-1.37c-.4-.4-.92-.59-1.43-.59-.52 0-1.04.2-1.43.59L10.3 9.45l-7.72 7.72c-.78.78-.78 2.05 0 2.83L4 21.41c.39.39.9.59 1.41.59.51 0 1.02-.2 1.41-.59l7.78-7.78 2.81-2.81c.8-.78.8-2.07 0-2.86zM5.41 20L4 18.59l7.72-7.72 1.47 1.35L5.41 20z\"/>\n",
              "  </svg>\n",
              "      </button>\n",
              "      \n",
              "  <style>\n",
              "    .colab-df-container {\n",
              "      display:flex;\n",
              "      flex-wrap:wrap;\n",
              "      gap: 12px;\n",
              "    }\n",
              "\n",
              "    .colab-df-convert {\n",
              "      background-color: #E8F0FE;\n",
              "      border: none;\n",
              "      border-radius: 50%;\n",
              "      cursor: pointer;\n",
              "      display: none;\n",
              "      fill: #1967D2;\n",
              "      height: 32px;\n",
              "      padding: 0 0 0 0;\n",
              "      width: 32px;\n",
              "    }\n",
              "\n",
              "    .colab-df-convert:hover {\n",
              "      background-color: #E2EBFA;\n",
              "      box-shadow: 0px 1px 2px rgba(60, 64, 67, 0.3), 0px 1px 3px 1px rgba(60, 64, 67, 0.15);\n",
              "      fill: #174EA6;\n",
              "    }\n",
              "\n",
              "    [theme=dark] .colab-df-convert {\n",
              "      background-color: #3B4455;\n",
              "      fill: #D2E3FC;\n",
              "    }\n",
              "\n",
              "    [theme=dark] .colab-df-convert:hover {\n",
              "      background-color: #434B5C;\n",
              "      box-shadow: 0px 1px 3px 1px rgba(0, 0, 0, 0.15);\n",
              "      filter: drop-shadow(0px 1px 2px rgba(0, 0, 0, 0.3));\n",
              "      fill: #FFFFFF;\n",
              "    }\n",
              "  </style>\n",
              "\n",
              "      <script>\n",
              "        const buttonEl =\n",
              "          document.querySelector('#df-f6516929-7bcc-45c3-b4fd-a31dd4a4c9a6 button.colab-df-convert');\n",
              "        buttonEl.style.display =\n",
              "          google.colab.kernel.accessAllowed ? 'block' : 'none';\n",
              "\n",
              "        async function convertToInteractive(key) {\n",
              "          const element = document.querySelector('#df-f6516929-7bcc-45c3-b4fd-a31dd4a4c9a6');\n",
              "          const dataTable =\n",
              "            await google.colab.kernel.invokeFunction('convertToInteractive',\n",
              "                                                     [key], {});\n",
              "          if (!dataTable) return;\n",
              "\n",
              "          const docLinkHtml = 'Like what you see? Visit the ' +\n",
              "            '<a target=\"_blank\" href=https://colab.research.google.com/notebooks/data_table.ipynb>data table notebook</a>'\n",
              "            + ' to learn more about interactive tables.';\n",
              "          element.innerHTML = '';\n",
              "          dataTable['output_type'] = 'display_data';\n",
              "          await google.colab.output.renderOutput(dataTable, element);\n",
              "          const docLink = document.createElement('div');\n",
              "          docLink.innerHTML = docLinkHtml;\n",
              "          element.appendChild(docLink);\n",
              "        }\n",
              "      </script>\n",
              "    </div>\n",
              "  </div>\n",
              "  "
            ]
          },
          "metadata": {},
          "execution_count": 25
        }
      ],
      "source": [
        "df_internet.sample(3)"
      ]
    },
    {
      "cell_type": "code",
      "execution_count": 26,
      "metadata": {
        "colab": {
          "base_uri": "https://localhost:8080/",
          "height": 256
        },
        "id": "B3XbMf7SFiDF",
        "outputId": "547a8295-a38a-4b9b-e6a7-4d509e515ecf"
      },
      "outputs": [
        {
          "output_type": "execute_result",
          "data": {
            "text/plain": [
              "        customerID InternetService OnlineSecurity OnlineBackup  \\\n",
              "count         5517            5517           5517         5517   \n",
              "unique        5517               2              2            2   \n",
              "top     7590-VHVEG     Fiber optic             No           No   \n",
              "freq             1            3096           3498         3088   \n",
              "\n",
              "       DeviceProtection TechSupport StreamingTV StreamingMovies  \n",
              "count              5517        5517        5517            5517  \n",
              "unique                2           2           2               2  \n",
              "top                  No          No          No              No  \n",
              "freq               3095        3473        2810            2785  "
            ],
            "text/html": [
              "\n",
              "  <div id=\"df-f01d61c9-c557-455b-b4da-900158cf557d\">\n",
              "    <div class=\"colab-df-container\">\n",
              "      <div>\n",
              "<style scoped>\n",
              "    .dataframe tbody tr th:only-of-type {\n",
              "        vertical-align: middle;\n",
              "    }\n",
              "\n",
              "    .dataframe tbody tr th {\n",
              "        vertical-align: top;\n",
              "    }\n",
              "\n",
              "    .dataframe thead th {\n",
              "        text-align: right;\n",
              "    }\n",
              "</style>\n",
              "<table border=\"1\" class=\"dataframe\">\n",
              "  <thead>\n",
              "    <tr style=\"text-align: right;\">\n",
              "      <th></th>\n",
              "      <th>customerID</th>\n",
              "      <th>InternetService</th>\n",
              "      <th>OnlineSecurity</th>\n",
              "      <th>OnlineBackup</th>\n",
              "      <th>DeviceProtection</th>\n",
              "      <th>TechSupport</th>\n",
              "      <th>StreamingTV</th>\n",
              "      <th>StreamingMovies</th>\n",
              "    </tr>\n",
              "  </thead>\n",
              "  <tbody>\n",
              "    <tr>\n",
              "      <th>count</th>\n",
              "      <td>5517</td>\n",
              "      <td>5517</td>\n",
              "      <td>5517</td>\n",
              "      <td>5517</td>\n",
              "      <td>5517</td>\n",
              "      <td>5517</td>\n",
              "      <td>5517</td>\n",
              "      <td>5517</td>\n",
              "    </tr>\n",
              "    <tr>\n",
              "      <th>unique</th>\n",
              "      <td>5517</td>\n",
              "      <td>2</td>\n",
              "      <td>2</td>\n",
              "      <td>2</td>\n",
              "      <td>2</td>\n",
              "      <td>2</td>\n",
              "      <td>2</td>\n",
              "      <td>2</td>\n",
              "    </tr>\n",
              "    <tr>\n",
              "      <th>top</th>\n",
              "      <td>7590-VHVEG</td>\n",
              "      <td>Fiber optic</td>\n",
              "      <td>No</td>\n",
              "      <td>No</td>\n",
              "      <td>No</td>\n",
              "      <td>No</td>\n",
              "      <td>No</td>\n",
              "      <td>No</td>\n",
              "    </tr>\n",
              "    <tr>\n",
              "      <th>freq</th>\n",
              "      <td>1</td>\n",
              "      <td>3096</td>\n",
              "      <td>3498</td>\n",
              "      <td>3088</td>\n",
              "      <td>3095</td>\n",
              "      <td>3473</td>\n",
              "      <td>2810</td>\n",
              "      <td>2785</td>\n",
              "    </tr>\n",
              "  </tbody>\n",
              "</table>\n",
              "</div>\n",
              "      <button class=\"colab-df-convert\" onclick=\"convertToInteractive('df-f01d61c9-c557-455b-b4da-900158cf557d')\"\n",
              "              title=\"Convert this dataframe to an interactive table.\"\n",
              "              style=\"display:none;\">\n",
              "        \n",
              "  <svg xmlns=\"http://www.w3.org/2000/svg\" height=\"24px\"viewBox=\"0 0 24 24\"\n",
              "       width=\"24px\">\n",
              "    <path d=\"M0 0h24v24H0V0z\" fill=\"none\"/>\n",
              "    <path d=\"M18.56 5.44l.94 2.06.94-2.06 2.06-.94-2.06-.94-.94-2.06-.94 2.06-2.06.94zm-11 1L8.5 8.5l.94-2.06 2.06-.94-2.06-.94L8.5 2.5l-.94 2.06-2.06.94zm10 10l.94 2.06.94-2.06 2.06-.94-2.06-.94-.94-2.06-.94 2.06-2.06.94z\"/><path d=\"M17.41 7.96l-1.37-1.37c-.4-.4-.92-.59-1.43-.59-.52 0-1.04.2-1.43.59L10.3 9.45l-7.72 7.72c-.78.78-.78 2.05 0 2.83L4 21.41c.39.39.9.59 1.41.59.51 0 1.02-.2 1.41-.59l7.78-7.78 2.81-2.81c.8-.78.8-2.07 0-2.86zM5.41 20L4 18.59l7.72-7.72 1.47 1.35L5.41 20z\"/>\n",
              "  </svg>\n",
              "      </button>\n",
              "      \n",
              "  <style>\n",
              "    .colab-df-container {\n",
              "      display:flex;\n",
              "      flex-wrap:wrap;\n",
              "      gap: 12px;\n",
              "    }\n",
              "\n",
              "    .colab-df-convert {\n",
              "      background-color: #E8F0FE;\n",
              "      border: none;\n",
              "      border-radius: 50%;\n",
              "      cursor: pointer;\n",
              "      display: none;\n",
              "      fill: #1967D2;\n",
              "      height: 32px;\n",
              "      padding: 0 0 0 0;\n",
              "      width: 32px;\n",
              "    }\n",
              "\n",
              "    .colab-df-convert:hover {\n",
              "      background-color: #E2EBFA;\n",
              "      box-shadow: 0px 1px 2px rgba(60, 64, 67, 0.3), 0px 1px 3px 1px rgba(60, 64, 67, 0.15);\n",
              "      fill: #174EA6;\n",
              "    }\n",
              "\n",
              "    [theme=dark] .colab-df-convert {\n",
              "      background-color: #3B4455;\n",
              "      fill: #D2E3FC;\n",
              "    }\n",
              "\n",
              "    [theme=dark] .colab-df-convert:hover {\n",
              "      background-color: #434B5C;\n",
              "      box-shadow: 0px 1px 3px 1px rgba(0, 0, 0, 0.15);\n",
              "      filter: drop-shadow(0px 1px 2px rgba(0, 0, 0, 0.3));\n",
              "      fill: #FFFFFF;\n",
              "    }\n",
              "  </style>\n",
              "\n",
              "      <script>\n",
              "        const buttonEl =\n",
              "          document.querySelector('#df-f01d61c9-c557-455b-b4da-900158cf557d button.colab-df-convert');\n",
              "        buttonEl.style.display =\n",
              "          google.colab.kernel.accessAllowed ? 'block' : 'none';\n",
              "\n",
              "        async function convertToInteractive(key) {\n",
              "          const element = document.querySelector('#df-f01d61c9-c557-455b-b4da-900158cf557d');\n",
              "          const dataTable =\n",
              "            await google.colab.kernel.invokeFunction('convertToInteractive',\n",
              "                                                     [key], {});\n",
              "          if (!dataTable) return;\n",
              "\n",
              "          const docLinkHtml = 'Like what you see? Visit the ' +\n",
              "            '<a target=\"_blank\" href=https://colab.research.google.com/notebooks/data_table.ipynb>data table notebook</a>'\n",
              "            + ' to learn more about interactive tables.';\n",
              "          element.innerHTML = '';\n",
              "          dataTable['output_type'] = 'display_data';\n",
              "          await google.colab.output.renderOutput(dataTable, element);\n",
              "          const docLink = document.createElement('div');\n",
              "          docLink.innerHTML = docLinkHtml;\n",
              "          element.appendChild(docLink);\n",
              "        }\n",
              "      </script>\n",
              "    </div>\n",
              "  </div>\n",
              "  "
            ]
          },
          "metadata": {},
          "execution_count": 26
        }
      ],
      "source": [
        "df_internet.describe()"
      ]
    },
    {
      "cell_type": "code",
      "execution_count": 27,
      "metadata": {
        "colab": {
          "base_uri": "https://localhost:8080/"
        },
        "id": "zXigpkuCFOAf",
        "outputId": "c6db63c7-32e7-4bfc-f072-1a8e1476134f"
      },
      "outputs": [
        {
          "output_type": "execute_result",
          "data": {
            "text/plain": [
              "Index(['customerID', 'InternetService', 'OnlineSecurity', 'OnlineBackup',\n",
              "       'DeviceProtection', 'TechSupport', 'StreamingTV', 'StreamingMovies'],\n",
              "      dtype='object')"
            ]
          },
          "metadata": {},
          "execution_count": 27
        }
      ],
      "source": [
        "df_internet.columns"
      ]
    },
    {
      "cell_type": "markdown",
      "metadata": {
        "id": "9ObE-OBqDZyo"
      },
      "source": [
        "#### Вывод\n",
        "\n",
        "Это таблица с информацией об интернет услугах. В ней содержится 8 столбцов по 5517 строк в каждом, без пропусков.\n",
        "\n",
        "\n",
        "*   `customerID` - уникальный идентификатор пользователя как и в предыдущей таблице.\n",
        "*   `InternetService` - категориальный признак, 2 уникальных значения. Содержит информацию о том, какой тип подключения использует обонент. При дальнейшем объединении таблиц можно добавить третье значение `no_internet` для абонентов которые не пользуются интернетом.\n",
        "*   `OnlineSecurity, OnlineBackup,\n",
        "       DeviceProtection, TechSupport, StreamingTV, StreamingMovies` - бинарные столбцы, содержащие информацию о подключённых услугах.\n",
        "\n",
        "В этой таблице на полторы тысячи записей меньше чем в таблице с контрактами. Не все люди пользуются интернетом.\n"
      ]
    },
    {
      "cell_type": "markdown",
      "metadata": {
        "id": "z-MW0SrMDzYZ"
      },
      "source": [
        "### Таблица personal"
      ]
    },
    {
      "cell_type": "code",
      "execution_count": 28,
      "metadata": {
        "id": "lG0RKTcxtxT3"
      },
      "outputs": [],
      "source": [
        "try:\n",
        "  df_personal = pd.read_csv('/content/final_provider/personal.csv')\n",
        "except:\n",
        "  print('Error')"
      ]
    },
    {
      "cell_type": "code",
      "execution_count": 29,
      "metadata": {
        "colab": {
          "base_uri": "https://localhost:8080/"
        },
        "id": "clbv2YRTJxQF",
        "outputId": "b8d222fd-f492-47d0-edc4-9104eee07d98"
      },
      "outputs": [
        {
          "output_type": "stream",
          "name": "stdout",
          "text": [
            "<class 'pandas.core.frame.DataFrame'>\n",
            "RangeIndex: 7043 entries, 0 to 7042\n",
            "Data columns (total 5 columns):\n",
            " #   Column         Non-Null Count  Dtype \n",
            "---  ------         --------------  ----- \n",
            " 0   customerID     7043 non-null   object\n",
            " 1   gender         7043 non-null   object\n",
            " 2   SeniorCitizen  7043 non-null   int64 \n",
            " 3   Partner        7043 non-null   object\n",
            " 4   Dependents     7043 non-null   object\n",
            "dtypes: int64(1), object(4)\n",
            "memory usage: 275.2+ KB\n"
          ]
        }
      ],
      "source": [
        "df_personal.info()"
      ]
    },
    {
      "cell_type": "code",
      "execution_count": 30,
      "metadata": {
        "colab": {
          "base_uri": "https://localhost:8080/",
          "height": 143
        },
        "id": "DOOr9U0xJz8T",
        "outputId": "e672717e-b352-427e-bca3-481b19a781bd"
      },
      "outputs": [
        {
          "output_type": "execute_result",
          "data": {
            "text/plain": [
              "      customerID  gender  SeniorCitizen Partner Dependents\n",
              "6652  0827-ITJPH    Male              0      No         No\n",
              "5558  0675-NCDYU  Female              0     Yes        Yes\n",
              "4488  3714-JTVOV  Female              1     Yes         No"
            ],
            "text/html": [
              "\n",
              "  <div id=\"df-09e41190-4b74-426a-9779-60cd59b6bd34\">\n",
              "    <div class=\"colab-df-container\">\n",
              "      <div>\n",
              "<style scoped>\n",
              "    .dataframe tbody tr th:only-of-type {\n",
              "        vertical-align: middle;\n",
              "    }\n",
              "\n",
              "    .dataframe tbody tr th {\n",
              "        vertical-align: top;\n",
              "    }\n",
              "\n",
              "    .dataframe thead th {\n",
              "        text-align: right;\n",
              "    }\n",
              "</style>\n",
              "<table border=\"1\" class=\"dataframe\">\n",
              "  <thead>\n",
              "    <tr style=\"text-align: right;\">\n",
              "      <th></th>\n",
              "      <th>customerID</th>\n",
              "      <th>gender</th>\n",
              "      <th>SeniorCitizen</th>\n",
              "      <th>Partner</th>\n",
              "      <th>Dependents</th>\n",
              "    </tr>\n",
              "  </thead>\n",
              "  <tbody>\n",
              "    <tr>\n",
              "      <th>6652</th>\n",
              "      <td>0827-ITJPH</td>\n",
              "      <td>Male</td>\n",
              "      <td>0</td>\n",
              "      <td>No</td>\n",
              "      <td>No</td>\n",
              "    </tr>\n",
              "    <tr>\n",
              "      <th>5558</th>\n",
              "      <td>0675-NCDYU</td>\n",
              "      <td>Female</td>\n",
              "      <td>0</td>\n",
              "      <td>Yes</td>\n",
              "      <td>Yes</td>\n",
              "    </tr>\n",
              "    <tr>\n",
              "      <th>4488</th>\n",
              "      <td>3714-JTVOV</td>\n",
              "      <td>Female</td>\n",
              "      <td>1</td>\n",
              "      <td>Yes</td>\n",
              "      <td>No</td>\n",
              "    </tr>\n",
              "  </tbody>\n",
              "</table>\n",
              "</div>\n",
              "      <button class=\"colab-df-convert\" onclick=\"convertToInteractive('df-09e41190-4b74-426a-9779-60cd59b6bd34')\"\n",
              "              title=\"Convert this dataframe to an interactive table.\"\n",
              "              style=\"display:none;\">\n",
              "        \n",
              "  <svg xmlns=\"http://www.w3.org/2000/svg\" height=\"24px\"viewBox=\"0 0 24 24\"\n",
              "       width=\"24px\">\n",
              "    <path d=\"M0 0h24v24H0V0z\" fill=\"none\"/>\n",
              "    <path d=\"M18.56 5.44l.94 2.06.94-2.06 2.06-.94-2.06-.94-.94-2.06-.94 2.06-2.06.94zm-11 1L8.5 8.5l.94-2.06 2.06-.94-2.06-.94L8.5 2.5l-.94 2.06-2.06.94zm10 10l.94 2.06.94-2.06 2.06-.94-2.06-.94-.94-2.06-.94 2.06-2.06.94z\"/><path d=\"M17.41 7.96l-1.37-1.37c-.4-.4-.92-.59-1.43-.59-.52 0-1.04.2-1.43.59L10.3 9.45l-7.72 7.72c-.78.78-.78 2.05 0 2.83L4 21.41c.39.39.9.59 1.41.59.51 0 1.02-.2 1.41-.59l7.78-7.78 2.81-2.81c.8-.78.8-2.07 0-2.86zM5.41 20L4 18.59l7.72-7.72 1.47 1.35L5.41 20z\"/>\n",
              "  </svg>\n",
              "      </button>\n",
              "      \n",
              "  <style>\n",
              "    .colab-df-container {\n",
              "      display:flex;\n",
              "      flex-wrap:wrap;\n",
              "      gap: 12px;\n",
              "    }\n",
              "\n",
              "    .colab-df-convert {\n",
              "      background-color: #E8F0FE;\n",
              "      border: none;\n",
              "      border-radius: 50%;\n",
              "      cursor: pointer;\n",
              "      display: none;\n",
              "      fill: #1967D2;\n",
              "      height: 32px;\n",
              "      padding: 0 0 0 0;\n",
              "      width: 32px;\n",
              "    }\n",
              "\n",
              "    .colab-df-convert:hover {\n",
              "      background-color: #E2EBFA;\n",
              "      box-shadow: 0px 1px 2px rgba(60, 64, 67, 0.3), 0px 1px 3px 1px rgba(60, 64, 67, 0.15);\n",
              "      fill: #174EA6;\n",
              "    }\n",
              "\n",
              "    [theme=dark] .colab-df-convert {\n",
              "      background-color: #3B4455;\n",
              "      fill: #D2E3FC;\n",
              "    }\n",
              "\n",
              "    [theme=dark] .colab-df-convert:hover {\n",
              "      background-color: #434B5C;\n",
              "      box-shadow: 0px 1px 3px 1px rgba(0, 0, 0, 0.15);\n",
              "      filter: drop-shadow(0px 1px 2px rgba(0, 0, 0, 0.3));\n",
              "      fill: #FFFFFF;\n",
              "    }\n",
              "  </style>\n",
              "\n",
              "      <script>\n",
              "        const buttonEl =\n",
              "          document.querySelector('#df-09e41190-4b74-426a-9779-60cd59b6bd34 button.colab-df-convert');\n",
              "        buttonEl.style.display =\n",
              "          google.colab.kernel.accessAllowed ? 'block' : 'none';\n",
              "\n",
              "        async function convertToInteractive(key) {\n",
              "          const element = document.querySelector('#df-09e41190-4b74-426a-9779-60cd59b6bd34');\n",
              "          const dataTable =\n",
              "            await google.colab.kernel.invokeFunction('convertToInteractive',\n",
              "                                                     [key], {});\n",
              "          if (!dataTable) return;\n",
              "\n",
              "          const docLinkHtml = 'Like what you see? Visit the ' +\n",
              "            '<a target=\"_blank\" href=https://colab.research.google.com/notebooks/data_table.ipynb>data table notebook</a>'\n",
              "            + ' to learn more about interactive tables.';\n",
              "          element.innerHTML = '';\n",
              "          dataTable['output_type'] = 'display_data';\n",
              "          await google.colab.output.renderOutput(dataTable, element);\n",
              "          const docLink = document.createElement('div');\n",
              "          docLink.innerHTML = docLinkHtml;\n",
              "          element.appendChild(docLink);\n",
              "        }\n",
              "      </script>\n",
              "    </div>\n",
              "  </div>\n",
              "  "
            ]
          },
          "metadata": {},
          "execution_count": 30
        }
      ],
      "source": [
        "df_personal.sample(3)"
      ]
    },
    {
      "cell_type": "code",
      "execution_count": 31,
      "metadata": {
        "colab": {
          "base_uri": "https://localhost:8080/"
        },
        "id": "tcJSgyTjGkPi",
        "outputId": "20cefb96-db9b-428b-d8ce-d9f58996d94e"
      },
      "outputs": [
        {
          "output_type": "execute_result",
          "data": {
            "text/plain": [
              "array(['Female', 'Male'], dtype=object)"
            ]
          },
          "metadata": {},
          "execution_count": 31
        }
      ],
      "source": [
        "df_personal['gender'].unique()"
      ]
    },
    {
      "cell_type": "code",
      "execution_count": 32,
      "metadata": {
        "colab": {
          "base_uri": "https://localhost:8080/"
        },
        "id": "ShZc9DFlG2FB",
        "outputId": "338b07f5-54a0-42af-ef9a-da13f43ab123"
      },
      "outputs": [
        {
          "output_type": "execute_result",
          "data": {
            "text/plain": [
              "array([0, 1])"
            ]
          },
          "metadata": {},
          "execution_count": 32
        }
      ],
      "source": [
        "df_personal['SeniorCitizen'].unique()"
      ]
    },
    {
      "cell_type": "markdown",
      "metadata": {
        "id": "FKzJWflGGIeG"
      },
      "source": [
        "#### Вывод\n",
        "\n",
        "Это таблица с информацией об абонентах. В ней содержится 5 столбцов по 7043 строк в каждом, без пропусков.\n",
        "\n",
        "\n",
        "*   `customerID` - уникальный идентификатор пользователя как и в предыдущих таблицах.\n",
        "*   `gender` - бинарный признак указывает на пол абонента.\n",
        "*   `SeniorCitizen` - бинарный признак, указывает на наличие у абонента статуса пожилого.\n",
        "*   `Partner` - бинарный признак, указывает на наличие у абонента партнёра.\n",
        "*   `Dependents` - бинарный признак, указывает на наличие у абонента иждивенцев.\n",
        "\n",
        "Количество записей в этой таблице совпадает с количеством записей в таблице с контрактами, значит для каждого контракта найдётся свой абонент. Часть бинарных признаков записана в формате `0, 1`, часть в формате `Yes, No`, в итоговой таблице нужно будет привести их к единому виду."
      ]
    },
    {
      "cell_type": "markdown",
      "metadata": {
        "id": "II3GekueD3x0"
      },
      "source": [
        "### Таблица phone"
      ]
    },
    {
      "cell_type": "code",
      "execution_count": 33,
      "metadata": {
        "id": "CEx3Q9C-t2xs"
      },
      "outputs": [],
      "source": [
        "try:\n",
        "  df_phone = pd.read_csv('/content/final_provider/phone.csv')\n",
        "except:\n",
        "  print('Error')"
      ]
    },
    {
      "cell_type": "code",
      "execution_count": 34,
      "metadata": {
        "colab": {
          "base_uri": "https://localhost:8080/"
        },
        "id": "pV8OvTIzux2J",
        "outputId": "5ec0a6b8-01a1-4785-b915-a7ae44e66fb7"
      },
      "outputs": [
        {
          "output_type": "stream",
          "name": "stdout",
          "text": [
            "<class 'pandas.core.frame.DataFrame'>\n",
            "RangeIndex: 6361 entries, 0 to 6360\n",
            "Data columns (total 2 columns):\n",
            " #   Column         Non-Null Count  Dtype \n",
            "---  ------         --------------  ----- \n",
            " 0   customerID     6361 non-null   object\n",
            " 1   MultipleLines  6361 non-null   object\n",
            "dtypes: object(2)\n",
            "memory usage: 99.5+ KB\n"
          ]
        }
      ],
      "source": [
        "df_phone.info()"
      ]
    },
    {
      "cell_type": "code",
      "execution_count": 35,
      "metadata": {
        "colab": {
          "base_uri": "https://localhost:8080/",
          "height": 143
        },
        "id": "Iih5Vlbxurby",
        "outputId": "95e65078-d062-43b0-fce3-fba4ee9449b4"
      },
      "outputs": [
        {
          "output_type": "execute_result",
          "data": {
            "text/plain": [
              "      customerID MultipleLines\n",
              "5363  4786-UKSNZ            No\n",
              "1508  8189-HBVRW           Yes\n",
              "4487  6413-XKKPU            No"
            ],
            "text/html": [
              "\n",
              "  <div id=\"df-8b86ba1a-2ef5-4fc3-8971-35668088df23\">\n",
              "    <div class=\"colab-df-container\">\n",
              "      <div>\n",
              "<style scoped>\n",
              "    .dataframe tbody tr th:only-of-type {\n",
              "        vertical-align: middle;\n",
              "    }\n",
              "\n",
              "    .dataframe tbody tr th {\n",
              "        vertical-align: top;\n",
              "    }\n",
              "\n",
              "    .dataframe thead th {\n",
              "        text-align: right;\n",
              "    }\n",
              "</style>\n",
              "<table border=\"1\" class=\"dataframe\">\n",
              "  <thead>\n",
              "    <tr style=\"text-align: right;\">\n",
              "      <th></th>\n",
              "      <th>customerID</th>\n",
              "      <th>MultipleLines</th>\n",
              "    </tr>\n",
              "  </thead>\n",
              "  <tbody>\n",
              "    <tr>\n",
              "      <th>5363</th>\n",
              "      <td>4786-UKSNZ</td>\n",
              "      <td>No</td>\n",
              "    </tr>\n",
              "    <tr>\n",
              "      <th>1508</th>\n",
              "      <td>8189-HBVRW</td>\n",
              "      <td>Yes</td>\n",
              "    </tr>\n",
              "    <tr>\n",
              "      <th>4487</th>\n",
              "      <td>6413-XKKPU</td>\n",
              "      <td>No</td>\n",
              "    </tr>\n",
              "  </tbody>\n",
              "</table>\n",
              "</div>\n",
              "      <button class=\"colab-df-convert\" onclick=\"convertToInteractive('df-8b86ba1a-2ef5-4fc3-8971-35668088df23')\"\n",
              "              title=\"Convert this dataframe to an interactive table.\"\n",
              "              style=\"display:none;\">\n",
              "        \n",
              "  <svg xmlns=\"http://www.w3.org/2000/svg\" height=\"24px\"viewBox=\"0 0 24 24\"\n",
              "       width=\"24px\">\n",
              "    <path d=\"M0 0h24v24H0V0z\" fill=\"none\"/>\n",
              "    <path d=\"M18.56 5.44l.94 2.06.94-2.06 2.06-.94-2.06-.94-.94-2.06-.94 2.06-2.06.94zm-11 1L8.5 8.5l.94-2.06 2.06-.94-2.06-.94L8.5 2.5l-.94 2.06-2.06.94zm10 10l.94 2.06.94-2.06 2.06-.94-2.06-.94-.94-2.06-.94 2.06-2.06.94z\"/><path d=\"M17.41 7.96l-1.37-1.37c-.4-.4-.92-.59-1.43-.59-.52 0-1.04.2-1.43.59L10.3 9.45l-7.72 7.72c-.78.78-.78 2.05 0 2.83L4 21.41c.39.39.9.59 1.41.59.51 0 1.02-.2 1.41-.59l7.78-7.78 2.81-2.81c.8-.78.8-2.07 0-2.86zM5.41 20L4 18.59l7.72-7.72 1.47 1.35L5.41 20z\"/>\n",
              "  </svg>\n",
              "      </button>\n",
              "      \n",
              "  <style>\n",
              "    .colab-df-container {\n",
              "      display:flex;\n",
              "      flex-wrap:wrap;\n",
              "      gap: 12px;\n",
              "    }\n",
              "\n",
              "    .colab-df-convert {\n",
              "      background-color: #E8F0FE;\n",
              "      border: none;\n",
              "      border-radius: 50%;\n",
              "      cursor: pointer;\n",
              "      display: none;\n",
              "      fill: #1967D2;\n",
              "      height: 32px;\n",
              "      padding: 0 0 0 0;\n",
              "      width: 32px;\n",
              "    }\n",
              "\n",
              "    .colab-df-convert:hover {\n",
              "      background-color: #E2EBFA;\n",
              "      box-shadow: 0px 1px 2px rgba(60, 64, 67, 0.3), 0px 1px 3px 1px rgba(60, 64, 67, 0.15);\n",
              "      fill: #174EA6;\n",
              "    }\n",
              "\n",
              "    [theme=dark] .colab-df-convert {\n",
              "      background-color: #3B4455;\n",
              "      fill: #D2E3FC;\n",
              "    }\n",
              "\n",
              "    [theme=dark] .colab-df-convert:hover {\n",
              "      background-color: #434B5C;\n",
              "      box-shadow: 0px 1px 3px 1px rgba(0, 0, 0, 0.15);\n",
              "      filter: drop-shadow(0px 1px 2px rgba(0, 0, 0, 0.3));\n",
              "      fill: #FFFFFF;\n",
              "    }\n",
              "  </style>\n",
              "\n",
              "      <script>\n",
              "        const buttonEl =\n",
              "          document.querySelector('#df-8b86ba1a-2ef5-4fc3-8971-35668088df23 button.colab-df-convert');\n",
              "        buttonEl.style.display =\n",
              "          google.colab.kernel.accessAllowed ? 'block' : 'none';\n",
              "\n",
              "        async function convertToInteractive(key) {\n",
              "          const element = document.querySelector('#df-8b86ba1a-2ef5-4fc3-8971-35668088df23');\n",
              "          const dataTable =\n",
              "            await google.colab.kernel.invokeFunction('convertToInteractive',\n",
              "                                                     [key], {});\n",
              "          if (!dataTable) return;\n",
              "\n",
              "          const docLinkHtml = 'Like what you see? Visit the ' +\n",
              "            '<a target=\"_blank\" href=https://colab.research.google.com/notebooks/data_table.ipynb>data table notebook</a>'\n",
              "            + ' to learn more about interactive tables.';\n",
              "          element.innerHTML = '';\n",
              "          dataTable['output_type'] = 'display_data';\n",
              "          await google.colab.output.renderOutput(dataTable, element);\n",
              "          const docLink = document.createElement('div');\n",
              "          docLink.innerHTML = docLinkHtml;\n",
              "          element.appendChild(docLink);\n",
              "        }\n",
              "      </script>\n",
              "    </div>\n",
              "  </div>\n",
              "  "
            ]
          },
          "metadata": {},
          "execution_count": 35
        }
      ],
      "source": [
        "df_phone.sample(3)"
      ]
    },
    {
      "cell_type": "markdown",
      "metadata": {
        "id": "4JAhZpaKITqI"
      },
      "source": [
        "#### Вывод\n",
        "\n",
        "Это таблица с информацией о телефонных услугах. В ней содержится 2 столбца по 6361 строк в каждом, без пропусков.\n",
        "\n",
        "\n",
        "*   `customerID` - уникальный идентификатор пользователя как и в предыдущих таблицах.\n",
        "*   `MultipleLines` - бинарный признак, отражает наличие услуги по подключению телефона к нескольким линиям одновременно.\n",
        "\n",
        "Количество абонентов использующих телефон меньше общего количества абонентов, телефон используют не все абоненты. На этапе объединения таблиц сделаем из бинарного `MultipleLines` категориальный признак и добавить третье уникальное значение `no_phone`."
      ]
    },
    {
      "cell_type": "markdown",
      "metadata": {
        "id": "jlynIo9U_o-k"
      },
      "source": [
        "## Обработка и объединение таблиц"
      ]
    },
    {
      "cell_type": "markdown",
      "metadata": {
        "id": "z9euTnqaBPQP"
      },
      "source": [
        "Для каждой таблицы приведём названия столбцов к формату \"snake\". Затем переведём значения всех бинарных признаков в `True/False`. Для этого для начала заменим значения на `1/0`, а затем применим `.astype('bool')` и займёмся остальной необходимой оброботкой."
      ]
    },
    {
      "cell_type": "markdown",
      "metadata": {
        "id": "H341AKPpyhzF"
      },
      "source": [
        "### Обработка contract"
      ]
    },
    {
      "cell_type": "code",
      "execution_count": 36,
      "metadata": {
        "colab": {
          "base_uri": "https://localhost:8080/"
        },
        "id": "lSMVP9HT82ue",
        "outputId": "cbab075b-67e8-40b7-8512-c666c7ef6aef"
      },
      "outputs": [
        {
          "output_type": "execute_result",
          "data": {
            "text/plain": [
              "Index(['customerID', 'BeginDate', 'EndDate', 'Type', 'PaperlessBilling',\n",
              "       'PaymentMethod', 'MonthlyCharges', 'TotalCharges'],\n",
              "      dtype='object')"
            ]
          },
          "metadata": {},
          "execution_count": 36
        }
      ],
      "source": [
        "df_contract.columns"
      ]
    },
    {
      "cell_type": "code",
      "execution_count": 37,
      "metadata": {
        "id": "UOahQ835C4mX"
      },
      "outputs": [],
      "source": [
        "df_contract.columns = ['customer_id', 'begin_date', 'end_date', 'type', 'paperless_billing',\n",
        "       'payment_method', 'monthly_charges', 'total_charges']"
      ]
    },
    {
      "cell_type": "markdown",
      "metadata": {
        "id": "SwEIsdZBZvJi"
      },
      "source": [
        "Создадим колонку с целевым признаком"
      ]
    },
    {
      "cell_type": "code",
      "execution_count": 38,
      "metadata": {
        "id": "QybbjDnRpayM"
      },
      "outputs": [],
      "source": [
        "df_contract.loc[df_contract['end_date'] != 'No', 'left'] = 1\n",
        "df_contract['left'] = df_contract['left'].fillna(0)"
      ]
    },
    {
      "cell_type": "markdown",
      "metadata": {
        "id": "KEKf0hUBZ7h0"
      },
      "source": [
        "Посчитаем сколько дней каждый абонент является клиентом компании на момент выгрузки датасета"
      ]
    },
    {
      "cell_type": "code",
      "execution_count": 39,
      "metadata": {
        "id": "vcDU0YwfrHT9"
      },
      "outputs": [],
      "source": [
        "df_contract.loc[df_contract['end_date'] == 'No', 'end_date'] = '2020-02-01 00:00:00'\n",
        "df_contract['end_date'] = pd.to_datetime(df_contract['end_date'], format='%Y-%m-%d %H:%M:%S')\n",
        "\n",
        "df_contract['begin_date'] = pd.to_datetime(df_contract['begin_date'], format='%Y-%m-%d')"
      ]
    },
    {
      "cell_type": "code",
      "execution_count": 40,
      "metadata": {
        "id": "WYuY9VEMtv4S"
      },
      "outputs": [],
      "source": [
        "df_contract['loyalty'] = df_contract['end_date'] - df_contract['begin_date']"
      ]
    },
    {
      "cell_type": "code",
      "execution_count": 41,
      "metadata": {
        "id": "CCAwEZdcUecM"
      },
      "outputs": [],
      "source": [
        "def days(td):\n",
        "    return td.days"
      ]
    },
    {
      "cell_type": "code",
      "execution_count": 42,
      "metadata": {
        "id": "pDA60XFYSQlR"
      },
      "outputs": [],
      "source": [
        "df_contract['loyalty'] = df_contract['loyalty'].apply(days)"
      ]
    },
    {
      "cell_type": "code",
      "execution_count": 43,
      "metadata": {
        "id": "ZSIoDwrgtkQC"
      },
      "outputs": [],
      "source": [
        "df_contract = df_contract.drop(['begin_date', 'end_date'], axis=1)"
      ]
    },
    {
      "cell_type": "code",
      "execution_count": 44,
      "metadata": {
        "colab": {
          "base_uri": "https://localhost:8080/"
        },
        "id": "lu-fluM7ufE0",
        "outputId": "3da18cbe-4033-4574-b639-b3dbd164d24d"
      },
      "outputs": [
        {
          "output_type": "stream",
          "name": "stdout",
          "text": [
            "<class 'pandas.core.frame.DataFrame'>\n",
            "RangeIndex: 7043 entries, 0 to 7042\n",
            "Data columns (total 8 columns):\n",
            " #   Column             Non-Null Count  Dtype  \n",
            "---  ------             --------------  -----  \n",
            " 0   customer_id        7043 non-null   object \n",
            " 1   type               7043 non-null   object \n",
            " 2   paperless_billing  7043 non-null   object \n",
            " 3   payment_method     7043 non-null   object \n",
            " 4   monthly_charges    7043 non-null   float64\n",
            " 5   total_charges      7043 non-null   float64\n",
            " 6   left               7043 non-null   float64\n",
            " 7   loyalty            7043 non-null   int64  \n",
            "dtypes: float64(3), int64(1), object(4)\n",
            "memory usage: 440.3+ KB\n"
          ]
        }
      ],
      "source": [
        "df_contract.info()"
      ]
    },
    {
      "cell_type": "code",
      "execution_count": 45,
      "metadata": {
        "colab": {
          "base_uri": "https://localhost:8080/",
          "height": 312
        },
        "id": "Oz4pyGfw_-2w",
        "outputId": "b5c86817-690a-4291-f690-e77d85dda377"
      },
      "outputs": [
        {
          "output_type": "execute_result",
          "data": {
            "text/plain": [
              "     customer_id            type paperless_billing payment_method  \\\n",
              "1126  0927-LCSMG  Month-to-month                No   Mailed check   \n",
              "3231  9938-EKRGF  Month-to-month                No   Mailed check   \n",
              "611   4765-OXPPD  Month-to-month                No   Mailed check   \n",
              "\n",
              "      monthly_charges  total_charges  left  loyalty  \n",
              "1126            74.65         544.55   1.0      214  \n",
              "3231            84.45        1287.85   0.0      457  \n",
              "611             65.00         663.05   1.0      273  "
            ],
            "text/html": [
              "\n",
              "  <div id=\"df-ab8fe25c-8abf-426a-a05f-5cc0d74e9958\">\n",
              "    <div class=\"colab-df-container\">\n",
              "      <div>\n",
              "<style scoped>\n",
              "    .dataframe tbody tr th:only-of-type {\n",
              "        vertical-align: middle;\n",
              "    }\n",
              "\n",
              "    .dataframe tbody tr th {\n",
              "        vertical-align: top;\n",
              "    }\n",
              "\n",
              "    .dataframe thead th {\n",
              "        text-align: right;\n",
              "    }\n",
              "</style>\n",
              "<table border=\"1\" class=\"dataframe\">\n",
              "  <thead>\n",
              "    <tr style=\"text-align: right;\">\n",
              "      <th></th>\n",
              "      <th>customer_id</th>\n",
              "      <th>type</th>\n",
              "      <th>paperless_billing</th>\n",
              "      <th>payment_method</th>\n",
              "      <th>monthly_charges</th>\n",
              "      <th>total_charges</th>\n",
              "      <th>left</th>\n",
              "      <th>loyalty</th>\n",
              "    </tr>\n",
              "  </thead>\n",
              "  <tbody>\n",
              "    <tr>\n",
              "      <th>1126</th>\n",
              "      <td>0927-LCSMG</td>\n",
              "      <td>Month-to-month</td>\n",
              "      <td>No</td>\n",
              "      <td>Mailed check</td>\n",
              "      <td>74.65</td>\n",
              "      <td>544.55</td>\n",
              "      <td>1.0</td>\n",
              "      <td>214</td>\n",
              "    </tr>\n",
              "    <tr>\n",
              "      <th>3231</th>\n",
              "      <td>9938-EKRGF</td>\n",
              "      <td>Month-to-month</td>\n",
              "      <td>No</td>\n",
              "      <td>Mailed check</td>\n",
              "      <td>84.45</td>\n",
              "      <td>1287.85</td>\n",
              "      <td>0.0</td>\n",
              "      <td>457</td>\n",
              "    </tr>\n",
              "    <tr>\n",
              "      <th>611</th>\n",
              "      <td>4765-OXPPD</td>\n",
              "      <td>Month-to-month</td>\n",
              "      <td>No</td>\n",
              "      <td>Mailed check</td>\n",
              "      <td>65.00</td>\n",
              "      <td>663.05</td>\n",
              "      <td>1.0</td>\n",
              "      <td>273</td>\n",
              "    </tr>\n",
              "  </tbody>\n",
              "</table>\n",
              "</div>\n",
              "      <button class=\"colab-df-convert\" onclick=\"convertToInteractive('df-ab8fe25c-8abf-426a-a05f-5cc0d74e9958')\"\n",
              "              title=\"Convert this dataframe to an interactive table.\"\n",
              "              style=\"display:none;\">\n",
              "        \n",
              "  <svg xmlns=\"http://www.w3.org/2000/svg\" height=\"24px\"viewBox=\"0 0 24 24\"\n",
              "       width=\"24px\">\n",
              "    <path d=\"M0 0h24v24H0V0z\" fill=\"none\"/>\n",
              "    <path d=\"M18.56 5.44l.94 2.06.94-2.06 2.06-.94-2.06-.94-.94-2.06-.94 2.06-2.06.94zm-11 1L8.5 8.5l.94-2.06 2.06-.94-2.06-.94L8.5 2.5l-.94 2.06-2.06.94zm10 10l.94 2.06.94-2.06 2.06-.94-2.06-.94-.94-2.06-.94 2.06-2.06.94z\"/><path d=\"M17.41 7.96l-1.37-1.37c-.4-.4-.92-.59-1.43-.59-.52 0-1.04.2-1.43.59L10.3 9.45l-7.72 7.72c-.78.78-.78 2.05 0 2.83L4 21.41c.39.39.9.59 1.41.59.51 0 1.02-.2 1.41-.59l7.78-7.78 2.81-2.81c.8-.78.8-2.07 0-2.86zM5.41 20L4 18.59l7.72-7.72 1.47 1.35L5.41 20z\"/>\n",
              "  </svg>\n",
              "      </button>\n",
              "      \n",
              "  <style>\n",
              "    .colab-df-container {\n",
              "      display:flex;\n",
              "      flex-wrap:wrap;\n",
              "      gap: 12px;\n",
              "    }\n",
              "\n",
              "    .colab-df-convert {\n",
              "      background-color: #E8F0FE;\n",
              "      border: none;\n",
              "      border-radius: 50%;\n",
              "      cursor: pointer;\n",
              "      display: none;\n",
              "      fill: #1967D2;\n",
              "      height: 32px;\n",
              "      padding: 0 0 0 0;\n",
              "      width: 32px;\n",
              "    }\n",
              "\n",
              "    .colab-df-convert:hover {\n",
              "      background-color: #E2EBFA;\n",
              "      box-shadow: 0px 1px 2px rgba(60, 64, 67, 0.3), 0px 1px 3px 1px rgba(60, 64, 67, 0.15);\n",
              "      fill: #174EA6;\n",
              "    }\n",
              "\n",
              "    [theme=dark] .colab-df-convert {\n",
              "      background-color: #3B4455;\n",
              "      fill: #D2E3FC;\n",
              "    }\n",
              "\n",
              "    [theme=dark] .colab-df-convert:hover {\n",
              "      background-color: #434B5C;\n",
              "      box-shadow: 0px 1px 3px 1px rgba(0, 0, 0, 0.15);\n",
              "      filter: drop-shadow(0px 1px 2px rgba(0, 0, 0, 0.3));\n",
              "      fill: #FFFFFF;\n",
              "    }\n",
              "  </style>\n",
              "\n",
              "      <script>\n",
              "        const buttonEl =\n",
              "          document.querySelector('#df-ab8fe25c-8abf-426a-a05f-5cc0d74e9958 button.colab-df-convert');\n",
              "        buttonEl.style.display =\n",
              "          google.colab.kernel.accessAllowed ? 'block' : 'none';\n",
              "\n",
              "        async function convertToInteractive(key) {\n",
              "          const element = document.querySelector('#df-ab8fe25c-8abf-426a-a05f-5cc0d74e9958');\n",
              "          const dataTable =\n",
              "            await google.colab.kernel.invokeFunction('convertToInteractive',\n",
              "                                                     [key], {});\n",
              "          if (!dataTable) return;\n",
              "\n",
              "          const docLinkHtml = 'Like what you see? Visit the ' +\n",
              "            '<a target=\"_blank\" href=https://colab.research.google.com/notebooks/data_table.ipynb>data table notebook</a>'\n",
              "            + ' to learn more about interactive tables.';\n",
              "          element.innerHTML = '';\n",
              "          dataTable['output_type'] = 'display_data';\n",
              "          await google.colab.output.renderOutput(dataTable, element);\n",
              "          const docLink = document.createElement('div');\n",
              "          docLink.innerHTML = docLinkHtml;\n",
              "          element.appendChild(docLink);\n",
              "        }\n",
              "      </script>\n",
              "    </div>\n",
              "  </div>\n",
              "  "
            ]
          },
          "metadata": {},
          "execution_count": 45
        }
      ],
      "source": [
        "df_contract.sample(3)"
      ]
    },
    {
      "cell_type": "markdown",
      "metadata": {
        "id": "1sompJqOzLbU"
      },
      "source": [
        "### Обработка internet"
      ]
    },
    {
      "cell_type": "code",
      "execution_count": 46,
      "metadata": {
        "colab": {
          "base_uri": "https://localhost:8080/"
        },
        "id": "pOp_y9XbzpN-",
        "outputId": "0d04cac3-17cc-4878-fa56-c8a2556e0034"
      },
      "outputs": [
        {
          "output_type": "execute_result",
          "data": {
            "text/plain": [
              "Index(['customerID', 'InternetService', 'OnlineSecurity', 'OnlineBackup',\n",
              "       'DeviceProtection', 'TechSupport', 'StreamingTV', 'StreamingMovies'],\n",
              "      dtype='object')"
            ]
          },
          "metadata": {},
          "execution_count": 46
        }
      ],
      "source": [
        "df_internet.columns"
      ]
    },
    {
      "cell_type": "code",
      "execution_count": 47,
      "metadata": {
        "id": "1-QoqlDjzt05"
      },
      "outputs": [],
      "source": [
        "df_internet.columns = ['customer_id', 'internet_service', 'online_security', 'online_backup',\n",
        "       'device_protection', 'tech_support', 'streaming_tv', 'streaming_movies']"
      ]
    },
    {
      "cell_type": "code",
      "execution_count": 48,
      "metadata": {
        "colab": {
          "base_uri": "https://localhost:8080/"
        },
        "id": "t825zBFY084V",
        "outputId": "4cea4610-5203-4f49-f3e8-0c3bf658ac86"
      },
      "outputs": [
        {
          "output_type": "stream",
          "name": "stdout",
          "text": [
            "<class 'pandas.core.frame.DataFrame'>\n",
            "RangeIndex: 5517 entries, 0 to 5516\n",
            "Data columns (total 8 columns):\n",
            " #   Column             Non-Null Count  Dtype \n",
            "---  ------             --------------  ----- \n",
            " 0   customer_id        5517 non-null   object\n",
            " 1   internet_service   5517 non-null   object\n",
            " 2   online_security    5517 non-null   object\n",
            " 3   online_backup      5517 non-null   object\n",
            " 4   device_protection  5517 non-null   object\n",
            " 5   tech_support       5517 non-null   object\n",
            " 6   streaming_tv       5517 non-null   object\n",
            " 7   streaming_movies   5517 non-null   object\n",
            "dtypes: object(8)\n",
            "memory usage: 344.9+ KB\n"
          ]
        }
      ],
      "source": [
        "df_internet.info()"
      ]
    },
    {
      "cell_type": "code",
      "execution_count": 49,
      "metadata": {
        "colab": {
          "base_uri": "https://localhost:8080/",
          "height": 207
        },
        "id": "BjtlHJvW1E2a",
        "outputId": "84dd84e9-c8c3-419c-c744-79c321d2b4d0"
      },
      "outputs": [
        {
          "output_type": "execute_result",
          "data": {
            "text/plain": [
              "     customer_id internet_service online_security online_backup  \\\n",
              "2772  6212-ATMLK      Fiber optic              No            No   \n",
              "2938  1816-FLZDK              DSL              No            No   \n",
              "1640  9919-FZDED              DSL             Yes           Yes   \n",
              "\n",
              "     device_protection tech_support streaming_tv streaming_movies  \n",
              "2772                No           No          Yes              Yes  \n",
              "2938                No          Yes           No               No  \n",
              "1640               Yes           No          Yes              Yes  "
            ],
            "text/html": [
              "\n",
              "  <div id=\"df-b142caa9-e645-489f-b0b4-d80c3b085588\">\n",
              "    <div class=\"colab-df-container\">\n",
              "      <div>\n",
              "<style scoped>\n",
              "    .dataframe tbody tr th:only-of-type {\n",
              "        vertical-align: middle;\n",
              "    }\n",
              "\n",
              "    .dataframe tbody tr th {\n",
              "        vertical-align: top;\n",
              "    }\n",
              "\n",
              "    .dataframe thead th {\n",
              "        text-align: right;\n",
              "    }\n",
              "</style>\n",
              "<table border=\"1\" class=\"dataframe\">\n",
              "  <thead>\n",
              "    <tr style=\"text-align: right;\">\n",
              "      <th></th>\n",
              "      <th>customer_id</th>\n",
              "      <th>internet_service</th>\n",
              "      <th>online_security</th>\n",
              "      <th>online_backup</th>\n",
              "      <th>device_protection</th>\n",
              "      <th>tech_support</th>\n",
              "      <th>streaming_tv</th>\n",
              "      <th>streaming_movies</th>\n",
              "    </tr>\n",
              "  </thead>\n",
              "  <tbody>\n",
              "    <tr>\n",
              "      <th>2772</th>\n",
              "      <td>6212-ATMLK</td>\n",
              "      <td>Fiber optic</td>\n",
              "      <td>No</td>\n",
              "      <td>No</td>\n",
              "      <td>No</td>\n",
              "      <td>No</td>\n",
              "      <td>Yes</td>\n",
              "      <td>Yes</td>\n",
              "    </tr>\n",
              "    <tr>\n",
              "      <th>2938</th>\n",
              "      <td>1816-FLZDK</td>\n",
              "      <td>DSL</td>\n",
              "      <td>No</td>\n",
              "      <td>No</td>\n",
              "      <td>No</td>\n",
              "      <td>Yes</td>\n",
              "      <td>No</td>\n",
              "      <td>No</td>\n",
              "    </tr>\n",
              "    <tr>\n",
              "      <th>1640</th>\n",
              "      <td>9919-FZDED</td>\n",
              "      <td>DSL</td>\n",
              "      <td>Yes</td>\n",
              "      <td>Yes</td>\n",
              "      <td>Yes</td>\n",
              "      <td>No</td>\n",
              "      <td>Yes</td>\n",
              "      <td>Yes</td>\n",
              "    </tr>\n",
              "  </tbody>\n",
              "</table>\n",
              "</div>\n",
              "      <button class=\"colab-df-convert\" onclick=\"convertToInteractive('df-b142caa9-e645-489f-b0b4-d80c3b085588')\"\n",
              "              title=\"Convert this dataframe to an interactive table.\"\n",
              "              style=\"display:none;\">\n",
              "        \n",
              "  <svg xmlns=\"http://www.w3.org/2000/svg\" height=\"24px\"viewBox=\"0 0 24 24\"\n",
              "       width=\"24px\">\n",
              "    <path d=\"M0 0h24v24H0V0z\" fill=\"none\"/>\n",
              "    <path d=\"M18.56 5.44l.94 2.06.94-2.06 2.06-.94-2.06-.94-.94-2.06-.94 2.06-2.06.94zm-11 1L8.5 8.5l.94-2.06 2.06-.94-2.06-.94L8.5 2.5l-.94 2.06-2.06.94zm10 10l.94 2.06.94-2.06 2.06-.94-2.06-.94-.94-2.06-.94 2.06-2.06.94z\"/><path d=\"M17.41 7.96l-1.37-1.37c-.4-.4-.92-.59-1.43-.59-.52 0-1.04.2-1.43.59L10.3 9.45l-7.72 7.72c-.78.78-.78 2.05 0 2.83L4 21.41c.39.39.9.59 1.41.59.51 0 1.02-.2 1.41-.59l7.78-7.78 2.81-2.81c.8-.78.8-2.07 0-2.86zM5.41 20L4 18.59l7.72-7.72 1.47 1.35L5.41 20z\"/>\n",
              "  </svg>\n",
              "      </button>\n",
              "      \n",
              "  <style>\n",
              "    .colab-df-container {\n",
              "      display:flex;\n",
              "      flex-wrap:wrap;\n",
              "      gap: 12px;\n",
              "    }\n",
              "\n",
              "    .colab-df-convert {\n",
              "      background-color: #E8F0FE;\n",
              "      border: none;\n",
              "      border-radius: 50%;\n",
              "      cursor: pointer;\n",
              "      display: none;\n",
              "      fill: #1967D2;\n",
              "      height: 32px;\n",
              "      padding: 0 0 0 0;\n",
              "      width: 32px;\n",
              "    }\n",
              "\n",
              "    .colab-df-convert:hover {\n",
              "      background-color: #E2EBFA;\n",
              "      box-shadow: 0px 1px 2px rgba(60, 64, 67, 0.3), 0px 1px 3px 1px rgba(60, 64, 67, 0.15);\n",
              "      fill: #174EA6;\n",
              "    }\n",
              "\n",
              "    [theme=dark] .colab-df-convert {\n",
              "      background-color: #3B4455;\n",
              "      fill: #D2E3FC;\n",
              "    }\n",
              "\n",
              "    [theme=dark] .colab-df-convert:hover {\n",
              "      background-color: #434B5C;\n",
              "      box-shadow: 0px 1px 3px 1px rgba(0, 0, 0, 0.15);\n",
              "      filter: drop-shadow(0px 1px 2px rgba(0, 0, 0, 0.3));\n",
              "      fill: #FFFFFF;\n",
              "    }\n",
              "  </style>\n",
              "\n",
              "      <script>\n",
              "        const buttonEl =\n",
              "          document.querySelector('#df-b142caa9-e645-489f-b0b4-d80c3b085588 button.colab-df-convert');\n",
              "        buttonEl.style.display =\n",
              "          google.colab.kernel.accessAllowed ? 'block' : 'none';\n",
              "\n",
              "        async function convertToInteractive(key) {\n",
              "          const element = document.querySelector('#df-b142caa9-e645-489f-b0b4-d80c3b085588');\n",
              "          const dataTable =\n",
              "            await google.colab.kernel.invokeFunction('convertToInteractive',\n",
              "                                                     [key], {});\n",
              "          if (!dataTable) return;\n",
              "\n",
              "          const docLinkHtml = 'Like what you see? Visit the ' +\n",
              "            '<a target=\"_blank\" href=https://colab.research.google.com/notebooks/data_table.ipynb>data table notebook</a>'\n",
              "            + ' to learn more about interactive tables.';\n",
              "          element.innerHTML = '';\n",
              "          dataTable['output_type'] = 'display_data';\n",
              "          await google.colab.output.renderOutput(dataTable, element);\n",
              "          const docLink = document.createElement('div');\n",
              "          docLink.innerHTML = docLinkHtml;\n",
              "          element.appendChild(docLink);\n",
              "        }\n",
              "      </script>\n",
              "    </div>\n",
              "  </div>\n",
              "  "
            ]
          },
          "metadata": {},
          "execution_count": 49
        }
      ],
      "source": [
        "df_internet.sample(3)"
      ]
    },
    {
      "cell_type": "markdown",
      "metadata": {
        "id": "vtm0d19f1RLU"
      },
      "source": [
        "### Обработка personal"
      ]
    },
    {
      "cell_type": "code",
      "execution_count": 50,
      "metadata": {
        "colab": {
          "base_uri": "https://localhost:8080/"
        },
        "id": "yXu_aatl1fuA",
        "outputId": "de8330ef-0076-48a9-ce76-0ea3c7e5ff90"
      },
      "outputs": [
        {
          "output_type": "execute_result",
          "data": {
            "text/plain": [
              "Index(['customerID', 'gender', 'SeniorCitizen', 'Partner', 'Dependents'], dtype='object')"
            ]
          },
          "metadata": {},
          "execution_count": 50
        }
      ],
      "source": [
        "df_personal.columns"
      ]
    },
    {
      "cell_type": "code",
      "execution_count": 51,
      "metadata": {
        "id": "4eMSQR741isx"
      },
      "outputs": [],
      "source": [
        "df_personal.columns = ['customer_id', 'gender', 'senior_citizen', 'partner', 'dependents']"
      ]
    },
    {
      "cell_type": "code",
      "execution_count": 52,
      "metadata": {
        "colab": {
          "base_uri": "https://localhost:8080/"
        },
        "id": "DgrCWJ8T2KGc",
        "outputId": "eb8b2922-24ea-47ec-a3a3-5c2a7b342162"
      },
      "outputs": [
        {
          "output_type": "stream",
          "name": "stdout",
          "text": [
            "<class 'pandas.core.frame.DataFrame'>\n",
            "RangeIndex: 7043 entries, 0 to 7042\n",
            "Data columns (total 5 columns):\n",
            " #   Column          Non-Null Count  Dtype \n",
            "---  ------          --------------  ----- \n",
            " 0   customer_id     7043 non-null   object\n",
            " 1   gender          7043 non-null   object\n",
            " 2   senior_citizen  7043 non-null   int64 \n",
            " 3   partner         7043 non-null   object\n",
            " 4   dependents      7043 non-null   object\n",
            "dtypes: int64(1), object(4)\n",
            "memory usage: 275.2+ KB\n"
          ]
        }
      ],
      "source": [
        "df_personal.info()"
      ]
    },
    {
      "cell_type": "code",
      "execution_count": 53,
      "metadata": {
        "colab": {
          "base_uri": "https://localhost:8080/",
          "height": 143
        },
        "id": "ej3mVCxa2EDy",
        "outputId": "71873273-9b02-45b6-a52b-1f8be3ff845c"
      },
      "outputs": [
        {
          "output_type": "execute_result",
          "data": {
            "text/plain": [
              "     customer_id  gender  senior_citizen partner dependents\n",
              "4551  5827-MWCZK    Male               0     Yes        Yes\n",
              "1934  4587-NUKOX  Female               0      No         No\n",
              "3012  2160-GPFXD    Male               0     Yes        Yes"
            ],
            "text/html": [
              "\n",
              "  <div id=\"df-25ae84c1-7b7d-4c0e-9e47-1fd5041b973b\">\n",
              "    <div class=\"colab-df-container\">\n",
              "      <div>\n",
              "<style scoped>\n",
              "    .dataframe tbody tr th:only-of-type {\n",
              "        vertical-align: middle;\n",
              "    }\n",
              "\n",
              "    .dataframe tbody tr th {\n",
              "        vertical-align: top;\n",
              "    }\n",
              "\n",
              "    .dataframe thead th {\n",
              "        text-align: right;\n",
              "    }\n",
              "</style>\n",
              "<table border=\"1\" class=\"dataframe\">\n",
              "  <thead>\n",
              "    <tr style=\"text-align: right;\">\n",
              "      <th></th>\n",
              "      <th>customer_id</th>\n",
              "      <th>gender</th>\n",
              "      <th>senior_citizen</th>\n",
              "      <th>partner</th>\n",
              "      <th>dependents</th>\n",
              "    </tr>\n",
              "  </thead>\n",
              "  <tbody>\n",
              "    <tr>\n",
              "      <th>4551</th>\n",
              "      <td>5827-MWCZK</td>\n",
              "      <td>Male</td>\n",
              "      <td>0</td>\n",
              "      <td>Yes</td>\n",
              "      <td>Yes</td>\n",
              "    </tr>\n",
              "    <tr>\n",
              "      <th>1934</th>\n",
              "      <td>4587-NUKOX</td>\n",
              "      <td>Female</td>\n",
              "      <td>0</td>\n",
              "      <td>No</td>\n",
              "      <td>No</td>\n",
              "    </tr>\n",
              "    <tr>\n",
              "      <th>3012</th>\n",
              "      <td>2160-GPFXD</td>\n",
              "      <td>Male</td>\n",
              "      <td>0</td>\n",
              "      <td>Yes</td>\n",
              "      <td>Yes</td>\n",
              "    </tr>\n",
              "  </tbody>\n",
              "</table>\n",
              "</div>\n",
              "      <button class=\"colab-df-convert\" onclick=\"convertToInteractive('df-25ae84c1-7b7d-4c0e-9e47-1fd5041b973b')\"\n",
              "              title=\"Convert this dataframe to an interactive table.\"\n",
              "              style=\"display:none;\">\n",
              "        \n",
              "  <svg xmlns=\"http://www.w3.org/2000/svg\" height=\"24px\"viewBox=\"0 0 24 24\"\n",
              "       width=\"24px\">\n",
              "    <path d=\"M0 0h24v24H0V0z\" fill=\"none\"/>\n",
              "    <path d=\"M18.56 5.44l.94 2.06.94-2.06 2.06-.94-2.06-.94-.94-2.06-.94 2.06-2.06.94zm-11 1L8.5 8.5l.94-2.06 2.06-.94-2.06-.94L8.5 2.5l-.94 2.06-2.06.94zm10 10l.94 2.06.94-2.06 2.06-.94-2.06-.94-.94-2.06-.94 2.06-2.06.94z\"/><path d=\"M17.41 7.96l-1.37-1.37c-.4-.4-.92-.59-1.43-.59-.52 0-1.04.2-1.43.59L10.3 9.45l-7.72 7.72c-.78.78-.78 2.05 0 2.83L4 21.41c.39.39.9.59 1.41.59.51 0 1.02-.2 1.41-.59l7.78-7.78 2.81-2.81c.8-.78.8-2.07 0-2.86zM5.41 20L4 18.59l7.72-7.72 1.47 1.35L5.41 20z\"/>\n",
              "  </svg>\n",
              "      </button>\n",
              "      \n",
              "  <style>\n",
              "    .colab-df-container {\n",
              "      display:flex;\n",
              "      flex-wrap:wrap;\n",
              "      gap: 12px;\n",
              "    }\n",
              "\n",
              "    .colab-df-convert {\n",
              "      background-color: #E8F0FE;\n",
              "      border: none;\n",
              "      border-radius: 50%;\n",
              "      cursor: pointer;\n",
              "      display: none;\n",
              "      fill: #1967D2;\n",
              "      height: 32px;\n",
              "      padding: 0 0 0 0;\n",
              "      width: 32px;\n",
              "    }\n",
              "\n",
              "    .colab-df-convert:hover {\n",
              "      background-color: #E2EBFA;\n",
              "      box-shadow: 0px 1px 2px rgba(60, 64, 67, 0.3), 0px 1px 3px 1px rgba(60, 64, 67, 0.15);\n",
              "      fill: #174EA6;\n",
              "    }\n",
              "\n",
              "    [theme=dark] .colab-df-convert {\n",
              "      background-color: #3B4455;\n",
              "      fill: #D2E3FC;\n",
              "    }\n",
              "\n",
              "    [theme=dark] .colab-df-convert:hover {\n",
              "      background-color: #434B5C;\n",
              "      box-shadow: 0px 1px 3px 1px rgba(0, 0, 0, 0.15);\n",
              "      filter: drop-shadow(0px 1px 2px rgba(0, 0, 0, 0.3));\n",
              "      fill: #FFFFFF;\n",
              "    }\n",
              "  </style>\n",
              "\n",
              "      <script>\n",
              "        const buttonEl =\n",
              "          document.querySelector('#df-25ae84c1-7b7d-4c0e-9e47-1fd5041b973b button.colab-df-convert');\n",
              "        buttonEl.style.display =\n",
              "          google.colab.kernel.accessAllowed ? 'block' : 'none';\n",
              "\n",
              "        async function convertToInteractive(key) {\n",
              "          const element = document.querySelector('#df-25ae84c1-7b7d-4c0e-9e47-1fd5041b973b');\n",
              "          const dataTable =\n",
              "            await google.colab.kernel.invokeFunction('convertToInteractive',\n",
              "                                                     [key], {});\n",
              "          if (!dataTable) return;\n",
              "\n",
              "          const docLinkHtml = 'Like what you see? Visit the ' +\n",
              "            '<a target=\"_blank\" href=https://colab.research.google.com/notebooks/data_table.ipynb>data table notebook</a>'\n",
              "            + ' to learn more about interactive tables.';\n",
              "          element.innerHTML = '';\n",
              "          dataTable['output_type'] = 'display_data';\n",
              "          await google.colab.output.renderOutput(dataTable, element);\n",
              "          const docLink = document.createElement('div');\n",
              "          docLink.innerHTML = docLinkHtml;\n",
              "          element.appendChild(docLink);\n",
              "        }\n",
              "      </script>\n",
              "    </div>\n",
              "  </div>\n",
              "  "
            ]
          },
          "metadata": {},
          "execution_count": 53
        }
      ],
      "source": [
        "df_personal.sample(3)"
      ]
    },
    {
      "cell_type": "markdown",
      "metadata": {
        "id": "uvdBuI3-2NWq"
      },
      "source": [
        "### Обработка phone"
      ]
    },
    {
      "cell_type": "code",
      "execution_count": 54,
      "metadata": {
        "colab": {
          "base_uri": "https://localhost:8080/"
        },
        "id": "aoZ7W76s2GgA",
        "outputId": "ad43d4e8-6a29-43d8-99c3-32bfd8da707a"
      },
      "outputs": [
        {
          "output_type": "execute_result",
          "data": {
            "text/plain": [
              "Index(['customerID', 'MultipleLines'], dtype='object')"
            ]
          },
          "metadata": {},
          "execution_count": 54
        }
      ],
      "source": [
        "df_phone.columns"
      ]
    },
    {
      "cell_type": "code",
      "execution_count": 55,
      "metadata": {
        "id": "6gpwryi22Zor"
      },
      "outputs": [],
      "source": [
        "df_phone.columns = ['customer_id', 'multiple_lines']"
      ]
    },
    {
      "cell_type": "code",
      "execution_count": 56,
      "metadata": {
        "colab": {
          "base_uri": "https://localhost:8080/"
        },
        "id": "Wn8GKLJ22ip9",
        "outputId": "45e2f0f3-c5f5-4e83-ba59-c0581939d248"
      },
      "outputs": [
        {
          "output_type": "stream",
          "name": "stdout",
          "text": [
            "<class 'pandas.core.frame.DataFrame'>\n",
            "RangeIndex: 6361 entries, 0 to 6360\n",
            "Data columns (total 2 columns):\n",
            " #   Column          Non-Null Count  Dtype \n",
            "---  ------          --------------  ----- \n",
            " 0   customer_id     6361 non-null   object\n",
            " 1   multiple_lines  6361 non-null   object\n",
            "dtypes: object(2)\n",
            "memory usage: 99.5+ KB\n"
          ]
        }
      ],
      "source": [
        "df_phone.info()"
      ]
    },
    {
      "cell_type": "code",
      "execution_count": 57,
      "metadata": {
        "colab": {
          "base_uri": "https://localhost:8080/",
          "height": 143
        },
        "id": "JHDCBDD721r9",
        "outputId": "e380d701-99f1-4ee7-b623-7d7b19eb00a3"
      },
      "outputs": [
        {
          "output_type": "execute_result",
          "data": {
            "text/plain": [
              "     customer_id multiple_lines\n",
              "643   7929-DMBCV             No\n",
              "5796  7921-BEPCI            Yes\n",
              "3608  3692-JHONH            Yes"
            ],
            "text/html": [
              "\n",
              "  <div id=\"df-a6f2cf0d-87f7-42f2-8f50-65b94de48979\">\n",
              "    <div class=\"colab-df-container\">\n",
              "      <div>\n",
              "<style scoped>\n",
              "    .dataframe tbody tr th:only-of-type {\n",
              "        vertical-align: middle;\n",
              "    }\n",
              "\n",
              "    .dataframe tbody tr th {\n",
              "        vertical-align: top;\n",
              "    }\n",
              "\n",
              "    .dataframe thead th {\n",
              "        text-align: right;\n",
              "    }\n",
              "</style>\n",
              "<table border=\"1\" class=\"dataframe\">\n",
              "  <thead>\n",
              "    <tr style=\"text-align: right;\">\n",
              "      <th></th>\n",
              "      <th>customer_id</th>\n",
              "      <th>multiple_lines</th>\n",
              "    </tr>\n",
              "  </thead>\n",
              "  <tbody>\n",
              "    <tr>\n",
              "      <th>643</th>\n",
              "      <td>7929-DMBCV</td>\n",
              "      <td>No</td>\n",
              "    </tr>\n",
              "    <tr>\n",
              "      <th>5796</th>\n",
              "      <td>7921-BEPCI</td>\n",
              "      <td>Yes</td>\n",
              "    </tr>\n",
              "    <tr>\n",
              "      <th>3608</th>\n",
              "      <td>3692-JHONH</td>\n",
              "      <td>Yes</td>\n",
              "    </tr>\n",
              "  </tbody>\n",
              "</table>\n",
              "</div>\n",
              "      <button class=\"colab-df-convert\" onclick=\"convertToInteractive('df-a6f2cf0d-87f7-42f2-8f50-65b94de48979')\"\n",
              "              title=\"Convert this dataframe to an interactive table.\"\n",
              "              style=\"display:none;\">\n",
              "        \n",
              "  <svg xmlns=\"http://www.w3.org/2000/svg\" height=\"24px\"viewBox=\"0 0 24 24\"\n",
              "       width=\"24px\">\n",
              "    <path d=\"M0 0h24v24H0V0z\" fill=\"none\"/>\n",
              "    <path d=\"M18.56 5.44l.94 2.06.94-2.06 2.06-.94-2.06-.94-.94-2.06-.94 2.06-2.06.94zm-11 1L8.5 8.5l.94-2.06 2.06-.94-2.06-.94L8.5 2.5l-.94 2.06-2.06.94zm10 10l.94 2.06.94-2.06 2.06-.94-2.06-.94-.94-2.06-.94 2.06-2.06.94z\"/><path d=\"M17.41 7.96l-1.37-1.37c-.4-.4-.92-.59-1.43-.59-.52 0-1.04.2-1.43.59L10.3 9.45l-7.72 7.72c-.78.78-.78 2.05 0 2.83L4 21.41c.39.39.9.59 1.41.59.51 0 1.02-.2 1.41-.59l7.78-7.78 2.81-2.81c.8-.78.8-2.07 0-2.86zM5.41 20L4 18.59l7.72-7.72 1.47 1.35L5.41 20z\"/>\n",
              "  </svg>\n",
              "      </button>\n",
              "      \n",
              "  <style>\n",
              "    .colab-df-container {\n",
              "      display:flex;\n",
              "      flex-wrap:wrap;\n",
              "      gap: 12px;\n",
              "    }\n",
              "\n",
              "    .colab-df-convert {\n",
              "      background-color: #E8F0FE;\n",
              "      border: none;\n",
              "      border-radius: 50%;\n",
              "      cursor: pointer;\n",
              "      display: none;\n",
              "      fill: #1967D2;\n",
              "      height: 32px;\n",
              "      padding: 0 0 0 0;\n",
              "      width: 32px;\n",
              "    }\n",
              "\n",
              "    .colab-df-convert:hover {\n",
              "      background-color: #E2EBFA;\n",
              "      box-shadow: 0px 1px 2px rgba(60, 64, 67, 0.3), 0px 1px 3px 1px rgba(60, 64, 67, 0.15);\n",
              "      fill: #174EA6;\n",
              "    }\n",
              "\n",
              "    [theme=dark] .colab-df-convert {\n",
              "      background-color: #3B4455;\n",
              "      fill: #D2E3FC;\n",
              "    }\n",
              "\n",
              "    [theme=dark] .colab-df-convert:hover {\n",
              "      background-color: #434B5C;\n",
              "      box-shadow: 0px 1px 3px 1px rgba(0, 0, 0, 0.15);\n",
              "      filter: drop-shadow(0px 1px 2px rgba(0, 0, 0, 0.3));\n",
              "      fill: #FFFFFF;\n",
              "    }\n",
              "  </style>\n",
              "\n",
              "      <script>\n",
              "        const buttonEl =\n",
              "          document.querySelector('#df-a6f2cf0d-87f7-42f2-8f50-65b94de48979 button.colab-df-convert');\n",
              "        buttonEl.style.display =\n",
              "          google.colab.kernel.accessAllowed ? 'block' : 'none';\n",
              "\n",
              "        async function convertToInteractive(key) {\n",
              "          const element = document.querySelector('#df-a6f2cf0d-87f7-42f2-8f50-65b94de48979');\n",
              "          const dataTable =\n",
              "            await google.colab.kernel.invokeFunction('convertToInteractive',\n",
              "                                                     [key], {});\n",
              "          if (!dataTable) return;\n",
              "\n",
              "          const docLinkHtml = 'Like what you see? Visit the ' +\n",
              "            '<a target=\"_blank\" href=https://colab.research.google.com/notebooks/data_table.ipynb>data table notebook</a>'\n",
              "            + ' to learn more about interactive tables.';\n",
              "          element.innerHTML = '';\n",
              "          dataTable['output_type'] = 'display_data';\n",
              "          await google.colab.output.renderOutput(dataTable, element);\n",
              "          const docLink = document.createElement('div');\n",
              "          docLink.innerHTML = docLinkHtml;\n",
              "          element.appendChild(docLink);\n",
              "        }\n",
              "      </script>\n",
              "    </div>\n",
              "  </div>\n",
              "  "
            ]
          },
          "metadata": {},
          "execution_count": 57
        }
      ],
      "source": [
        "df_phone.sample(3)"
      ]
    },
    {
      "cell_type": "markdown",
      "metadata": {
        "id": "dC1XznbA3bjP"
      },
      "source": [
        "### Объединение"
      ]
    },
    {
      "cell_type": "markdown",
      "metadata": {
        "id": "_nLCRyC_aScX"
      },
      "source": [
        "Объединим все таблицы с помощью ключевого значения колонки `customer_id`, пропуски в данных заполним в соответствии выводами из первичного обзора данных"
      ]
    },
    {
      "cell_type": "code",
      "execution_count": 58,
      "metadata": {
        "id": "A8Wc7nne23Iw"
      },
      "outputs": [],
      "source": [
        "df = df_contract.merge(df_personal, on='customer_id', how='left')"
      ]
    },
    {
      "cell_type": "code",
      "execution_count": 59,
      "metadata": {
        "colab": {
          "base_uri": "https://localhost:8080/"
        },
        "id": "zbsl3XFd4a4U",
        "outputId": "3f534f84-7716-45dc-ac79-d5c76bc4a0c5"
      },
      "outputs": [
        {
          "output_type": "stream",
          "name": "stdout",
          "text": [
            "<class 'pandas.core.frame.DataFrame'>\n",
            "Int64Index: 7043 entries, 0 to 7042\n",
            "Data columns (total 12 columns):\n",
            " #   Column             Non-Null Count  Dtype  \n",
            "---  ------             --------------  -----  \n",
            " 0   customer_id        7043 non-null   object \n",
            " 1   type               7043 non-null   object \n",
            " 2   paperless_billing  7043 non-null   object \n",
            " 3   payment_method     7043 non-null   object \n",
            " 4   monthly_charges    7043 non-null   float64\n",
            " 5   total_charges      7043 non-null   float64\n",
            " 6   left               7043 non-null   float64\n",
            " 7   loyalty            7043 non-null   int64  \n",
            " 8   gender             7043 non-null   object \n",
            " 9   senior_citizen     7043 non-null   int64  \n",
            " 10  partner            7043 non-null   object \n",
            " 11  dependents         7043 non-null   object \n",
            "dtypes: float64(3), int64(2), object(7)\n",
            "memory usage: 715.3+ KB\n"
          ]
        }
      ],
      "source": [
        "df.info()"
      ]
    },
    {
      "cell_type": "code",
      "execution_count": 60,
      "metadata": {
        "id": "joVHjvB94pyJ"
      },
      "outputs": [],
      "source": [
        "df = df.merge(df_phone, on='customer_id', how='left')"
      ]
    },
    {
      "cell_type": "code",
      "execution_count": 61,
      "metadata": {
        "colab": {
          "base_uri": "https://localhost:8080/"
        },
        "id": "dAYowOVu41nj",
        "outputId": "fda73e7b-c842-4874-e00b-6ccce9255d05"
      },
      "outputs": [
        {
          "output_type": "stream",
          "name": "stdout",
          "text": [
            "<class 'pandas.core.frame.DataFrame'>\n",
            "Int64Index: 7043 entries, 0 to 7042\n",
            "Data columns (total 13 columns):\n",
            " #   Column             Non-Null Count  Dtype  \n",
            "---  ------             --------------  -----  \n",
            " 0   customer_id        7043 non-null   object \n",
            " 1   type               7043 non-null   object \n",
            " 2   paperless_billing  7043 non-null   object \n",
            " 3   payment_method     7043 non-null   object \n",
            " 4   monthly_charges    7043 non-null   float64\n",
            " 5   total_charges      7043 non-null   float64\n",
            " 6   left               7043 non-null   float64\n",
            " 7   loyalty            7043 non-null   int64  \n",
            " 8   gender             7043 non-null   object \n",
            " 9   senior_citizen     7043 non-null   int64  \n",
            " 10  partner            7043 non-null   object \n",
            " 11  dependents         7043 non-null   object \n",
            " 12  multiple_lines     6361 non-null   object \n",
            "dtypes: float64(3), int64(2), object(8)\n",
            "memory usage: 770.3+ KB\n"
          ]
        }
      ],
      "source": [
        "df.info()"
      ]
    },
    {
      "cell_type": "code",
      "execution_count": 62,
      "metadata": {
        "id": "PxE9vNsP43n8"
      },
      "outputs": [],
      "source": [
        "df['multiple_lines'] = df['multiple_lines'].fillna('no_phone')"
      ]
    },
    {
      "cell_type": "code",
      "execution_count": 63,
      "metadata": {
        "id": "n2U1Qf6w5irG"
      },
      "outputs": [],
      "source": [
        "df = df.merge(df_internet, on='customer_id', how='left')"
      ]
    },
    {
      "cell_type": "code",
      "execution_count": 64,
      "metadata": {
        "colab": {
          "base_uri": "https://localhost:8080/"
        },
        "id": "g6A-FAgJ6Ixn",
        "outputId": "68d03328-5213-4c44-8d08-90c59bcfa81e"
      },
      "outputs": [
        {
          "output_type": "stream",
          "name": "stdout",
          "text": [
            "<class 'pandas.core.frame.DataFrame'>\n",
            "Int64Index: 7043 entries, 0 to 7042\n",
            "Data columns (total 20 columns):\n",
            " #   Column             Non-Null Count  Dtype  \n",
            "---  ------             --------------  -----  \n",
            " 0   customer_id        7043 non-null   object \n",
            " 1   type               7043 non-null   object \n",
            " 2   paperless_billing  7043 non-null   object \n",
            " 3   payment_method     7043 non-null   object \n",
            " 4   monthly_charges    7043 non-null   float64\n",
            " 5   total_charges      7043 non-null   float64\n",
            " 6   left               7043 non-null   float64\n",
            " 7   loyalty            7043 non-null   int64  \n",
            " 8   gender             7043 non-null   object \n",
            " 9   senior_citizen     7043 non-null   int64  \n",
            " 10  partner            7043 non-null   object \n",
            " 11  dependents         7043 non-null   object \n",
            " 12  multiple_lines     7043 non-null   object \n",
            " 13  internet_service   5517 non-null   object \n",
            " 14  online_security    5517 non-null   object \n",
            " 15  online_backup      5517 non-null   object \n",
            " 16  device_protection  5517 non-null   object \n",
            " 17  tech_support       5517 non-null   object \n",
            " 18  streaming_tv       5517 non-null   object \n",
            " 19  streaming_movies   5517 non-null   object \n",
            "dtypes: float64(3), int64(2), object(15)\n",
            "memory usage: 1.1+ MB\n"
          ]
        }
      ],
      "source": [
        "df.info()"
      ]
    },
    {
      "cell_type": "code",
      "execution_count": 65,
      "metadata": {
        "colab": {
          "base_uri": "https://localhost:8080/",
          "height": 409
        },
        "id": "MBtoajHa6nI5",
        "outputId": "ef17ed5d-366c-4fad-bd85-49b736fe8981"
      },
      "outputs": [
        {
          "output_type": "execute_result",
          "data": {
            "text/plain": [
              "  customer_id            type paperless_billing             payment_method  \\\n",
              "0  7590-VHVEG  Month-to-month               Yes           Electronic check   \n",
              "1  5575-GNVDE        One year                No               Mailed check   \n",
              "2  3668-QPYBK  Month-to-month               Yes               Mailed check   \n",
              "3  7795-CFOCW        One year                No  Bank transfer (automatic)   \n",
              "4  9237-HQITU  Month-to-month               Yes           Electronic check   \n",
              "\n",
              "   monthly_charges  total_charges  left  loyalty  gender  senior_citizen  \\\n",
              "0            29.85          29.85   0.0       31  Female               0   \n",
              "1            56.95        1889.50   0.0     1036    Male               0   \n",
              "2            53.85         108.15   1.0       61    Male               0   \n",
              "3            42.30        1840.75   0.0     1371    Male               0   \n",
              "4            70.70         151.65   1.0       61  Female               0   \n",
              "\n",
              "  partner dependents multiple_lines internet_service online_security  \\\n",
              "0     Yes         No       no_phone              DSL              No   \n",
              "1      No         No             No              DSL             Yes   \n",
              "2      No         No             No              DSL             Yes   \n",
              "3      No         No       no_phone              DSL             Yes   \n",
              "4      No         No             No      Fiber optic              No   \n",
              "\n",
              "  online_backup device_protection tech_support streaming_tv streaming_movies  \n",
              "0           Yes                No           No           No               No  \n",
              "1            No               Yes           No           No               No  \n",
              "2           Yes                No           No           No               No  \n",
              "3            No               Yes          Yes           No               No  \n",
              "4            No                No           No           No               No  "
            ],
            "text/html": [
              "\n",
              "  <div id=\"df-d4a921c4-7fa6-44ae-9c34-7bc0155df702\">\n",
              "    <div class=\"colab-df-container\">\n",
              "      <div>\n",
              "<style scoped>\n",
              "    .dataframe tbody tr th:only-of-type {\n",
              "        vertical-align: middle;\n",
              "    }\n",
              "\n",
              "    .dataframe tbody tr th {\n",
              "        vertical-align: top;\n",
              "    }\n",
              "\n",
              "    .dataframe thead th {\n",
              "        text-align: right;\n",
              "    }\n",
              "</style>\n",
              "<table border=\"1\" class=\"dataframe\">\n",
              "  <thead>\n",
              "    <tr style=\"text-align: right;\">\n",
              "      <th></th>\n",
              "      <th>customer_id</th>\n",
              "      <th>type</th>\n",
              "      <th>paperless_billing</th>\n",
              "      <th>payment_method</th>\n",
              "      <th>monthly_charges</th>\n",
              "      <th>total_charges</th>\n",
              "      <th>left</th>\n",
              "      <th>loyalty</th>\n",
              "      <th>gender</th>\n",
              "      <th>senior_citizen</th>\n",
              "      <th>partner</th>\n",
              "      <th>dependents</th>\n",
              "      <th>multiple_lines</th>\n",
              "      <th>internet_service</th>\n",
              "      <th>online_security</th>\n",
              "      <th>online_backup</th>\n",
              "      <th>device_protection</th>\n",
              "      <th>tech_support</th>\n",
              "      <th>streaming_tv</th>\n",
              "      <th>streaming_movies</th>\n",
              "    </tr>\n",
              "  </thead>\n",
              "  <tbody>\n",
              "    <tr>\n",
              "      <th>0</th>\n",
              "      <td>7590-VHVEG</td>\n",
              "      <td>Month-to-month</td>\n",
              "      <td>Yes</td>\n",
              "      <td>Electronic check</td>\n",
              "      <td>29.85</td>\n",
              "      <td>29.85</td>\n",
              "      <td>0.0</td>\n",
              "      <td>31</td>\n",
              "      <td>Female</td>\n",
              "      <td>0</td>\n",
              "      <td>Yes</td>\n",
              "      <td>No</td>\n",
              "      <td>no_phone</td>\n",
              "      <td>DSL</td>\n",
              "      <td>No</td>\n",
              "      <td>Yes</td>\n",
              "      <td>No</td>\n",
              "      <td>No</td>\n",
              "      <td>No</td>\n",
              "      <td>No</td>\n",
              "    </tr>\n",
              "    <tr>\n",
              "      <th>1</th>\n",
              "      <td>5575-GNVDE</td>\n",
              "      <td>One year</td>\n",
              "      <td>No</td>\n",
              "      <td>Mailed check</td>\n",
              "      <td>56.95</td>\n",
              "      <td>1889.50</td>\n",
              "      <td>0.0</td>\n",
              "      <td>1036</td>\n",
              "      <td>Male</td>\n",
              "      <td>0</td>\n",
              "      <td>No</td>\n",
              "      <td>No</td>\n",
              "      <td>No</td>\n",
              "      <td>DSL</td>\n",
              "      <td>Yes</td>\n",
              "      <td>No</td>\n",
              "      <td>Yes</td>\n",
              "      <td>No</td>\n",
              "      <td>No</td>\n",
              "      <td>No</td>\n",
              "    </tr>\n",
              "    <tr>\n",
              "      <th>2</th>\n",
              "      <td>3668-QPYBK</td>\n",
              "      <td>Month-to-month</td>\n",
              "      <td>Yes</td>\n",
              "      <td>Mailed check</td>\n",
              "      <td>53.85</td>\n",
              "      <td>108.15</td>\n",
              "      <td>1.0</td>\n",
              "      <td>61</td>\n",
              "      <td>Male</td>\n",
              "      <td>0</td>\n",
              "      <td>No</td>\n",
              "      <td>No</td>\n",
              "      <td>No</td>\n",
              "      <td>DSL</td>\n",
              "      <td>Yes</td>\n",
              "      <td>Yes</td>\n",
              "      <td>No</td>\n",
              "      <td>No</td>\n",
              "      <td>No</td>\n",
              "      <td>No</td>\n",
              "    </tr>\n",
              "    <tr>\n",
              "      <th>3</th>\n",
              "      <td>7795-CFOCW</td>\n",
              "      <td>One year</td>\n",
              "      <td>No</td>\n",
              "      <td>Bank transfer (automatic)</td>\n",
              "      <td>42.30</td>\n",
              "      <td>1840.75</td>\n",
              "      <td>0.0</td>\n",
              "      <td>1371</td>\n",
              "      <td>Male</td>\n",
              "      <td>0</td>\n",
              "      <td>No</td>\n",
              "      <td>No</td>\n",
              "      <td>no_phone</td>\n",
              "      <td>DSL</td>\n",
              "      <td>Yes</td>\n",
              "      <td>No</td>\n",
              "      <td>Yes</td>\n",
              "      <td>Yes</td>\n",
              "      <td>No</td>\n",
              "      <td>No</td>\n",
              "    </tr>\n",
              "    <tr>\n",
              "      <th>4</th>\n",
              "      <td>9237-HQITU</td>\n",
              "      <td>Month-to-month</td>\n",
              "      <td>Yes</td>\n",
              "      <td>Electronic check</td>\n",
              "      <td>70.70</td>\n",
              "      <td>151.65</td>\n",
              "      <td>1.0</td>\n",
              "      <td>61</td>\n",
              "      <td>Female</td>\n",
              "      <td>0</td>\n",
              "      <td>No</td>\n",
              "      <td>No</td>\n",
              "      <td>No</td>\n",
              "      <td>Fiber optic</td>\n",
              "      <td>No</td>\n",
              "      <td>No</td>\n",
              "      <td>No</td>\n",
              "      <td>No</td>\n",
              "      <td>No</td>\n",
              "      <td>No</td>\n",
              "    </tr>\n",
              "  </tbody>\n",
              "</table>\n",
              "</div>\n",
              "      <button class=\"colab-df-convert\" onclick=\"convertToInteractive('df-d4a921c4-7fa6-44ae-9c34-7bc0155df702')\"\n",
              "              title=\"Convert this dataframe to an interactive table.\"\n",
              "              style=\"display:none;\">\n",
              "        \n",
              "  <svg xmlns=\"http://www.w3.org/2000/svg\" height=\"24px\"viewBox=\"0 0 24 24\"\n",
              "       width=\"24px\">\n",
              "    <path d=\"M0 0h24v24H0V0z\" fill=\"none\"/>\n",
              "    <path d=\"M18.56 5.44l.94 2.06.94-2.06 2.06-.94-2.06-.94-.94-2.06-.94 2.06-2.06.94zm-11 1L8.5 8.5l.94-2.06 2.06-.94-2.06-.94L8.5 2.5l-.94 2.06-2.06.94zm10 10l.94 2.06.94-2.06 2.06-.94-2.06-.94-.94-2.06-.94 2.06-2.06.94z\"/><path d=\"M17.41 7.96l-1.37-1.37c-.4-.4-.92-.59-1.43-.59-.52 0-1.04.2-1.43.59L10.3 9.45l-7.72 7.72c-.78.78-.78 2.05 0 2.83L4 21.41c.39.39.9.59 1.41.59.51 0 1.02-.2 1.41-.59l7.78-7.78 2.81-2.81c.8-.78.8-2.07 0-2.86zM5.41 20L4 18.59l7.72-7.72 1.47 1.35L5.41 20z\"/>\n",
              "  </svg>\n",
              "      </button>\n",
              "      \n",
              "  <style>\n",
              "    .colab-df-container {\n",
              "      display:flex;\n",
              "      flex-wrap:wrap;\n",
              "      gap: 12px;\n",
              "    }\n",
              "\n",
              "    .colab-df-convert {\n",
              "      background-color: #E8F0FE;\n",
              "      border: none;\n",
              "      border-radius: 50%;\n",
              "      cursor: pointer;\n",
              "      display: none;\n",
              "      fill: #1967D2;\n",
              "      height: 32px;\n",
              "      padding: 0 0 0 0;\n",
              "      width: 32px;\n",
              "    }\n",
              "\n",
              "    .colab-df-convert:hover {\n",
              "      background-color: #E2EBFA;\n",
              "      box-shadow: 0px 1px 2px rgba(60, 64, 67, 0.3), 0px 1px 3px 1px rgba(60, 64, 67, 0.15);\n",
              "      fill: #174EA6;\n",
              "    }\n",
              "\n",
              "    [theme=dark] .colab-df-convert {\n",
              "      background-color: #3B4455;\n",
              "      fill: #D2E3FC;\n",
              "    }\n",
              "\n",
              "    [theme=dark] .colab-df-convert:hover {\n",
              "      background-color: #434B5C;\n",
              "      box-shadow: 0px 1px 3px 1px rgba(0, 0, 0, 0.15);\n",
              "      filter: drop-shadow(0px 1px 2px rgba(0, 0, 0, 0.3));\n",
              "      fill: #FFFFFF;\n",
              "    }\n",
              "  </style>\n",
              "\n",
              "      <script>\n",
              "        const buttonEl =\n",
              "          document.querySelector('#df-d4a921c4-7fa6-44ae-9c34-7bc0155df702 button.colab-df-convert');\n",
              "        buttonEl.style.display =\n",
              "          google.colab.kernel.accessAllowed ? 'block' : 'none';\n",
              "\n",
              "        async function convertToInteractive(key) {\n",
              "          const element = document.querySelector('#df-d4a921c4-7fa6-44ae-9c34-7bc0155df702');\n",
              "          const dataTable =\n",
              "            await google.colab.kernel.invokeFunction('convertToInteractive',\n",
              "                                                     [key], {});\n",
              "          if (!dataTable) return;\n",
              "\n",
              "          const docLinkHtml = 'Like what you see? Visit the ' +\n",
              "            '<a target=\"_blank\" href=https://colab.research.google.com/notebooks/data_table.ipynb>data table notebook</a>'\n",
              "            + ' to learn more about interactive tables.';\n",
              "          element.innerHTML = '';\n",
              "          dataTable['output_type'] = 'display_data';\n",
              "          await google.colab.output.renderOutput(dataTable, element);\n",
              "          const docLink = document.createElement('div');\n",
              "          docLink.innerHTML = docLinkHtml;\n",
              "          element.appendChild(docLink);\n",
              "        }\n",
              "      </script>\n",
              "    </div>\n",
              "  </div>\n",
              "  "
            ]
          },
          "metadata": {},
          "execution_count": 65
        }
      ],
      "source": [
        "df.head()"
      ]
    },
    {
      "cell_type": "code",
      "execution_count": 66,
      "metadata": {
        "id": "Pv_A0L6l6Kli"
      },
      "outputs": [],
      "source": [
        "df['internet_service'] = df['internet_service'].fillna('no_internet')"
      ]
    },
    {
      "cell_type": "code",
      "execution_count": 67,
      "metadata": {
        "colab": {
          "base_uri": "https://localhost:8080/"
        },
        "id": "StbC27A96ZYS",
        "outputId": "b4eb50a0-3d04-4049-876a-e932ec073bd3"
      },
      "outputs": [
        {
          "output_type": "execute_result",
          "data": {
            "text/plain": [
              "Index(['customer_id', 'internet_service', 'online_security', 'online_backup',\n",
              "       'device_protection', 'tech_support', 'streaming_tv',\n",
              "       'streaming_movies'],\n",
              "      dtype='object')"
            ]
          },
          "metadata": {},
          "execution_count": 67
        }
      ],
      "source": [
        "df_internet.columns"
      ]
    },
    {
      "cell_type": "code",
      "execution_count": 68,
      "metadata": {
        "colab": {
          "base_uri": "https://localhost:8080/",
          "height": 239
        },
        "id": "Q7DIgMN90oU7",
        "outputId": "24c9b775-f7e2-47b2-b7d6-ff2d5d2ed505"
      },
      "outputs": [
        {
          "output_type": "execute_result",
          "data": {
            "text/plain": [
              "       customer_id internet_service online_security online_backup  \\\n",
              "count         5517             5517            5517          5517   \n",
              "unique        5517                2               2             2   \n",
              "top     7590-VHVEG      Fiber optic              No            No   \n",
              "freq             1             3096            3498          3088   \n",
              "\n",
              "       device_protection tech_support streaming_tv streaming_movies  \n",
              "count               5517         5517         5517             5517  \n",
              "unique                 2            2            2                2  \n",
              "top                   No           No           No               No  \n",
              "freq                3095         3473         2810             2785  "
            ],
            "text/html": [
              "\n",
              "  <div id=\"df-5d12e398-cc68-4a4f-9940-8f47ede8622d\">\n",
              "    <div class=\"colab-df-container\">\n",
              "      <div>\n",
              "<style scoped>\n",
              "    .dataframe tbody tr th:only-of-type {\n",
              "        vertical-align: middle;\n",
              "    }\n",
              "\n",
              "    .dataframe tbody tr th {\n",
              "        vertical-align: top;\n",
              "    }\n",
              "\n",
              "    .dataframe thead th {\n",
              "        text-align: right;\n",
              "    }\n",
              "</style>\n",
              "<table border=\"1\" class=\"dataframe\">\n",
              "  <thead>\n",
              "    <tr style=\"text-align: right;\">\n",
              "      <th></th>\n",
              "      <th>customer_id</th>\n",
              "      <th>internet_service</th>\n",
              "      <th>online_security</th>\n",
              "      <th>online_backup</th>\n",
              "      <th>device_protection</th>\n",
              "      <th>tech_support</th>\n",
              "      <th>streaming_tv</th>\n",
              "      <th>streaming_movies</th>\n",
              "    </tr>\n",
              "  </thead>\n",
              "  <tbody>\n",
              "    <tr>\n",
              "      <th>count</th>\n",
              "      <td>5517</td>\n",
              "      <td>5517</td>\n",
              "      <td>5517</td>\n",
              "      <td>5517</td>\n",
              "      <td>5517</td>\n",
              "      <td>5517</td>\n",
              "      <td>5517</td>\n",
              "      <td>5517</td>\n",
              "    </tr>\n",
              "    <tr>\n",
              "      <th>unique</th>\n",
              "      <td>5517</td>\n",
              "      <td>2</td>\n",
              "      <td>2</td>\n",
              "      <td>2</td>\n",
              "      <td>2</td>\n",
              "      <td>2</td>\n",
              "      <td>2</td>\n",
              "      <td>2</td>\n",
              "    </tr>\n",
              "    <tr>\n",
              "      <th>top</th>\n",
              "      <td>7590-VHVEG</td>\n",
              "      <td>Fiber optic</td>\n",
              "      <td>No</td>\n",
              "      <td>No</td>\n",
              "      <td>No</td>\n",
              "      <td>No</td>\n",
              "      <td>No</td>\n",
              "      <td>No</td>\n",
              "    </tr>\n",
              "    <tr>\n",
              "      <th>freq</th>\n",
              "      <td>1</td>\n",
              "      <td>3096</td>\n",
              "      <td>3498</td>\n",
              "      <td>3088</td>\n",
              "      <td>3095</td>\n",
              "      <td>3473</td>\n",
              "      <td>2810</td>\n",
              "      <td>2785</td>\n",
              "    </tr>\n",
              "  </tbody>\n",
              "</table>\n",
              "</div>\n",
              "      <button class=\"colab-df-convert\" onclick=\"convertToInteractive('df-5d12e398-cc68-4a4f-9940-8f47ede8622d')\"\n",
              "              title=\"Convert this dataframe to an interactive table.\"\n",
              "              style=\"display:none;\">\n",
              "        \n",
              "  <svg xmlns=\"http://www.w3.org/2000/svg\" height=\"24px\"viewBox=\"0 0 24 24\"\n",
              "       width=\"24px\">\n",
              "    <path d=\"M0 0h24v24H0V0z\" fill=\"none\"/>\n",
              "    <path d=\"M18.56 5.44l.94 2.06.94-2.06 2.06-.94-2.06-.94-.94-2.06-.94 2.06-2.06.94zm-11 1L8.5 8.5l.94-2.06 2.06-.94-2.06-.94L8.5 2.5l-.94 2.06-2.06.94zm10 10l.94 2.06.94-2.06 2.06-.94-2.06-.94-.94-2.06-.94 2.06-2.06.94z\"/><path d=\"M17.41 7.96l-1.37-1.37c-.4-.4-.92-.59-1.43-.59-.52 0-1.04.2-1.43.59L10.3 9.45l-7.72 7.72c-.78.78-.78 2.05 0 2.83L4 21.41c.39.39.9.59 1.41.59.51 0 1.02-.2 1.41-.59l7.78-7.78 2.81-2.81c.8-.78.8-2.07 0-2.86zM5.41 20L4 18.59l7.72-7.72 1.47 1.35L5.41 20z\"/>\n",
              "  </svg>\n",
              "      </button>\n",
              "      \n",
              "  <style>\n",
              "    .colab-df-container {\n",
              "      display:flex;\n",
              "      flex-wrap:wrap;\n",
              "      gap: 12px;\n",
              "    }\n",
              "\n",
              "    .colab-df-convert {\n",
              "      background-color: #E8F0FE;\n",
              "      border: none;\n",
              "      border-radius: 50%;\n",
              "      cursor: pointer;\n",
              "      display: none;\n",
              "      fill: #1967D2;\n",
              "      height: 32px;\n",
              "      padding: 0 0 0 0;\n",
              "      width: 32px;\n",
              "    }\n",
              "\n",
              "    .colab-df-convert:hover {\n",
              "      background-color: #E2EBFA;\n",
              "      box-shadow: 0px 1px 2px rgba(60, 64, 67, 0.3), 0px 1px 3px 1px rgba(60, 64, 67, 0.15);\n",
              "      fill: #174EA6;\n",
              "    }\n",
              "\n",
              "    [theme=dark] .colab-df-convert {\n",
              "      background-color: #3B4455;\n",
              "      fill: #D2E3FC;\n",
              "    }\n",
              "\n",
              "    [theme=dark] .colab-df-convert:hover {\n",
              "      background-color: #434B5C;\n",
              "      box-shadow: 0px 1px 3px 1px rgba(0, 0, 0, 0.15);\n",
              "      filter: drop-shadow(0px 1px 2px rgba(0, 0, 0, 0.3));\n",
              "      fill: #FFFFFF;\n",
              "    }\n",
              "  </style>\n",
              "\n",
              "      <script>\n",
              "        const buttonEl =\n",
              "          document.querySelector('#df-5d12e398-cc68-4a4f-9940-8f47ede8622d button.colab-df-convert');\n",
              "        buttonEl.style.display =\n",
              "          google.colab.kernel.accessAllowed ? 'block' : 'none';\n",
              "\n",
              "        async function convertToInteractive(key) {\n",
              "          const element = document.querySelector('#df-5d12e398-cc68-4a4f-9940-8f47ede8622d');\n",
              "          const dataTable =\n",
              "            await google.colab.kernel.invokeFunction('convertToInteractive',\n",
              "                                                     [key], {});\n",
              "          if (!dataTable) return;\n",
              "\n",
              "          const docLinkHtml = 'Like what you see? Visit the ' +\n",
              "            '<a target=\"_blank\" href=https://colab.research.google.com/notebooks/data_table.ipynb>data table notebook</a>'\n",
              "            + ' to learn more about interactive tables.';\n",
              "          element.innerHTML = '';\n",
              "          dataTable['output_type'] = 'display_data';\n",
              "          await google.colab.output.renderOutput(dataTable, element);\n",
              "          const docLink = document.createElement('div');\n",
              "          docLink.innerHTML = docLinkHtml;\n",
              "          element.appendChild(docLink);\n",
              "        }\n",
              "      </script>\n",
              "    </div>\n",
              "  </div>\n",
              "  "
            ]
          },
          "metadata": {},
          "execution_count": 68
        }
      ],
      "source": [
        "df_internet.describe()"
      ]
    },
    {
      "cell_type": "code",
      "execution_count": 69,
      "metadata": {
        "id": "89JJ3ND86bxw"
      },
      "outputs": [],
      "source": [
        "for i in ['online_security', 'online_backup',\n",
        "       'device_protection', 'tech_support', 'streaming_tv',\n",
        "       'streaming_movies']:\n",
        "       df[i] = df[i].fillna('No')"
      ]
    },
    {
      "cell_type": "code",
      "execution_count": 70,
      "metadata": {
        "colab": {
          "base_uri": "https://localhost:8080/"
        },
        "id": "FE0OQRCE7FMn",
        "outputId": "f59a4a2d-669d-45ac-dbcf-b6cfe9c3095b"
      },
      "outputs": [
        {
          "output_type": "stream",
          "name": "stdout",
          "text": [
            "<class 'pandas.core.frame.DataFrame'>\n",
            "Int64Index: 7043 entries, 0 to 7042\n",
            "Data columns (total 20 columns):\n",
            " #   Column             Non-Null Count  Dtype  \n",
            "---  ------             --------------  -----  \n",
            " 0   customer_id        7043 non-null   object \n",
            " 1   type               7043 non-null   object \n",
            " 2   paperless_billing  7043 non-null   object \n",
            " 3   payment_method     7043 non-null   object \n",
            " 4   monthly_charges    7043 non-null   float64\n",
            " 5   total_charges      7043 non-null   float64\n",
            " 6   left               7043 non-null   float64\n",
            " 7   loyalty            7043 non-null   int64  \n",
            " 8   gender             7043 non-null   object \n",
            " 9   senior_citizen     7043 non-null   int64  \n",
            " 10  partner            7043 non-null   object \n",
            " 11  dependents         7043 non-null   object \n",
            " 12  multiple_lines     7043 non-null   object \n",
            " 13  internet_service   7043 non-null   object \n",
            " 14  online_security    7043 non-null   object \n",
            " 15  online_backup      7043 non-null   object \n",
            " 16  device_protection  7043 non-null   object \n",
            " 17  tech_support       7043 non-null   object \n",
            " 18  streaming_tv       7043 non-null   object \n",
            " 19  streaming_movies   7043 non-null   object \n",
            "dtypes: float64(3), int64(2), object(15)\n",
            "memory usage: 1.1+ MB\n"
          ]
        }
      ],
      "source": [
        "df.info()"
      ]
    },
    {
      "cell_type": "code",
      "execution_count": 71,
      "metadata": {
        "colab": {
          "base_uri": "https://localhost:8080/",
          "height": 426
        },
        "id": "lfhFWt1k7Gs3",
        "outputId": "441517ac-ecc8-4657-a3fe-f53791556ab7"
      },
      "outputs": [
        {
          "output_type": "execute_result",
          "data": {
            "text/plain": [
              "     customer_id            type paperless_billing             payment_method  \\\n",
              "3007  6022-UGGSO  Month-to-month               Yes           Electronic check   \n",
              "1225  6581-NQCBA  Month-to-month               Yes           Electronic check   \n",
              "3150  6029-CSMJE  Month-to-month               Yes               Mailed check   \n",
              "4422  6874-SGLHU        One year               Yes  Bank transfer (automatic)   \n",
              "6891  7853-OETYL  Month-to-month               Yes           Electronic check   \n",
              "\n",
              "      monthly_charges  total_charges  left  loyalty  gender  senior_citizen  \\\n",
              "3007            74.40        2276.95   1.0      975  Female               1   \n",
              "1225            49.95         810.20   1.0      488  Female               0   \n",
              "3150            25.65         440.20   0.0      518    Male               0   \n",
              "4422            97.00        3021.30   0.0      914    Male               0   \n",
              "6891            29.05         129.60   0.0      123  Female               0   \n",
              "\n",
              "     partner dependents multiple_lines internet_service online_security  \\\n",
              "3007      No         No             No      Fiber optic              No   \n",
              "1225     Yes         No       no_phone              DSL              No   \n",
              "3150      No         No       no_phone              DSL              No   \n",
              "4422      No         No             No      Fiber optic              No   \n",
              "6891     Yes         No       no_phone              DSL             Yes   \n",
              "\n",
              "     online_backup device_protection tech_support streaming_tv  \\\n",
              "3007           Yes                No           No           No   \n",
              "1225            No                No          Yes          Yes   \n",
              "3150            No                No           No           No   \n",
              "4422           Yes                No           No          Yes   \n",
              "6891            No                No           No           No   \n",
              "\n",
              "     streaming_movies  \n",
              "3007               No  \n",
              "1225              Yes  \n",
              "3150               No  \n",
              "4422              Yes  \n",
              "6891               No  "
            ],
            "text/html": [
              "\n",
              "  <div id=\"df-2231cc5b-b0b9-449b-8037-a65f75c3fcfe\">\n",
              "    <div class=\"colab-df-container\">\n",
              "      <div>\n",
              "<style scoped>\n",
              "    .dataframe tbody tr th:only-of-type {\n",
              "        vertical-align: middle;\n",
              "    }\n",
              "\n",
              "    .dataframe tbody tr th {\n",
              "        vertical-align: top;\n",
              "    }\n",
              "\n",
              "    .dataframe thead th {\n",
              "        text-align: right;\n",
              "    }\n",
              "</style>\n",
              "<table border=\"1\" class=\"dataframe\">\n",
              "  <thead>\n",
              "    <tr style=\"text-align: right;\">\n",
              "      <th></th>\n",
              "      <th>customer_id</th>\n",
              "      <th>type</th>\n",
              "      <th>paperless_billing</th>\n",
              "      <th>payment_method</th>\n",
              "      <th>monthly_charges</th>\n",
              "      <th>total_charges</th>\n",
              "      <th>left</th>\n",
              "      <th>loyalty</th>\n",
              "      <th>gender</th>\n",
              "      <th>senior_citizen</th>\n",
              "      <th>partner</th>\n",
              "      <th>dependents</th>\n",
              "      <th>multiple_lines</th>\n",
              "      <th>internet_service</th>\n",
              "      <th>online_security</th>\n",
              "      <th>online_backup</th>\n",
              "      <th>device_protection</th>\n",
              "      <th>tech_support</th>\n",
              "      <th>streaming_tv</th>\n",
              "      <th>streaming_movies</th>\n",
              "    </tr>\n",
              "  </thead>\n",
              "  <tbody>\n",
              "    <tr>\n",
              "      <th>3007</th>\n",
              "      <td>6022-UGGSO</td>\n",
              "      <td>Month-to-month</td>\n",
              "      <td>Yes</td>\n",
              "      <td>Electronic check</td>\n",
              "      <td>74.40</td>\n",
              "      <td>2276.95</td>\n",
              "      <td>1.0</td>\n",
              "      <td>975</td>\n",
              "      <td>Female</td>\n",
              "      <td>1</td>\n",
              "      <td>No</td>\n",
              "      <td>No</td>\n",
              "      <td>No</td>\n",
              "      <td>Fiber optic</td>\n",
              "      <td>No</td>\n",
              "      <td>Yes</td>\n",
              "      <td>No</td>\n",
              "      <td>No</td>\n",
              "      <td>No</td>\n",
              "      <td>No</td>\n",
              "    </tr>\n",
              "    <tr>\n",
              "      <th>1225</th>\n",
              "      <td>6581-NQCBA</td>\n",
              "      <td>Month-to-month</td>\n",
              "      <td>Yes</td>\n",
              "      <td>Electronic check</td>\n",
              "      <td>49.95</td>\n",
              "      <td>810.20</td>\n",
              "      <td>1.0</td>\n",
              "      <td>488</td>\n",
              "      <td>Female</td>\n",
              "      <td>0</td>\n",
              "      <td>Yes</td>\n",
              "      <td>No</td>\n",
              "      <td>no_phone</td>\n",
              "      <td>DSL</td>\n",
              "      <td>No</td>\n",
              "      <td>No</td>\n",
              "      <td>No</td>\n",
              "      <td>Yes</td>\n",
              "      <td>Yes</td>\n",
              "      <td>Yes</td>\n",
              "    </tr>\n",
              "    <tr>\n",
              "      <th>3150</th>\n",
              "      <td>6029-CSMJE</td>\n",
              "      <td>Month-to-month</td>\n",
              "      <td>Yes</td>\n",
              "      <td>Mailed check</td>\n",
              "      <td>25.65</td>\n",
              "      <td>440.20</td>\n",
              "      <td>0.0</td>\n",
              "      <td>518</td>\n",
              "      <td>Male</td>\n",
              "      <td>0</td>\n",
              "      <td>No</td>\n",
              "      <td>No</td>\n",
              "      <td>no_phone</td>\n",
              "      <td>DSL</td>\n",
              "      <td>No</td>\n",
              "      <td>No</td>\n",
              "      <td>No</td>\n",
              "      <td>No</td>\n",
              "      <td>No</td>\n",
              "      <td>No</td>\n",
              "    </tr>\n",
              "    <tr>\n",
              "      <th>4422</th>\n",
              "      <td>6874-SGLHU</td>\n",
              "      <td>One year</td>\n",
              "      <td>Yes</td>\n",
              "      <td>Bank transfer (automatic)</td>\n",
              "      <td>97.00</td>\n",
              "      <td>3021.30</td>\n",
              "      <td>0.0</td>\n",
              "      <td>914</td>\n",
              "      <td>Male</td>\n",
              "      <td>0</td>\n",
              "      <td>No</td>\n",
              "      <td>No</td>\n",
              "      <td>No</td>\n",
              "      <td>Fiber optic</td>\n",
              "      <td>No</td>\n",
              "      <td>Yes</td>\n",
              "      <td>No</td>\n",
              "      <td>No</td>\n",
              "      <td>Yes</td>\n",
              "      <td>Yes</td>\n",
              "    </tr>\n",
              "    <tr>\n",
              "      <th>6891</th>\n",
              "      <td>7853-OETYL</td>\n",
              "      <td>Month-to-month</td>\n",
              "      <td>Yes</td>\n",
              "      <td>Electronic check</td>\n",
              "      <td>29.05</td>\n",
              "      <td>129.60</td>\n",
              "      <td>0.0</td>\n",
              "      <td>123</td>\n",
              "      <td>Female</td>\n",
              "      <td>0</td>\n",
              "      <td>Yes</td>\n",
              "      <td>No</td>\n",
              "      <td>no_phone</td>\n",
              "      <td>DSL</td>\n",
              "      <td>Yes</td>\n",
              "      <td>No</td>\n",
              "      <td>No</td>\n",
              "      <td>No</td>\n",
              "      <td>No</td>\n",
              "      <td>No</td>\n",
              "    </tr>\n",
              "  </tbody>\n",
              "</table>\n",
              "</div>\n",
              "      <button class=\"colab-df-convert\" onclick=\"convertToInteractive('df-2231cc5b-b0b9-449b-8037-a65f75c3fcfe')\"\n",
              "              title=\"Convert this dataframe to an interactive table.\"\n",
              "              style=\"display:none;\">\n",
              "        \n",
              "  <svg xmlns=\"http://www.w3.org/2000/svg\" height=\"24px\"viewBox=\"0 0 24 24\"\n",
              "       width=\"24px\">\n",
              "    <path d=\"M0 0h24v24H0V0z\" fill=\"none\"/>\n",
              "    <path d=\"M18.56 5.44l.94 2.06.94-2.06 2.06-.94-2.06-.94-.94-2.06-.94 2.06-2.06.94zm-11 1L8.5 8.5l.94-2.06 2.06-.94-2.06-.94L8.5 2.5l-.94 2.06-2.06.94zm10 10l.94 2.06.94-2.06 2.06-.94-2.06-.94-.94-2.06-.94 2.06-2.06.94z\"/><path d=\"M17.41 7.96l-1.37-1.37c-.4-.4-.92-.59-1.43-.59-.52 0-1.04.2-1.43.59L10.3 9.45l-7.72 7.72c-.78.78-.78 2.05 0 2.83L4 21.41c.39.39.9.59 1.41.59.51 0 1.02-.2 1.41-.59l7.78-7.78 2.81-2.81c.8-.78.8-2.07 0-2.86zM5.41 20L4 18.59l7.72-7.72 1.47 1.35L5.41 20z\"/>\n",
              "  </svg>\n",
              "      </button>\n",
              "      \n",
              "  <style>\n",
              "    .colab-df-container {\n",
              "      display:flex;\n",
              "      flex-wrap:wrap;\n",
              "      gap: 12px;\n",
              "    }\n",
              "\n",
              "    .colab-df-convert {\n",
              "      background-color: #E8F0FE;\n",
              "      border: none;\n",
              "      border-radius: 50%;\n",
              "      cursor: pointer;\n",
              "      display: none;\n",
              "      fill: #1967D2;\n",
              "      height: 32px;\n",
              "      padding: 0 0 0 0;\n",
              "      width: 32px;\n",
              "    }\n",
              "\n",
              "    .colab-df-convert:hover {\n",
              "      background-color: #E2EBFA;\n",
              "      box-shadow: 0px 1px 2px rgba(60, 64, 67, 0.3), 0px 1px 3px 1px rgba(60, 64, 67, 0.15);\n",
              "      fill: #174EA6;\n",
              "    }\n",
              "\n",
              "    [theme=dark] .colab-df-convert {\n",
              "      background-color: #3B4455;\n",
              "      fill: #D2E3FC;\n",
              "    }\n",
              "\n",
              "    [theme=dark] .colab-df-convert:hover {\n",
              "      background-color: #434B5C;\n",
              "      box-shadow: 0px 1px 3px 1px rgba(0, 0, 0, 0.15);\n",
              "      filter: drop-shadow(0px 1px 2px rgba(0, 0, 0, 0.3));\n",
              "      fill: #FFFFFF;\n",
              "    }\n",
              "  </style>\n",
              "\n",
              "      <script>\n",
              "        const buttonEl =\n",
              "          document.querySelector('#df-2231cc5b-b0b9-449b-8037-a65f75c3fcfe button.colab-df-convert');\n",
              "        buttonEl.style.display =\n",
              "          google.colab.kernel.accessAllowed ? 'block' : 'none';\n",
              "\n",
              "        async function convertToInteractive(key) {\n",
              "          const element = document.querySelector('#df-2231cc5b-b0b9-449b-8037-a65f75c3fcfe');\n",
              "          const dataTable =\n",
              "            await google.colab.kernel.invokeFunction('convertToInteractive',\n",
              "                                                     [key], {});\n",
              "          if (!dataTable) return;\n",
              "\n",
              "          const docLinkHtml = 'Like what you see? Visit the ' +\n",
              "            '<a target=\"_blank\" href=https://colab.research.google.com/notebooks/data_table.ipynb>data table notebook</a>'\n",
              "            + ' to learn more about interactive tables.';\n",
              "          element.innerHTML = '';\n",
              "          dataTable['output_type'] = 'display_data';\n",
              "          await google.colab.output.renderOutput(dataTable, element);\n",
              "          const docLink = document.createElement('div');\n",
              "          docLink.innerHTML = docLinkHtml;\n",
              "          element.appendChild(docLink);\n",
              "        }\n",
              "      </script>\n",
              "    </div>\n",
              "  </div>\n",
              "  "
            ]
          },
          "metadata": {},
          "execution_count": 71
        }
      ],
      "source": [
        "df.sample(5)"
      ]
    },
    {
      "cell_type": "markdown",
      "metadata": {
        "id": "h8j8Xh9Q8b6A"
      },
      "source": [
        "Удалим customer_id, после объединения этот признак будет только мешать обучению моделей."
      ]
    },
    {
      "cell_type": "code",
      "execution_count": 72,
      "metadata": {
        "id": "H7iw6qMf93O6"
      },
      "outputs": [],
      "source": [
        "df = df.drop('customer_id', axis=1)"
      ]
    },
    {
      "cell_type": "markdown",
      "metadata": {
        "id": "ocPxlmMYRLcm"
      },
      "source": [
        "## Исследование корреляции данных"
      ]
    },
    {
      "cell_type": "code",
      "execution_count": 73,
      "metadata": {
        "colab": {
          "base_uri": "https://localhost:8080/"
        },
        "id": "1HYYtZHyPpjG",
        "outputId": "1b2b4534-3c1b-447c-e347-d19f1d74c195"
      },
      "outputs": [
        {
          "output_type": "stream",
          "name": "stdout",
          "text": [
            "interval columns not set, guessing: ['monthly_charges', 'total_charges', 'left', 'loyalty', 'senior_citizen']\n"
          ]
        }
      ],
      "source": [
        "phik_overview = df.phik_matrix()"
      ]
    },
    {
      "cell_type": "code",
      "execution_count": 74,
      "metadata": {
        "colab": {
          "base_uri": "https://localhost:8080/",
          "height": 617
        },
        "id": "F8ICtJ2mSCFz",
        "outputId": "287b7c54-be9b-4dca-8adb-c83a43a19776"
      },
      "outputs": [
        {
          "output_type": "display_data",
          "data": {
            "text/plain": [
              "<Figure size 1080x720 with 2 Axes>"
            ],
            "image/png": "[encoded data removed]"
          },
          "metadata": {}
        }
      ],
      "source": [
        "plot_correlation_matrix(phik_overview.values, \n",
        "                        x_labels=phik_overview.columns, \n",
        "                        y_labels=phik_overview.index, \n",
        "                        vmin=0, vmax=1, color_map=\"Blues\", \n",
        "                        title=r\"correlation $\\phi_K$\", \n",
        "                        fontsize_factor=1.0, \n",
        "                        figsize=(15, 10))\n",
        "plt.tight_layout()"
      ]
    },
    {
      "cell_type": "markdown",
      "metadata": {
        "id": "Q39wVk8BW2_J"
      },
      "source": [
        "### Вывод\n",
        "Очень сильно `monthly_charges` зависит от ряда интернет-услуг, особенно от `streaming_tv`, `streaming_movies`, заметно, что они созависимы(очевидно, при стриминге фильмов обычно комплектом стриминг тв) с показателем корреляции 0.74, правильным решением будет удалить один столбец. Удалим `streaming_tv`"
      ]
    },
    {
      "cell_type": "markdown",
      "metadata": {
        "id": "Cg2vyBsWcz6-"
      },
      "source": [
        "### Внесение изменений в соответствии с выводом"
      ]
    },
    {
      "cell_type": "code",
      "execution_count": 75,
      "metadata": {
        "id": "17yxt888eizb"
      },
      "outputs": [],
      "source": [
        "df = df.drop('streaming_tv', axis=1)"
      ]
    },
    {
      "cell_type": "markdown",
      "source": [
        "## Разделение на тренеровочную и тестовую"
      ],
      "metadata": {
        "id": "OEfOpdv7zeWf"
      }
    },
    {
      "cell_type": "code",
      "execution_count": 76,
      "metadata": {
        "id": "8Q6wntmdel6h"
      },
      "outputs": [],
      "source": [
        "X_train, X_test, y_train, y_test = train_test_split(\n",
        "    df.drop('left', axis=1), df.left, test_size=0.25, random_state=171022)"
      ]
    },
    {
      "cell_type": "markdown",
      "source": [
        "## Кодировка признаков"
      ],
      "metadata": {
        "id": "n0gzvZNozkik"
      }
    },
    {
      "cell_type": "code",
      "execution_count": 77,
      "metadata": {
        "id": "KiUrZQOBepyP"
      },
      "outputs": [],
      "source": [
        "cat_features = ['type', 'paperless_billing', 'payment_method', 'gender', 'partner', 'dependents', 'multiple_lines', 'internet_service', 'online_security', 'online_backup', 'device_protection', 'tech_support', 'streaming_movies']"
      ]
    },
    {
      "cell_type": "code",
      "execution_count": 78,
      "metadata": {
        "id": "cTIS6lXjeuCq"
      },
      "outputs": [],
      "source": [
        "ohe_enc = OneHotEncoder(drop = 'first')"
      ]
    },
    {
      "cell_type": "code",
      "execution_count": 79,
      "metadata": {
        "colab": {
          "base_uri": "https://localhost:8080/"
        },
        "id": "sqI5IvQ9ext-",
        "outputId": "87c05204-72ab-42bc-af1a-429ce1dd237a"
      },
      "outputs": [
        {
          "output_type": "execute_result",
          "data": {
            "text/plain": [
              "OneHotEncoder(drop='first')"
            ]
          },
          "metadata": {},
          "execution_count": 79
        }
      ],
      "source": [
        "ohe_enc.fit(X_train[cat_features])"
      ]
    },
    {
      "cell_type": "code",
      "execution_count": 80,
      "metadata": {
        "colab": {
          "base_uri": "https://localhost:8080/"
        },
        "id": "8IjgHWmCe0b9",
        "outputId": "453cb1eb-64fa-4a7d-8000-8e52e7d36613"
      },
      "outputs": [
        {
          "output_type": "stream",
          "name": "stderr",
          "text": [
            "/usr/local/lib/python3.8/dist-packages/sklearn/utils/deprecation.py:87: FutureWarning: Function get_feature_names is deprecated; get_feature_names is deprecated in 1.0 and will be removed in 1.2. Please use get_feature_names_out instead.\n",
            "  warnings.warn(msg, category=FutureWarning)\n"
          ]
        }
      ],
      "source": [
        "new_columns = ohe_enc.get_feature_names(cat_features)"
      ]
    },
    {
      "cell_type": "markdown",
      "source": [
        "### Кодировка тренировочной выборки"
      ],
      "metadata": {
        "id": "AnXy3T13zwFk"
      }
    },
    {
      "cell_type": "code",
      "execution_count": 81,
      "metadata": {
        "id": "nq5OZcLtfBMV"
      },
      "outputs": [],
      "source": [
        "X_train_ohe = pd.DataFrame(ohe_enc.transform(X_train[cat_features]).toarray(), columns = new_columns).reset_index(drop=True)"
      ]
    },
    {
      "cell_type": "code",
      "execution_count": 82,
      "metadata": {
        "id": "Z2fx7oOVfDuf"
      },
      "outputs": [],
      "source": [
        "X_train_enc = X_train.drop(cat_features, axis=1).reset_index(drop=True)"
      ]
    },
    {
      "cell_type": "code",
      "execution_count": 83,
      "metadata": {
        "id": "C1pkKPqUfHwG"
      },
      "outputs": [],
      "source": [
        "X_train_enc = X_train_enc.join(X_train_ohe)"
      ]
    },
    {
      "cell_type": "code",
      "execution_count": 84,
      "metadata": {
        "colab": {
          "base_uri": "https://localhost:8080/"
        },
        "id": "09A3qZ2VfKGc",
        "outputId": "ea775b90-34c0-4089-cdc7-85fc63ce391d"
      },
      "outputs": [
        {
          "output_type": "stream",
          "name": "stdout",
          "text": [
            "<class 'pandas.core.frame.DataFrame'>\n",
            "RangeIndex: 5282 entries, 0 to 5281\n",
            "Data columns (total 22 columns):\n",
            " #   Column                                  Non-Null Count  Dtype  \n",
            "---  ------                                  --------------  -----  \n",
            " 0   monthly_charges                         5282 non-null   float64\n",
            " 1   total_charges                           5282 non-null   float64\n",
            " 2   loyalty                                 5282 non-null   int64  \n",
            " 3   senior_citizen                          5282 non-null   int64  \n",
            " 4   type_One year                           5282 non-null   float64\n",
            " 5   type_Two year                           5282 non-null   float64\n",
            " 6   paperless_billing_Yes                   5282 non-null   float64\n",
            " 7   payment_method_Credit card (automatic)  5282 non-null   float64\n",
            " 8   payment_method_Electronic check         5282 non-null   float64\n",
            " 9   payment_method_Mailed check             5282 non-null   float64\n",
            " 10  gender_Male                             5282 non-null   float64\n",
            " 11  partner_Yes                             5282 non-null   float64\n",
            " 12  dependents_Yes                          5282 non-null   float64\n",
            " 13  multiple_lines_Yes                      5282 non-null   float64\n",
            " 14  multiple_lines_no_phone                 5282 non-null   float64\n",
            " 15  internet_service_Fiber optic            5282 non-null   float64\n",
            " 16  internet_service_no_internet            5282 non-null   float64\n",
            " 17  online_security_Yes                     5282 non-null   float64\n",
            " 18  online_backup_Yes                       5282 non-null   float64\n",
            " 19  device_protection_Yes                   5282 non-null   float64\n",
            " 20  tech_support_Yes                        5282 non-null   float64\n",
            " 21  streaming_movies_Yes                    5282 non-null   float64\n",
            "dtypes: float64(20), int64(2)\n",
            "memory usage: 908.0 KB\n"
          ]
        }
      ],
      "source": [
        "X_train_enc.info()"
      ]
    },
    {
      "cell_type": "markdown",
      "source": [
        "### Кодировка тестовой выборки"
      ],
      "metadata": {
        "id": "ZEShlr0R0Auv"
      }
    },
    {
      "cell_type": "code",
      "execution_count": 85,
      "metadata": {
        "id": "XdDzP2T1fhSb"
      },
      "outputs": [],
      "source": [
        "X_test_ohe = pd.DataFrame(ohe_enc.transform(X_test[cat_features]).toarray(), columns = new_columns).reset_index(drop=True)"
      ]
    },
    {
      "cell_type": "code",
      "execution_count": 86,
      "metadata": {
        "id": "_s8nR3mFfhSb"
      },
      "outputs": [],
      "source": [
        "X_test_enc = X_test.drop(cat_features, axis=1).reset_index(drop=True)"
      ]
    },
    {
      "cell_type": "code",
      "execution_count": 87,
      "metadata": {
        "id": "CfzhuCnUfhSb"
      },
      "outputs": [],
      "source": [
        "X_test_enc = X_test_enc.join(X_test_ohe)"
      ]
    },
    {
      "cell_type": "code",
      "execution_count": 88,
      "metadata": {
        "colab": {
          "base_uri": "https://localhost:8080/"
        },
        "id": "9gCrwrHNfhSc",
        "outputId": "ae3122c3-5fa5-4170-92cf-2f767f031c1e"
      },
      "outputs": [
        {
          "output_type": "stream",
          "name": "stdout",
          "text": [
            "<class 'pandas.core.frame.DataFrame'>\n",
            "RangeIndex: 1761 entries, 0 to 1760\n",
            "Data columns (total 22 columns):\n",
            " #   Column                                  Non-Null Count  Dtype  \n",
            "---  ------                                  --------------  -----  \n",
            " 0   monthly_charges                         1761 non-null   float64\n",
            " 1   total_charges                           1761 non-null   float64\n",
            " 2   loyalty                                 1761 non-null   int64  \n",
            " 3   senior_citizen                          1761 non-null   int64  \n",
            " 4   type_One year                           1761 non-null   float64\n",
            " 5   type_Two year                           1761 non-null   float64\n",
            " 6   paperless_billing_Yes                   1761 non-null   float64\n",
            " 7   payment_method_Credit card (automatic)  1761 non-null   float64\n",
            " 8   payment_method_Electronic check         1761 non-null   float64\n",
            " 9   payment_method_Mailed check             1761 non-null   float64\n",
            " 10  gender_Male                             1761 non-null   float64\n",
            " 11  partner_Yes                             1761 non-null   float64\n",
            " 12  dependents_Yes                          1761 non-null   float64\n",
            " 13  multiple_lines_Yes                      1761 non-null   float64\n",
            " 14  multiple_lines_no_phone                 1761 non-null   float64\n",
            " 15  internet_service_Fiber optic            1761 non-null   float64\n",
            " 16  internet_service_no_internet            1761 non-null   float64\n",
            " 17  online_security_Yes                     1761 non-null   float64\n",
            " 18  online_backup_Yes                       1761 non-null   float64\n",
            " 19  device_protection_Yes                   1761 non-null   float64\n",
            " 20  tech_support_Yes                        1761 non-null   float64\n",
            " 21  streaming_movies_Yes                    1761 non-null   float64\n",
            "dtypes: float64(20), int64(2)\n",
            "memory usage: 302.8 KB\n"
          ]
        }
      ],
      "source": [
        "X_test_enc.info()"
      ]
    },
    {
      "cell_type": "markdown",
      "metadata": {
        "id": "nnDbjb72f2zq"
      },
      "source": [
        "### Вывод\n",
        "Мы успешно закодировали признаки методом `one-hot encoding`"
      ]
    },
    {
      "cell_type": "markdown",
      "metadata": {
        "id": "c2FrISiXgHgH"
      },
      "source": [
        "## Обучение моделей"
      ]
    },
    {
      "cell_type": "markdown",
      "metadata": {
        "id": "hQO_928Zg-bv"
      },
      "source": [
        "Обучим модели случайного леса и градиентного бустинга и посмотрим на их результаты (roc-auc) на кросс-валидации"
      ]
    },
    {
      "cell_type": "markdown",
      "metadata": {
        "id": "o6YB-sOvgza9"
      },
      "source": [
        "### Random Forest Classifier"
      ]
    },
    {
      "cell_type": "code",
      "execution_count": 89,
      "metadata": {
        "colab": {
          "base_uri": "https://localhost:8080/"
        },
        "id": "JYsZzNLUgGax",
        "outputId": "89c5b6a6-80e8-4562-c990-cdbeb88b6614"
      },
      "outputs": [
        {
          "output_type": "stream",
          "name": "stdout",
          "text": [
            "Fitting 5 folds for each of 28 candidates, totalling 140 fits\n",
            "Лучший средний roc-auc на обучающей выборке: 0.85 , для модели с параметрами: {'max_depth': 6, 'n_estimators': 16}\n"
          ]
        }
      ],
      "source": [
        "clf_forest = RandomForestClassifier(random_state=171022)\n",
        "parametrs_forest = {'n_estimators': range (1, 20, 5), 'max_depth': range (1, 8, 1)}\n",
        "grid_forest = GridSearchCV(clf_forest, parametrs_forest, cv=5, verbose=1, n_jobs=-1, scoring='roc_auc')\n",
        "grid_forest.fit(X_train_enc, y_train)\n",
        "grid_forest.best_params_\n",
        "print('Лучший средний roc-auc на обучающей выборке:', round(grid_forest.best_score_, 2), ', для модели с параметрами:', grid_forest.best_params_)\n"
      ]
    },
    {
      "cell_type": "markdown",
      "metadata": {
        "id": "iMQg1fSPjX1X"
      },
      "source": [
        "### CatBoost"
      ]
    },
    {
      "cell_type": "code",
      "execution_count": 90,
      "metadata": {
        "id": "iRZVjzkaoXoN"
      },
      "outputs": [],
      "source": [
        "params = {\n",
        "'loss_function' : 'Logloss',\n",
        "'custom_loss' : 'AUC:hints=skip_train~false',\n",
        "'eval_metric' : 'AUC:hints=skip_train~false',\n",
        "'verbose' : 200,\n",
        "'random_seed' : 171022,\n",
        "'cat_features' : cat_features\n",
        "}"
      ]
    },
    {
      "cell_type": "code",
      "execution_count": 91,
      "metadata": {
        "id": "hKHZszFtigKx"
      },
      "outputs": [],
      "source": [
        "model = CatBoostClassifier(**params)"
      ]
    },
    {
      "cell_type": "code",
      "execution_count": 92,
      "metadata": {
        "id": "L9BfgobjllZv"
      },
      "outputs": [],
      "source": [
        "grid = {'learning_rate': [0.01, 0.1, 0.4], 'depth': [1, 4, 50], }"
      ]
    },
    {
      "cell_type": "code",
      "execution_count": 93,
      "metadata": {
        "colab": {
          "base_uri": "https://localhost:8080/"
        },
        "id": "6Vz6V4aWlmQJ",
        "outputId": "87a68a85-5ee0-40bb-f642-d9e2b8435dd2",
        "scrolled": true
      },
      "outputs": [
        {
          "output_type": "stream",
          "name": "stdout",
          "text": [
            "0:\tlearn: 0.6609121\ttest: 0.6681350\tbest: 0.6681350 (0)\ttotal: 53.8ms\tremaining: 53.7s\n",
            "200:\tlearn: 0.8406407\ttest: 0.8436740\tbest: 0.8438178 (197)\ttotal: 1.39s\tremaining: 5.54s\n",
            "400:\tlearn: 0.8480529\ttest: 0.8474016\tbest: 0.8474387 (375)\ttotal: 2.83s\tremaining: 4.23s\n",
            "600:\tlearn: 0.8522749\ttest: 0.8504519\tbest: 0.8504843 (598)\ttotal: 3.92s\tremaining: 2.6s\n",
            "800:\tlearn: 0.8552799\ttest: 0.8527181\tbest: 0.8528201 (793)\ttotal: 4.85s\tremaining: 1.21s\n",
            "999:\tlearn: 0.8582794\ttest: 0.8550284\tbest: 0.8550284 (999)\ttotal: 5.7s\tremaining: 0us\n",
            "\n",
            "bestTest = 0.8550283917\n",
            "bestIteration = 999\n",
            "\n",
            "0:\tloss: 0.8550284\tbest: 0.8550284 (0)\ttotal: 5.76s\tremaining: 46.1s\n",
            "0:\tlearn: 0.6609121\ttest: 0.6681350\tbest: 0.6681350 (0)\ttotal: 4.04ms\tremaining: 4.03s\n",
            "200:\tlearn: 0.8636261\ttest: 0.8586585\tbest: 0.8588348 (198)\ttotal: 923ms\tremaining: 3.67s\n",
            "400:\tlearn: 0.8696053\ttest: 0.8631353\tbest: 0.8631353 (400)\ttotal: 2.13s\tremaining: 3.18s\n",
            "600:\tlearn: 0.8738154\ttest: 0.8654851\tbest: 0.8656335 (594)\ttotal: 3.09s\tremaining: 2.05s\n",
            "800:\tlearn: 0.8765379\ttest: 0.8671111\tbest: 0.8672039 (794)\ttotal: 4.61s\tremaining: 1.14s\n",
            "999:\tlearn: 0.8784887\ttest: 0.8685353\tbest: 0.8685353 (997)\ttotal: 5.72s\tremaining: 0us\n",
            "\n",
            "bestTest = 0.8685353226\n",
            "bestIteration = 997\n",
            "\n",
            "1:\tloss: 0.8685353\tbest: 0.8685353 (1)\ttotal: 11.5s\tremaining: 40.3s\n",
            "0:\tlearn: 0.6609121\ttest: 0.6681350\tbest: 0.6681350 (0)\ttotal: 3.9ms\tremaining: 3.89s\n",
            "200:\tlearn: 0.8774081\ttest: 0.8674822\tbest: 0.8675147 (195)\ttotal: 1.06s\tremaining: 4.21s\n",
            "400:\tlearn: 0.8851998\ttest: 0.8724160\tbest: 0.8724160 (400)\ttotal: 2.19s\tremaining: 3.27s\n",
            "600:\tlearn: 0.8901717\ttest: 0.8741278\tbest: 0.8741742 (596)\ttotal: 3.5s\tremaining: 2.33s\n",
            "800:\tlearn: 0.8940961\ttest: 0.8770552\tbest: 0.8770737 (788)\ttotal: 4.53s\tremaining: 1.13s\n",
            "999:\tlearn: 0.8974480\ttest: 0.8788459\tbest: 0.8788923 (989)\ttotal: 6.01s\tremaining: 0us\n",
            "\n",
            "bestTest = 0.87889226\n",
            "bestIteration = 989\n",
            "\n",
            "2:\tloss: 0.8788923\tbest: 0.8788923 (2)\ttotal: 17.6s\tremaining: 35.1s\n",
            "0:\tlearn: 0.7833943\ttest: 0.7986927\tbest: 0.7986927 (0)\ttotal: 15.2ms\tremaining: 15.1s\n",
            "200:\tlearn: 0.8609827\ttest: 0.8559353\tbest: 0.8559725 (199)\ttotal: 1.1s\tremaining: 4.39s\n",
            "400:\tlearn: 0.8720916\ttest: 0.8643462\tbest: 0.8643786 (396)\ttotal: 2.05s\tremaining: 3.06s\n",
            "600:\tlearn: 0.8787781\ttest: 0.8679415\tbest: 0.8679415 (598)\ttotal: 3.04s\tremaining: 2.02s\n",
            "800:\tlearn: 0.8845430\ttest: 0.8717433\tbest: 0.8717433 (800)\ttotal: 4s\tremaining: 995ms\n",
            "999:\tlearn: 0.8922680\ttest: 0.8779876\tbest: 0.8779876 (999)\ttotal: 5.02s\tremaining: 0us\n",
            "\n",
            "bestTest = 0.8779876227\n",
            "bestIteration = 999\n",
            "\n",
            "3:\tloss: 0.8779876\tbest: 0.8788923 (2)\ttotal: 22.6s\tremaining: 28.3s\n",
            "0:\tlearn: 0.7833943\ttest: 0.7986927\tbest: 0.7986927 (0)\ttotal: 5.38ms\tremaining: 5.38s\n",
            "200:\tlearn: 0.9233481\ttest: 0.8966324\tbest: 0.8968226 (197)\ttotal: 998ms\tremaining: 3.96s\n",
            "400:\tlearn: 0.9547704\ttest: 0.9121064\tbest: 0.9121713 (399)\ttotal: 2.08s\tremaining: 3.11s\n",
            "600:\tlearn: 0.9714503\ttest: 0.9214125\tbest: 0.9214775 (596)\ttotal: 3.19s\tremaining: 2.12s\n",
            "800:\tlearn: 0.9809968\ttest: 0.9255460\tbest: 0.9255599 (797)\ttotal: 4.25s\tremaining: 1.05s\n",
            "999:\tlearn: 0.9867756\ttest: 0.9252770\tbest: 0.9258429 (875)\ttotal: 5.84s\tremaining: 0us\n",
            "\n",
            "bestTest = 0.9258429364\n",
            "bestIteration = 875\n",
            "\n",
            "4:\tloss: 0.9258429\tbest: 0.9258429 (4)\ttotal: 28.5s\tremaining: 22.8s\n",
            "0:\tlearn: 0.7833943\ttest: 0.7986927\tbest: 0.7986927 (0)\ttotal: 8.21ms\tremaining: 8.2s\n",
            "200:\tlearn: 0.9779334\ttest: 0.9204290\tbest: 0.9204290 (200)\ttotal: 1.63s\tremaining: 6.46s\n",
            "400:\tlearn: 0.9953144\ttest: 0.9266130\tbest: 0.9283666 (366)\ttotal: 2.68s\tremaining: 4s\n",
            "600:\tlearn: 0.9991317\ttest: 0.9242331\tbest: 0.9283666 (366)\ttotal: 3.73s\tremaining: 2.48s\n",
            "800:\tlearn: 0.9998205\ttest: 0.9218022\tbest: 0.9283666 (366)\ttotal: 4.8s\tremaining: 1.19s\n",
            "999:\tlearn: 0.9999744\ttest: 0.9195893\tbest: 0.9283666 (366)\ttotal: 5.89s\tremaining: 0us\n",
            "\n",
            "bestTest = 0.9283666425\n",
            "bestIteration = 366\n",
            "\n",
            "5:\tloss: 0.9283666\tbest: 0.9283666 (5)\ttotal: 34.4s\tremaining: 17.2s\n",
            "Estimating final quality...\n",
            "Training on fold [0/3]\n",
            "0:\tlearn: 0.7830431\ttest: 0.7778736\tbest: 0.7778736 (0)\ttotal: 4.82ms\tremaining: 4.81s\n",
            "200:\tlearn: 0.9858378\ttest: 0.9074601\tbest: 0.9106611 (162)\ttotal: 946ms\tremaining: 3.76s\n",
            "400:\tlearn: 0.9973583\ttest: 0.9017912\tbest: 0.9106611 (162)\ttotal: 1.94s\tremaining: 2.9s\n",
            "600:\tlearn: 0.9997051\ttest: 0.9017140\tbest: 0.9106611 (162)\ttotal: 2.91s\tremaining: 1.93s\n",
            "800:\tlearn: 0.9999683\ttest: 0.8994343\tbest: 0.9106611 (162)\ttotal: 3.87s\tremaining: 961ms\n",
            "999:\tlearn: 0.9999984\ttest: 0.8973041\tbest: 0.9106611 (162)\ttotal: 4.85s\tremaining: 0us\n",
            "\n",
            "bestTest = 0.9106611024\n",
            "bestIteration = 162\n",
            "\n",
            "Training on fold [1/3]\n",
            "0:\tlearn: 0.7973725\ttest: 0.7996484\tbest: 0.7996484 (0)\ttotal: 5.16ms\tremaining: 5.16s\n",
            "200:\tlearn: 0.9832856\ttest: 0.8982574\tbest: 0.8995181 (196)\ttotal: 1.09s\tremaining: 4.34s\n",
            "400:\tlearn: 0.9975492\ttest: 0.8987546\tbest: 0.9004237 (266)\ttotal: 2.6s\tremaining: 3.89s\n",
            "600:\tlearn: 0.9996290\ttest: 0.8989223\tbest: 0.9007336 (477)\ttotal: 4.02s\tremaining: 2.67s\n",
            "800:\tlearn: 0.9999634\ttest: 0.8993965\tbest: 0.9007336 (477)\ttotal: 4.98s\tremaining: 1.24s\n",
            "999:\tlearn: 0.9999947\ttest: 0.8997498\tbest: 0.9007336 (477)\ttotal: 5.92s\tremaining: 0us\n",
            "\n",
            "bestTest = 0.9007335538\n",
            "bestIteration = 477\n",
            "\n",
            "Training on fold [2/3]\n",
            "0:\tlearn: 0.7781832\ttest: 0.7783696\tbest: 0.7783696 (0)\ttotal: 4.66ms\tremaining: 4.65s\n",
            "200:\tlearn: 0.9797858\ttest: 0.9010046\tbest: 0.9032562 (180)\ttotal: 947ms\tremaining: 3.76s\n",
            "400:\tlearn: 0.9971390\ttest: 0.9065966\tbest: 0.9076853 (388)\ttotal: 1.9s\tremaining: 2.84s\n",
            "600:\tlearn: 0.9995215\ttest: 0.9064195\tbest: 0.9076853 (388)\ttotal: 2.84s\tremaining: 1.89s\n",
            "800:\tlearn: 0.9999606\ttest: 0.9057261\tbest: 0.9076853 (388)\ttotal: 3.8s\tremaining: 945ms\n",
            "999:\tlearn: 0.9999934\ttest: 0.9056948\tbest: 0.9076853 (388)\ttotal: 4.73s\tremaining: 0us\n",
            "\n",
            "bestTest = 0.9076853138\n",
            "bestIteration = 388\n",
            "\n"
          ]
        }
      ],
      "source": [
        "grid_search_result = model.grid_search(grid, X=X_train, y=y_train)"
      ]
    },
    {
      "cell_type": "code",
      "execution_count": 94,
      "metadata": {
        "colab": {
          "base_uri": "https://localhost:8080/"
        },
        "id": "o0ccZ4UGl1VS",
        "outputId": "dee603f4-e467-4739-8244-55c6b3feb4ee"
      },
      "outputs": [
        {
          "output_type": "execute_result",
          "data": {
            "text/plain": [
              "{'loss_function': 'Logloss',\n",
              " 'random_seed': 171022,\n",
              " 'verbose': 200,\n",
              " 'custom_loss': 'AUC:hints=skip_train~false',\n",
              " 'eval_metric': 'AUC:hints=skip_train~false',\n",
              " 'cat_features': ['type',\n",
              "  'paperless_billing',\n",
              "  'payment_method',\n",
              "  'gender',\n",
              "  'partner',\n",
              "  'dependents',\n",
              "  'multiple_lines',\n",
              "  'internet_service',\n",
              "  'online_security',\n",
              "  'online_backup',\n",
              "  'device_protection',\n",
              "  'tech_support',\n",
              "  'streaming_movies'],\n",
              " 'depth': 4,\n",
              " 'learning_rate': 0.4}"
            ]
          },
          "metadata": {},
          "execution_count": 94
        }
      ],
      "source": [
        "model.get_params()"
      ]
    },
    {
      "cell_type": "code",
      "execution_count": 95,
      "metadata": {
        "colab": {
          "base_uri": "https://localhost:8080/"
        },
        "id": "yqAbH6jWtD8v",
        "outputId": "3264d4fc-1414-48cd-c7cd-5883d52150ca",
        "scrolled": true
      },
      "outputs": [
        {
          "output_type": "execute_result",
          "data": {
            "text/plain": [
              "0.9034533555038023"
            ]
          },
          "metadata": {},
          "execution_count": 95
        }
      ],
      "source": [
        "max(grid_search_result['cv_results']['test-AUC-mean'])"
      ]
    },
    {
      "cell_type": "markdown",
      "metadata": {
        "id": "1O0DrFa6tBIj"
      },
      "source": [
        "### Вывод\n",
        "Сat Boost показал результат `AUC-ROC` в `0.90` , в то время как случайный лес `0.85`. Выбираем Cat Boost и проверим качество модели на тестовой выборке."
      ]
    },
    {
      "cell_type": "markdown",
      "metadata": {
        "id": "PVN7k5motR81"
      },
      "source": [
        "## Проверка модели на тестовой выборке"
      ]
    },
    {
      "cell_type": "code",
      "execution_count": 96,
      "metadata": {
        "id": "95Y4tM2EwfQv"
      },
      "outputs": [],
      "source": [
        "params = {\n",
        "'loss_function' : 'Logloss',\n",
        "'custom_loss' : 'AUC:hints=skip_train~false',\n",
        "'eval_metric' : 'AUC:hints=skip_train~false',\n",
        "'verbose' : 200,\n",
        "'random_seed' : 171022,\n",
        "'learning_rate': 0.12, \n",
        "'depth': 4,\n",
        "'iterations': 1000,\n",
        "'cat_features' : cat_features\n",
        "}"
      ]
    },
    {
      "cell_type": "code",
      "execution_count": 97,
      "metadata": {
        "id": "GGJn8tZJwqz8"
      },
      "outputs": [],
      "source": [
        "model = CatBoostClassifier(**params)"
      ]
    },
    {
      "cell_type": "code",
      "execution_count": 98,
      "metadata": {
        "colab": {
          "base_uri": "https://localhost:8080/"
        },
        "id": "CqniPKXPwszq",
        "outputId": "132ca771-fbff-4132-fe18-b2ebf5666f02",
        "scrolled": true
      },
      "outputs": [
        {
          "output_type": "stream",
          "name": "stdout",
          "text": [
            "0:\tlearn: 0.7983081\ttotal: 5.16ms\tremaining: 5.15s\n",
            "10:\tlearn: 0.8520559\ttotal: 57.1ms\tremaining: 5.13s\n",
            "20:\tlearn: 0.8647475\ttotal: 107ms\tremaining: 4.97s\n",
            "30:\tlearn: 0.8738882\ttotal: 156ms\tremaining: 4.88s\n",
            "40:\tlearn: 0.8777273\ttotal: 208ms\tremaining: 4.87s\n",
            "50:\tlearn: 0.8807184\ttotal: 257ms\tremaining: 4.78s\n",
            "60:\tlearn: 0.8854717\ttotal: 304ms\tremaining: 4.68s\n",
            "70:\tlearn: 0.8874383\ttotal: 354ms\tremaining: 4.63s\n",
            "80:\tlearn: 0.8908011\ttotal: 402ms\tremaining: 4.56s\n",
            "90:\tlearn: 0.8939913\ttotal: 454ms\tremaining: 4.54s\n",
            "100:\tlearn: 0.8971144\ttotal: 505ms\tremaining: 4.49s\n",
            "110:\tlearn: 0.9015594\ttotal: 558ms\tremaining: 4.47s\n",
            "120:\tlearn: 0.9061947\ttotal: 608ms\tremaining: 4.42s\n",
            "130:\tlearn: 0.9089844\ttotal: 669ms\tremaining: 4.44s\n",
            "140:\tlearn: 0.9121019\ttotal: 719ms\tremaining: 4.38s\n",
            "150:\tlearn: 0.9146031\ttotal: 770ms\tremaining: 4.33s\n",
            "160:\tlearn: 0.9181387\ttotal: 822ms\tremaining: 4.28s\n",
            "170:\tlearn: 0.9196972\ttotal: 875ms\tremaining: 4.24s\n",
            "180:\tlearn: 0.9221920\ttotal: 926ms\tremaining: 4.19s\n",
            "190:\tlearn: 0.9238392\ttotal: 978ms\tremaining: 4.14s\n",
            "200:\tlearn: 0.9258453\ttotal: 1.03s\tremaining: 4.08s\n",
            "210:\tlearn: 0.9286389\ttotal: 1.08s\tremaining: 4.05s\n",
            "220:\tlearn: 0.9301066\ttotal: 1.13s\tremaining: 4s\n",
            "230:\tlearn: 0.9317282\ttotal: 1.18s\tremaining: 3.94s\n",
            "240:\tlearn: 0.9334190\ttotal: 1.23s\tremaining: 3.88s\n",
            "250:\tlearn: 0.9361134\ttotal: 1.29s\tremaining: 3.86s\n",
            "260:\tlearn: 0.9378423\ttotal: 1.34s\tremaining: 3.81s\n",
            "270:\tlearn: 0.9401647\ttotal: 1.4s\tremaining: 3.76s\n",
            "280:\tlearn: 0.9419378\ttotal: 1.45s\tremaining: 3.71s\n",
            "290:\tlearn: 0.9435367\ttotal: 1.5s\tremaining: 3.66s\n",
            "300:\tlearn: 0.9451543\ttotal: 1.55s\tremaining: 3.61s\n",
            "310:\tlearn: 0.9468077\ttotal: 1.61s\tremaining: 3.57s\n",
            "320:\tlearn: 0.9482331\ttotal: 1.67s\tremaining: 3.53s\n",
            "330:\tlearn: 0.9497214\ttotal: 1.74s\tremaining: 3.51s\n",
            "340:\tlearn: 0.9504484\ttotal: 1.79s\tremaining: 3.45s\n",
            "350:\tlearn: 0.9517336\ttotal: 1.84s\tremaining: 3.4s\n",
            "360:\tlearn: 0.9527950\ttotal: 1.89s\tremaining: 3.34s\n",
            "370:\tlearn: 0.9535361\ttotal: 1.94s\tremaining: 3.29s\n",
            "380:\tlearn: 0.9541847\ttotal: 1.99s\tremaining: 3.24s\n",
            "390:\tlearn: 0.9548428\ttotal: 2.05s\tremaining: 3.19s\n",
            "400:\tlearn: 0.9556721\ttotal: 2.1s\tremaining: 3.14s\n",
            "410:\tlearn: 0.9567986\ttotal: 2.19s\tremaining: 3.14s\n",
            "420:\tlearn: 0.9577265\ttotal: 2.25s\tremaining: 3.09s\n",
            "430:\tlearn: 0.9586730\ttotal: 2.3s\tremaining: 3.03s\n",
            "440:\tlearn: 0.9592905\ttotal: 2.35s\tremaining: 2.98s\n",
            "450:\tlearn: 0.9599581\ttotal: 2.42s\tremaining: 2.94s\n",
            "460:\tlearn: 0.9609336\ttotal: 2.47s\tremaining: 2.88s\n",
            "470:\tlearn: 0.9617674\ttotal: 2.53s\tremaining: 2.84s\n",
            "480:\tlearn: 0.9625379\ttotal: 2.59s\tremaining: 2.79s\n",
            "490:\tlearn: 0.9634489\ttotal: 2.65s\tremaining: 2.75s\n",
            "500:\tlearn: 0.9638126\ttotal: 2.71s\tremaining: 2.7s\n",
            "510:\tlearn: 0.9644676\ttotal: 2.77s\tremaining: 2.65s\n",
            "520:\tlearn: 0.9653296\ttotal: 2.83s\tremaining: 2.6s\n",
            "530:\tlearn: 0.9663408\ttotal: 2.88s\tremaining: 2.54s\n",
            "540:\tlearn: 0.9671404\ttotal: 2.93s\tremaining: 2.49s\n",
            "550:\tlearn: 0.9677237\ttotal: 2.99s\tremaining: 2.44s\n",
            "560:\tlearn: 0.9682698\ttotal: 3.04s\tremaining: 2.38s\n",
            "570:\tlearn: 0.9687126\ttotal: 3.1s\tremaining: 2.33s\n",
            "580:\tlearn: 0.9692987\ttotal: 3.15s\tremaining: 2.27s\n",
            "590:\tlearn: 0.9697660\ttotal: 3.21s\tremaining: 2.22s\n",
            "600:\tlearn: 0.9701597\ttotal: 3.26s\tremaining: 2.17s\n",
            "610:\tlearn: 0.9706114\ttotal: 3.32s\tremaining: 2.12s\n",
            "620:\tlearn: 0.9715934\ttotal: 3.38s\tremaining: 2.06s\n",
            "630:\tlearn: 0.9722191\ttotal: 3.43s\tremaining: 2s\n",
            "640:\tlearn: 0.9726658\ttotal: 3.49s\tremaining: 1.95s\n",
            "650:\tlearn: 0.9731537\ttotal: 3.55s\tremaining: 1.9s\n",
            "660:\tlearn: 0.9736996\ttotal: 3.6s\tremaining: 1.85s\n",
            "670:\tlearn: 0.9744604\ttotal: 3.65s\tremaining: 1.79s\n",
            "680:\tlearn: 0.9752353\ttotal: 3.71s\tremaining: 1.74s\n",
            "690:\tlearn: 0.9755603\ttotal: 3.77s\tremaining: 1.69s\n",
            "700:\tlearn: 0.9762124\ttotal: 3.82s\tremaining: 1.63s\n",
            "710:\tlearn: 0.9767687\ttotal: 3.88s\tremaining: 1.58s\n",
            "720:\tlearn: 0.9772662\ttotal: 3.93s\tremaining: 1.52s\n",
            "730:\tlearn: 0.9777015\ttotal: 3.99s\tremaining: 1.47s\n",
            "740:\tlearn: 0.9782512\ttotal: 4.04s\tremaining: 1.41s\n",
            "750:\tlearn: 0.9786992\ttotal: 4.1s\tremaining: 1.36s\n",
            "760:\tlearn: 0.9791314\ttotal: 4.16s\tremaining: 1.3s\n",
            "770:\tlearn: 0.9794850\ttotal: 4.21s\tremaining: 1.25s\n",
            "780:\tlearn: 0.9798706\ttotal: 4.26s\tremaining: 1.2s\n",
            "790:\tlearn: 0.9801597\ttotal: 4.32s\tremaining: 1.14s\n",
            "800:\tlearn: 0.9804739\ttotal: 4.37s\tremaining: 1.08s\n",
            "810:\tlearn: 0.9807464\ttotal: 4.42s\tremaining: 1.03s\n",
            "820:\tlearn: 0.9810602\ttotal: 4.49s\tremaining: 979ms\n",
            "830:\tlearn: 0.9812901\ttotal: 4.54s\tremaining: 923ms\n",
            "840:\tlearn: 0.9814838\ttotal: 4.59s\tremaining: 869ms\n",
            "850:\tlearn: 0.9817493\ttotal: 4.65s\tremaining: 814ms\n",
            "860:\tlearn: 0.9821929\ttotal: 4.71s\tremaining: 761ms\n",
            "870:\tlearn: 0.9825873\ttotal: 4.76s\tremaining: 706ms\n",
            "880:\tlearn: 0.9829532\ttotal: 4.82s\tremaining: 651ms\n",
            "890:\tlearn: 0.9831884\ttotal: 4.88s\tremaining: 597ms\n",
            "900:\tlearn: 0.9834629\ttotal: 4.93s\tremaining: 542ms\n",
            "910:\tlearn: 0.9837174\ttotal: 4.99s\tremaining: 487ms\n",
            "920:\tlearn: 0.9840016\ttotal: 5.04s\tremaining: 432ms\n",
            "930:\tlearn: 0.9842412\ttotal: 5.1s\tremaining: 378ms\n",
            "940:\tlearn: 0.9844466\ttotal: 5.16s\tremaining: 323ms\n",
            "950:\tlearn: 0.9846659\ttotal: 5.21s\tremaining: 269ms\n",
            "960:\tlearn: 0.9849245\ttotal: 5.26s\tremaining: 214ms\n",
            "970:\tlearn: 0.9850748\ttotal: 5.32s\tremaining: 159ms\n",
            "980:\tlearn: 0.9853675\ttotal: 5.38s\tremaining: 104ms\n",
            "990:\tlearn: 0.9855980\ttotal: 5.43s\tremaining: 49.3ms\n",
            "999:\tlearn: 0.9857718\ttotal: 5.48s\tremaining: 0us\n"
          ]
        },
        {
          "output_type": "execute_result",
          "data": {
            "text/plain": [
              "<catboost.core.CatBoostClassifier at 0x7feea46e9a90>"
            ]
          },
          "metadata": {},
          "execution_count": 98
        }
      ],
      "source": [
        "model.fit(X_train, y_train, verbose=10)"
      ]
    },
    {
      "cell_type": "code",
      "execution_count": 99,
      "metadata": {
        "colab": {
          "base_uri": "https://localhost:8080/",
          "height": 339
        },
        "id": "X-KH-1O72q1E",
        "outputId": "645bf60c-26c9-462a-b7cb-dbe9e5ed56e8"
      },
      "outputs": [
        {
          "output_type": "display_data",
          "data": {
            "text/plain": [
              "<Figure size 432x288 with 1 Axes>"
            ],
            "image/png": "[encoded data removed]"
          },
          "metadata": {}
        },
        {
          "output_type": "stream",
          "name": "stdout",
          "text": [
            "\n",
            "Значение метрики ROC-AUC на тестовой выборке: 0.92402\n",
            "Значение метрики Accuracy на тестовой выборке: 0.88018\n"
          ]
        }
      ],
      "source": [
        "y_pred_proba = model.predict_proba(X_test)[::,1]\n",
        "fpr, tpr, _ = metrics.roc_curve(y_test,  y_pred_proba)\n",
        "final_roc_auc = metrics.roc_auc_score(y_test, y_pred_proba)\n",
        "\n",
        "plt.plot(fpr,tpr,label=\"AUC=\"+str(final_roc_auc))\n",
        "plt.ylabel('True Positive Rate')\n",
        "plt.xlabel('False Positive Rate')\n",
        "plt.legend(loc=4)\n",
        "plt.show()\n",
        "print('')\n",
        "print('Значение метрики ROC-AUC на тестовой выборке:', round(final_roc_auc, 5))\n",
        "final_accuracy = metrics.accuracy_score(y_test, model.predict(X_test))\n",
        "print('Значение метрики Accuracy на тестовой выборке:', round(final_accuracy, 5))"
      ]
    },
    {
      "cell_type": "markdown",
      "metadata": {
        "id": "VDf7pRt4-7PF"
      },
      "source": [
        "## Анализ значимости признаков"
      ]
    },
    {
      "cell_type": "code",
      "execution_count": 100,
      "metadata": {
        "colab": {
          "base_uri": "https://localhost:8080/",
          "height": 582
        },
        "id": "Nb0PYOooxKeH",
        "outputId": "4eb56e4c-021b-44b6-8ecf-05f23c56711a"
      },
      "outputs": [
        {
          "output_type": "execute_result",
          "data": {
            "text/plain": [
              "              feature  importance\n",
              "5             loyalty   56.416009\n",
              "3     monthly_charges   11.573712\n",
              "4       total_charges   10.079284\n",
              "0                type    6.513554\n",
              "11   internet_service    3.227057\n",
              "2      payment_method    2.697286\n",
              "10     multiple_lines    2.208928\n",
              "1   paperless_billing    1.120432\n",
              "6              gender    1.087121\n",
              "15       tech_support    1.012856\n",
              "16   streaming_movies    0.743465\n",
              "12    online_security    0.727486\n",
              "13      online_backup    0.646662\n",
              "7      senior_citizen    0.624575\n",
              "8             partner    0.563452\n",
              "9          dependents    0.546318\n",
              "14  device_protection    0.211800"
            ],
            "text/html": [
              "\n",
              "  <div id=\"df-8d843cb8-fda3-4f37-be8b-2f73b93313ec\">\n",
              "    <div class=\"colab-df-container\">\n",
              "      <div>\n",
              "<style scoped>\n",
              "    .dataframe tbody tr th:only-of-type {\n",
              "        vertical-align: middle;\n",
              "    }\n",
              "\n",
              "    .dataframe tbody tr th {\n",
              "        vertical-align: top;\n",
              "    }\n",
              "\n",
              "    .dataframe thead th {\n",
              "        text-align: right;\n",
              "    }\n",
              "</style>\n",
              "<table border=\"1\" class=\"dataframe\">\n",
              "  <thead>\n",
              "    <tr style=\"text-align: right;\">\n",
              "      <th></th>\n",
              "      <th>feature</th>\n",
              "      <th>importance</th>\n",
              "    </tr>\n",
              "  </thead>\n",
              "  <tbody>\n",
              "    <tr>\n",
              "      <th>5</th>\n",
              "      <td>loyalty</td>\n",
              "      <td>56.416009</td>\n",
              "    </tr>\n",
              "    <tr>\n",
              "      <th>3</th>\n",
              "      <td>monthly_charges</td>\n",
              "      <td>11.573712</td>\n",
              "    </tr>\n",
              "    <tr>\n",
              "      <th>4</th>\n",
              "      <td>total_charges</td>\n",
              "      <td>10.079284</td>\n",
              "    </tr>\n",
              "    <tr>\n",
              "      <th>0</th>\n",
              "      <td>type</td>\n",
              "      <td>6.513554</td>\n",
              "    </tr>\n",
              "    <tr>\n",
              "      <th>11</th>\n",
              "      <td>internet_service</td>\n",
              "      <td>3.227057</td>\n",
              "    </tr>\n",
              "    <tr>\n",
              "      <th>2</th>\n",
              "      <td>payment_method</td>\n",
              "      <td>2.697286</td>\n",
              "    </tr>\n",
              "    <tr>\n",
              "      <th>10</th>\n",
              "      <td>multiple_lines</td>\n",
              "      <td>2.208928</td>\n",
              "    </tr>\n",
              "    <tr>\n",
              "      <th>1</th>\n",
              "      <td>paperless_billing</td>\n",
              "      <td>1.120432</td>\n",
              "    </tr>\n",
              "    <tr>\n",
              "      <th>6</th>\n",
              "      <td>gender</td>\n",
              "      <td>1.087121</td>\n",
              "    </tr>\n",
              "    <tr>\n",
              "      <th>15</th>\n",
              "      <td>tech_support</td>\n",
              "      <td>1.012856</td>\n",
              "    </tr>\n",
              "    <tr>\n",
              "      <th>16</th>\n",
              "      <td>streaming_movies</td>\n",
              "      <td>0.743465</td>\n",
              "    </tr>\n",
              "    <tr>\n",
              "      <th>12</th>\n",
              "      <td>online_security</td>\n",
              "      <td>0.727486</td>\n",
              "    </tr>\n",
              "    <tr>\n",
              "      <th>13</th>\n",
              "      <td>online_backup</td>\n",
              "      <td>0.646662</td>\n",
              "    </tr>\n",
              "    <tr>\n",
              "      <th>7</th>\n",
              "      <td>senior_citizen</td>\n",
              "      <td>0.624575</td>\n",
              "    </tr>\n",
              "    <tr>\n",
              "      <th>8</th>\n",
              "      <td>partner</td>\n",
              "      <td>0.563452</td>\n",
              "    </tr>\n",
              "    <tr>\n",
              "      <th>9</th>\n",
              "      <td>dependents</td>\n",
              "      <td>0.546318</td>\n",
              "    </tr>\n",
              "    <tr>\n",
              "      <th>14</th>\n",
              "      <td>device_protection</td>\n",
              "      <td>0.211800</td>\n",
              "    </tr>\n",
              "  </tbody>\n",
              "</table>\n",
              "</div>\n",
              "      <button class=\"colab-df-convert\" onclick=\"convertToInteractive('df-8d843cb8-fda3-4f37-be8b-2f73b93313ec')\"\n",
              "              title=\"Convert this dataframe to an interactive table.\"\n",
              "              style=\"display:none;\">\n",
              "        \n",
              "  <svg xmlns=\"http://www.w3.org/2000/svg\" height=\"24px\"viewBox=\"0 0 24 24\"\n",
              "       width=\"24px\">\n",
              "    <path d=\"M0 0h24v24H0V0z\" fill=\"none\"/>\n",
              "    <path d=\"M18.56 5.44l.94 2.06.94-2.06 2.06-.94-2.06-.94-.94-2.06-.94 2.06-2.06.94zm-11 1L8.5 8.5l.94-2.06 2.06-.94-2.06-.94L8.5 2.5l-.94 2.06-2.06.94zm10 10l.94 2.06.94-2.06 2.06-.94-2.06-.94-.94-2.06-.94 2.06-2.06.94z\"/><path d=\"M17.41 7.96l-1.37-1.37c-.4-.4-.92-.59-1.43-.59-.52 0-1.04.2-1.43.59L10.3 9.45l-7.72 7.72c-.78.78-.78 2.05 0 2.83L4 21.41c.39.39.9.59 1.41.59.51 0 1.02-.2 1.41-.59l7.78-7.78 2.81-2.81c.8-.78.8-2.07 0-2.86zM5.41 20L4 18.59l7.72-7.72 1.47 1.35L5.41 20z\"/>\n",
              "  </svg>\n",
              "      </button>\n",
              "      \n",
              "  <style>\n",
              "    .colab-df-container {\n",
              "      display:flex;\n",
              "      flex-wrap:wrap;\n",
              "      gap: 12px;\n",
              "    }\n",
              "\n",
              "    .colab-df-convert {\n",
              "      background-color: #E8F0FE;\n",
              "      border: none;\n",
              "      border-radius: 50%;\n",
              "      cursor: pointer;\n",
              "      display: none;\n",
              "      fill: #1967D2;\n",
              "      height: 32px;\n",
              "      padding: 0 0 0 0;\n",
              "      width: 32px;\n",
              "    }\n",
              "\n",
              "    .colab-df-convert:hover {\n",
              "      background-color: #E2EBFA;\n",
              "      box-shadow: 0px 1px 2px rgba(60, 64, 67, 0.3), 0px 1px 3px 1px rgba(60, 64, 67, 0.15);\n",
              "      fill: #174EA6;\n",
              "    }\n",
              "\n",
              "    [theme=dark] .colab-df-convert {\n",
              "      background-color: #3B4455;\n",
              "      fill: #D2E3FC;\n",
              "    }\n",
              "\n",
              "    [theme=dark] .colab-df-convert:hover {\n",
              "      background-color: #434B5C;\n",
              "      box-shadow: 0px 1px 3px 1px rgba(0, 0, 0, 0.15);\n",
              "      filter: drop-shadow(0px 1px 2px rgba(0, 0, 0, 0.3));\n",
              "      fill: #FFFFFF;\n",
              "    }\n",
              "  </style>\n",
              "\n",
              "      <script>\n",
              "        const buttonEl =\n",
              "          document.querySelector('#df-8d843cb8-fda3-4f37-be8b-2f73b93313ec button.colab-df-convert');\n",
              "        buttonEl.style.display =\n",
              "          google.colab.kernel.accessAllowed ? 'block' : 'none';\n",
              "\n",
              "        async function convertToInteractive(key) {\n",
              "          const element = document.querySelector('#df-8d843cb8-fda3-4f37-be8b-2f73b93313ec');\n",
              "          const dataTable =\n",
              "            await google.colab.kernel.invokeFunction('convertToInteractive',\n",
              "                                                     [key], {});\n",
              "          if (!dataTable) return;\n",
              "\n",
              "          const docLinkHtml = 'Like what you see? Visit the ' +\n",
              "            '<a target=\"_blank\" href=https://colab.research.google.com/notebooks/data_table.ipynb>data table notebook</a>'\n",
              "            + ' to learn more about interactive tables.';\n",
              "          element.innerHTML = '';\n",
              "          dataTable['output_type'] = 'display_data';\n",
              "          await google.colab.output.renderOutput(dataTable, element);\n",
              "          const docLink = document.createElement('div');\n",
              "          docLink.innerHTML = docLinkHtml;\n",
              "          element.appendChild(docLink);\n",
              "        }\n",
              "      </script>\n",
              "    </div>\n",
              "  </div>\n",
              "  "
            ]
          },
          "metadata": {},
          "execution_count": 100
        }
      ],
      "source": [
        "df_importance = {'feature': X_test.columns, 'importance': model.get_feature_importance()}\n",
        "df_importance = pd.DataFrame(data=df_importance).sort_values(by='importance', ascending= False)\n",
        "df_importance"
      ]
    },
    {
      "cell_type": "code",
      "source": [
        "a = sns.barplot(x=\"importance\", y=\"feature\", data=df_importance)\n",
        "a.set(xlabel='Importance', ylabel='Feature', \n",
        "      title='Importance level for each feature')\n",
        "plt.show()"
      ],
      "metadata": {
        "colab": {
          "base_uri": "https://localhost:8080/",
          "height": 301
        },
        "id": "z1g_TZuf4WFz",
        "outputId": "1af8a2a4-7f88-419c-8abd-64e1c484c73e"
      },
      "execution_count": 101,
      "outputs": [
        {
          "output_type": "display_data",
          "data": {
            "text/plain": [
              "<Figure size 432x288 with 1 Axes>"
            ],
            "image/png": "[encoded data removed]"
          },
          "metadata": {}
        }
      ]
    },
    {
      "cell_type": "markdown",
      "metadata": {
        "id": "WcncOqmu_KMq"
      },
      "source": [
        "## Промежуточный вывод\n",
        "\n",
        "Для предсказания оттока клиентов было решено взять две модели Random Forest и Catboost, сравнить их результаты на кросс-валидации, определить лучшую модель и её оптимальный гиперпараметры и проверить её качество уже на тестовой выборке.\n",
        "\n",
        "Сравнение осуществляли по метрике ROC-AUC. Модель случайного леса показала результат `0.85`, в то время как Catboost - `0.9`. Для финальной проверки мы взяли модель Catboost с гиперпараметрами: ` 'depth': 4, 'learning_rate': 0.1 `, которые подобрали в процессе кросс-валидации, остальные гиперпараметры оставили значениями по умолчанию.\n",
        "\n",
        "В результате на тестовой выборке модель показала значение метрики ROC-AUC: `0.92252`, вспомогательная метрика Accuracy на тестовой выборке: `0.88132`.\n",
        "\n",
        "После получения результатов мы вывели диаграмму и значения значимости признаков. Заметно, что наибольшее значение для модели имеет признак `loyalty` со значением `55.8`, в этом признаке мы хранили информацию о том, сколько времени клиент пробыл с нами до своего ухода, либо, в случае если он не ушёл, на момент выгрузки данных. Значительно менее значимые признаки, но всё же выбивающиеся из остальных значений - `type: 6.595549`, `monthly_charges:\t11.725656`, `total_charges:\t10.220329`. Это признаки с типом контракта и числовые: с месячной платой и с суммой потраченной абонентом за всё время пользования услугами."
      ]
    },
    {
      "cell_type": "markdown",
      "metadata": {
        "id": "Y5gLj9-BEJSS"
      },
      "source": [
        "## Отчёт о проделанной работе\n",
        "### План\n",
        "Работа велась в соответствии с планом. Некоторые изменения, например, добавление новых признаков или изменение типа данных делались по ходу работы так как того требовали дальнейшие действия.\n",
        "### Затруднения\n",
        "Значительных затруднений в процессе работы не возникло.\n",
        "### Ключевые шаги\n",
        "Основными шагами, позволившими достичь высокого значения целевой метрики являлись: предобработка и объединение таблиц, заполнение пропусков в итоговом датафрейме и выбор модели Catboost.\n",
        "### Модель\n",
        "Модель выбиралась из двух претендентов: случайный лес и градиентный бустинг. Был проведён подбор гиперпараметров моделей и проверка кросс-валидацией в результате которой лучше всего себя показала модель градиентного бустинга Catboost с гиперпараметрами: `depth: 4, learning_rate: 0.1`. Также модели были переданы все категориальные признаки списком `cat_features`, остальные гиперпараметры оставили по умолчанию.\n",
        "### Признаки\n",
        "При обучении модели использовались все параметры практически без изменений. Все таблицы были слиты в одну, был получен целевой признак `left` по принципу \"если ест дата окончания договора - значит клиент ушёл, нет - нет\", вычеслено и выделено в отдельный признак `loyalty` количество дней, которые абонент провёл в качестве клиента компании до своего ухода, либо на момент выгрузки данных из базы данных, столбцы с датами были удалены за ненадобностью и во избежание созданию помех для обучения. После исследования корреляций был удалён принак `streaming_tv`, он был сильно связан с признаком `streaming_movies`, он мог бы испортить итоговое качество модели.\n",
        "\n",
        "Список признаков, которые использовались для обучения: `type, paperless_billing, payment_method, monthly_charges,\n",
        "       total_charges, loyalty, gender, senior_citizen, partner,\n",
        "       dependents, multiple_lines, internet_service, online_security,\n",
        "       online_backup, device_protection, tech_support,\n",
        "       streaming_movies`\n",
        "### Предобработка\n",
        "Предобработка данных заключалась в основном в обработке пропусков, возникших вследствие слияния таблиц. Пропуски после слияния данных об абонентах и контрактах с данными об интеренет-услугах мы запонили значением `no_internet` для одного категориального признака и `No`, для остальных бинарных. Логично, ведь если человек не пользуется интернетом, что обязательно нужно отметить, он не пользуется и ни одной из представленных услуг. Таким же образом после этого мы поступили с таблицей о телефонных услугах. Ещё один момент, связвнный с предобработкой данных возник в самом начале: из-за того, что в значении `TotalCharges` имелись значения с пробелом колонка приобрела строковый тип данных, это было обнаружено на этапе исследования таблицы `contract` из-за ошибки при применении к таблице метода `.describe`. При взгляде на данные о договорах с этими абонентами стало ясно, что это люди, которые только-только заключили договор и ещё не успели заплаить за свой первый месяц (данные не успели обновиться), поэтому данные с пробелов были заменены на занчения из колонки `MonthlyCharges`, потому что подразумевается, что абоненты платят деньги за месяц вперёд."
      ]
    }
  ],
  "metadata": {
    "ExecuteTimeLog": [
      {
        "duration": 350,
        "start_time": "2022-10-21T05:39:37.352Z"
      },
      {
        "duration": 380,
        "start_time": "2022-10-21T05:39:39.158Z"
      },
      {
        "duration": 397,
        "start_time": "2022-10-21T05:39:41.423Z"
      },
      {
        "duration": 4,
        "start_time": "2022-10-21T05:39:51.239Z"
      },
      {
        "duration": 62,
        "start_time": "2022-10-21T05:39:52.287Z"
      },
      {
        "duration": 143,
        "start_time": "2022-10-21T05:40:08.472Z"
      },
      {
        "duration": 19,
        "start_time": "2022-10-21T05:40:09.767Z"
      },
      {
        "duration": 45,
        "start_time": "2022-10-27T03:20:46.112Z"
      },
      {
        "duration": 6,
        "start_time": "2022-10-27T03:20:46.562Z"
      },
      {
        "duration": 4528,
        "start_time": "2022-10-27T03:20:56.842Z"
      },
      {
        "duration": 1901,
        "start_time": "2022-10-27T03:21:01.372Z"
      },
      {
        "duration": 111,
        "start_time": "2022-10-27T03:21:07.127Z"
      },
      {
        "duration": 13,
        "start_time": "2022-10-27T03:21:07.303Z"
      },
      {
        "duration": 13,
        "start_time": "2022-10-27T03:21:07.448Z"
      },
      {
        "duration": 2,
        "start_time": "2022-10-27T03:21:07.557Z"
      },
      {
        "duration": 12,
        "start_time": "2022-10-27T03:21:07.740Z"
      },
      {
        "duration": 5,
        "start_time": "2022-10-27T03:21:08.442Z"
      },
      {
        "duration": 5,
        "start_time": "2022-10-27T03:21:08.610Z"
      },
      {
        "duration": 9,
        "start_time": "2022-10-27T03:21:08.771Z"
      },
      {
        "duration": 8,
        "start_time": "2022-10-27T03:21:08.923Z"
      },
      {
        "duration": 271,
        "start_time": "2022-10-27T03:21:09.067Z"
      },
      {
        "duration": 301,
        "start_time": "2022-10-27T03:21:09.341Z"
      },
      {
        "duration": 4,
        "start_time": "2022-10-27T03:21:09.644Z"
      },
      {
        "duration": 9,
        "start_time": "2022-10-27T03:21:09.650Z"
      },
      {
        "duration": 5,
        "start_time": "2022-10-27T03:21:09.678Z"
      },
      {
        "duration": 5,
        "start_time": "2022-10-27T03:21:09.810Z"
      },
      {
        "duration": 4,
        "start_time": "2022-10-27T03:21:09.980Z"
      },
      {
        "duration": 5,
        "start_time": "2022-10-27T03:21:10.140Z"
      },
      {
        "duration": 8,
        "start_time": "2022-10-27T03:21:10.291Z"
      },
      {
        "duration": 7,
        "start_time": "2022-10-27T03:21:10.451Z"
      },
      {
        "duration": 72,
        "start_time": "2022-10-27T03:21:11.027Z"
      },
      {
        "duration": 11,
        "start_time": "2022-10-27T03:21:11.204Z"
      },
      {
        "duration": 11,
        "start_time": "2022-10-27T03:21:11.331Z"
      },
      {
        "duration": 28,
        "start_time": "2022-10-27T03:21:11.476Z"
      },
      {
        "duration": 4,
        "start_time": "2022-10-27T03:21:11.635Z"
      },
      {
        "duration": 118,
        "start_time": "2022-10-27T03:21:12.123Z"
      },
      {
        "duration": 14,
        "start_time": "2022-10-27T03:21:12.281Z"
      },
      {
        "duration": 9,
        "start_time": "2022-10-27T03:21:12.451Z"
      },
      {
        "duration": 6,
        "start_time": "2022-10-27T03:21:12.563Z"
      },
      {
        "duration": 4,
        "start_time": "2022-10-27T03:21:12.723Z"
      },
      {
        "duration": 96,
        "start_time": "2022-10-27T03:21:13.219Z"
      },
      {
        "duration": 11,
        "start_time": "2022-10-27T03:21:13.395Z"
      },
      {
        "duration": 7,
        "start_time": "2022-10-27T03:21:13.517Z"
      },
      {
        "duration": 3,
        "start_time": "2022-10-27T03:21:15.804Z"
      },
      {
        "duration": 3,
        "start_time": "2022-10-27T03:21:15.973Z"
      },
      {
        "duration": 6,
        "start_time": "2022-10-27T03:21:16.307Z"
      },
      {
        "duration": 6,
        "start_time": "2022-10-27T03:21:16.795Z"
      },
      {
        "duration": 10,
        "start_time": "2022-10-27T03:21:17.146Z"
      },
      {
        "duration": 5,
        "start_time": "2022-10-27T03:21:17.475Z"
      },
      {
        "duration": 3,
        "start_time": "2022-10-27T03:21:17.651Z"
      },
      {
        "duration": 41,
        "start_time": "2022-10-27T03:21:17.811Z"
      },
      {
        "duration": 6,
        "start_time": "2022-10-27T03:21:17.979Z"
      },
      {
        "duration": 12,
        "start_time": "2022-10-27T03:21:18.274Z"
      },
      {
        "duration": 11,
        "start_time": "2022-10-27T03:21:18.492Z"
      },
      {
        "duration": 5,
        "start_time": "2022-10-27T03:21:18.827Z"
      },
      {
        "duration": 3,
        "start_time": "2022-10-27T03:21:18.996Z"
      },
      {
        "duration": 12,
        "start_time": "2022-10-27T03:21:19.155Z"
      },
      {
        "duration": 10,
        "start_time": "2022-10-27T03:21:19.320Z"
      },
      {
        "duration": 10,
        "start_time": "2022-10-27T03:21:19.501Z"
      },
      {
        "duration": 4,
        "start_time": "2022-10-27T03:21:19.842Z"
      },
      {
        "duration": 3,
        "start_time": "2022-10-27T03:21:20.291Z"
      },
      {
        "duration": 9,
        "start_time": "2022-10-27T03:21:20.474Z"
      },
      {
        "duration": 3,
        "start_time": "2022-10-27T03:21:20.674Z"
      },
      {
        "duration": 11,
        "start_time": "2022-10-27T03:21:20.850Z"
      },
      {
        "duration": 12,
        "start_time": "2022-10-27T03:21:20.988Z"
      },
      {
        "duration": 5,
        "start_time": "2022-10-27T03:21:21.306Z"
      },
      {
        "duration": 3,
        "start_time": "2022-10-27T03:21:21.474Z"
      },
      {
        "duration": 9,
        "start_time": "2022-10-27T03:21:21.635Z"
      },
      {
        "duration": 7,
        "start_time": "2022-10-27T03:21:21.859Z"
      },
      {
        "duration": 11,
        "start_time": "2022-10-27T03:21:22.378Z"
      },
      {
        "duration": 13,
        "start_time": "2022-10-27T03:21:22.555Z"
      },
      {
        "duration": 10,
        "start_time": "2022-10-27T03:21:22.731Z"
      },
      {
        "duration": 13,
        "start_time": "2022-10-27T03:21:22.922Z"
      },
      {
        "duration": 3,
        "start_time": "2022-10-27T03:21:23.075Z"
      },
      {
        "duration": 11,
        "start_time": "2022-10-27T03:21:23.258Z"
      },
      {
        "duration": 14,
        "start_time": "2022-10-27T03:21:23.450Z"
      },
      {
        "duration": 18,
        "start_time": "2022-10-27T03:21:23.627Z"
      },
      {
        "duration": 4,
        "start_time": "2022-10-27T03:21:23.803Z"
      },
      {
        "duration": 4,
        "start_time": "2022-10-27T03:21:23.986Z"
      },
      {
        "duration": 17,
        "start_time": "2022-10-27T03:21:24.187Z"
      },
      {
        "duration": 18,
        "start_time": "2022-10-27T03:21:24.371Z"
      },
      {
        "duration": 21,
        "start_time": "2022-10-27T03:21:24.571Z"
      },
      {
        "duration": 8,
        "start_time": "2022-10-27T03:21:24.954Z"
      },
      {
        "duration": 8,
        "start_time": "2022-10-27T03:21:25.107Z"
      },
      {
        "duration": 8,
        "start_time": "2022-10-27T03:21:25.723Z"
      },
      {
        "duration": 13,
        "start_time": "2022-10-27T03:21:26.667Z"
      },
      {
        "duration": 14,
        "start_time": "2022-10-27T03:21:27.730Z"
      },
      {
        "duration": 3,
        "start_time": "2022-10-27T03:21:28.197Z"
      },
      {
        "duration": 3,
        "start_time": "2022-10-27T03:21:29.619Z"
      },
      {
        "duration": 11,
        "start_time": "2022-10-27T03:21:30.004Z"
      },
      {
        "duration": 3,
        "start_time": "2022-10-27T03:21:31.019Z"
      },
      {
        "duration": 27,
        "start_time": "2022-10-27T03:21:31.627Z"
      },
      {
        "duration": 4,
        "start_time": "2022-10-27T03:21:32.404Z"
      },
      {
        "duration": 13,
        "start_time": "2022-10-27T03:21:36.220Z"
      },
      {
        "duration": 5,
        "start_time": "2022-10-27T03:21:48.597Z"
      },
      {
        "duration": 15,
        "start_time": "2022-10-27T03:21:50.061Z"
      },
      {
        "duration": 15,
        "start_time": "2022-10-27T03:22:52.309Z"
      },
      {
        "duration": 3,
        "start_time": "2022-10-27T03:35:54.598Z"
      },
      {
        "duration": 10,
        "start_time": "2022-10-27T03:35:55.366Z"
      },
      {
        "duration": 3,
        "start_time": "2022-10-27T03:35:55.727Z"
      },
      {
        "duration": 16,
        "start_time": "2022-10-27T03:35:55.902Z"
      },
      {
        "duration": 4,
        "start_time": "2022-10-27T03:35:56.342Z"
      },
      {
        "duration": 6,
        "start_time": "2022-10-27T03:35:56.485Z"
      },
      {
        "duration": 16,
        "start_time": "2022-10-27T03:35:56.733Z"
      },
      {
        "duration": 4042,
        "start_time": "2022-10-27T03:35:57.695Z"
      },
      {
        "duration": 12174,
        "start_time": "2022-10-27T03:36:01.739Z"
      },
      {
        "duration": 4,
        "start_time": "2022-10-27T03:36:13.915Z"
      },
      {
        "duration": 8,
        "start_time": "2022-10-27T03:36:13.920Z"
      },
      {
        "duration": 7,
        "start_time": "2022-10-27T03:36:13.929Z"
      },
      {
        "duration": 3,
        "start_time": "2022-10-27T03:36:13.937Z"
      },
      {
        "duration": 36,
        "start_time": "2022-10-27T03:36:13.941Z"
      },
      {
        "duration": 10,
        "start_time": "2022-10-27T03:36:13.978Z"
      },
      {
        "duration": 16,
        "start_time": "2022-10-27T03:36:13.990Z"
      },
      {
        "duration": 30,
        "start_time": "2022-10-27T03:36:14.009Z"
      },
      {
        "duration": 7,
        "start_time": "2022-10-27T03:36:14.041Z"
      },
      {
        "duration": 40,
        "start_time": "2022-10-27T03:36:14.050Z"
      },
      {
        "duration": 24,
        "start_time": "2022-10-27T03:36:14.092Z"
      },
      {
        "duration": 7,
        "start_time": "2022-10-27T03:36:14.117Z"
      },
      {
        "duration": 17,
        "start_time": "2022-10-27T03:36:14.125Z"
      },
      {
        "duration": 10,
        "start_time": "2022-10-27T03:36:14.144Z"
      },
      {
        "duration": 91,
        "start_time": "2022-10-27T03:36:14.156Z"
      },
      {
        "duration": 13,
        "start_time": "2022-10-27T03:36:14.249Z"
      },
      {
        "duration": 13,
        "start_time": "2022-10-27T03:36:14.264Z"
      },
      {
        "duration": 31,
        "start_time": "2022-10-27T03:36:14.279Z"
      },
      {
        "duration": 1273,
        "start_time": "2022-10-27T03:36:14.312Z"
      },
      {
        "duration": 4159,
        "start_time": "2022-10-27T03:36:15.587Z"
      },
      {
        "duration": 4,
        "start_time": "2022-10-27T03:36:23.036Z"
      },
      {
        "duration": 3,
        "start_time": "2022-10-27T03:36:28.333Z"
      },
      {
        "duration": 2,
        "start_time": "2022-10-27T03:36:29.902Z"
      },
      {
        "duration": 3,
        "start_time": "2022-10-27T03:36:52.968Z"
      },
      {
        "duration": 26230,
        "start_time": "2022-10-27T03:36:53.503Z"
      },
      {
        "duration": 5,
        "start_time": "2022-10-27T03:37:24.375Z"
      },
      {
        "duration": 4,
        "start_time": "2022-10-27T03:37:26.688Z"
      },
      {
        "duration": 105,
        "start_time": "2022-10-27T03:45:49.999Z"
      },
      {
        "duration": 10,
        "start_time": "2022-10-27T03:45:53.496Z"
      },
      {
        "duration": 4,
        "start_time": "2022-10-27T03:46:03.496Z"
      },
      {
        "duration": 3,
        "start_time": "2022-10-27T03:46:29.946Z"
      },
      {
        "duration": 61,
        "start_time": "2022-10-27T03:46:39.520Z"
      },
      {
        "duration": 9,
        "start_time": "2022-10-27T03:47:31.187Z"
      },
      {
        "duration": 9,
        "start_time": "2022-10-27T03:47:51.835Z"
      },
      {
        "duration": 72,
        "start_time": "2022-10-27T03:47:54.890Z"
      },
      {
        "duration": 51,
        "start_time": "2022-10-27T03:48:07.437Z"
      },
      {
        "duration": 3,
        "start_time": "2022-10-27T03:48:21.619Z"
      },
      {
        "duration": 57,
        "start_time": "2022-10-27T03:48:28.219Z"
      },
      {
        "duration": 8,
        "start_time": "2022-10-27T03:48:47.485Z"
      },
      {
        "duration": 9,
        "start_time": "2022-10-27T03:48:58.419Z"
      },
      {
        "duration": 58,
        "start_time": "2022-10-27T03:49:03.308Z"
      },
      {
        "duration": 8,
        "start_time": "2022-10-27T03:49:13.644Z"
      },
      {
        "duration": 8,
        "start_time": "2022-10-27T03:49:15.755Z"
      },
      {
        "duration": 9,
        "start_time": "2022-10-27T03:49:19.163Z"
      },
      {
        "duration": 48,
        "start_time": "2022-10-27T03:49:24.091Z"
      },
      {
        "duration": 9,
        "start_time": "2022-10-27T03:50:32.919Z"
      },
      {
        "duration": 58,
        "start_time": "2022-10-27T03:50:43.365Z"
      },
      {
        "duration": 9,
        "start_time": "2022-10-27T03:50:45.966Z"
      },
      {
        "duration": 9,
        "start_time": "2022-10-27T03:51:18.617Z"
      },
      {
        "duration": 4,
        "start_time": "2022-10-27T03:51:23.047Z"
      },
      {
        "duration": 57,
        "start_time": "2022-10-27T03:51:32.152Z"
      },
      {
        "duration": 10,
        "start_time": "2022-10-27T03:51:59.353Z"
      },
      {
        "duration": 9,
        "start_time": "2022-10-27T03:52:05.125Z"
      },
      {
        "duration": 9,
        "start_time": "2022-10-27T03:52:10.508Z"
      },
      {
        "duration": 9,
        "start_time": "2022-10-27T03:52:23.925Z"
      },
      {
        "duration": 10,
        "start_time": "2022-10-27T03:52:27.803Z"
      },
      {
        "duration": 5,
        "start_time": "2022-10-27T03:52:43.009Z"
      },
      {
        "duration": 10,
        "start_time": "2022-10-27T03:52:53.928Z"
      },
      {
        "duration": 4,
        "start_time": "2022-10-27T03:52:58.826Z"
      },
      {
        "duration": 9,
        "start_time": "2022-10-27T03:53:13.282Z"
      }
    ],
    "colab": {
      "provenance": []
    },
    "kernelspec": {
      "display_name": "Python 3 (ipykernel)",
      "language": "python",
      "name": "python3"
    },
    "language_info": {
      "codemirror_mode": {
        "name": "ipython",
        "version": 3
      },
      "file_extension": ".py",
      "mimetype": "text/x-python",
      "name": "python",
      "nbconvert_exporter": "python",
      "pygments_lexer": "ipython3",
      "version": "3.9.5"
    },
    "toc": {
      "base_numbering": 1,
      "nav_menu": {},
      "number_sections": true,
      "sideBar": true,
      "skip_h1_title": true,
      "title_cell": "Table of Contents",
      "title_sidebar": "Contents",
      "toc_cell": false,
      "toc_position": {},
      "toc_section_display": true,
      "toc_window_display": false
    }
  },
  "nbformat": 4,
  "nbformat_minor": 0
}