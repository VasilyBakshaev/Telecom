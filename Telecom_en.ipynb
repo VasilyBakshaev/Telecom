{
  "cells": [
    {
      "cell_type": "markdown",
      "metadata": {
        "id": "lSYFDR5IDHrC"
      },
      "source": [
        "# **\"Telecom\" Project**\n",
        "\n"
      ]
    },
    {
      "cell_type": "markdown",
      "metadata": {
        "id": "9D96ZMloDRTC"
      },
      "source": [
        "## Task description\n",
        "\n",
        "The task is to learn how to predict customer churn from a mobile operator company. If it turns out that the user plans to leave, they will be offered promo codes and special conditions. The operator has collected personal data about some customers, information about their tariffs and contracts.\n",
        "\n",
        "The operator provides two main types of services:\n",
        "\n",
        "1. Landline telephone communication. It is possible to connect a telephone set to several lines simultaneously.\n",
        "2. Internet. Connection can be of two types: via a telephone line (DSL) or fiber optic cable.\n",
        "\n",
        "The following services are also available:\n",
        "\n",
        "- Internet security: antivirus (DeviceProtection) and blocking of unsafe sites (OnlineSecurity);\n",
        "- Dedicated technical support line (TechSupport);\n",
        "- Cloud file storage for data backup (OnlineBackup);\n",
        "- Streaming TV (StreamingTV) and movie catalog (StreamingMovies).\n",
        "\n",
        "Customers can pay for services monthly or enter into a contract for 1-2 years. Various payment methods are available, as well as the ability to receive an electronic receipt.\n",
        "\n",
        "The data consists of files obtained from different sources:\n",
        "\n",
        "- `contract.csv` - information about the contract;\n",
        "- `personal.csv` - customer personal data;\n",
        "- `internet.csv` - information about internet services;\n",
        "- `phone.csv` - information about telephone services.\n",
        "\n",
        "In all files, the `customerID` column contains the customer code.\n",
        "\n",
        "Information about contracts is valid as of February 1, 2020.\n",
        "\n",
        "Task:\n",
        "\n",
        "Train a model that would predict whether the customer will leave or not. The AUC-ROC metric is at least 0.75."
      ]
    },
    {
      "cell_type": "markdown",
      "metadata": {
        "id": "gzYy-KYYEM-M"
      },
      "source": [
        "## Work Plan\n",
        "\n",
        "- Problem overview, goal setting\n",
        "- Library import block\n",
        "- Loading and initial data review\n",
        "- Table merging\n",
        "- Missing data processing\n",
        "- Feature creation/deletion\n",
        "- Feature correlation analysis\n",
        "- Splitting the dataset into test and train sets\n",
        "- Feature encoding (One-hot)\n",
        "- Model training\n",
        "- Model comparison\n",
        "- Final testing on the test set\n",
        "- Feature importance analysis"
      ]
    },
    {
      "cell_type": "markdown",
      "metadata": {
        "id": "LikJE-Z6DQgd"
      },
      "source": [
        "## Import libraries"
      ]
    },
    {
      "cell_type": "code",
      "execution_count": 1,
      "metadata": {
        "id": "7SaUoJIxRzCT",
        "colab": {
          "base_uri": "https://localhost:8080/"
        },
        "outputId": "b92f541c-a246-4ca4-e675-a98d5fb973b2"
      },
      "outputs": [
        {
          "output_type": "stream",
          "name": "stdout",
          "text": [
            "\u001b[2K     \u001b[90m━━━━━━━━━━━━━━━━━━━━━━━━━━━━━━━━━━━━━━\u001b[0m \u001b[32m679.5/679.5 KB\u001b[0m \u001b[31m14.9 MB/s\u001b[0m eta \u001b[36m0:00:00\u001b[0m\n",
            "\u001b[2K     \u001b[90m━━━━━━━━━━━━━━━━━━━━━━━━━━━━━━━━━━━━━━━━\u001b[0m \u001b[32m76.6/76.6 MB\u001b[0m \u001b[31m8.7 MB/s\u001b[0m eta \u001b[36m0:00:00\u001b[0m\n",
            "\u001b[?25h"
          ]
        }
      ],
      "source": [
        "! pip install -q phik\n",
        "! pip install -q catboost"
      ]
    },
    {
      "cell_type": "code",
      "execution_count": 2,
      "metadata": {
        "id": "yME6tUP1tcz4",
        "colab": {
          "base_uri": "https://localhost:8080/"
        },
        "outputId": "67d159e9-9d36-483c-9005-34a317524bb7"
      },
      "outputs": [
        {
          "output_type": "stream",
          "name": "stdout",
          "text": [
            "Mounted at /content/drive\n"
          ]
        }
      ],
      "source": [
        "import pandas as pd\n",
        "from datetime import datetime\n",
        "import numpy as np\n",
        "\n",
        "import matplotlib.pyplot as plt\n",
        "import seaborn as sns\n",
        "sns.set_theme(style=\"darkgrid\")\n",
        "\n",
        "from sklearn.model_selection import train_test_split\n",
        "from sklearn.preprocessing import OneHotEncoder\n",
        "from sklearn.model_selection import GridSearchCV\n",
        "from sklearn.ensemble import RandomForestClassifier\n",
        "from sklearn import metrics\n",
        "from sklearn.metrics import SCORERS\n",
        "from sklearn.metrics import roc_auc_score\n",
        "\n",
        "from catboost import CatBoostClassifier\n",
        "from catboost import cv, Pool\n",
        "\n",
        "import phik\n",
        "from phik.report import plot_correlation_matrix\n",
        "from phik import report\n",
        "\n",
        "from google.colab import drive\n",
        "drive.mount('/content/drive')"
      ]
    },
    {
      "cell_type": "markdown",
      "metadata": {
        "id": "KTq6Q0Q6tOhX"
      },
      "source": [
        "## Loading and initial data exploration"
      ]
    },
    {
      "cell_type": "code",
      "execution_count": 3,
      "metadata": {
        "colab": {
          "base_uri": "https://localhost:8080/"
        },
        "id": "8NUkbflqsbJM",
        "outputId": "483c7486-1fce-4cc1-9d05-69c7bb90f230"
      },
      "outputs": [
        {
          "output_type": "stream",
          "name": "stdout",
          "text": [
            "Archive:  /content/drive/MyDrive/Practicum_projects/Telecom/final_provider.zip\n",
            "   creating: final_provider/\n",
            "  inflating: final_provider/personal.csv  \n",
            "  inflating: __MACOSX/final_provider/._personal.csv  \n",
            "  inflating: final_provider/contract.csv  \n",
            "  inflating: final_provider/phone.csv  \n",
            "  inflating: __MACOSX/final_provider/._phone.csv  \n",
            "  inflating: final_provider/internet.csv  \n"
          ]
        }
      ],
      "source": [
        "try:\n",
        "  ! unzip -o /content/drive/MyDrive/Practicum_projects/Telecom/final_provider.zip\n",
        "except:\n",
        "  print('Error')"
      ]
    },
    {
      "cell_type": "markdown",
      "metadata": {
        "id": "t3ha4ys_DmUr"
      },
      "source": [
        "### \"Contract\" table"
      ]
    },
    {
      "cell_type": "code",
      "execution_count": 4,
      "metadata": {
        "id": "aBmRwb3GtBpR"
      },
      "outputs": [],
      "source": [
        "try:\n",
        "  df_contract = pd.read_csv('/content/final_provider/contract.csv')\n",
        "except:\n",
        "  print('Error')"
      ]
    },
    {
      "cell_type": "code",
      "execution_count": 5,
      "metadata": {
        "colab": {
          "base_uri": "https://localhost:8080/"
        },
        "id": "K16zoXfudD0L",
        "outputId": "f116fd26-65bf-423f-bdfc-d055f6f0dbde"
      },
      "outputs": [
        {
          "output_type": "stream",
          "name": "stdout",
          "text": [
            "<class 'pandas.core.frame.DataFrame'>\n",
            "RangeIndex: 7043 entries, 0 to 7042\n",
            "Data columns (total 8 columns):\n",
            " #   Column            Non-Null Count  Dtype  \n",
            "---  ------            --------------  -----  \n",
            " 0   customerID        7043 non-null   object \n",
            " 1   BeginDate         7043 non-null   object \n",
            " 2   EndDate           7043 non-null   object \n",
            " 3   Type              7043 non-null   object \n",
            " 4   PaperlessBilling  7043 non-null   object \n",
            " 5   PaymentMethod     7043 non-null   object \n",
            " 6   MonthlyCharges    7043 non-null   float64\n",
            " 7   TotalCharges      7043 non-null   object \n",
            "dtypes: float64(1), object(7)\n",
            "memory usage: 440.3+ KB\n"
          ]
        }
      ],
      "source": [
        "df_contract.info()"
      ]
    },
    {
      "cell_type": "code",
      "execution_count": 6,
      "metadata": {
        "colab": {
          "base_uri": "https://localhost:8080/",
          "height": 277
        },
        "id": "66OrTnAVEU91",
        "outputId": "607371b2-ae89-4684-92b0-8b3a50dec855"
      },
      "outputs": [
        {
          "output_type": "execute_result",
          "data": {
            "text/plain": [
              "      customerID   BeginDate EndDate            Type PaperlessBilling  \\\n",
              "2051  5346-BZCHP  2014-05-01      No        Two year               No   \n",
              "623   5148-HKFIR  2018-06-01      No        Two year               No   \n",
              "6557  8709-KRDVL  2017-05-01      No  Month-to-month              Yes   \n",
              "\n",
              "         PaymentMethod  MonthlyCharges TotalCharges  \n",
              "2051      Mailed check            19.4       1346.2  \n",
              "623       Mailed check            19.7       406.95  \n",
              "6557  Electronic check           100.0       3320.6  "
            ],
            "text/html": [
              "\n",
              "  <div id=\"df-bae4cc62-9297-432f-93f5-f8574fc2e398\">\n",
              "    <div class=\"colab-df-container\">\n",
              "      <div>\n",
              "<style scoped>\n",
              "    .dataframe tbody tr th:only-of-type {\n",
              "        vertical-align: middle;\n",
              "    }\n",
              "\n",
              "    .dataframe tbody tr th {\n",
              "        vertical-align: top;\n",
              "    }\n",
              "\n",
              "    .dataframe thead th {\n",
              "        text-align: right;\n",
              "    }\n",
              "</style>\n",
              "<table border=\"1\" class=\"dataframe\">\n",
              "  <thead>\n",
              "    <tr style=\"text-align: right;\">\n",
              "      <th></th>\n",
              "      <th>customerID</th>\n",
              "      <th>BeginDate</th>\n",
              "      <th>EndDate</th>\n",
              "      <th>Type</th>\n",
              "      <th>PaperlessBilling</th>\n",
              "      <th>PaymentMethod</th>\n",
              "      <th>MonthlyCharges</th>\n",
              "      <th>TotalCharges</th>\n",
              "    </tr>\n",
              "  </thead>\n",
              "  <tbody>\n",
              "    <tr>\n",
              "      <th>2051</th>\n",
              "      <td>5346-BZCHP</td>\n",
              "      <td>2014-05-01</td>\n",
              "      <td>No</td>\n",
              "      <td>Two year</td>\n",
              "      <td>No</td>\n",
              "      <td>Mailed check</td>\n",
              "      <td>19.4</td>\n",
              "      <td>1346.2</td>\n",
              "    </tr>\n",
              "    <tr>\n",
              "      <th>623</th>\n",
              "      <td>5148-HKFIR</td>\n",
              "      <td>2018-06-01</td>\n",
              "      <td>No</td>\n",
              "      <td>Two year</td>\n",
              "      <td>No</td>\n",
              "      <td>Mailed check</td>\n",
              "      <td>19.7</td>\n",
              "      <td>406.95</td>\n",
              "    </tr>\n",
              "    <tr>\n",
              "      <th>6557</th>\n",
              "      <td>8709-KRDVL</td>\n",
              "      <td>2017-05-01</td>\n",
              "      <td>No</td>\n",
              "      <td>Month-to-month</td>\n",
              "      <td>Yes</td>\n",
              "      <td>Electronic check</td>\n",
              "      <td>100.0</td>\n",
              "      <td>3320.6</td>\n",
              "    </tr>\n",
              "  </tbody>\n",
              "</table>\n",
              "</div>\n",
              "      <button class=\"colab-df-convert\" onclick=\"convertToInteractive('df-bae4cc62-9297-432f-93f5-f8574fc2e398')\"\n",
              "              title=\"Convert this dataframe to an interactive table.\"\n",
              "              style=\"display:none;\">\n",
              "        \n",
              "  <svg xmlns=\"http://www.w3.org/2000/svg\" height=\"24px\"viewBox=\"0 0 24 24\"\n",
              "       width=\"24px\">\n",
              "    <path d=\"M0 0h24v24H0V0z\" fill=\"none\"/>\n",
              "    <path d=\"M18.56 5.44l.94 2.06.94-2.06 2.06-.94-2.06-.94-.94-2.06-.94 2.06-2.06.94zm-11 1L8.5 8.5l.94-2.06 2.06-.94-2.06-.94L8.5 2.5l-.94 2.06-2.06.94zm10 10l.94 2.06.94-2.06 2.06-.94-2.06-.94-.94-2.06-.94 2.06-2.06.94z\"/><path d=\"M17.41 7.96l-1.37-1.37c-.4-.4-.92-.59-1.43-.59-.52 0-1.04.2-1.43.59L10.3 9.45l-7.72 7.72c-.78.78-.78 2.05 0 2.83L4 21.41c.39.39.9.59 1.41.59.51 0 1.02-.2 1.41-.59l7.78-7.78 2.81-2.81c.8-.78.8-2.07 0-2.86zM5.41 20L4 18.59l7.72-7.72 1.47 1.35L5.41 20z\"/>\n",
              "  </svg>\n",
              "      </button>\n",
              "      \n",
              "  <style>\n",
              "    .colab-df-container {\n",
              "      display:flex;\n",
              "      flex-wrap:wrap;\n",
              "      gap: 12px;\n",
              "    }\n",
              "\n",
              "    .colab-df-convert {\n",
              "      background-color: #E8F0FE;\n",
              "      border: none;\n",
              "      border-radius: 50%;\n",
              "      cursor: pointer;\n",
              "      display: none;\n",
              "      fill: #1967D2;\n",
              "      height: 32px;\n",
              "      padding: 0 0 0 0;\n",
              "      width: 32px;\n",
              "    }\n",
              "\n",
              "    .colab-df-convert:hover {\n",
              "      background-color: #E2EBFA;\n",
              "      box-shadow: 0px 1px 2px rgba(60, 64, 67, 0.3), 0px 1px 3px 1px rgba(60, 64, 67, 0.15);\n",
              "      fill: #174EA6;\n",
              "    }\n",
              "\n",
              "    [theme=dark] .colab-df-convert {\n",
              "      background-color: #3B4455;\n",
              "      fill: #D2E3FC;\n",
              "    }\n",
              "\n",
              "    [theme=dark] .colab-df-convert:hover {\n",
              "      background-color: #434B5C;\n",
              "      box-shadow: 0px 1px 3px 1px rgba(0, 0, 0, 0.15);\n",
              "      filter: drop-shadow(0px 1px 2px rgba(0, 0, 0, 0.3));\n",
              "      fill: #FFFFFF;\n",
              "    }\n",
              "  </style>\n",
              "\n",
              "      <script>\n",
              "        const buttonEl =\n",
              "          document.querySelector('#df-bae4cc62-9297-432f-93f5-f8574fc2e398 button.colab-df-convert');\n",
              "        buttonEl.style.display =\n",
              "          google.colab.kernel.accessAllowed ? 'block' : 'none';\n",
              "\n",
              "        async function convertToInteractive(key) {\n",
              "          const element = document.querySelector('#df-bae4cc62-9297-432f-93f5-f8574fc2e398');\n",
              "          const dataTable =\n",
              "            await google.colab.kernel.invokeFunction('convertToInteractive',\n",
              "                                                     [key], {});\n",
              "          if (!dataTable) return;\n",
              "\n",
              "          const docLinkHtml = 'Like what you see? Visit the ' +\n",
              "            '<a target=\"_blank\" href=https://colab.research.google.com/notebooks/data_table.ipynb>data table notebook</a>'\n",
              "            + ' to learn more about interactive tables.';\n",
              "          element.innerHTML = '';\n",
              "          dataTable['output_type'] = 'display_data';\n",
              "          await google.colab.output.renderOutput(dataTable, element);\n",
              "          const docLink = document.createElement('div');\n",
              "          docLink.innerHTML = docLinkHtml;\n",
              "          element.appendChild(docLink);\n",
              "        }\n",
              "      </script>\n",
              "    </div>\n",
              "  </div>\n",
              "  "
            ]
          },
          "metadata": {},
          "execution_count": 6
        }
      ],
      "source": [
        "df_contract.sample(3)"
      ]
    },
    {
      "cell_type": "code",
      "execution_count": 7,
      "metadata": {
        "id": "ByDWijjCG5_q",
        "colab": {
          "base_uri": "https://localhost:8080/"
        },
        "outputId": "c0ac344f-61cd-4790-be11-b050083d6535"
      },
      "outputs": [
        {
          "output_type": "execute_result",
          "data": {
            "text/plain": [
              "array(['29.85', '1889.5', '108.15', ..., '346.45', '306.6', '6844.5'],\n",
              "      dtype=object)"
            ]
          },
          "metadata": {},
          "execution_count": 7
        }
      ],
      "source": [
        "df_contract['TotalCharges'].unique()"
      ]
    },
    {
      "cell_type": "code",
      "execution_count": 8,
      "metadata": {
        "colab": {
          "base_uri": "https://localhost:8080/",
          "height": 649
        },
        "id": "8WP40pgYH4La",
        "outputId": "61075335-72b6-4830-9227-81c66db2904f"
      },
      "outputs": [
        {
          "output_type": "execute_result",
          "data": {
            "text/plain": [
              "      customerID   BeginDate EndDate      Type PaperlessBilling  \\\n",
              "488   4472-LVYGI  2020-02-01      No  Two year              Yes   \n",
              "753   3115-CZMZD  2020-02-01      No  Two year               No   \n",
              "936   5709-LVOEQ  2020-02-01      No  Two year               No   \n",
              "1082  4367-NUYAO  2020-02-01      No  Two year               No   \n",
              "1340  1371-DWPAZ  2020-02-01      No  Two year               No   \n",
              "3331  7644-OMVMY  2020-02-01      No  Two year               No   \n",
              "3826  3213-VVOLG  2020-02-01      No  Two year               No   \n",
              "4380  2520-SGTTA  2020-02-01      No  Two year               No   \n",
              "5218  2923-ARZLG  2020-02-01      No  One year              Yes   \n",
              "6670  4075-WKNIU  2020-02-01      No  Two year               No   \n",
              "6754  2775-SEFEE  2020-02-01      No  Two year              Yes   \n",
              "\n",
              "                  PaymentMethod  MonthlyCharges TotalCharges  \n",
              "488   Bank transfer (automatic)           52.55               \n",
              "753                Mailed check           20.25               \n",
              "936                Mailed check           80.85               \n",
              "1082               Mailed check           25.75               \n",
              "1340    Credit card (automatic)           56.05               \n",
              "3331               Mailed check           19.85               \n",
              "3826               Mailed check           25.35               \n",
              "4380               Mailed check           20.00               \n",
              "5218               Mailed check           19.70               \n",
              "6670               Mailed check           73.35               \n",
              "6754  Bank transfer (automatic)           61.90               "
            ],
            "text/html": [
              "\n",
              "  <div id=\"df-ea9ae806-6412-4d87-8d30-fce667e68a9a\">\n",
              "    <div class=\"colab-df-container\">\n",
              "      <div>\n",
              "<style scoped>\n",
              "    .dataframe tbody tr th:only-of-type {\n",
              "        vertical-align: middle;\n",
              "    }\n",
              "\n",
              "    .dataframe tbody tr th {\n",
              "        vertical-align: top;\n",
              "    }\n",
              "\n",
              "    .dataframe thead th {\n",
              "        text-align: right;\n",
              "    }\n",
              "</style>\n",
              "<table border=\"1\" class=\"dataframe\">\n",
              "  <thead>\n",
              "    <tr style=\"text-align: right;\">\n",
              "      <th></th>\n",
              "      <th>customerID</th>\n",
              "      <th>BeginDate</th>\n",
              "      <th>EndDate</th>\n",
              "      <th>Type</th>\n",
              "      <th>PaperlessBilling</th>\n",
              "      <th>PaymentMethod</th>\n",
              "      <th>MonthlyCharges</th>\n",
              "      <th>TotalCharges</th>\n",
              "    </tr>\n",
              "  </thead>\n",
              "  <tbody>\n",
              "    <tr>\n",
              "      <th>488</th>\n",
              "      <td>4472-LVYGI</td>\n",
              "      <td>2020-02-01</td>\n",
              "      <td>No</td>\n",
              "      <td>Two year</td>\n",
              "      <td>Yes</td>\n",
              "      <td>Bank transfer (automatic)</td>\n",
              "      <td>52.55</td>\n",
              "      <td></td>\n",
              "    </tr>\n",
              "    <tr>\n",
              "      <th>753</th>\n",
              "      <td>3115-CZMZD</td>\n",
              "      <td>2020-02-01</td>\n",
              "      <td>No</td>\n",
              "      <td>Two year</td>\n",
              "      <td>No</td>\n",
              "      <td>Mailed check</td>\n",
              "      <td>20.25</td>\n",
              "      <td></td>\n",
              "    </tr>\n",
              "    <tr>\n",
              "      <th>936</th>\n",
              "      <td>5709-LVOEQ</td>\n",
              "      <td>2020-02-01</td>\n",
              "      <td>No</td>\n",
              "      <td>Two year</td>\n",
              "      <td>No</td>\n",
              "      <td>Mailed check</td>\n",
              "      <td>80.85</td>\n",
              "      <td></td>\n",
              "    </tr>\n",
              "    <tr>\n",
              "      <th>1082</th>\n",
              "      <td>4367-NUYAO</td>\n",
              "      <td>2020-02-01</td>\n",
              "      <td>No</td>\n",
              "      <td>Two year</td>\n",
              "      <td>No</td>\n",
              "      <td>Mailed check</td>\n",
              "      <td>25.75</td>\n",
              "      <td></td>\n",
              "    </tr>\n",
              "    <tr>\n",
              "      <th>1340</th>\n",
              "      <td>1371-DWPAZ</td>\n",
              "      <td>2020-02-01</td>\n",
              "      <td>No</td>\n",
              "      <td>Two year</td>\n",
              "      <td>No</td>\n",
              "      <td>Credit card (automatic)</td>\n",
              "      <td>56.05</td>\n",
              "      <td></td>\n",
              "    </tr>\n",
              "    <tr>\n",
              "      <th>3331</th>\n",
              "      <td>7644-OMVMY</td>\n",
              "      <td>2020-02-01</td>\n",
              "      <td>No</td>\n",
              "      <td>Two year</td>\n",
              "      <td>No</td>\n",
              "      <td>Mailed check</td>\n",
              "      <td>19.85</td>\n",
              "      <td></td>\n",
              "    </tr>\n",
              "    <tr>\n",
              "      <th>3826</th>\n",
              "      <td>3213-VVOLG</td>\n",
              "      <td>2020-02-01</td>\n",
              "      <td>No</td>\n",
              "      <td>Two year</td>\n",
              "      <td>No</td>\n",
              "      <td>Mailed check</td>\n",
              "      <td>25.35</td>\n",
              "      <td></td>\n",
              "    </tr>\n",
              "    <tr>\n",
              "      <th>4380</th>\n",
              "      <td>2520-SGTTA</td>\n",
              "      <td>2020-02-01</td>\n",
              "      <td>No</td>\n",
              "      <td>Two year</td>\n",
              "      <td>No</td>\n",
              "      <td>Mailed check</td>\n",
              "      <td>20.00</td>\n",
              "      <td></td>\n",
              "    </tr>\n",
              "    <tr>\n",
              "      <th>5218</th>\n",
              "      <td>2923-ARZLG</td>\n",
              "      <td>2020-02-01</td>\n",
              "      <td>No</td>\n",
              "      <td>One year</td>\n",
              "      <td>Yes</td>\n",
              "      <td>Mailed check</td>\n",
              "      <td>19.70</td>\n",
              "      <td></td>\n",
              "    </tr>\n",
              "    <tr>\n",
              "      <th>6670</th>\n",
              "      <td>4075-WKNIU</td>\n",
              "      <td>2020-02-01</td>\n",
              "      <td>No</td>\n",
              "      <td>Two year</td>\n",
              "      <td>No</td>\n",
              "      <td>Mailed check</td>\n",
              "      <td>73.35</td>\n",
              "      <td></td>\n",
              "    </tr>\n",
              "    <tr>\n",
              "      <th>6754</th>\n",
              "      <td>2775-SEFEE</td>\n",
              "      <td>2020-02-01</td>\n",
              "      <td>No</td>\n",
              "      <td>Two year</td>\n",
              "      <td>Yes</td>\n",
              "      <td>Bank transfer (automatic)</td>\n",
              "      <td>61.90</td>\n",
              "      <td></td>\n",
              "    </tr>\n",
              "  </tbody>\n",
              "</table>\n",
              "</div>\n",
              "      <button class=\"colab-df-convert\" onclick=\"convertToInteractive('df-ea9ae806-6412-4d87-8d30-fce667e68a9a')\"\n",
              "              title=\"Convert this dataframe to an interactive table.\"\n",
              "              style=\"display:none;\">\n",
              "        \n",
              "  <svg xmlns=\"http://www.w3.org/2000/svg\" height=\"24px\"viewBox=\"0 0 24 24\"\n",
              "       width=\"24px\">\n",
              "    <path d=\"M0 0h24v24H0V0z\" fill=\"none\"/>\n",
              "    <path d=\"M18.56 5.44l.94 2.06.94-2.06 2.06-.94-2.06-.94-.94-2.06-.94 2.06-2.06.94zm-11 1L8.5 8.5l.94-2.06 2.06-.94-2.06-.94L8.5 2.5l-.94 2.06-2.06.94zm10 10l.94 2.06.94-2.06 2.06-.94-2.06-.94-.94-2.06-.94 2.06-2.06.94z\"/><path d=\"M17.41 7.96l-1.37-1.37c-.4-.4-.92-.59-1.43-.59-.52 0-1.04.2-1.43.59L10.3 9.45l-7.72 7.72c-.78.78-.78 2.05 0 2.83L4 21.41c.39.39.9.59 1.41.59.51 0 1.02-.2 1.41-.59l7.78-7.78 2.81-2.81c.8-.78.8-2.07 0-2.86zM5.41 20L4 18.59l7.72-7.72 1.47 1.35L5.41 20z\"/>\n",
              "  </svg>\n",
              "      </button>\n",
              "      \n",
              "  <style>\n",
              "    .colab-df-container {\n",
              "      display:flex;\n",
              "      flex-wrap:wrap;\n",
              "      gap: 12px;\n",
              "    }\n",
              "\n",
              "    .colab-df-convert {\n",
              "      background-color: #E8F0FE;\n",
              "      border: none;\n",
              "      border-radius: 50%;\n",
              "      cursor: pointer;\n",
              "      display: none;\n",
              "      fill: #1967D2;\n",
              "      height: 32px;\n",
              "      padding: 0 0 0 0;\n",
              "      width: 32px;\n",
              "    }\n",
              "\n",
              "    .colab-df-convert:hover {\n",
              "      background-color: #E2EBFA;\n",
              "      box-shadow: 0px 1px 2px rgba(60, 64, 67, 0.3), 0px 1px 3px 1px rgba(60, 64, 67, 0.15);\n",
              "      fill: #174EA6;\n",
              "    }\n",
              "\n",
              "    [theme=dark] .colab-df-convert {\n",
              "      background-color: #3B4455;\n",
              "      fill: #D2E3FC;\n",
              "    }\n",
              "\n",
              "    [theme=dark] .colab-df-convert:hover {\n",
              "      background-color: #434B5C;\n",
              "      box-shadow: 0px 1px 3px 1px rgba(0, 0, 0, 0.15);\n",
              "      filter: drop-shadow(0px 1px 2px rgba(0, 0, 0, 0.3));\n",
              "      fill: #FFFFFF;\n",
              "    }\n",
              "  </style>\n",
              "\n",
              "      <script>\n",
              "        const buttonEl =\n",
              "          document.querySelector('#df-ea9ae806-6412-4d87-8d30-fce667e68a9a button.colab-df-convert');\n",
              "        buttonEl.style.display =\n",
              "          google.colab.kernel.accessAllowed ? 'block' : 'none';\n",
              "\n",
              "        async function convertToInteractive(key) {\n",
              "          const element = document.querySelector('#df-ea9ae806-6412-4d87-8d30-fce667e68a9a');\n",
              "          const dataTable =\n",
              "            await google.colab.kernel.invokeFunction('convertToInteractive',\n",
              "                                                     [key], {});\n",
              "          if (!dataTable) return;\n",
              "\n",
              "          const docLinkHtml = 'Like what you see? Visit the ' +\n",
              "            '<a target=\"_blank\" href=https://colab.research.google.com/notebooks/data_table.ipynb>data table notebook</a>'\n",
              "            + ' to learn more about interactive tables.';\n",
              "          element.innerHTML = '';\n",
              "          dataTable['output_type'] = 'display_data';\n",
              "          await google.colab.output.renderOutput(dataTable, element);\n",
              "          const docLink = document.createElement('div');\n",
              "          docLink.innerHTML = docLinkHtml;\n",
              "          element.appendChild(docLink);\n",
              "        }\n",
              "      </script>\n",
              "    </div>\n",
              "  </div>\n",
              "  "
            ]
          },
          "metadata": {},
          "execution_count": 8
        }
      ],
      "source": [
        "df_contract[df_contract['TotalCharges'] == ' ']"
      ]
    },
    {
      "cell_type": "markdown",
      "metadata": {
        "id": "36MHNK82IH03"
      },
      "source": [
        "These users registered at the time of table extraction from the database and have not yet paid. Let's change the spaces in the `TotalCharges` column to the value from the `MonthlyCharges` column, assuming that the user pays for the services in advance. We will convert the data in the column to `float` type to be able to view the histogram."
      ]
    },
    {
      "cell_type": "code",
      "execution_count": 9,
      "metadata": {
        "id": "owL67C49IPAc"
      },
      "outputs": [],
      "source": [
        "df_contract.loc[df_contract['TotalCharges'] == ' ', 'TotalCharges'] = df_contract['MonthlyCharges']"
      ]
    },
    {
      "cell_type": "code",
      "execution_count": 10,
      "metadata": {
        "id": "caHM0cC4I8t7"
      },
      "outputs": [],
      "source": [
        "df_contract['TotalCharges'] = df_contract['TotalCharges'].astype('float')"
      ]
    },
    {
      "cell_type": "code",
      "execution_count": 11,
      "metadata": {
        "colab": {
          "base_uri": "https://localhost:8080/"
        },
        "id": "z2s84JhlEen8",
        "outputId": "49d757fb-3283-4804-93a9-edf99ae806e1"
      },
      "outputs": [
        {
          "output_type": "execute_result",
          "data": {
            "text/plain": [
              "count    7043.000000\n",
              "mean     2279.798992\n",
              "std      2266.730170\n",
              "min        18.800000\n",
              "25%       398.550000\n",
              "50%      1394.550000\n",
              "75%      3786.600000\n",
              "max      8684.800000\n",
              "Name: TotalCharges, dtype: float64"
            ]
          },
          "metadata": {},
          "execution_count": 11
        }
      ],
      "source": [
        "df_contract['TotalCharges'].describe()"
      ]
    },
    {
      "cell_type": "code",
      "execution_count": 12,
      "metadata": {
        "colab": {
          "base_uri": "https://localhost:8080/"
        },
        "id": "Qsq4AAM6AnfQ",
        "outputId": "1504a9e9-c307-4490-893f-ffe73f901cd9"
      },
      "outputs": [
        {
          "output_type": "execute_result",
          "data": {
            "text/plain": [
              "count    7043.000000\n",
              "mean       64.761692\n",
              "std        30.090047\n",
              "min        18.250000\n",
              "25%        35.500000\n",
              "50%        70.350000\n",
              "75%        89.850000\n",
              "max       118.750000\n",
              "Name: MonthlyCharges, dtype: float64"
            ]
          },
          "metadata": {},
          "execution_count": 12
        }
      ],
      "source": [
        "df_contract['MonthlyCharges'].describe()"
      ]
    },
    {
      "cell_type": "code",
      "source": [
        "a = sns.histplot(df_contract, x='MonthlyCharges', bins=100)\n",
        "a.set(xlabel='Monthly Charges', ylabel='Count', \n",
        "      title='Monthly Charges Histogram')\n",
        "plt.show()"
      ],
      "metadata": {
        "colab": {
          "base_uri": "https://localhost:8080/",
          "height": 301
        },
        "id": "IrNt2HC-rwVl",
        "outputId": "18f6b142-0433-46c9-9c39-ad9a8f49cf60"
      },
      "execution_count": 13,
      "outputs": [
        {
          "output_type": "display_data",
          "data": {
            "text/plain": [
              "<Figure size 432x288 with 1 Axes>"
            ],
            "image/png": "[encoded data removed]"
          },
          "metadata": {}
        }
      ]
    },
    {
      "cell_type": "code",
      "source": [
        "a = sns.histplot(df_contract, x='TotalCharges', bins=100)\n",
        "a.set(xlabel='Total Charges', ylabel='Count', \n",
        "      title='Total Charges Histogram')\n",
        "plt.show()"
      ],
      "metadata": {
        "colab": {
          "base_uri": "https://localhost:8080/",
          "height": 301
        },
        "id": "rFTYf-Ueu8fi",
        "outputId": "7a72c2a0-3c09-4f90-cdb0-c382827c0bc0"
      },
      "execution_count": 14,
      "outputs": [
        {
          "output_type": "display_data",
          "data": {
            "text/plain": [
              "<Figure size 432x288 with 1 Axes>"
            ],
            "image/png": "[encoded data removed]"
          },
          "metadata": {}
        }
      ]
    },
    {
      "cell_type": "code",
      "execution_count": 15,
      "metadata": {
        "colab": {
          "base_uri": "https://localhost:8080/"
        },
        "id": "HxG3JNtD9ZHL",
        "outputId": "23ee4555-ad0a-44f8-8fa3-339957923631"
      },
      "outputs": [
        {
          "output_type": "execute_result",
          "data": {
            "text/plain": [
              "7043"
            ]
          },
          "metadata": {},
          "execution_count": 15
        }
      ],
      "source": [
        "len(df_contract['customerID'].unique())"
      ]
    },
    {
      "cell_type": "code",
      "execution_count": 16,
      "metadata": {
        "colab": {
          "base_uri": "https://localhost:8080/"
        },
        "id": "f9ZsErBZ8u4q",
        "outputId": "650c6dbb-b266-4a85-a404-5b154f6dc6e4"
      },
      "outputs": [
        {
          "output_type": "execute_result",
          "data": {
            "text/plain": [
              "0.7346301292063041"
            ]
          },
          "metadata": {},
          "execution_count": 16
        }
      ],
      "source": [
        "df_contract.loc[df_contract['EndDate'] == 'No', 'EndDate'].count()/ df_contract['EndDate'].count()"
      ]
    },
    {
      "cell_type": "code",
      "execution_count": 17,
      "metadata": {
        "colab": {
          "base_uri": "https://localhost:8080/"
        },
        "id": "vlCrliKO91Ii",
        "outputId": "677e03dc-fb06-4427-a233-28e266c26fd3"
      },
      "outputs": [
        {
          "output_type": "execute_result",
          "data": {
            "text/plain": [
              "array(['Month-to-month', 'One year', 'Two year'], dtype=object)"
            ]
          },
          "metadata": {},
          "execution_count": 17
        }
      ],
      "source": [
        "df_contract['Type'].unique()"
      ]
    },
    {
      "cell_type": "code",
      "execution_count": 18,
      "metadata": {
        "colab": {
          "base_uri": "https://localhost:8080/"
        },
        "id": "-YN_v51S9W07",
        "outputId": "42fdbb5c-eae7-4528-a598-8d78630f81da"
      },
      "outputs": [
        {
          "output_type": "execute_result",
          "data": {
            "text/plain": [
              "array(['Yes', 'No'], dtype=object)"
            ]
          },
          "metadata": {},
          "execution_count": 18
        }
      ],
      "source": [
        "df_contract['PaperlessBilling'].unique()"
      ]
    },
    {
      "cell_type": "code",
      "execution_count": 19,
      "metadata": {
        "colab": {
          "base_uri": "https://localhost:8080/"
        },
        "id": "pjf--Kjk-0gy",
        "outputId": "3adaf3b0-6a31-4398-c31d-01c958f8502b"
      },
      "outputs": [
        {
          "output_type": "execute_result",
          "data": {
            "text/plain": [
              "array(['Electronic check', 'Mailed check', 'Bank transfer (automatic)',\n",
              "       'Credit card (automatic)'], dtype=object)"
            ]
          },
          "metadata": {},
          "execution_count": 19
        }
      ],
      "source": [
        "df_contract['PaymentMethod'].unique()"
      ]
    },
    {
      "cell_type": "code",
      "execution_count": 20,
      "metadata": {
        "colab": {
          "base_uri": "https://localhost:8080/",
          "height": 35
        },
        "id": "EwWAxHGFKUK6",
        "outputId": "5749238a-edac-4b1f-af6e-1df815d5f0cb"
      },
      "outputs": [
        {
          "output_type": "execute_result",
          "data": {
            "text/plain": [
              "'2013-10-01'"
            ],
            "application/vnd.google.colaboratory.intrinsic+json": {
              "type": "string"
            }
          },
          "metadata": {},
          "execution_count": 20
        }
      ],
      "source": [
        "df_contract['BeginDate'].min()"
      ]
    },
    {
      "cell_type": "code",
      "execution_count": 21,
      "metadata": {
        "colab": {
          "base_uri": "https://localhost:8080/",
          "height": 35
        },
        "id": "97Nd6uynKbKZ",
        "outputId": "26d03b55-040e-4211-c3d3-7829f0de8aad"
      },
      "outputs": [
        {
          "output_type": "execute_result",
          "data": {
            "text/plain": [
              "'2019-10-01 00:00:00'"
            ],
            "application/vnd.google.colaboratory.intrinsic+json": {
              "type": "string"
            }
          },
          "metadata": {},
          "execution_count": 21
        }
      ],
      "source": [
        "df_contract[df_contract['EndDate'] != 'No']['EndDate'].min()"
      ]
    },
    {
      "cell_type": "code",
      "execution_count": 22,
      "metadata": {
        "colab": {
          "base_uri": "https://localhost:8080/",
          "height": 35
        },
        "id": "LoLeIA7UKcX5",
        "outputId": "2a371e81-d126-477b-cac5-e3c1f930679d"
      },
      "outputs": [
        {
          "output_type": "execute_result",
          "data": {
            "text/plain": [
              "'2020-01-01 00:00:00'"
            ],
            "application/vnd.google.colaboratory.intrinsic+json": {
              "type": "string"
            }
          },
          "metadata": {},
          "execution_count": 22
        }
      ],
      "source": [
        "df_contract[df_contract['EndDate'] != 'No']['EndDate'].max()"
      ]
    },
    {
      "cell_type": "markdown",
      "metadata": {
        "id": "QdMqrY3S6VOJ"
      },
      "source": [
        "### Conclusion\n",
        "\n",
        "This is a table with information about concluded contracts. It contains 8 columns with 7043 rows each, without gaps (except for those we have already processed).\n",
        "\n",
        "- `customerID` - a unique user identifier, not repeated, occurs in all tables, useful for merging. Remove before training models.\n",
        "- `BeginDate` - contract conclusion date, available for each client.\n",
        "- `EndDate` - contract expiration date. For most (73.5%) users, the value is `No`. If a date is specified, the user has left. In accordance with our task, we will replace it with a binary column Left/Not Left.\n",
        "- `Type` - categorical feature containing information about contract types. There are three of them: monthly payment, yearly, biyearly.\n",
        "- `PaperlessBilling` - binary feature. Whether bills are sent in paper form or not.\n",
        "- `PaymentMethod` - categorical feature with information about the payment method. There are 4 methods in total.\n",
        "- `MonthlyCharges` - quantitative feature with information about the monthly expenses of the subscriber.\n",
        "- `TotalCharges` - quantitative feature with information about the total expenses of the subscriber over the entire contract period.\n",
        "\n",
        "Looking at the histogram of monthly expenses (`MonthlyCharges`), it can be seen that the distribution is quite uniform, except for a sharp peak around $19-20 (obviously, subscribers with a minimum package of services). Also, peaks located at regular intervals in price are clearly visible. This may indicate the popularity of certain service packages among subscribers. The mean does not differ much from the median.\n",
        "\n",
        "On the histogram of total expenses (`TotalCharges`), a geometric distribution is clearly visible, which is quite obvious: there are almost always fewer old clients than new ones, so there will be significantly more those who spent a little money over the entire period of their relationship with the company. The mean is much greater than the median.\n",
        "\n",
        "The data is provided from the end of 2013, data on departed customers is available for November-December 2019."
      ]
    },
    {
      "cell_type": "markdown",
      "metadata": {
        "id": "v5NGkAxODuAK"
      },
      "source": [
        "### \"Internet\" table"
      ]
    },
    {
      "cell_type": "code",
      "execution_count": 23,
      "metadata": {
        "id": "2rIMpj-Ntq8c"
      },
      "outputs": [],
      "source": [
        "try:\n",
        "  df_internet = pd.read_csv('/content/final_provider/internet.csv')\n",
        "except:\n",
        "  print('Error')"
      ]
    },
    {
      "cell_type": "code",
      "execution_count": 24,
      "metadata": {
        "colab": {
          "base_uri": "https://localhost:8080/"
        },
        "id": "OrRdQk0dFiYC",
        "outputId": "293ee512-28b4-4190-aeb4-9faaa3e587cd"
      },
      "outputs": [
        {
          "output_type": "stream",
          "name": "stdout",
          "text": [
            "<class 'pandas.core.frame.DataFrame'>\n",
            "RangeIndex: 5517 entries, 0 to 5516\n",
            "Data columns (total 8 columns):\n",
            " #   Column            Non-Null Count  Dtype \n",
            "---  ------            --------------  ----- \n",
            " 0   customerID        5517 non-null   object\n",
            " 1   InternetService   5517 non-null   object\n",
            " 2   OnlineSecurity    5517 non-null   object\n",
            " 3   OnlineBackup      5517 non-null   object\n",
            " 4   DeviceProtection  5517 non-null   object\n",
            " 5   TechSupport       5517 non-null   object\n",
            " 6   StreamingTV       5517 non-null   object\n",
            " 7   StreamingMovies   5517 non-null   object\n",
            "dtypes: object(8)\n",
            "memory usage: 344.9+ KB\n"
          ]
        }
      ],
      "source": [
        "df_internet.info()"
      ]
    },
    {
      "cell_type": "code",
      "execution_count": 25,
      "metadata": {
        "colab": {
          "base_uri": "https://localhost:8080/",
          "height": 260
        },
        "id": "qAAew9-PFiPK",
        "outputId": "6f8d7497-27bd-4c8c-bb15-8bdf44afae01"
      },
      "outputs": [
        {
          "output_type": "execute_result",
          "data": {
            "text/plain": [
              "      customerID InternetService OnlineSecurity OnlineBackup DeviceProtection  \\\n",
              "3179  0757-WCUUZ             DSL             No           No              Yes   \n",
              "2105  6997-UVGOX             DSL            Yes          Yes              Yes   \n",
              "1129  9350-VLHMB     Fiber optic             No          Yes               No   \n",
              "\n",
              "     TechSupport StreamingTV StreamingMovies  \n",
              "3179          No          No             Yes  \n",
              "2105         Yes         Yes             Yes  \n",
              "1129          No          No             Yes  "
            ],
            "text/html": [
              "\n",
              "  <div id=\"df-75022ff9-7966-444c-bb94-b2a2d0487770\">\n",
              "    <div class=\"colab-df-container\">\n",
              "      <div>\n",
              "<style scoped>\n",
              "    .dataframe tbody tr th:only-of-type {\n",
              "        vertical-align: middle;\n",
              "    }\n",
              "\n",
              "    .dataframe tbody tr th {\n",
              "        vertical-align: top;\n",
              "    }\n",
              "\n",
              "    .dataframe thead th {\n",
              "        text-align: right;\n",
              "    }\n",
              "</style>\n",
              "<table border=\"1\" class=\"dataframe\">\n",
              "  <thead>\n",
              "    <tr style=\"text-align: right;\">\n",
              "      <th></th>\n",
              "      <th>customerID</th>\n",
              "      <th>InternetService</th>\n",
              "      <th>OnlineSecurity</th>\n",
              "      <th>OnlineBackup</th>\n",
              "      <th>DeviceProtection</th>\n",
              "      <th>TechSupport</th>\n",
              "      <th>StreamingTV</th>\n",
              "      <th>StreamingMovies</th>\n",
              "    </tr>\n",
              "  </thead>\n",
              "  <tbody>\n",
              "    <tr>\n",
              "      <th>3179</th>\n",
              "      <td>0757-WCUUZ</td>\n",
              "      <td>DSL</td>\n",
              "      <td>No</td>\n",
              "      <td>No</td>\n",
              "      <td>Yes</td>\n",
              "      <td>No</td>\n",
              "      <td>No</td>\n",
              "      <td>Yes</td>\n",
              "    </tr>\n",
              "    <tr>\n",
              "      <th>2105</th>\n",
              "      <td>6997-UVGOX</td>\n",
              "      <td>DSL</td>\n",
              "      <td>Yes</td>\n",
              "      <td>Yes</td>\n",
              "      <td>Yes</td>\n",
              "      <td>Yes</td>\n",
              "      <td>Yes</td>\n",
              "      <td>Yes</td>\n",
              "    </tr>\n",
              "    <tr>\n",
              "      <th>1129</th>\n",
              "      <td>9350-VLHMB</td>\n",
              "      <td>Fiber optic</td>\n",
              "      <td>No</td>\n",
              "      <td>Yes</td>\n",
              "      <td>No</td>\n",
              "      <td>No</td>\n",
              "      <td>No</td>\n",
              "      <td>Yes</td>\n",
              "    </tr>\n",
              "  </tbody>\n",
              "</table>\n",
              "</div>\n",
              "      <button class=\"colab-df-convert\" onclick=\"convertToInteractive('df-75022ff9-7966-444c-bb94-b2a2d0487770')\"\n",
              "              title=\"Convert this dataframe to an interactive table.\"\n",
              "              style=\"display:none;\">\n",
              "        \n",
              "  <svg xmlns=\"http://www.w3.org/2000/svg\" height=\"24px\"viewBox=\"0 0 24 24\"\n",
              "       width=\"24px\">\n",
              "    <path d=\"M0 0h24v24H0V0z\" fill=\"none\"/>\n",
              "    <path d=\"M18.56 5.44l.94 2.06.94-2.06 2.06-.94-2.06-.94-.94-2.06-.94 2.06-2.06.94zm-11 1L8.5 8.5l.94-2.06 2.06-.94-2.06-.94L8.5 2.5l-.94 2.06-2.06.94zm10 10l.94 2.06.94-2.06 2.06-.94-2.06-.94-.94-2.06-.94 2.06-2.06.94z\"/><path d=\"M17.41 7.96l-1.37-1.37c-.4-.4-.92-.59-1.43-.59-.52 0-1.04.2-1.43.59L10.3 9.45l-7.72 7.72c-.78.78-.78 2.05 0 2.83L4 21.41c.39.39.9.59 1.41.59.51 0 1.02-.2 1.41-.59l7.78-7.78 2.81-2.81c.8-.78.8-2.07 0-2.86zM5.41 20L4 18.59l7.72-7.72 1.47 1.35L5.41 20z\"/>\n",
              "  </svg>\n",
              "      </button>\n",
              "      \n",
              "  <style>\n",
              "    .colab-df-container {\n",
              "      display:flex;\n",
              "      flex-wrap:wrap;\n",
              "      gap: 12px;\n",
              "    }\n",
              "\n",
              "    .colab-df-convert {\n",
              "      background-color: #E8F0FE;\n",
              "      border: none;\n",
              "      border-radius: 50%;\n",
              "      cursor: pointer;\n",
              "      display: none;\n",
              "      fill: #1967D2;\n",
              "      height: 32px;\n",
              "      padding: 0 0 0 0;\n",
              "      width: 32px;\n",
              "    }\n",
              "\n",
              "    .colab-df-convert:hover {\n",
              "      background-color: #E2EBFA;\n",
              "      box-shadow: 0px 1px 2px rgba(60, 64, 67, 0.3), 0px 1px 3px 1px rgba(60, 64, 67, 0.15);\n",
              "      fill: #174EA6;\n",
              "    }\n",
              "\n",
              "    [theme=dark] .colab-df-convert {\n",
              "      background-color: #3B4455;\n",
              "      fill: #D2E3FC;\n",
              "    }\n",
              "\n",
              "    [theme=dark] .colab-df-convert:hover {\n",
              "      background-color: #434B5C;\n",
              "      box-shadow: 0px 1px 3px 1px rgba(0, 0, 0, 0.15);\n",
              "      filter: drop-shadow(0px 1px 2px rgba(0, 0, 0, 0.3));\n",
              "      fill: #FFFFFF;\n",
              "    }\n",
              "  </style>\n",
              "\n",
              "      <script>\n",
              "        const buttonEl =\n",
              "          document.querySelector('#df-75022ff9-7966-444c-bb94-b2a2d0487770 button.colab-df-convert');\n",
              "        buttonEl.style.display =\n",
              "          google.colab.kernel.accessAllowed ? 'block' : 'none';\n",
              "\n",
              "        async function convertToInteractive(key) {\n",
              "          const element = document.querySelector('#df-75022ff9-7966-444c-bb94-b2a2d0487770');\n",
              "          const dataTable =\n",
              "            await google.colab.kernel.invokeFunction('convertToInteractive',\n",
              "                                                     [key], {});\n",
              "          if (!dataTable) return;\n",
              "\n",
              "          const docLinkHtml = 'Like what you see? Visit the ' +\n",
              "            '<a target=\"_blank\" href=https://colab.research.google.com/notebooks/data_table.ipynb>data table notebook</a>'\n",
              "            + ' to learn more about interactive tables.';\n",
              "          element.innerHTML = '';\n",
              "          dataTable['output_type'] = 'display_data';\n",
              "          await google.colab.output.renderOutput(dataTable, element);\n",
              "          const docLink = document.createElement('div');\n",
              "          docLink.innerHTML = docLinkHtml;\n",
              "          element.appendChild(docLink);\n",
              "        }\n",
              "      </script>\n",
              "    </div>\n",
              "  </div>\n",
              "  "
            ]
          },
          "metadata": {},
          "execution_count": 25
        }
      ],
      "source": [
        "df_internet.sample(3)"
      ]
    },
    {
      "cell_type": "code",
      "execution_count": 26,
      "metadata": {
        "colab": {
          "base_uri": "https://localhost:8080/",
          "height": 256
        },
        "id": "B3XbMf7SFiDF",
        "outputId": "0fdb109b-daba-4cca-c660-addf1b8370b4"
      },
      "outputs": [
        {
          "output_type": "execute_result",
          "data": {
            "text/plain": [
              "        customerID InternetService OnlineSecurity OnlineBackup  \\\n",
              "count         5517            5517           5517         5517   \n",
              "unique        5517               2              2            2   \n",
              "top     7590-VHVEG     Fiber optic             No           No   \n",
              "freq             1            3096           3498         3088   \n",
              "\n",
              "       DeviceProtection TechSupport StreamingTV StreamingMovies  \n",
              "count              5517        5517        5517            5517  \n",
              "unique                2           2           2               2  \n",
              "top                  No          No          No              No  \n",
              "freq               3095        3473        2810            2785  "
            ],
            "text/html": [
              "\n",
              "  <div id=\"df-5835c9d8-1c78-40ff-8391-b643a8458529\">\n",
              "    <div class=\"colab-df-container\">\n",
              "      <div>\n",
              "<style scoped>\n",
              "    .dataframe tbody tr th:only-of-type {\n",
              "        vertical-align: middle;\n",
              "    }\n",
              "\n",
              "    .dataframe tbody tr th {\n",
              "        vertical-align: top;\n",
              "    }\n",
              "\n",
              "    .dataframe thead th {\n",
              "        text-align: right;\n",
              "    }\n",
              "</style>\n",
              "<table border=\"1\" class=\"dataframe\">\n",
              "  <thead>\n",
              "    <tr style=\"text-align: right;\">\n",
              "      <th></th>\n",
              "      <th>customerID</th>\n",
              "      <th>InternetService</th>\n",
              "      <th>OnlineSecurity</th>\n",
              "      <th>OnlineBackup</th>\n",
              "      <th>DeviceProtection</th>\n",
              "      <th>TechSupport</th>\n",
              "      <th>StreamingTV</th>\n",
              "      <th>StreamingMovies</th>\n",
              "    </tr>\n",
              "  </thead>\n",
              "  <tbody>\n",
              "    <tr>\n",
              "      <th>count</th>\n",
              "      <td>5517</td>\n",
              "      <td>5517</td>\n",
              "      <td>5517</td>\n",
              "      <td>5517</td>\n",
              "      <td>5517</td>\n",
              "      <td>5517</td>\n",
              "      <td>5517</td>\n",
              "      <td>5517</td>\n",
              "    </tr>\n",
              "    <tr>\n",
              "      <th>unique</th>\n",
              "      <td>5517</td>\n",
              "      <td>2</td>\n",
              "      <td>2</td>\n",
              "      <td>2</td>\n",
              "      <td>2</td>\n",
              "      <td>2</td>\n",
              "      <td>2</td>\n",
              "      <td>2</td>\n",
              "    </tr>\n",
              "    <tr>\n",
              "      <th>top</th>\n",
              "      <td>7590-VHVEG</td>\n",
              "      <td>Fiber optic</td>\n",
              "      <td>No</td>\n",
              "      <td>No</td>\n",
              "      <td>No</td>\n",
              "      <td>No</td>\n",
              "      <td>No</td>\n",
              "      <td>No</td>\n",
              "    </tr>\n",
              "    <tr>\n",
              "      <th>freq</th>\n",
              "      <td>1</td>\n",
              "      <td>3096</td>\n",
              "      <td>3498</td>\n",
              "      <td>3088</td>\n",
              "      <td>3095</td>\n",
              "      <td>3473</td>\n",
              "      <td>2810</td>\n",
              "      <td>2785</td>\n",
              "    </tr>\n",
              "  </tbody>\n",
              "</table>\n",
              "</div>\n",
              "      <button class=\"colab-df-convert\" onclick=\"convertToInteractive('df-5835c9d8-1c78-40ff-8391-b643a8458529')\"\n",
              "              title=\"Convert this dataframe to an interactive table.\"\n",
              "              style=\"display:none;\">\n",
              "        \n",
              "  <svg xmlns=\"http://www.w3.org/2000/svg\" height=\"24px\"viewBox=\"0 0 24 24\"\n",
              "       width=\"24px\">\n",
              "    <path d=\"M0 0h24v24H0V0z\" fill=\"none\"/>\n",
              "    <path d=\"M18.56 5.44l.94 2.06.94-2.06 2.06-.94-2.06-.94-.94-2.06-.94 2.06-2.06.94zm-11 1L8.5 8.5l.94-2.06 2.06-.94-2.06-.94L8.5 2.5l-.94 2.06-2.06.94zm10 10l.94 2.06.94-2.06 2.06-.94-2.06-.94-.94-2.06-.94 2.06-2.06.94z\"/><path d=\"M17.41 7.96l-1.37-1.37c-.4-.4-.92-.59-1.43-.59-.52 0-1.04.2-1.43.59L10.3 9.45l-7.72 7.72c-.78.78-.78 2.05 0 2.83L4 21.41c.39.39.9.59 1.41.59.51 0 1.02-.2 1.41-.59l7.78-7.78 2.81-2.81c.8-.78.8-2.07 0-2.86zM5.41 20L4 18.59l7.72-7.72 1.47 1.35L5.41 20z\"/>\n",
              "  </svg>\n",
              "      </button>\n",
              "      \n",
              "  <style>\n",
              "    .colab-df-container {\n",
              "      display:flex;\n",
              "      flex-wrap:wrap;\n",
              "      gap: 12px;\n",
              "    }\n",
              "\n",
              "    .colab-df-convert {\n",
              "      background-color: #E8F0FE;\n",
              "      border: none;\n",
              "      border-radius: 50%;\n",
              "      cursor: pointer;\n",
              "      display: none;\n",
              "      fill: #1967D2;\n",
              "      height: 32px;\n",
              "      padding: 0 0 0 0;\n",
              "      width: 32px;\n",
              "    }\n",
              "\n",
              "    .colab-df-convert:hover {\n",
              "      background-color: #E2EBFA;\n",
              "      box-shadow: 0px 1px 2px rgba(60, 64, 67, 0.3), 0px 1px 3px 1px rgba(60, 64, 67, 0.15);\n",
              "      fill: #174EA6;\n",
              "    }\n",
              "\n",
              "    [theme=dark] .colab-df-convert {\n",
              "      background-color: #3B4455;\n",
              "      fill: #D2E3FC;\n",
              "    }\n",
              "\n",
              "    [theme=dark] .colab-df-convert:hover {\n",
              "      background-color: #434B5C;\n",
              "      box-shadow: 0px 1px 3px 1px rgba(0, 0, 0, 0.15);\n",
              "      filter: drop-shadow(0px 1px 2px rgba(0, 0, 0, 0.3));\n",
              "      fill: #FFFFFF;\n",
              "    }\n",
              "  </style>\n",
              "\n",
              "      <script>\n",
              "        const buttonEl =\n",
              "          document.querySelector('#df-5835c9d8-1c78-40ff-8391-b643a8458529 button.colab-df-convert');\n",
              "        buttonEl.style.display =\n",
              "          google.colab.kernel.accessAllowed ? 'block' : 'none';\n",
              "\n",
              "        async function convertToInteractive(key) {\n",
              "          const element = document.querySelector('#df-5835c9d8-1c78-40ff-8391-b643a8458529');\n",
              "          const dataTable =\n",
              "            await google.colab.kernel.invokeFunction('convertToInteractive',\n",
              "                                                     [key], {});\n",
              "          if (!dataTable) return;\n",
              "\n",
              "          const docLinkHtml = 'Like what you see? Visit the ' +\n",
              "            '<a target=\"_blank\" href=https://colab.research.google.com/notebooks/data_table.ipynb>data table notebook</a>'\n",
              "            + ' to learn more about interactive tables.';\n",
              "          element.innerHTML = '';\n",
              "          dataTable['output_type'] = 'display_data';\n",
              "          await google.colab.output.renderOutput(dataTable, element);\n",
              "          const docLink = document.createElement('div');\n",
              "          docLink.innerHTML = docLinkHtml;\n",
              "          element.appendChild(docLink);\n",
              "        }\n",
              "      </script>\n",
              "    </div>\n",
              "  </div>\n",
              "  "
            ]
          },
          "metadata": {},
          "execution_count": 26
        }
      ],
      "source": [
        "df_internet.describe()"
      ]
    },
    {
      "cell_type": "code",
      "execution_count": 27,
      "metadata": {
        "colab": {
          "base_uri": "https://localhost:8080/"
        },
        "id": "zXigpkuCFOAf",
        "outputId": "044b67df-ba28-462c-eeee-64e856dff471"
      },
      "outputs": [
        {
          "output_type": "execute_result",
          "data": {
            "text/plain": [
              "Index(['customerID', 'InternetService', 'OnlineSecurity', 'OnlineBackup',\n",
              "       'DeviceProtection', 'TechSupport', 'StreamingTV', 'StreamingMovies'],\n",
              "      dtype='object')"
            ]
          },
          "metadata": {},
          "execution_count": 27
        }
      ],
      "source": [
        "df_internet.columns"
      ]
    },
    {
      "cell_type": "markdown",
      "metadata": {
        "id": "9ObE-OBqDZyo"
      },
      "source": [
        "### Conclusion\n",
        "\n",
        "This is a table with information about internet services. It contains 8 columns with 5517 rows in each, without any missing values.\n",
        "\n",
        "- `customerID` - unique identifier of the user, as in the previous table.\n",
        "- `InternetService` - categorical feature with 2 unique values. It contains information about the type of connection used by the subscriber. When merging tables, a third value `no_internet` can be added for subscribers who do not use the internet.\n",
        "- `OnlineSecurity, OnlineBackup, DeviceProtection, TechSupport, StreamingTV, StreamingMovies` - binary columns containing information about connected services.\n",
        "\n",
        "This table has one and a half thousand entries less than the table with contracts. Not all people use the internet.\n"
      ]
    },
    {
      "cell_type": "markdown",
      "metadata": {
        "id": "z-MW0SrMDzYZ"
      },
      "source": [
        "### \"Personal\" table"
      ]
    },
    {
      "cell_type": "code",
      "execution_count": 28,
      "metadata": {
        "id": "lG0RKTcxtxT3"
      },
      "outputs": [],
      "source": [
        "try:\n",
        "  df_personal = pd.read_csv('/content/final_provider/personal.csv')\n",
        "except:\n",
        "  print('Error')"
      ]
    },
    {
      "cell_type": "code",
      "execution_count": 29,
      "metadata": {
        "colab": {
          "base_uri": "https://localhost:8080/"
        },
        "id": "clbv2YRTJxQF",
        "outputId": "0fe47590-39e9-4552-d08c-5ec77a70e8e3"
      },
      "outputs": [
        {
          "output_type": "stream",
          "name": "stdout",
          "text": [
            "<class 'pandas.core.frame.DataFrame'>\n",
            "RangeIndex: 7043 entries, 0 to 7042\n",
            "Data columns (total 5 columns):\n",
            " #   Column         Non-Null Count  Dtype \n",
            "---  ------         --------------  ----- \n",
            " 0   customerID     7043 non-null   object\n",
            " 1   gender         7043 non-null   object\n",
            " 2   SeniorCitizen  7043 non-null   int64 \n",
            " 3   Partner        7043 non-null   object\n",
            " 4   Dependents     7043 non-null   object\n",
            "dtypes: int64(1), object(4)\n",
            "memory usage: 275.2+ KB\n"
          ]
        }
      ],
      "source": [
        "df_personal.info()"
      ]
    },
    {
      "cell_type": "code",
      "execution_count": 30,
      "metadata": {
        "colab": {
          "base_uri": "https://localhost:8080/",
          "height": 143
        },
        "id": "DOOr9U0xJz8T",
        "outputId": "00893bee-5008-46e5-d0c0-faffe1776556"
      },
      "outputs": [
        {
          "output_type": "execute_result",
          "data": {
            "text/plain": [
              "      customerID  gender  SeniorCitizen Partner Dependents\n",
              "2813  6484-LATFU    Male              0      No         No\n",
              "1416  4859-ZSRDZ  Female              0     Yes        Yes\n",
              "296   6556-DBKZF  Female              0     Yes        Yes"
            ],
            "text/html": [
              "\n",
              "  <div id=\"df-ccf043df-63a8-4a10-abb4-b7e1921490fd\">\n",
              "    <div class=\"colab-df-container\">\n",
              "      <div>\n",
              "<style scoped>\n",
              "    .dataframe tbody tr th:only-of-type {\n",
              "        vertical-align: middle;\n",
              "    }\n",
              "\n",
              "    .dataframe tbody tr th {\n",
              "        vertical-align: top;\n",
              "    }\n",
              "\n",
              "    .dataframe thead th {\n",
              "        text-align: right;\n",
              "    }\n",
              "</style>\n",
              "<table border=\"1\" class=\"dataframe\">\n",
              "  <thead>\n",
              "    <tr style=\"text-align: right;\">\n",
              "      <th></th>\n",
              "      <th>customerID</th>\n",
              "      <th>gender</th>\n",
              "      <th>SeniorCitizen</th>\n",
              "      <th>Partner</th>\n",
              "      <th>Dependents</th>\n",
              "    </tr>\n",
              "  </thead>\n",
              "  <tbody>\n",
              "    <tr>\n",
              "      <th>2813</th>\n",
              "      <td>6484-LATFU</td>\n",
              "      <td>Male</td>\n",
              "      <td>0</td>\n",
              "      <td>No</td>\n",
              "      <td>No</td>\n",
              "    </tr>\n",
              "    <tr>\n",
              "      <th>1416</th>\n",
              "      <td>4859-ZSRDZ</td>\n",
              "      <td>Female</td>\n",
              "      <td>0</td>\n",
              "      <td>Yes</td>\n",
              "      <td>Yes</td>\n",
              "    </tr>\n",
              "    <tr>\n",
              "      <th>296</th>\n",
              "      <td>6556-DBKZF</td>\n",
              "      <td>Female</td>\n",
              "      <td>0</td>\n",
              "      <td>Yes</td>\n",
              "      <td>Yes</td>\n",
              "    </tr>\n",
              "  </tbody>\n",
              "</table>\n",
              "</div>\n",
              "      <button class=\"colab-df-convert\" onclick=\"convertToInteractive('df-ccf043df-63a8-4a10-abb4-b7e1921490fd')\"\n",
              "              title=\"Convert this dataframe to an interactive table.\"\n",
              "              style=\"display:none;\">\n",
              "        \n",
              "  <svg xmlns=\"http://www.w3.org/2000/svg\" height=\"24px\"viewBox=\"0 0 24 24\"\n",
              "       width=\"24px\">\n",
              "    <path d=\"M0 0h24v24H0V0z\" fill=\"none\"/>\n",
              "    <path d=\"M18.56 5.44l.94 2.06.94-2.06 2.06-.94-2.06-.94-.94-2.06-.94 2.06-2.06.94zm-11 1L8.5 8.5l.94-2.06 2.06-.94-2.06-.94L8.5 2.5l-.94 2.06-2.06.94zm10 10l.94 2.06.94-2.06 2.06-.94-2.06-.94-.94-2.06-.94 2.06-2.06.94z\"/><path d=\"M17.41 7.96l-1.37-1.37c-.4-.4-.92-.59-1.43-.59-.52 0-1.04.2-1.43.59L10.3 9.45l-7.72 7.72c-.78.78-.78 2.05 0 2.83L4 21.41c.39.39.9.59 1.41.59.51 0 1.02-.2 1.41-.59l7.78-7.78 2.81-2.81c.8-.78.8-2.07 0-2.86zM5.41 20L4 18.59l7.72-7.72 1.47 1.35L5.41 20z\"/>\n",
              "  </svg>\n",
              "      </button>\n",
              "      \n",
              "  <style>\n",
              "    .colab-df-container {\n",
              "      display:flex;\n",
              "      flex-wrap:wrap;\n",
              "      gap: 12px;\n",
              "    }\n",
              "\n",
              "    .colab-df-convert {\n",
              "      background-color: #E8F0FE;\n",
              "      border: none;\n",
              "      border-radius: 50%;\n",
              "      cursor: pointer;\n",
              "      display: none;\n",
              "      fill: #1967D2;\n",
              "      height: 32px;\n",
              "      padding: 0 0 0 0;\n",
              "      width: 32px;\n",
              "    }\n",
              "\n",
              "    .colab-df-convert:hover {\n",
              "      background-color: #E2EBFA;\n",
              "      box-shadow: 0px 1px 2px rgba(60, 64, 67, 0.3), 0px 1px 3px 1px rgba(60, 64, 67, 0.15);\n",
              "      fill: #174EA6;\n",
              "    }\n",
              "\n",
              "    [theme=dark] .colab-df-convert {\n",
              "      background-color: #3B4455;\n",
              "      fill: #D2E3FC;\n",
              "    }\n",
              "\n",
              "    [theme=dark] .colab-df-convert:hover {\n",
              "      background-color: #434B5C;\n",
              "      box-shadow: 0px 1px 3px 1px rgba(0, 0, 0, 0.15);\n",
              "      filter: drop-shadow(0px 1px 2px rgba(0, 0, 0, 0.3));\n",
              "      fill: #FFFFFF;\n",
              "    }\n",
              "  </style>\n",
              "\n",
              "      <script>\n",
              "        const buttonEl =\n",
              "          document.querySelector('#df-ccf043df-63a8-4a10-abb4-b7e1921490fd button.colab-df-convert');\n",
              "        buttonEl.style.display =\n",
              "          google.colab.kernel.accessAllowed ? 'block' : 'none';\n",
              "\n",
              "        async function convertToInteractive(key) {\n",
              "          const element = document.querySelector('#df-ccf043df-63a8-4a10-abb4-b7e1921490fd');\n",
              "          const dataTable =\n",
              "            await google.colab.kernel.invokeFunction('convertToInteractive',\n",
              "                                                     [key], {});\n",
              "          if (!dataTable) return;\n",
              "\n",
              "          const docLinkHtml = 'Like what you see? Visit the ' +\n",
              "            '<a target=\"_blank\" href=https://colab.research.google.com/notebooks/data_table.ipynb>data table notebook</a>'\n",
              "            + ' to learn more about interactive tables.';\n",
              "          element.innerHTML = '';\n",
              "          dataTable['output_type'] = 'display_data';\n",
              "          await google.colab.output.renderOutput(dataTable, element);\n",
              "          const docLink = document.createElement('div');\n",
              "          docLink.innerHTML = docLinkHtml;\n",
              "          element.appendChild(docLink);\n",
              "        }\n",
              "      </script>\n",
              "    </div>\n",
              "  </div>\n",
              "  "
            ]
          },
          "metadata": {},
          "execution_count": 30
        }
      ],
      "source": [
        "df_personal.sample(3)"
      ]
    },
    {
      "cell_type": "code",
      "execution_count": 31,
      "metadata": {
        "colab": {
          "base_uri": "https://localhost:8080/"
        },
        "id": "tcJSgyTjGkPi",
        "outputId": "ca37392e-f4c5-4a82-a0df-985f8c90db94"
      },
      "outputs": [
        {
          "output_type": "execute_result",
          "data": {
            "text/plain": [
              "array(['Female', 'Male'], dtype=object)"
            ]
          },
          "metadata": {},
          "execution_count": 31
        }
      ],
      "source": [
        "df_personal['gender'].unique()"
      ]
    },
    {
      "cell_type": "code",
      "execution_count": 32,
      "metadata": {
        "colab": {
          "base_uri": "https://localhost:8080/"
        },
        "id": "ShZc9DFlG2FB",
        "outputId": "e449f9f6-d0b3-41c5-b7e1-a893883bfbed"
      },
      "outputs": [
        {
          "output_type": "execute_result",
          "data": {
            "text/plain": [
              "array([0, 1])"
            ]
          },
          "metadata": {},
          "execution_count": 32
        }
      ],
      "source": [
        "df_personal['SeniorCitizen'].unique()"
      ]
    },
    {
      "cell_type": "markdown",
      "metadata": {
        "id": "FKzJWflGGIeG"
      },
      "source": [
        "### Conclusion\n",
        "\n",
        "This is a table with information about subscribers. It contains 5 columns with 7043 rows in each, without gaps.\n",
        "\n",
        "- `customerID` - a unique identifier of the user as in the previous tables.\n",
        "- `gender` - a binary feature indicating the gender of the subscriber.\n",
        "- `SeniorCitizen` - a binary feature indicating whether the subscriber has senior status.\n",
        "- `Partner` - a binary feature indicating whether the subscriber has a partner.\n",
        "- `Dependents` - a binary feature indicating whether the subscriber has dependents.\n",
        "\n",
        "The number of entries in this table coincides with the number of entries in the contract table, which means that there is a subscriber for each contract. Some binary features are written in the format `0, 1`, some in the format `Yes, No`, in the final table they will need to be brought to a single format."
      ]
    },
    {
      "cell_type": "markdown",
      "metadata": {
        "id": "II3GekueD3x0"
      },
      "source": [
        "### \"Phone\" table"
      ]
    },
    {
      "cell_type": "code",
      "execution_count": 33,
      "metadata": {
        "id": "CEx3Q9C-t2xs"
      },
      "outputs": [],
      "source": [
        "try:\n",
        "  df_phone = pd.read_csv('/content/final_provider/phone.csv')\n",
        "except:\n",
        "  print('Error')"
      ]
    },
    {
      "cell_type": "code",
      "execution_count": 34,
      "metadata": {
        "colab": {
          "base_uri": "https://localhost:8080/"
        },
        "id": "pV8OvTIzux2J",
        "outputId": "f22f7c8b-da51-4801-8d8f-d5993eff62eb"
      },
      "outputs": [
        {
          "output_type": "stream",
          "name": "stdout",
          "text": [
            "<class 'pandas.core.frame.DataFrame'>\n",
            "RangeIndex: 6361 entries, 0 to 6360\n",
            "Data columns (total 2 columns):\n",
            " #   Column         Non-Null Count  Dtype \n",
            "---  ------         --------------  ----- \n",
            " 0   customerID     6361 non-null   object\n",
            " 1   MultipleLines  6361 non-null   object\n",
            "dtypes: object(2)\n",
            "memory usage: 99.5+ KB\n"
          ]
        }
      ],
      "source": [
        "df_phone.info()"
      ]
    },
    {
      "cell_type": "code",
      "execution_count": 35,
      "metadata": {
        "colab": {
          "base_uri": "https://localhost:8080/",
          "height": 143
        },
        "id": "Iih5Vlbxurby",
        "outputId": "ad1c2dfb-5c3d-4ac8-c800-446fd48920e1"
      },
      "outputs": [
        {
          "output_type": "execute_result",
          "data": {
            "text/plain": [
              "      customerID MultipleLines\n",
              "4753  8777-MBMTS            No\n",
              "5515  5119-KEPFY           Yes\n",
              "3424  4201-JMNGR            No"
            ],
            "text/html": [
              "\n",
              "  <div id=\"df-b63a66fc-e01d-4e68-b80c-fd6678c78717\">\n",
              "    <div class=\"colab-df-container\">\n",
              "      <div>\n",
              "<style scoped>\n",
              "    .dataframe tbody tr th:only-of-type {\n",
              "        vertical-align: middle;\n",
              "    }\n",
              "\n",
              "    .dataframe tbody tr th {\n",
              "        vertical-align: top;\n",
              "    }\n",
              "\n",
              "    .dataframe thead th {\n",
              "        text-align: right;\n",
              "    }\n",
              "</style>\n",
              "<table border=\"1\" class=\"dataframe\">\n",
              "  <thead>\n",
              "    <tr style=\"text-align: right;\">\n",
              "      <th></th>\n",
              "      <th>customerID</th>\n",
              "      <th>MultipleLines</th>\n",
              "    </tr>\n",
              "  </thead>\n",
              "  <tbody>\n",
              "    <tr>\n",
              "      <th>4753</th>\n",
              "      <td>8777-MBMTS</td>\n",
              "      <td>No</td>\n",
              "    </tr>\n",
              "    <tr>\n",
              "      <th>5515</th>\n",
              "      <td>5119-KEPFY</td>\n",
              "      <td>Yes</td>\n",
              "    </tr>\n",
              "    <tr>\n",
              "      <th>3424</th>\n",
              "      <td>4201-JMNGR</td>\n",
              "      <td>No</td>\n",
              "    </tr>\n",
              "  </tbody>\n",
              "</table>\n",
              "</div>\n",
              "      <button class=\"colab-df-convert\" onclick=\"convertToInteractive('df-b63a66fc-e01d-4e68-b80c-fd6678c78717')\"\n",
              "              title=\"Convert this dataframe to an interactive table.\"\n",
              "              style=\"display:none;\">\n",
              "        \n",
              "  <svg xmlns=\"http://www.w3.org/2000/svg\" height=\"24px\"viewBox=\"0 0 24 24\"\n",
              "       width=\"24px\">\n",
              "    <path d=\"M0 0h24v24H0V0z\" fill=\"none\"/>\n",
              "    <path d=\"M18.56 5.44l.94 2.06.94-2.06 2.06-.94-2.06-.94-.94-2.06-.94 2.06-2.06.94zm-11 1L8.5 8.5l.94-2.06 2.06-.94-2.06-.94L8.5 2.5l-.94 2.06-2.06.94zm10 10l.94 2.06.94-2.06 2.06-.94-2.06-.94-.94-2.06-.94 2.06-2.06.94z\"/><path d=\"M17.41 7.96l-1.37-1.37c-.4-.4-.92-.59-1.43-.59-.52 0-1.04.2-1.43.59L10.3 9.45l-7.72 7.72c-.78.78-.78 2.05 0 2.83L4 21.41c.39.39.9.59 1.41.59.51 0 1.02-.2 1.41-.59l7.78-7.78 2.81-2.81c.8-.78.8-2.07 0-2.86zM5.41 20L4 18.59l7.72-7.72 1.47 1.35L5.41 20z\"/>\n",
              "  </svg>\n",
              "      </button>\n",
              "      \n",
              "  <style>\n",
              "    .colab-df-container {\n",
              "      display:flex;\n",
              "      flex-wrap:wrap;\n",
              "      gap: 12px;\n",
              "    }\n",
              "\n",
              "    .colab-df-convert {\n",
              "      background-color: #E8F0FE;\n",
              "      border: none;\n",
              "      border-radius: 50%;\n",
              "      cursor: pointer;\n",
              "      display: none;\n",
              "      fill: #1967D2;\n",
              "      height: 32px;\n",
              "      padding: 0 0 0 0;\n",
              "      width: 32px;\n",
              "    }\n",
              "\n",
              "    .colab-df-convert:hover {\n",
              "      background-color: #E2EBFA;\n",
              "      box-shadow: 0px 1px 2px rgba(60, 64, 67, 0.3), 0px 1px 3px 1px rgba(60, 64, 67, 0.15);\n",
              "      fill: #174EA6;\n",
              "    }\n",
              "\n",
              "    [theme=dark] .colab-df-convert {\n",
              "      background-color: #3B4455;\n",
              "      fill: #D2E3FC;\n",
              "    }\n",
              "\n",
              "    [theme=dark] .colab-df-convert:hover {\n",
              "      background-color: #434B5C;\n",
              "      box-shadow: 0px 1px 3px 1px rgba(0, 0, 0, 0.15);\n",
              "      filter: drop-shadow(0px 1px 2px rgba(0, 0, 0, 0.3));\n",
              "      fill: #FFFFFF;\n",
              "    }\n",
              "  </style>\n",
              "\n",
              "      <script>\n",
              "        const buttonEl =\n",
              "          document.querySelector('#df-b63a66fc-e01d-4e68-b80c-fd6678c78717 button.colab-df-convert');\n",
              "        buttonEl.style.display =\n",
              "          google.colab.kernel.accessAllowed ? 'block' : 'none';\n",
              "\n",
              "        async function convertToInteractive(key) {\n",
              "          const element = document.querySelector('#df-b63a66fc-e01d-4e68-b80c-fd6678c78717');\n",
              "          const dataTable =\n",
              "            await google.colab.kernel.invokeFunction('convertToInteractive',\n",
              "                                                     [key], {});\n",
              "          if (!dataTable) return;\n",
              "\n",
              "          const docLinkHtml = 'Like what you see? Visit the ' +\n",
              "            '<a target=\"_blank\" href=https://colab.research.google.com/notebooks/data_table.ipynb>data table notebook</a>'\n",
              "            + ' to learn more about interactive tables.';\n",
              "          element.innerHTML = '';\n",
              "          dataTable['output_type'] = 'display_data';\n",
              "          await google.colab.output.renderOutput(dataTable, element);\n",
              "          const docLink = document.createElement('div');\n",
              "          docLink.innerHTML = docLinkHtml;\n",
              "          element.appendChild(docLink);\n",
              "        }\n",
              "      </script>\n",
              "    </div>\n",
              "  </div>\n",
              "  "
            ]
          },
          "metadata": {},
          "execution_count": 35
        }
      ],
      "source": [
        "df_phone.sample(3)"
      ]
    },
    {
      "cell_type": "markdown",
      "metadata": {
        "id": "4JAhZpaKITqI"
      },
      "source": [
        "### Conclusion\n",
        "\n",
        "This is a table with information about telephone services. It contains 2 columns with 6361 rows in each, without any gaps.\n",
        "\n",
        "- `customerID` - a unique identifier for the user, as in the previous tables.\n",
        "- `MultipleLines` - a binary feature that reflects the presence of a service for connecting a phone to multiple lines simultaneously.\n",
        "\n",
        "The number of subscribers using the phone is less than the total number of subscribers; not all subscribers use the phone. At the stage of combining tables, we will turn the binary `MultipleLines` into a categorical feature and add a third unique value, `no_phone`."
      ]
    },
    {
      "cell_type": "markdown",
      "metadata": {
        "id": "jlynIo9U_o-k"
      },
      "source": [
        "## Data Processing and Tables Merging"
      ]
    },
    {
      "cell_type": "markdown",
      "metadata": {
        "id": "H341AKPpyhzF"
      },
      "source": [
        "### Processing the \"contract\" table"
      ]
    },
    {
      "cell_type": "code",
      "execution_count": 36,
      "metadata": {
        "colab": {
          "base_uri": "https://localhost:8080/"
        },
        "id": "lSMVP9HT82ue",
        "outputId": "7accb578-bab2-4627-c719-14207b437b93"
      },
      "outputs": [
        {
          "output_type": "execute_result",
          "data": {
            "text/plain": [
              "Index(['customerID', 'BeginDate', 'EndDate', 'Type', 'PaperlessBilling',\n",
              "       'PaymentMethod', 'MonthlyCharges', 'TotalCharges'],\n",
              "      dtype='object')"
            ]
          },
          "metadata": {},
          "execution_count": 36
        }
      ],
      "source": [
        "df_contract.columns"
      ]
    },
    {
      "cell_type": "code",
      "execution_count": 37,
      "metadata": {
        "id": "UOahQ835C4mX"
      },
      "outputs": [],
      "source": [
        "df_contract.columns = ['customer_id', 'begin_date', 'end_date', 'type', 'paperless_billing',\n",
        "       'payment_method', 'monthly_charges', 'total_charges']"
      ]
    },
    {
      "cell_type": "markdown",
      "metadata": {
        "id": "SwEIsdZBZvJi"
      },
      "source": [
        "Let's create a column with the target variable."
      ]
    },
    {
      "cell_type": "code",
      "execution_count": 38,
      "metadata": {
        "id": "QybbjDnRpayM"
      },
      "outputs": [],
      "source": [
        "df_contract.loc[df_contract['end_date'] != 'No', 'left'] = 1\n",
        "df_contract['left'] = df_contract['left'].fillna(0)"
      ]
    },
    {
      "cell_type": "markdown",
      "metadata": {
        "id": "KEKf0hUBZ7h0"
      },
      "source": [
        "Let's calculate how many days each subscriber has been a customer of the company at the time of dataset extraction."
      ]
    },
    {
      "cell_type": "code",
      "execution_count": 39,
      "metadata": {
        "id": "vcDU0YwfrHT9"
      },
      "outputs": [],
      "source": [
        "df_contract.loc[df_contract['end_date'] == 'No', 'end_date'] = '2020-02-01 00:00:00'\n",
        "df_contract['end_date'] = pd.to_datetime(df_contract['end_date'], format='%Y-%m-%d %H:%M:%S')\n",
        "\n",
        "df_contract['begin_date'] = pd.to_datetime(df_contract['begin_date'], format='%Y-%m-%d')"
      ]
    },
    {
      "cell_type": "code",
      "execution_count": 40,
      "metadata": {
        "id": "WYuY9VEMtv4S"
      },
      "outputs": [],
      "source": [
        "df_contract['loyalty'] = df_contract['end_date'] - df_contract['begin_date']"
      ]
    },
    {
      "cell_type": "code",
      "execution_count": 41,
      "metadata": {
        "id": "CCAwEZdcUecM"
      },
      "outputs": [],
      "source": [
        "def days(td):\n",
        "    return td.days"
      ]
    },
    {
      "cell_type": "code",
      "execution_count": 42,
      "metadata": {
        "id": "pDA60XFYSQlR"
      },
      "outputs": [],
      "source": [
        "df_contract['loyalty'] = df_contract['loyalty'].apply(days)"
      ]
    },
    {
      "cell_type": "code",
      "execution_count": 43,
      "metadata": {
        "id": "ZSIoDwrgtkQC"
      },
      "outputs": [],
      "source": [
        "df_contract = df_contract.drop(['begin_date', 'end_date'], axis=1)"
      ]
    },
    {
      "cell_type": "code",
      "execution_count": 44,
      "metadata": {
        "colab": {
          "base_uri": "https://localhost:8080/"
        },
        "id": "lu-fluM7ufE0",
        "outputId": "d7165e8e-43bb-485a-c652-47520a3811ca"
      },
      "outputs": [
        {
          "output_type": "stream",
          "name": "stdout",
          "text": [
            "<class 'pandas.core.frame.DataFrame'>\n",
            "RangeIndex: 7043 entries, 0 to 7042\n",
            "Data columns (total 8 columns):\n",
            " #   Column             Non-Null Count  Dtype  \n",
            "---  ------             --------------  -----  \n",
            " 0   customer_id        7043 non-null   object \n",
            " 1   type               7043 non-null   object \n",
            " 2   paperless_billing  7043 non-null   object \n",
            " 3   payment_method     7043 non-null   object \n",
            " 4   monthly_charges    7043 non-null   float64\n",
            " 5   total_charges      7043 non-null   float64\n",
            " 6   left               7043 non-null   float64\n",
            " 7   loyalty            7043 non-null   int64  \n",
            "dtypes: float64(3), int64(1), object(4)\n",
            "memory usage: 440.3+ KB\n"
          ]
        }
      ],
      "source": [
        "df_contract.info()"
      ]
    },
    {
      "cell_type": "code",
      "execution_count": 45,
      "metadata": {
        "colab": {
          "base_uri": "https://localhost:8080/",
          "height": 294
        },
        "id": "Oz4pyGfw_-2w",
        "outputId": "fa7357b8-002d-4cf1-92cf-aa87d68d61c0"
      },
      "outputs": [
        {
          "output_type": "execute_result",
          "data": {
            "text/plain": [
              "     customer_id            type paperless_billing             payment_method  \\\n",
              "6802  5626-MGTUK  Month-to-month               Yes  Bank transfer (automatic)   \n",
              "3158  7410-KTVFV  Month-to-month               Yes               Mailed check   \n",
              "5417  9715-SBVSU        Two year               Yes  Bank transfer (automatic)   \n",
              "\n",
              "      monthly_charges  total_charges  left  loyalty  \n",
              "6802            89.10        1879.25   0.0      610  \n",
              "3158            49.55         878.35   1.0      549  \n",
              "5417            61.40         815.55   0.0      427  "
            ],
            "text/html": [
              "\n",
              "  <div id=\"df-2fa3a1f4-e73c-4bc7-914d-85dbecedd7a4\">\n",
              "    <div class=\"colab-df-container\">\n",
              "      <div>\n",
              "<style scoped>\n",
              "    .dataframe tbody tr th:only-of-type {\n",
              "        vertical-align: middle;\n",
              "    }\n",
              "\n",
              "    .dataframe tbody tr th {\n",
              "        vertical-align: top;\n",
              "    }\n",
              "\n",
              "    .dataframe thead th {\n",
              "        text-align: right;\n",
              "    }\n",
              "</style>\n",
              "<table border=\"1\" class=\"dataframe\">\n",
              "  <thead>\n",
              "    <tr style=\"text-align: right;\">\n",
              "      <th></th>\n",
              "      <th>customer_id</th>\n",
              "      <th>type</th>\n",
              "      <th>paperless_billing</th>\n",
              "      <th>payment_method</th>\n",
              "      <th>monthly_charges</th>\n",
              "      <th>total_charges</th>\n",
              "      <th>left</th>\n",
              "      <th>loyalty</th>\n",
              "    </tr>\n",
              "  </thead>\n",
              "  <tbody>\n",
              "    <tr>\n",
              "      <th>6802</th>\n",
              "      <td>5626-MGTUK</td>\n",
              "      <td>Month-to-month</td>\n",
              "      <td>Yes</td>\n",
              "      <td>Bank transfer (automatic)</td>\n",
              "      <td>89.10</td>\n",
              "      <td>1879.25</td>\n",
              "      <td>0.0</td>\n",
              "      <td>610</td>\n",
              "    </tr>\n",
              "    <tr>\n",
              "      <th>3158</th>\n",
              "      <td>7410-KTVFV</td>\n",
              "      <td>Month-to-month</td>\n",
              "      <td>Yes</td>\n",
              "      <td>Mailed check</td>\n",
              "      <td>49.55</td>\n",
              "      <td>878.35</td>\n",
              "      <td>1.0</td>\n",
              "      <td>549</td>\n",
              "    </tr>\n",
              "    <tr>\n",
              "      <th>5417</th>\n",
              "      <td>9715-SBVSU</td>\n",
              "      <td>Two year</td>\n",
              "      <td>Yes</td>\n",
              "      <td>Bank transfer (automatic)</td>\n",
              "      <td>61.40</td>\n",
              "      <td>815.55</td>\n",
              "      <td>0.0</td>\n",
              "      <td>427</td>\n",
              "    </tr>\n",
              "  </tbody>\n",
              "</table>\n",
              "</div>\n",
              "      <button class=\"colab-df-convert\" onclick=\"convertToInteractive('df-2fa3a1f4-e73c-4bc7-914d-85dbecedd7a4')\"\n",
              "              title=\"Convert this dataframe to an interactive table.\"\n",
              "              style=\"display:none;\">\n",
              "        \n",
              "  <svg xmlns=\"http://www.w3.org/2000/svg\" height=\"24px\"viewBox=\"0 0 24 24\"\n",
              "       width=\"24px\">\n",
              "    <path d=\"M0 0h24v24H0V0z\" fill=\"none\"/>\n",
              "    <path d=\"M18.56 5.44l.94 2.06.94-2.06 2.06-.94-2.06-.94-.94-2.06-.94 2.06-2.06.94zm-11 1L8.5 8.5l.94-2.06 2.06-.94-2.06-.94L8.5 2.5l-.94 2.06-2.06.94zm10 10l.94 2.06.94-2.06 2.06-.94-2.06-.94-.94-2.06-.94 2.06-2.06.94z\"/><path d=\"M17.41 7.96l-1.37-1.37c-.4-.4-.92-.59-1.43-.59-.52 0-1.04.2-1.43.59L10.3 9.45l-7.72 7.72c-.78.78-.78 2.05 0 2.83L4 21.41c.39.39.9.59 1.41.59.51 0 1.02-.2 1.41-.59l7.78-7.78 2.81-2.81c.8-.78.8-2.07 0-2.86zM5.41 20L4 18.59l7.72-7.72 1.47 1.35L5.41 20z\"/>\n",
              "  </svg>\n",
              "      </button>\n",
              "      \n",
              "  <style>\n",
              "    .colab-df-container {\n",
              "      display:flex;\n",
              "      flex-wrap:wrap;\n",
              "      gap: 12px;\n",
              "    }\n",
              "\n",
              "    .colab-df-convert {\n",
              "      background-color: #E8F0FE;\n",
              "      border: none;\n",
              "      border-radius: 50%;\n",
              "      cursor: pointer;\n",
              "      display: none;\n",
              "      fill: #1967D2;\n",
              "      height: 32px;\n",
              "      padding: 0 0 0 0;\n",
              "      width: 32px;\n",
              "    }\n",
              "\n",
              "    .colab-df-convert:hover {\n",
              "      background-color: #E2EBFA;\n",
              "      box-shadow: 0px 1px 2px rgba(60, 64, 67, 0.3), 0px 1px 3px 1px rgba(60, 64, 67, 0.15);\n",
              "      fill: #174EA6;\n",
              "    }\n",
              "\n",
              "    [theme=dark] .colab-df-convert {\n",
              "      background-color: #3B4455;\n",
              "      fill: #D2E3FC;\n",
              "    }\n",
              "\n",
              "    [theme=dark] .colab-df-convert:hover {\n",
              "      background-color: #434B5C;\n",
              "      box-shadow: 0px 1px 3px 1px rgba(0, 0, 0, 0.15);\n",
              "      filter: drop-shadow(0px 1px 2px rgba(0, 0, 0, 0.3));\n",
              "      fill: #FFFFFF;\n",
              "    }\n",
              "  </style>\n",
              "\n",
              "      <script>\n",
              "        const buttonEl =\n",
              "          document.querySelector('#df-2fa3a1f4-e73c-4bc7-914d-85dbecedd7a4 button.colab-df-convert');\n",
              "        buttonEl.style.display =\n",
              "          google.colab.kernel.accessAllowed ? 'block' : 'none';\n",
              "\n",
              "        async function convertToInteractive(key) {\n",
              "          const element = document.querySelector('#df-2fa3a1f4-e73c-4bc7-914d-85dbecedd7a4');\n",
              "          const dataTable =\n",
              "            await google.colab.kernel.invokeFunction('convertToInteractive',\n",
              "                                                     [key], {});\n",
              "          if (!dataTable) return;\n",
              "\n",
              "          const docLinkHtml = 'Like what you see? Visit the ' +\n",
              "            '<a target=\"_blank\" href=https://colab.research.google.com/notebooks/data_table.ipynb>data table notebook</a>'\n",
              "            + ' to learn more about interactive tables.';\n",
              "          element.innerHTML = '';\n",
              "          dataTable['output_type'] = 'display_data';\n",
              "          await google.colab.output.renderOutput(dataTable, element);\n",
              "          const docLink = document.createElement('div');\n",
              "          docLink.innerHTML = docLinkHtml;\n",
              "          element.appendChild(docLink);\n",
              "        }\n",
              "      </script>\n",
              "    </div>\n",
              "  </div>\n",
              "  "
            ]
          },
          "metadata": {},
          "execution_count": 45
        }
      ],
      "source": [
        "df_contract.sample(3)"
      ]
    },
    {
      "cell_type": "markdown",
      "metadata": {
        "id": "1sompJqOzLbU"
      },
      "source": [
        "### Processing the \"internet\" table"
      ]
    },
    {
      "cell_type": "code",
      "execution_count": 46,
      "metadata": {
        "colab": {
          "base_uri": "https://localhost:8080/"
        },
        "id": "pOp_y9XbzpN-",
        "outputId": "2e52c839-57e1-46d1-8a55-5b2bffa31c6f"
      },
      "outputs": [
        {
          "output_type": "execute_result",
          "data": {
            "text/plain": [
              "Index(['customerID', 'InternetService', 'OnlineSecurity', 'OnlineBackup',\n",
              "       'DeviceProtection', 'TechSupport', 'StreamingTV', 'StreamingMovies'],\n",
              "      dtype='object')"
            ]
          },
          "metadata": {},
          "execution_count": 46
        }
      ],
      "source": [
        "df_internet.columns"
      ]
    },
    {
      "cell_type": "code",
      "execution_count": 47,
      "metadata": {
        "id": "1-QoqlDjzt05"
      },
      "outputs": [],
      "source": [
        "df_internet.columns = ['customer_id', 'internet_service', 'online_security', 'online_backup',\n",
        "       'device_protection', 'tech_support', 'streaming_tv', 'streaming_movies']"
      ]
    },
    {
      "cell_type": "code",
      "execution_count": 48,
      "metadata": {
        "colab": {
          "base_uri": "https://localhost:8080/"
        },
        "id": "t825zBFY084V",
        "outputId": "c87f628e-7079-48d2-8b6b-533919b33f95"
      },
      "outputs": [
        {
          "output_type": "stream",
          "name": "stdout",
          "text": [
            "<class 'pandas.core.frame.DataFrame'>\n",
            "RangeIndex: 5517 entries, 0 to 5516\n",
            "Data columns (total 8 columns):\n",
            " #   Column             Non-Null Count  Dtype \n",
            "---  ------             --------------  ----- \n",
            " 0   customer_id        5517 non-null   object\n",
            " 1   internet_service   5517 non-null   object\n",
            " 2   online_security    5517 non-null   object\n",
            " 3   online_backup      5517 non-null   object\n",
            " 4   device_protection  5517 non-null   object\n",
            " 5   tech_support       5517 non-null   object\n",
            " 6   streaming_tv       5517 non-null   object\n",
            " 7   streaming_movies   5517 non-null   object\n",
            "dtypes: object(8)\n",
            "memory usage: 344.9+ KB\n"
          ]
        }
      ],
      "source": [
        "df_internet.info()"
      ]
    },
    {
      "cell_type": "code",
      "execution_count": 49,
      "metadata": {
        "colab": {
          "base_uri": "https://localhost:8080/",
          "height": 207
        },
        "id": "BjtlHJvW1E2a",
        "outputId": "9ab7dc2f-f70f-411e-fd29-8ed6869076f8"
      },
      "outputs": [
        {
          "output_type": "execute_result",
          "data": {
            "text/plain": [
              "     customer_id internet_service online_security online_backup  \\\n",
              "1460  9359-JANWS              DSL             Yes            No   \n",
              "537   7538-GWHML      Fiber optic              No            No   \n",
              "5039  2669-QVCRG      Fiber optic             Yes            No   \n",
              "\n",
              "     device_protection tech_support streaming_tv streaming_movies  \n",
              "1460               Yes          Yes           No               No  \n",
              "537                 No           No           No               No  \n",
              "5039                No           No           No               No  "
            ],
            "text/html": [
              "\n",
              "  <div id=\"df-ff3b1f90-a09f-4beb-bf0f-b0640da8bc22\">\n",
              "    <div class=\"colab-df-container\">\n",
              "      <div>\n",
              "<style scoped>\n",
              "    .dataframe tbody tr th:only-of-type {\n",
              "        vertical-align: middle;\n",
              "    }\n",
              "\n",
              "    .dataframe tbody tr th {\n",
              "        vertical-align: top;\n",
              "    }\n",
              "\n",
              "    .dataframe thead th {\n",
              "        text-align: right;\n",
              "    }\n",
              "</style>\n",
              "<table border=\"1\" class=\"dataframe\">\n",
              "  <thead>\n",
              "    <tr style=\"text-align: right;\">\n",
              "      <th></th>\n",
              "      <th>customer_id</th>\n",
              "      <th>internet_service</th>\n",
              "      <th>online_security</th>\n",
              "      <th>online_backup</th>\n",
              "      <th>device_protection</th>\n",
              "      <th>tech_support</th>\n",
              "      <th>streaming_tv</th>\n",
              "      <th>streaming_movies</th>\n",
              "    </tr>\n",
              "  </thead>\n",
              "  <tbody>\n",
              "    <tr>\n",
              "      <th>1460</th>\n",
              "      <td>9359-JANWS</td>\n",
              "      <td>DSL</td>\n",
              "      <td>Yes</td>\n",
              "      <td>No</td>\n",
              "      <td>Yes</td>\n",
              "      <td>Yes</td>\n",
              "      <td>No</td>\n",
              "      <td>No</td>\n",
              "    </tr>\n",
              "    <tr>\n",
              "      <th>537</th>\n",
              "      <td>7538-GWHML</td>\n",
              "      <td>Fiber optic</td>\n",
              "      <td>No</td>\n",
              "      <td>No</td>\n",
              "      <td>No</td>\n",
              "      <td>No</td>\n",
              "      <td>No</td>\n",
              "      <td>No</td>\n",
              "    </tr>\n",
              "    <tr>\n",
              "      <th>5039</th>\n",
              "      <td>2669-QVCRG</td>\n",
              "      <td>Fiber optic</td>\n",
              "      <td>Yes</td>\n",
              "      <td>No</td>\n",
              "      <td>No</td>\n",
              "      <td>No</td>\n",
              "      <td>No</td>\n",
              "      <td>No</td>\n",
              "    </tr>\n",
              "  </tbody>\n",
              "</table>\n",
              "</div>\n",
              "      <button class=\"colab-df-convert\" onclick=\"convertToInteractive('df-ff3b1f90-a09f-4beb-bf0f-b0640da8bc22')\"\n",
              "              title=\"Convert this dataframe to an interactive table.\"\n",
              "              style=\"display:none;\">\n",
              "        \n",
              "  <svg xmlns=\"http://www.w3.org/2000/svg\" height=\"24px\"viewBox=\"0 0 24 24\"\n",
              "       width=\"24px\">\n",
              "    <path d=\"M0 0h24v24H0V0z\" fill=\"none\"/>\n",
              "    <path d=\"M18.56 5.44l.94 2.06.94-2.06 2.06-.94-2.06-.94-.94-2.06-.94 2.06-2.06.94zm-11 1L8.5 8.5l.94-2.06 2.06-.94-2.06-.94L8.5 2.5l-.94 2.06-2.06.94zm10 10l.94 2.06.94-2.06 2.06-.94-2.06-.94-.94-2.06-.94 2.06-2.06.94z\"/><path d=\"M17.41 7.96l-1.37-1.37c-.4-.4-.92-.59-1.43-.59-.52 0-1.04.2-1.43.59L10.3 9.45l-7.72 7.72c-.78.78-.78 2.05 0 2.83L4 21.41c.39.39.9.59 1.41.59.51 0 1.02-.2 1.41-.59l7.78-7.78 2.81-2.81c.8-.78.8-2.07 0-2.86zM5.41 20L4 18.59l7.72-7.72 1.47 1.35L5.41 20z\"/>\n",
              "  </svg>\n",
              "      </button>\n",
              "      \n",
              "  <style>\n",
              "    .colab-df-container {\n",
              "      display:flex;\n",
              "      flex-wrap:wrap;\n",
              "      gap: 12px;\n",
              "    }\n",
              "\n",
              "    .colab-df-convert {\n",
              "      background-color: #E8F0FE;\n",
              "      border: none;\n",
              "      border-radius: 50%;\n",
              "      cursor: pointer;\n",
              "      display: none;\n",
              "      fill: #1967D2;\n",
              "      height: 32px;\n",
              "      padding: 0 0 0 0;\n",
              "      width: 32px;\n",
              "    }\n",
              "\n",
              "    .colab-df-convert:hover {\n",
              "      background-color: #E2EBFA;\n",
              "      box-shadow: 0px 1px 2px rgba(60, 64, 67, 0.3), 0px 1px 3px 1px rgba(60, 64, 67, 0.15);\n",
              "      fill: #174EA6;\n",
              "    }\n",
              "\n",
              "    [theme=dark] .colab-df-convert {\n",
              "      background-color: #3B4455;\n",
              "      fill: #D2E3FC;\n",
              "    }\n",
              "\n",
              "    [theme=dark] .colab-df-convert:hover {\n",
              "      background-color: #434B5C;\n",
              "      box-shadow: 0px 1px 3px 1px rgba(0, 0, 0, 0.15);\n",
              "      filter: drop-shadow(0px 1px 2px rgba(0, 0, 0, 0.3));\n",
              "      fill: #FFFFFF;\n",
              "    }\n",
              "  </style>\n",
              "\n",
              "      <script>\n",
              "        const buttonEl =\n",
              "          document.querySelector('#df-ff3b1f90-a09f-4beb-bf0f-b0640da8bc22 button.colab-df-convert');\n",
              "        buttonEl.style.display =\n",
              "          google.colab.kernel.accessAllowed ? 'block' : 'none';\n",
              "\n",
              "        async function convertToInteractive(key) {\n",
              "          const element = document.querySelector('#df-ff3b1f90-a09f-4beb-bf0f-b0640da8bc22');\n",
              "          const dataTable =\n",
              "            await google.colab.kernel.invokeFunction('convertToInteractive',\n",
              "                                                     [key], {});\n",
              "          if (!dataTable) return;\n",
              "\n",
              "          const docLinkHtml = 'Like what you see? Visit the ' +\n",
              "            '<a target=\"_blank\" href=https://colab.research.google.com/notebooks/data_table.ipynb>data table notebook</a>'\n",
              "            + ' to learn more about interactive tables.';\n",
              "          element.innerHTML = '';\n",
              "          dataTable['output_type'] = 'display_data';\n",
              "          await google.colab.output.renderOutput(dataTable, element);\n",
              "          const docLink = document.createElement('div');\n",
              "          docLink.innerHTML = docLinkHtml;\n",
              "          element.appendChild(docLink);\n",
              "        }\n",
              "      </script>\n",
              "    </div>\n",
              "  </div>\n",
              "  "
            ]
          },
          "metadata": {},
          "execution_count": 49
        }
      ],
      "source": [
        "df_internet.sample(3)"
      ]
    },
    {
      "cell_type": "markdown",
      "metadata": {
        "id": "vtm0d19f1RLU"
      },
      "source": [
        "### Processing the \"personal\" table"
      ]
    },
    {
      "cell_type": "code",
      "execution_count": 50,
      "metadata": {
        "colab": {
          "base_uri": "https://localhost:8080/"
        },
        "id": "yXu_aatl1fuA",
        "outputId": "1b544cae-5f40-4810-8d89-db9ea43e1aad"
      },
      "outputs": [
        {
          "output_type": "execute_result",
          "data": {
            "text/plain": [
              "Index(['customerID', 'gender', 'SeniorCitizen', 'Partner', 'Dependents'], dtype='object')"
            ]
          },
          "metadata": {},
          "execution_count": 50
        }
      ],
      "source": [
        "df_personal.columns"
      ]
    },
    {
      "cell_type": "code",
      "execution_count": 51,
      "metadata": {
        "id": "4eMSQR741isx"
      },
      "outputs": [],
      "source": [
        "df_personal.columns = ['customer_id', 'gender', 'senior_citizen', 'partner', 'dependents']"
      ]
    },
    {
      "cell_type": "code",
      "execution_count": 52,
      "metadata": {
        "colab": {
          "base_uri": "https://localhost:8080/"
        },
        "id": "DgrCWJ8T2KGc",
        "outputId": "3cc2fa9d-b00c-4b9a-e17f-937fc3a661be"
      },
      "outputs": [
        {
          "output_type": "stream",
          "name": "stdout",
          "text": [
            "<class 'pandas.core.frame.DataFrame'>\n",
            "RangeIndex: 7043 entries, 0 to 7042\n",
            "Data columns (total 5 columns):\n",
            " #   Column          Non-Null Count  Dtype \n",
            "---  ------          --------------  ----- \n",
            " 0   customer_id     7043 non-null   object\n",
            " 1   gender          7043 non-null   object\n",
            " 2   senior_citizen  7043 non-null   int64 \n",
            " 3   partner         7043 non-null   object\n",
            " 4   dependents      7043 non-null   object\n",
            "dtypes: int64(1), object(4)\n",
            "memory usage: 275.2+ KB\n"
          ]
        }
      ],
      "source": [
        "df_personal.info()"
      ]
    },
    {
      "cell_type": "code",
      "execution_count": 53,
      "metadata": {
        "colab": {
          "base_uri": "https://localhost:8080/",
          "height": 143
        },
        "id": "ej3mVCxa2EDy",
        "outputId": "3b5251d9-0947-4770-b80c-929674188b66"
      },
      "outputs": [
        {
          "output_type": "execute_result",
          "data": {
            "text/plain": [
              "     customer_id  gender  senior_citizen partner dependents\n",
              "4390  0377-JBKKT    Male               0     Yes        Yes\n",
              "156   9167-APMXZ  Female               0      No         No\n",
              "666   7538-GWHML  Female               0      No         No"
            ],
            "text/html": [
              "\n",
              "  <div id=\"df-fb439c16-4777-42f7-a7ed-86251e97bc02\">\n",
              "    <div class=\"colab-df-container\">\n",
              "      <div>\n",
              "<style scoped>\n",
              "    .dataframe tbody tr th:only-of-type {\n",
              "        vertical-align: middle;\n",
              "    }\n",
              "\n",
              "    .dataframe tbody tr th {\n",
              "        vertical-align: top;\n",
              "    }\n",
              "\n",
              "    .dataframe thead th {\n",
              "        text-align: right;\n",
              "    }\n",
              "</style>\n",
              "<table border=\"1\" class=\"dataframe\">\n",
              "  <thead>\n",
              "    <tr style=\"text-align: right;\">\n",
              "      <th></th>\n",
              "      <th>customer_id</th>\n",
              "      <th>gender</th>\n",
              "      <th>senior_citizen</th>\n",
              "      <th>partner</th>\n",
              "      <th>dependents</th>\n",
              "    </tr>\n",
              "  </thead>\n",
              "  <tbody>\n",
              "    <tr>\n",
              "      <th>4390</th>\n",
              "      <td>0377-JBKKT</td>\n",
              "      <td>Male</td>\n",
              "      <td>0</td>\n",
              "      <td>Yes</td>\n",
              "      <td>Yes</td>\n",
              "    </tr>\n",
              "    <tr>\n",
              "      <th>156</th>\n",
              "      <td>9167-APMXZ</td>\n",
              "      <td>Female</td>\n",
              "      <td>0</td>\n",
              "      <td>No</td>\n",
              "      <td>No</td>\n",
              "    </tr>\n",
              "    <tr>\n",
              "      <th>666</th>\n",
              "      <td>7538-GWHML</td>\n",
              "      <td>Female</td>\n",
              "      <td>0</td>\n",
              "      <td>No</td>\n",
              "      <td>No</td>\n",
              "    </tr>\n",
              "  </tbody>\n",
              "</table>\n",
              "</div>\n",
              "      <button class=\"colab-df-convert\" onclick=\"convertToInteractive('df-fb439c16-4777-42f7-a7ed-86251e97bc02')\"\n",
              "              title=\"Convert this dataframe to an interactive table.\"\n",
              "              style=\"display:none;\">\n",
              "        \n",
              "  <svg xmlns=\"http://www.w3.org/2000/svg\" height=\"24px\"viewBox=\"0 0 24 24\"\n",
              "       width=\"24px\">\n",
              "    <path d=\"M0 0h24v24H0V0z\" fill=\"none\"/>\n",
              "    <path d=\"M18.56 5.44l.94 2.06.94-2.06 2.06-.94-2.06-.94-.94-2.06-.94 2.06-2.06.94zm-11 1L8.5 8.5l.94-2.06 2.06-.94-2.06-.94L8.5 2.5l-.94 2.06-2.06.94zm10 10l.94 2.06.94-2.06 2.06-.94-2.06-.94-.94-2.06-.94 2.06-2.06.94z\"/><path d=\"M17.41 7.96l-1.37-1.37c-.4-.4-.92-.59-1.43-.59-.52 0-1.04.2-1.43.59L10.3 9.45l-7.72 7.72c-.78.78-.78 2.05 0 2.83L4 21.41c.39.39.9.59 1.41.59.51 0 1.02-.2 1.41-.59l7.78-7.78 2.81-2.81c.8-.78.8-2.07 0-2.86zM5.41 20L4 18.59l7.72-7.72 1.47 1.35L5.41 20z\"/>\n",
              "  </svg>\n",
              "      </button>\n",
              "      \n",
              "  <style>\n",
              "    .colab-df-container {\n",
              "      display:flex;\n",
              "      flex-wrap:wrap;\n",
              "      gap: 12px;\n",
              "    }\n",
              "\n",
              "    .colab-df-convert {\n",
              "      background-color: #E8F0FE;\n",
              "      border: none;\n",
              "      border-radius: 50%;\n",
              "      cursor: pointer;\n",
              "      display: none;\n",
              "      fill: #1967D2;\n",
              "      height: 32px;\n",
              "      padding: 0 0 0 0;\n",
              "      width: 32px;\n",
              "    }\n",
              "\n",
              "    .colab-df-convert:hover {\n",
              "      background-color: #E2EBFA;\n",
              "      box-shadow: 0px 1px 2px rgba(60, 64, 67, 0.3), 0px 1px 3px 1px rgba(60, 64, 67, 0.15);\n",
              "      fill: #174EA6;\n",
              "    }\n",
              "\n",
              "    [theme=dark] .colab-df-convert {\n",
              "      background-color: #3B4455;\n",
              "      fill: #D2E3FC;\n",
              "    }\n",
              "\n",
              "    [theme=dark] .colab-df-convert:hover {\n",
              "      background-color: #434B5C;\n",
              "      box-shadow: 0px 1px 3px 1px rgba(0, 0, 0, 0.15);\n",
              "      filter: drop-shadow(0px 1px 2px rgba(0, 0, 0, 0.3));\n",
              "      fill: #FFFFFF;\n",
              "    }\n",
              "  </style>\n",
              "\n",
              "      <script>\n",
              "        const buttonEl =\n",
              "          document.querySelector('#df-fb439c16-4777-42f7-a7ed-86251e97bc02 button.colab-df-convert');\n",
              "        buttonEl.style.display =\n",
              "          google.colab.kernel.accessAllowed ? 'block' : 'none';\n",
              "\n",
              "        async function convertToInteractive(key) {\n",
              "          const element = document.querySelector('#df-fb439c16-4777-42f7-a7ed-86251e97bc02');\n",
              "          const dataTable =\n",
              "            await google.colab.kernel.invokeFunction('convertToInteractive',\n",
              "                                                     [key], {});\n",
              "          if (!dataTable) return;\n",
              "\n",
              "          const docLinkHtml = 'Like what you see? Visit the ' +\n",
              "            '<a target=\"_blank\" href=https://colab.research.google.com/notebooks/data_table.ipynb>data table notebook</a>'\n",
              "            + ' to learn more about interactive tables.';\n",
              "          element.innerHTML = '';\n",
              "          dataTable['output_type'] = 'display_data';\n",
              "          await google.colab.output.renderOutput(dataTable, element);\n",
              "          const docLink = document.createElement('div');\n",
              "          docLink.innerHTML = docLinkHtml;\n",
              "          element.appendChild(docLink);\n",
              "        }\n",
              "      </script>\n",
              "    </div>\n",
              "  </div>\n",
              "  "
            ]
          },
          "metadata": {},
          "execution_count": 53
        }
      ],
      "source": [
        "df_personal.sample(3)"
      ]
    },
    {
      "cell_type": "markdown",
      "metadata": {
        "id": "uvdBuI3-2NWq"
      },
      "source": [
        "### Processing the \"phone\" table"
      ]
    },
    {
      "cell_type": "code",
      "execution_count": 54,
      "metadata": {
        "colab": {
          "base_uri": "https://localhost:8080/"
        },
        "id": "aoZ7W76s2GgA",
        "outputId": "b2afb0d1-9fcf-4154-8d5c-537dc96d7c4b"
      },
      "outputs": [
        {
          "output_type": "execute_result",
          "data": {
            "text/plain": [
              "Index(['customerID', 'MultipleLines'], dtype='object')"
            ]
          },
          "metadata": {},
          "execution_count": 54
        }
      ],
      "source": [
        "df_phone.columns"
      ]
    },
    {
      "cell_type": "code",
      "execution_count": 55,
      "metadata": {
        "id": "6gpwryi22Zor"
      },
      "outputs": [],
      "source": [
        "df_phone.columns = ['customer_id', 'multiple_lines']"
      ]
    },
    {
      "cell_type": "code",
      "execution_count": 56,
      "metadata": {
        "colab": {
          "base_uri": "https://localhost:8080/"
        },
        "id": "Wn8GKLJ22ip9",
        "outputId": "d91a782a-67f7-482d-9237-4e881efc76fc"
      },
      "outputs": [
        {
          "output_type": "stream",
          "name": "stdout",
          "text": [
            "<class 'pandas.core.frame.DataFrame'>\n",
            "RangeIndex: 6361 entries, 0 to 6360\n",
            "Data columns (total 2 columns):\n",
            " #   Column          Non-Null Count  Dtype \n",
            "---  ------          --------------  ----- \n",
            " 0   customer_id     6361 non-null   object\n",
            " 1   multiple_lines  6361 non-null   object\n",
            "dtypes: object(2)\n",
            "memory usage: 99.5+ KB\n"
          ]
        }
      ],
      "source": [
        "df_phone.info()"
      ]
    },
    {
      "cell_type": "code",
      "execution_count": 57,
      "metadata": {
        "colab": {
          "base_uri": "https://localhost:8080/",
          "height": 143
        },
        "id": "JHDCBDD721r9",
        "outputId": "1dd742b4-3018-45cc-f1c0-a2508a9c1cee"
      },
      "outputs": [
        {
          "output_type": "execute_result",
          "data": {
            "text/plain": [
              "     customer_id multiple_lines\n",
              "3789  3470-BTGQO             No\n",
              "324   1010-DIAUQ             No\n",
              "1811  4373-MAVJG            Yes"
            ],
            "text/html": [
              "\n",
              "  <div id=\"df-7fc03e46-1ae2-4153-9cac-4bdde07ce091\">\n",
              "    <div class=\"colab-df-container\">\n",
              "      <div>\n",
              "<style scoped>\n",
              "    .dataframe tbody tr th:only-of-type {\n",
              "        vertical-align: middle;\n",
              "    }\n",
              "\n",
              "    .dataframe tbody tr th {\n",
              "        vertical-align: top;\n",
              "    }\n",
              "\n",
              "    .dataframe thead th {\n",
              "        text-align: right;\n",
              "    }\n",
              "</style>\n",
              "<table border=\"1\" class=\"dataframe\">\n",
              "  <thead>\n",
              "    <tr style=\"text-align: right;\">\n",
              "      <th></th>\n",
              "      <th>customer_id</th>\n",
              "      <th>multiple_lines</th>\n",
              "    </tr>\n",
              "  </thead>\n",
              "  <tbody>\n",
              "    <tr>\n",
              "      <th>3789</th>\n",
              "      <td>3470-BTGQO</td>\n",
              "      <td>No</td>\n",
              "    </tr>\n",
              "    <tr>\n",
              "      <th>324</th>\n",
              "      <td>1010-DIAUQ</td>\n",
              "      <td>No</td>\n",
              "    </tr>\n",
              "    <tr>\n",
              "      <th>1811</th>\n",
              "      <td>4373-MAVJG</td>\n",
              "      <td>Yes</td>\n",
              "    </tr>\n",
              "  </tbody>\n",
              "</table>\n",
              "</div>\n",
              "      <button class=\"colab-df-convert\" onclick=\"convertToInteractive('df-7fc03e46-1ae2-4153-9cac-4bdde07ce091')\"\n",
              "              title=\"Convert this dataframe to an interactive table.\"\n",
              "              style=\"display:none;\">\n",
              "        \n",
              "  <svg xmlns=\"http://www.w3.org/2000/svg\" height=\"24px\"viewBox=\"0 0 24 24\"\n",
              "       width=\"24px\">\n",
              "    <path d=\"M0 0h24v24H0V0z\" fill=\"none\"/>\n",
              "    <path d=\"M18.56 5.44l.94 2.06.94-2.06 2.06-.94-2.06-.94-.94-2.06-.94 2.06-2.06.94zm-11 1L8.5 8.5l.94-2.06 2.06-.94-2.06-.94L8.5 2.5l-.94 2.06-2.06.94zm10 10l.94 2.06.94-2.06 2.06-.94-2.06-.94-.94-2.06-.94 2.06-2.06.94z\"/><path d=\"M17.41 7.96l-1.37-1.37c-.4-.4-.92-.59-1.43-.59-.52 0-1.04.2-1.43.59L10.3 9.45l-7.72 7.72c-.78.78-.78 2.05 0 2.83L4 21.41c.39.39.9.59 1.41.59.51 0 1.02-.2 1.41-.59l7.78-7.78 2.81-2.81c.8-.78.8-2.07 0-2.86zM5.41 20L4 18.59l7.72-7.72 1.47 1.35L5.41 20z\"/>\n",
              "  </svg>\n",
              "      </button>\n",
              "      \n",
              "  <style>\n",
              "    .colab-df-container {\n",
              "      display:flex;\n",
              "      flex-wrap:wrap;\n",
              "      gap: 12px;\n",
              "    }\n",
              "\n",
              "    .colab-df-convert {\n",
              "      background-color: #E8F0FE;\n",
              "      border: none;\n",
              "      border-radius: 50%;\n",
              "      cursor: pointer;\n",
              "      display: none;\n",
              "      fill: #1967D2;\n",
              "      height: 32px;\n",
              "      padding: 0 0 0 0;\n",
              "      width: 32px;\n",
              "    }\n",
              "\n",
              "    .colab-df-convert:hover {\n",
              "      background-color: #E2EBFA;\n",
              "      box-shadow: 0px 1px 2px rgba(60, 64, 67, 0.3), 0px 1px 3px 1px rgba(60, 64, 67, 0.15);\n",
              "      fill: #174EA6;\n",
              "    }\n",
              "\n",
              "    [theme=dark] .colab-df-convert {\n",
              "      background-color: #3B4455;\n",
              "      fill: #D2E3FC;\n",
              "    }\n",
              "\n",
              "    [theme=dark] .colab-df-convert:hover {\n",
              "      background-color: #434B5C;\n",
              "      box-shadow: 0px 1px 3px 1px rgba(0, 0, 0, 0.15);\n",
              "      filter: drop-shadow(0px 1px 2px rgba(0, 0, 0, 0.3));\n",
              "      fill: #FFFFFF;\n",
              "    }\n",
              "  </style>\n",
              "\n",
              "      <script>\n",
              "        const buttonEl =\n",
              "          document.querySelector('#df-7fc03e46-1ae2-4153-9cac-4bdde07ce091 button.colab-df-convert');\n",
              "        buttonEl.style.display =\n",
              "          google.colab.kernel.accessAllowed ? 'block' : 'none';\n",
              "\n",
              "        async function convertToInteractive(key) {\n",
              "          const element = document.querySelector('#df-7fc03e46-1ae2-4153-9cac-4bdde07ce091');\n",
              "          const dataTable =\n",
              "            await google.colab.kernel.invokeFunction('convertToInteractive',\n",
              "                                                     [key], {});\n",
              "          if (!dataTable) return;\n",
              "\n",
              "          const docLinkHtml = 'Like what you see? Visit the ' +\n",
              "            '<a target=\"_blank\" href=https://colab.research.google.com/notebooks/data_table.ipynb>data table notebook</a>'\n",
              "            + ' to learn more about interactive tables.';\n",
              "          element.innerHTML = '';\n",
              "          dataTable['output_type'] = 'display_data';\n",
              "          await google.colab.output.renderOutput(dataTable, element);\n",
              "          const docLink = document.createElement('div');\n",
              "          docLink.innerHTML = docLinkHtml;\n",
              "          element.appendChild(docLink);\n",
              "        }\n",
              "      </script>\n",
              "    </div>\n",
              "  </div>\n",
              "  "
            ]
          },
          "metadata": {},
          "execution_count": 57
        }
      ],
      "source": [
        "df_phone.sample(3)"
      ]
    },
    {
      "cell_type": "markdown",
      "metadata": {
        "id": "dC1XznbA3bjP"
      },
      "source": [
        "### Merging"
      ]
    },
    {
      "cell_type": "markdown",
      "metadata": {
        "id": "_nLCRyC_aScX"
      },
      "source": [
        "Let's merge all tables using the key value of the column `customer_id`, and fill in the missing data according to the conclusions from the initial data overview."
      ]
    },
    {
      "cell_type": "code",
      "execution_count": 58,
      "metadata": {
        "id": "A8Wc7nne23Iw"
      },
      "outputs": [],
      "source": [
        "df = df_contract.merge(df_personal, on='customer_id', how='left')"
      ]
    },
    {
      "cell_type": "code",
      "execution_count": 59,
      "metadata": {
        "colab": {
          "base_uri": "https://localhost:8080/"
        },
        "id": "zbsl3XFd4a4U",
        "outputId": "a9b86dee-6718-448b-9cc9-99f6d4b30a4a"
      },
      "outputs": [
        {
          "output_type": "stream",
          "name": "stdout",
          "text": [
            "<class 'pandas.core.frame.DataFrame'>\n",
            "Int64Index: 7043 entries, 0 to 7042\n",
            "Data columns (total 12 columns):\n",
            " #   Column             Non-Null Count  Dtype  \n",
            "---  ------             --------------  -----  \n",
            " 0   customer_id        7043 non-null   object \n",
            " 1   type               7043 non-null   object \n",
            " 2   paperless_billing  7043 non-null   object \n",
            " 3   payment_method     7043 non-null   object \n",
            " 4   monthly_charges    7043 non-null   float64\n",
            " 5   total_charges      7043 non-null   float64\n",
            " 6   left               7043 non-null   float64\n",
            " 7   loyalty            7043 non-null   int64  \n",
            " 8   gender             7043 non-null   object \n",
            " 9   senior_citizen     7043 non-null   int64  \n",
            " 10  partner            7043 non-null   object \n",
            " 11  dependents         7043 non-null   object \n",
            "dtypes: float64(3), int64(2), object(7)\n",
            "memory usage: 715.3+ KB\n"
          ]
        }
      ],
      "source": [
        "df.info()"
      ]
    },
    {
      "cell_type": "code",
      "execution_count": 60,
      "metadata": {
        "id": "joVHjvB94pyJ"
      },
      "outputs": [],
      "source": [
        "df = df.merge(df_phone, on='customer_id', how='left')"
      ]
    },
    {
      "cell_type": "code",
      "execution_count": 61,
      "metadata": {
        "colab": {
          "base_uri": "https://localhost:8080/"
        },
        "id": "dAYowOVu41nj",
        "outputId": "977475df-048f-4848-a1f5-6c888d149ab0"
      },
      "outputs": [
        {
          "output_type": "stream",
          "name": "stdout",
          "text": [
            "<class 'pandas.core.frame.DataFrame'>\n",
            "Int64Index: 7043 entries, 0 to 7042\n",
            "Data columns (total 13 columns):\n",
            " #   Column             Non-Null Count  Dtype  \n",
            "---  ------             --------------  -----  \n",
            " 0   customer_id        7043 non-null   object \n",
            " 1   type               7043 non-null   object \n",
            " 2   paperless_billing  7043 non-null   object \n",
            " 3   payment_method     7043 non-null   object \n",
            " 4   monthly_charges    7043 non-null   float64\n",
            " 5   total_charges      7043 non-null   float64\n",
            " 6   left               7043 non-null   float64\n",
            " 7   loyalty            7043 non-null   int64  \n",
            " 8   gender             7043 non-null   object \n",
            " 9   senior_citizen     7043 non-null   int64  \n",
            " 10  partner            7043 non-null   object \n",
            " 11  dependents         7043 non-null   object \n",
            " 12  multiple_lines     6361 non-null   object \n",
            "dtypes: float64(3), int64(2), object(8)\n",
            "memory usage: 770.3+ KB\n"
          ]
        }
      ],
      "source": [
        "df.info()"
      ]
    },
    {
      "cell_type": "code",
      "execution_count": 62,
      "metadata": {
        "id": "PxE9vNsP43n8"
      },
      "outputs": [],
      "source": [
        "df['multiple_lines'] = df['multiple_lines'].fillna('no_phone')"
      ]
    },
    {
      "cell_type": "code",
      "execution_count": 63,
      "metadata": {
        "id": "n2U1Qf6w5irG"
      },
      "outputs": [],
      "source": [
        "df = df.merge(df_internet, on='customer_id', how='left')"
      ]
    },
    {
      "cell_type": "code",
      "execution_count": 64,
      "metadata": {
        "colab": {
          "base_uri": "https://localhost:8080/"
        },
        "id": "g6A-FAgJ6Ixn",
        "outputId": "748c74ff-b76e-45ac-82be-0eb0e41fc0ee"
      },
      "outputs": [
        {
          "output_type": "stream",
          "name": "stdout",
          "text": [
            "<class 'pandas.core.frame.DataFrame'>\n",
            "Int64Index: 7043 entries, 0 to 7042\n",
            "Data columns (total 20 columns):\n",
            " #   Column             Non-Null Count  Dtype  \n",
            "---  ------             --------------  -----  \n",
            " 0   customer_id        7043 non-null   object \n",
            " 1   type               7043 non-null   object \n",
            " 2   paperless_billing  7043 non-null   object \n",
            " 3   payment_method     7043 non-null   object \n",
            " 4   monthly_charges    7043 non-null   float64\n",
            " 5   total_charges      7043 non-null   float64\n",
            " 6   left               7043 non-null   float64\n",
            " 7   loyalty            7043 non-null   int64  \n",
            " 8   gender             7043 non-null   object \n",
            " 9   senior_citizen     7043 non-null   int64  \n",
            " 10  partner            7043 non-null   object \n",
            " 11  dependents         7043 non-null   object \n",
            " 12  multiple_lines     7043 non-null   object \n",
            " 13  internet_service   5517 non-null   object \n",
            " 14  online_security    5517 non-null   object \n",
            " 15  online_backup      5517 non-null   object \n",
            " 16  device_protection  5517 non-null   object \n",
            " 17  tech_support       5517 non-null   object \n",
            " 18  streaming_tv       5517 non-null   object \n",
            " 19  streaming_movies   5517 non-null   object \n",
            "dtypes: float64(3), int64(2), object(15)\n",
            "memory usage: 1.1+ MB\n"
          ]
        }
      ],
      "source": [
        "df.info()"
      ]
    },
    {
      "cell_type": "code",
      "execution_count": 65,
      "metadata": {
        "colab": {
          "base_uri": "https://localhost:8080/",
          "height": 409
        },
        "id": "MBtoajHa6nI5",
        "outputId": "21c84119-da00-4c8f-95eb-0881a2f3d1a7"
      },
      "outputs": [
        {
          "output_type": "execute_result",
          "data": {
            "text/plain": [
              "  customer_id            type paperless_billing             payment_method  \\\n",
              "0  7590-VHVEG  Month-to-month               Yes           Electronic check   \n",
              "1  5575-GNVDE        One year                No               Mailed check   \n",
              "2  3668-QPYBK  Month-to-month               Yes               Mailed check   \n",
              "3  7795-CFOCW        One year                No  Bank transfer (automatic)   \n",
              "4  9237-HQITU  Month-to-month               Yes           Electronic check   \n",
              "\n",
              "   monthly_charges  total_charges  left  loyalty  gender  senior_citizen  \\\n",
              "0            29.85          29.85   0.0       31  Female               0   \n",
              "1            56.95        1889.50   0.0     1036    Male               0   \n",
              "2            53.85         108.15   1.0       61    Male               0   \n",
              "3            42.30        1840.75   0.0     1371    Male               0   \n",
              "4            70.70         151.65   1.0       61  Female               0   \n",
              "\n",
              "  partner dependents multiple_lines internet_service online_security  \\\n",
              "0     Yes         No       no_phone              DSL              No   \n",
              "1      No         No             No              DSL             Yes   \n",
              "2      No         No             No              DSL             Yes   \n",
              "3      No         No       no_phone              DSL             Yes   \n",
              "4      No         No             No      Fiber optic              No   \n",
              "\n",
              "  online_backup device_protection tech_support streaming_tv streaming_movies  \n",
              "0           Yes                No           No           No               No  \n",
              "1            No               Yes           No           No               No  \n",
              "2           Yes                No           No           No               No  \n",
              "3            No               Yes          Yes           No               No  \n",
              "4            No                No           No           No               No  "
            ],
            "text/html": [
              "\n",
              "  <div id=\"df-296fa1c6-711d-45e8-b2a7-086713cbefd7\">\n",
              "    <div class=\"colab-df-container\">\n",
              "      <div>\n",
              "<style scoped>\n",
              "    .dataframe tbody tr th:only-of-type {\n",
              "        vertical-align: middle;\n",
              "    }\n",
              "\n",
              "    .dataframe tbody tr th {\n",
              "        vertical-align: top;\n",
              "    }\n",
              "\n",
              "    .dataframe thead th {\n",
              "        text-align: right;\n",
              "    }\n",
              "</style>\n",
              "<table border=\"1\" class=\"dataframe\">\n",
              "  <thead>\n",
              "    <tr style=\"text-align: right;\">\n",
              "      <th></th>\n",
              "      <th>customer_id</th>\n",
              "      <th>type</th>\n",
              "      <th>paperless_billing</th>\n",
              "      <th>payment_method</th>\n",
              "      <th>monthly_charges</th>\n",
              "      <th>total_charges</th>\n",
              "      <th>left</th>\n",
              "      <th>loyalty</th>\n",
              "      <th>gender</th>\n",
              "      <th>senior_citizen</th>\n",
              "      <th>partner</th>\n",
              "      <th>dependents</th>\n",
              "      <th>multiple_lines</th>\n",
              "      <th>internet_service</th>\n",
              "      <th>online_security</th>\n",
              "      <th>online_backup</th>\n",
              "      <th>device_protection</th>\n",
              "      <th>tech_support</th>\n",
              "      <th>streaming_tv</th>\n",
              "      <th>streaming_movies</th>\n",
              "    </tr>\n",
              "  </thead>\n",
              "  <tbody>\n",
              "    <tr>\n",
              "      <th>0</th>\n",
              "      <td>7590-VHVEG</td>\n",
              "      <td>Month-to-month</td>\n",
              "      <td>Yes</td>\n",
              "      <td>Electronic check</td>\n",
              "      <td>29.85</td>\n",
              "      <td>29.85</td>\n",
              "      <td>0.0</td>\n",
              "      <td>31</td>\n",
              "      <td>Female</td>\n",
              "      <td>0</td>\n",
              "      <td>Yes</td>\n",
              "      <td>No</td>\n",
              "      <td>no_phone</td>\n",
              "      <td>DSL</td>\n",
              "      <td>No</td>\n",
              "      <td>Yes</td>\n",
              "      <td>No</td>\n",
              "      <td>No</td>\n",
              "      <td>No</td>\n",
              "      <td>No</td>\n",
              "    </tr>\n",
              "    <tr>\n",
              "      <th>1</th>\n",
              "      <td>5575-GNVDE</td>\n",
              "      <td>One year</td>\n",
              "      <td>No</td>\n",
              "      <td>Mailed check</td>\n",
              "      <td>56.95</td>\n",
              "      <td>1889.50</td>\n",
              "      <td>0.0</td>\n",
              "      <td>1036</td>\n",
              "      <td>Male</td>\n",
              "      <td>0</td>\n",
              "      <td>No</td>\n",
              "      <td>No</td>\n",
              "      <td>No</td>\n",
              "      <td>DSL</td>\n",
              "      <td>Yes</td>\n",
              "      <td>No</td>\n",
              "      <td>Yes</td>\n",
              "      <td>No</td>\n",
              "      <td>No</td>\n",
              "      <td>No</td>\n",
              "    </tr>\n",
              "    <tr>\n",
              "      <th>2</th>\n",
              "      <td>3668-QPYBK</td>\n",
              "      <td>Month-to-month</td>\n",
              "      <td>Yes</td>\n",
              "      <td>Mailed check</td>\n",
              "      <td>53.85</td>\n",
              "      <td>108.15</td>\n",
              "      <td>1.0</td>\n",
              "      <td>61</td>\n",
              "      <td>Male</td>\n",
              "      <td>0</td>\n",
              "      <td>No</td>\n",
              "      <td>No</td>\n",
              "      <td>No</td>\n",
              "      <td>DSL</td>\n",
              "      <td>Yes</td>\n",
              "      <td>Yes</td>\n",
              "      <td>No</td>\n",
              "      <td>No</td>\n",
              "      <td>No</td>\n",
              "      <td>No</td>\n",
              "    </tr>\n",
              "    <tr>\n",
              "      <th>3</th>\n",
              "      <td>7795-CFOCW</td>\n",
              "      <td>One year</td>\n",
              "      <td>No</td>\n",
              "      <td>Bank transfer (automatic)</td>\n",
              "      <td>42.30</td>\n",
              "      <td>1840.75</td>\n",
              "      <td>0.0</td>\n",
              "      <td>1371</td>\n",
              "      <td>Male</td>\n",
              "      <td>0</td>\n",
              "      <td>No</td>\n",
              "      <td>No</td>\n",
              "      <td>no_phone</td>\n",
              "      <td>DSL</td>\n",
              "      <td>Yes</td>\n",
              "      <td>No</td>\n",
              "      <td>Yes</td>\n",
              "      <td>Yes</td>\n",
              "      <td>No</td>\n",
              "      <td>No</td>\n",
              "    </tr>\n",
              "    <tr>\n",
              "      <th>4</th>\n",
              "      <td>9237-HQITU</td>\n",
              "      <td>Month-to-month</td>\n",
              "      <td>Yes</td>\n",
              "      <td>Electronic check</td>\n",
              "      <td>70.70</td>\n",
              "      <td>151.65</td>\n",
              "      <td>1.0</td>\n",
              "      <td>61</td>\n",
              "      <td>Female</td>\n",
              "      <td>0</td>\n",
              "      <td>No</td>\n",
              "      <td>No</td>\n",
              "      <td>No</td>\n",
              "      <td>Fiber optic</td>\n",
              "      <td>No</td>\n",
              "      <td>No</td>\n",
              "      <td>No</td>\n",
              "      <td>No</td>\n",
              "      <td>No</td>\n",
              "      <td>No</td>\n",
              "    </tr>\n",
              "  </tbody>\n",
              "</table>\n",
              "</div>\n",
              "      <button class=\"colab-df-convert\" onclick=\"convertToInteractive('df-296fa1c6-711d-45e8-b2a7-086713cbefd7')\"\n",
              "              title=\"Convert this dataframe to an interactive table.\"\n",
              "              style=\"display:none;\">\n",
              "        \n",
              "  <svg xmlns=\"http://www.w3.org/2000/svg\" height=\"24px\"viewBox=\"0 0 24 24\"\n",
              "       width=\"24px\">\n",
              "    <path d=\"M0 0h24v24H0V0z\" fill=\"none\"/>\n",
              "    <path d=\"M18.56 5.44l.94 2.06.94-2.06 2.06-.94-2.06-.94-.94-2.06-.94 2.06-2.06.94zm-11 1L8.5 8.5l.94-2.06 2.06-.94-2.06-.94L8.5 2.5l-.94 2.06-2.06.94zm10 10l.94 2.06.94-2.06 2.06-.94-2.06-.94-.94-2.06-.94 2.06-2.06.94z\"/><path d=\"M17.41 7.96l-1.37-1.37c-.4-.4-.92-.59-1.43-.59-.52 0-1.04.2-1.43.59L10.3 9.45l-7.72 7.72c-.78.78-.78 2.05 0 2.83L4 21.41c.39.39.9.59 1.41.59.51 0 1.02-.2 1.41-.59l7.78-7.78 2.81-2.81c.8-.78.8-2.07 0-2.86zM5.41 20L4 18.59l7.72-7.72 1.47 1.35L5.41 20z\"/>\n",
              "  </svg>\n",
              "      </button>\n",
              "      \n",
              "  <style>\n",
              "    .colab-df-container {\n",
              "      display:flex;\n",
              "      flex-wrap:wrap;\n",
              "      gap: 12px;\n",
              "    }\n",
              "\n",
              "    .colab-df-convert {\n",
              "      background-color: #E8F0FE;\n",
              "      border: none;\n",
              "      border-radius: 50%;\n",
              "      cursor: pointer;\n",
              "      display: none;\n",
              "      fill: #1967D2;\n",
              "      height: 32px;\n",
              "      padding: 0 0 0 0;\n",
              "      width: 32px;\n",
              "    }\n",
              "\n",
              "    .colab-df-convert:hover {\n",
              "      background-color: #E2EBFA;\n",
              "      box-shadow: 0px 1px 2px rgba(60, 64, 67, 0.3), 0px 1px 3px 1px rgba(60, 64, 67, 0.15);\n",
              "      fill: #174EA6;\n",
              "    }\n",
              "\n",
              "    [theme=dark] .colab-df-convert {\n",
              "      background-color: #3B4455;\n",
              "      fill: #D2E3FC;\n",
              "    }\n",
              "\n",
              "    [theme=dark] .colab-df-convert:hover {\n",
              "      background-color: #434B5C;\n",
              "      box-shadow: 0px 1px 3px 1px rgba(0, 0, 0, 0.15);\n",
              "      filter: drop-shadow(0px 1px 2px rgba(0, 0, 0, 0.3));\n",
              "      fill: #FFFFFF;\n",
              "    }\n",
              "  </style>\n",
              "\n",
              "      <script>\n",
              "        const buttonEl =\n",
              "          document.querySelector('#df-296fa1c6-711d-45e8-b2a7-086713cbefd7 button.colab-df-convert');\n",
              "        buttonEl.style.display =\n",
              "          google.colab.kernel.accessAllowed ? 'block' : 'none';\n",
              "\n",
              "        async function convertToInteractive(key) {\n",
              "          const element = document.querySelector('#df-296fa1c6-711d-45e8-b2a7-086713cbefd7');\n",
              "          const dataTable =\n",
              "            await google.colab.kernel.invokeFunction('convertToInteractive',\n",
              "                                                     [key], {});\n",
              "          if (!dataTable) return;\n",
              "\n",
              "          const docLinkHtml = 'Like what you see? Visit the ' +\n",
              "            '<a target=\"_blank\" href=https://colab.research.google.com/notebooks/data_table.ipynb>data table notebook</a>'\n",
              "            + ' to learn more about interactive tables.';\n",
              "          element.innerHTML = '';\n",
              "          dataTable['output_type'] = 'display_data';\n",
              "          await google.colab.output.renderOutput(dataTable, element);\n",
              "          const docLink = document.createElement('div');\n",
              "          docLink.innerHTML = docLinkHtml;\n",
              "          element.appendChild(docLink);\n",
              "        }\n",
              "      </script>\n",
              "    </div>\n",
              "  </div>\n",
              "  "
            ]
          },
          "metadata": {},
          "execution_count": 65
        }
      ],
      "source": [
        "df.head()"
      ]
    },
    {
      "cell_type": "code",
      "execution_count": 66,
      "metadata": {
        "id": "Pv_A0L6l6Kli"
      },
      "outputs": [],
      "source": [
        "df['internet_service'] = df['internet_service'].fillna('no_internet')"
      ]
    },
    {
      "cell_type": "code",
      "execution_count": 67,
      "metadata": {
        "colab": {
          "base_uri": "https://localhost:8080/"
        },
        "id": "StbC27A96ZYS",
        "outputId": "2cab1588-256f-4e74-89be-9cfa7662f603"
      },
      "outputs": [
        {
          "output_type": "execute_result",
          "data": {
            "text/plain": [
              "Index(['customer_id', 'internet_service', 'online_security', 'online_backup',\n",
              "       'device_protection', 'tech_support', 'streaming_tv',\n",
              "       'streaming_movies'],\n",
              "      dtype='object')"
            ]
          },
          "metadata": {},
          "execution_count": 67
        }
      ],
      "source": [
        "df_internet.columns"
      ]
    },
    {
      "cell_type": "code",
      "execution_count": 68,
      "metadata": {
        "colab": {
          "base_uri": "https://localhost:8080/",
          "height": 239
        },
        "id": "Q7DIgMN90oU7",
        "outputId": "35edfaf8-a67c-4a73-8791-cc1b7386801a"
      },
      "outputs": [
        {
          "output_type": "execute_result",
          "data": {
            "text/plain": [
              "       customer_id internet_service online_security online_backup  \\\n",
              "count         5517             5517            5517          5517   \n",
              "unique        5517                2               2             2   \n",
              "top     7590-VHVEG      Fiber optic              No            No   \n",
              "freq             1             3096            3498          3088   \n",
              "\n",
              "       device_protection tech_support streaming_tv streaming_movies  \n",
              "count               5517         5517         5517             5517  \n",
              "unique                 2            2            2                2  \n",
              "top                   No           No           No               No  \n",
              "freq                3095         3473         2810             2785  "
            ],
            "text/html": [
              "\n",
              "  <div id=\"df-ebc34bb2-7320-4d7d-9687-84713c56af13\">\n",
              "    <div class=\"colab-df-container\">\n",
              "      <div>\n",
              "<style scoped>\n",
              "    .dataframe tbody tr th:only-of-type {\n",
              "        vertical-align: middle;\n",
              "    }\n",
              "\n",
              "    .dataframe tbody tr th {\n",
              "        vertical-align: top;\n",
              "    }\n",
              "\n",
              "    .dataframe thead th {\n",
              "        text-align: right;\n",
              "    }\n",
              "</style>\n",
              "<table border=\"1\" class=\"dataframe\">\n",
              "  <thead>\n",
              "    <tr style=\"text-align: right;\">\n",
              "      <th></th>\n",
              "      <th>customer_id</th>\n",
              "      <th>internet_service</th>\n",
              "      <th>online_security</th>\n",
              "      <th>online_backup</th>\n",
              "      <th>device_protection</th>\n",
              "      <th>tech_support</th>\n",
              "      <th>streaming_tv</th>\n",
              "      <th>streaming_movies</th>\n",
              "    </tr>\n",
              "  </thead>\n",
              "  <tbody>\n",
              "    <tr>\n",
              "      <th>count</th>\n",
              "      <td>5517</td>\n",
              "      <td>5517</td>\n",
              "      <td>5517</td>\n",
              "      <td>5517</td>\n",
              "      <td>5517</td>\n",
              "      <td>5517</td>\n",
              "      <td>5517</td>\n",
              "      <td>5517</td>\n",
              "    </tr>\n",
              "    <tr>\n",
              "      <th>unique</th>\n",
              "      <td>5517</td>\n",
              "      <td>2</td>\n",
              "      <td>2</td>\n",
              "      <td>2</td>\n",
              "      <td>2</td>\n",
              "      <td>2</td>\n",
              "      <td>2</td>\n",
              "      <td>2</td>\n",
              "    </tr>\n",
              "    <tr>\n",
              "      <th>top</th>\n",
              "      <td>7590-VHVEG</td>\n",
              "      <td>Fiber optic</td>\n",
              "      <td>No</td>\n",
              "      <td>No</td>\n",
              "      <td>No</td>\n",
              "      <td>No</td>\n",
              "      <td>No</td>\n",
              "      <td>No</td>\n",
              "    </tr>\n",
              "    <tr>\n",
              "      <th>freq</th>\n",
              "      <td>1</td>\n",
              "      <td>3096</td>\n",
              "      <td>3498</td>\n",
              "      <td>3088</td>\n",
              "      <td>3095</td>\n",
              "      <td>3473</td>\n",
              "      <td>2810</td>\n",
              "      <td>2785</td>\n",
              "    </tr>\n",
              "  </tbody>\n",
              "</table>\n",
              "</div>\n",
              "      <button class=\"colab-df-convert\" onclick=\"convertToInteractive('df-ebc34bb2-7320-4d7d-9687-84713c56af13')\"\n",
              "              title=\"Convert this dataframe to an interactive table.\"\n",
              "              style=\"display:none;\">\n",
              "        \n",
              "  <svg xmlns=\"http://www.w3.org/2000/svg\" height=\"24px\"viewBox=\"0 0 24 24\"\n",
              "       width=\"24px\">\n",
              "    <path d=\"M0 0h24v24H0V0z\" fill=\"none\"/>\n",
              "    <path d=\"M18.56 5.44l.94 2.06.94-2.06 2.06-.94-2.06-.94-.94-2.06-.94 2.06-2.06.94zm-11 1L8.5 8.5l.94-2.06 2.06-.94-2.06-.94L8.5 2.5l-.94 2.06-2.06.94zm10 10l.94 2.06.94-2.06 2.06-.94-2.06-.94-.94-2.06-.94 2.06-2.06.94z\"/><path d=\"M17.41 7.96l-1.37-1.37c-.4-.4-.92-.59-1.43-.59-.52 0-1.04.2-1.43.59L10.3 9.45l-7.72 7.72c-.78.78-.78 2.05 0 2.83L4 21.41c.39.39.9.59 1.41.59.51 0 1.02-.2 1.41-.59l7.78-7.78 2.81-2.81c.8-.78.8-2.07 0-2.86zM5.41 20L4 18.59l7.72-7.72 1.47 1.35L5.41 20z\"/>\n",
              "  </svg>\n",
              "      </button>\n",
              "      \n",
              "  <style>\n",
              "    .colab-df-container {\n",
              "      display:flex;\n",
              "      flex-wrap:wrap;\n",
              "      gap: 12px;\n",
              "    }\n",
              "\n",
              "    .colab-df-convert {\n",
              "      background-color: #E8F0FE;\n",
              "      border: none;\n",
              "      border-radius: 50%;\n",
              "      cursor: pointer;\n",
              "      display: none;\n",
              "      fill: #1967D2;\n",
              "      height: 32px;\n",
              "      padding: 0 0 0 0;\n",
              "      width: 32px;\n",
              "    }\n",
              "\n",
              "    .colab-df-convert:hover {\n",
              "      background-color: #E2EBFA;\n",
              "      box-shadow: 0px 1px 2px rgba(60, 64, 67, 0.3), 0px 1px 3px 1px rgba(60, 64, 67, 0.15);\n",
              "      fill: #174EA6;\n",
              "    }\n",
              "\n",
              "    [theme=dark] .colab-df-convert {\n",
              "      background-color: #3B4455;\n",
              "      fill: #D2E3FC;\n",
              "    }\n",
              "\n",
              "    [theme=dark] .colab-df-convert:hover {\n",
              "      background-color: #434B5C;\n",
              "      box-shadow: 0px 1px 3px 1px rgba(0, 0, 0, 0.15);\n",
              "      filter: drop-shadow(0px 1px 2px rgba(0, 0, 0, 0.3));\n",
              "      fill: #FFFFFF;\n",
              "    }\n",
              "  </style>\n",
              "\n",
              "      <script>\n",
              "        const buttonEl =\n",
              "          document.querySelector('#df-ebc34bb2-7320-4d7d-9687-84713c56af13 button.colab-df-convert');\n",
              "        buttonEl.style.display =\n",
              "          google.colab.kernel.accessAllowed ? 'block' : 'none';\n",
              "\n",
              "        async function convertToInteractive(key) {\n",
              "          const element = document.querySelector('#df-ebc34bb2-7320-4d7d-9687-84713c56af13');\n",
              "          const dataTable =\n",
              "            await google.colab.kernel.invokeFunction('convertToInteractive',\n",
              "                                                     [key], {});\n",
              "          if (!dataTable) return;\n",
              "\n",
              "          const docLinkHtml = 'Like what you see? Visit the ' +\n",
              "            '<a target=\"_blank\" href=https://colab.research.google.com/notebooks/data_table.ipynb>data table notebook</a>'\n",
              "            + ' to learn more about interactive tables.';\n",
              "          element.innerHTML = '';\n",
              "          dataTable['output_type'] = 'display_data';\n",
              "          await google.colab.output.renderOutput(dataTable, element);\n",
              "          const docLink = document.createElement('div');\n",
              "          docLink.innerHTML = docLinkHtml;\n",
              "          element.appendChild(docLink);\n",
              "        }\n",
              "      </script>\n",
              "    </div>\n",
              "  </div>\n",
              "  "
            ]
          },
          "metadata": {},
          "execution_count": 68
        }
      ],
      "source": [
        "df_internet.describe()"
      ]
    },
    {
      "cell_type": "code",
      "execution_count": 69,
      "metadata": {
        "id": "89JJ3ND86bxw"
      },
      "outputs": [],
      "source": [
        "for i in ['online_security', 'online_backup',\n",
        "       'device_protection', 'tech_support', 'streaming_tv',\n",
        "       'streaming_movies']:\n",
        "       df[i] = df[i].fillna('No')"
      ]
    },
    {
      "cell_type": "code",
      "execution_count": 70,
      "metadata": {
        "colab": {
          "base_uri": "https://localhost:8080/"
        },
        "id": "FE0OQRCE7FMn",
        "outputId": "a9e791b4-ba01-43e4-ce90-ec580a848adc"
      },
      "outputs": [
        {
          "output_type": "stream",
          "name": "stdout",
          "text": [
            "<class 'pandas.core.frame.DataFrame'>\n",
            "Int64Index: 7043 entries, 0 to 7042\n",
            "Data columns (total 20 columns):\n",
            " #   Column             Non-Null Count  Dtype  \n",
            "---  ------             --------------  -----  \n",
            " 0   customer_id        7043 non-null   object \n",
            " 1   type               7043 non-null   object \n",
            " 2   paperless_billing  7043 non-null   object \n",
            " 3   payment_method     7043 non-null   object \n",
            " 4   monthly_charges    7043 non-null   float64\n",
            " 5   total_charges      7043 non-null   float64\n",
            " 6   left               7043 non-null   float64\n",
            " 7   loyalty            7043 non-null   int64  \n",
            " 8   gender             7043 non-null   object \n",
            " 9   senior_citizen     7043 non-null   int64  \n",
            " 10  partner            7043 non-null   object \n",
            " 11  dependents         7043 non-null   object \n",
            " 12  multiple_lines     7043 non-null   object \n",
            " 13  internet_service   7043 non-null   object \n",
            " 14  online_security    7043 non-null   object \n",
            " 15  online_backup      7043 non-null   object \n",
            " 16  device_protection  7043 non-null   object \n",
            " 17  tech_support       7043 non-null   object \n",
            " 18  streaming_tv       7043 non-null   object \n",
            " 19  streaming_movies   7043 non-null   object \n",
            "dtypes: float64(3), int64(2), object(15)\n",
            "memory usage: 1.1+ MB\n"
          ]
        }
      ],
      "source": [
        "df.info()"
      ]
    },
    {
      "cell_type": "code",
      "execution_count": 71,
      "metadata": {
        "colab": {
          "base_uri": "https://localhost:8080/",
          "height": 374
        },
        "id": "lfhFWt1k7Gs3",
        "outputId": "70b625b1-6987-4865-cf6f-f9d6e4e23a8b"
      },
      "outputs": [
        {
          "output_type": "execute_result",
          "data": {
            "text/plain": [
              "     customer_id            type paperless_billing             payment_method  \\\n",
              "5038  4815-TUMEQ        One year               Yes               Mailed check   \n",
              "5137  8016-NCFVO  Month-to-month               Yes           Electronic check   \n",
              "341   6885-PKOAM        Two year                No    Credit card (automatic)   \n",
              "1162  9359-UGBTK        One year               Yes  Bank transfer (automatic)   \n",
              "5936  9418-RUKPH        Two year               Yes               Mailed check   \n",
              "\n",
              "      monthly_charges  total_charges  left  loyalty  gender  senior_citizen  \\\n",
              "5038            19.30         185.20   0.0      306  Female               0   \n",
              "5137           116.50        6382.55   0.0     1676    Male               1   \n",
              "341             85.75        6223.80   0.0     2163  Female               0   \n",
              "1162            72.35        4991.50   0.0     2041  Female               0   \n",
              "5936            19.95         756.40   0.0     1157  Female               0   \n",
              "\n",
              "     partner dependents multiple_lines internet_service online_security  \\\n",
              "5038      No         No             No      no_internet              No   \n",
              "5137      No         No            Yes      Fiber optic             Yes   \n",
              "341      Yes         No            Yes              DSL             Yes   \n",
              "1162      No         No             No              DSL             Yes   \n",
              "5936     Yes        Yes             No      no_internet              No   \n",
              "\n",
              "     online_backup device_protection tech_support streaming_tv  \\\n",
              "5038            No                No           No           No   \n",
              "5137           Yes               Yes          Yes          Yes   \n",
              "341            Yes               Yes          Yes          Yes   \n",
              "1162            No               Yes          Yes           No   \n",
              "5936            No                No           No           No   \n",
              "\n",
              "     streaming_movies  \n",
              "5038               No  \n",
              "5137              Yes  \n",
              "341               Yes  \n",
              "1162              Yes  \n",
              "5936               No  "
            ],
            "text/html": [
              "\n",
              "  <div id=\"df-50fe9573-b4ee-4ce0-a329-ed60d75235f5\">\n",
              "    <div class=\"colab-df-container\">\n",
              "      <div>\n",
              "<style scoped>\n",
              "    .dataframe tbody tr th:only-of-type {\n",
              "        vertical-align: middle;\n",
              "    }\n",
              "\n",
              "    .dataframe tbody tr th {\n",
              "        vertical-align: top;\n",
              "    }\n",
              "\n",
              "    .dataframe thead th {\n",
              "        text-align: right;\n",
              "    }\n",
              "</style>\n",
              "<table border=\"1\" class=\"dataframe\">\n",
              "  <thead>\n",
              "    <tr style=\"text-align: right;\">\n",
              "      <th></th>\n",
              "      <th>customer_id</th>\n",
              "      <th>type</th>\n",
              "      <th>paperless_billing</th>\n",
              "      <th>payment_method</th>\n",
              "      <th>monthly_charges</th>\n",
              "      <th>total_charges</th>\n",
              "      <th>left</th>\n",
              "      <th>loyalty</th>\n",
              "      <th>gender</th>\n",
              "      <th>senior_citizen</th>\n",
              "      <th>partner</th>\n",
              "      <th>dependents</th>\n",
              "      <th>multiple_lines</th>\n",
              "      <th>internet_service</th>\n",
              "      <th>online_security</th>\n",
              "      <th>online_backup</th>\n",
              "      <th>device_protection</th>\n",
              "      <th>tech_support</th>\n",
              "      <th>streaming_tv</th>\n",
              "      <th>streaming_movies</th>\n",
              "    </tr>\n",
              "  </thead>\n",
              "  <tbody>\n",
              "    <tr>\n",
              "      <th>5038</th>\n",
              "      <td>4815-TUMEQ</td>\n",
              "      <td>One year</td>\n",
              "      <td>Yes</td>\n",
              "      <td>Mailed check</td>\n",
              "      <td>19.30</td>\n",
              "      <td>185.20</td>\n",
              "      <td>0.0</td>\n",
              "      <td>306</td>\n",
              "      <td>Female</td>\n",
              "      <td>0</td>\n",
              "      <td>No</td>\n",
              "      <td>No</td>\n",
              "      <td>No</td>\n",
              "      <td>no_internet</td>\n",
              "      <td>No</td>\n",
              "      <td>No</td>\n",
              "      <td>No</td>\n",
              "      <td>No</td>\n",
              "      <td>No</td>\n",
              "      <td>No</td>\n",
              "    </tr>\n",
              "    <tr>\n",
              "      <th>5137</th>\n",
              "      <td>8016-NCFVO</td>\n",
              "      <td>Month-to-month</td>\n",
              "      <td>Yes</td>\n",
              "      <td>Electronic check</td>\n",
              "      <td>116.50</td>\n",
              "      <td>6382.55</td>\n",
              "      <td>0.0</td>\n",
              "      <td>1676</td>\n",
              "      <td>Male</td>\n",
              "      <td>1</td>\n",
              "      <td>No</td>\n",
              "      <td>No</td>\n",
              "      <td>Yes</td>\n",
              "      <td>Fiber optic</td>\n",
              "      <td>Yes</td>\n",
              "      <td>Yes</td>\n",
              "      <td>Yes</td>\n",
              "      <td>Yes</td>\n",
              "      <td>Yes</td>\n",
              "      <td>Yes</td>\n",
              "    </tr>\n",
              "    <tr>\n",
              "      <th>341</th>\n",
              "      <td>6885-PKOAM</td>\n",
              "      <td>Two year</td>\n",
              "      <td>No</td>\n",
              "      <td>Credit card (automatic)</td>\n",
              "      <td>85.75</td>\n",
              "      <td>6223.80</td>\n",
              "      <td>0.0</td>\n",
              "      <td>2163</td>\n",
              "      <td>Female</td>\n",
              "      <td>0</td>\n",
              "      <td>Yes</td>\n",
              "      <td>No</td>\n",
              "      <td>Yes</td>\n",
              "      <td>DSL</td>\n",
              "      <td>Yes</td>\n",
              "      <td>Yes</td>\n",
              "      <td>Yes</td>\n",
              "      <td>Yes</td>\n",
              "      <td>Yes</td>\n",
              "      <td>Yes</td>\n",
              "    </tr>\n",
              "    <tr>\n",
              "      <th>1162</th>\n",
              "      <td>9359-UGBTK</td>\n",
              "      <td>One year</td>\n",
              "      <td>Yes</td>\n",
              "      <td>Bank transfer (automatic)</td>\n",
              "      <td>72.35</td>\n",
              "      <td>4991.50</td>\n",
              "      <td>0.0</td>\n",
              "      <td>2041</td>\n",
              "      <td>Female</td>\n",
              "      <td>0</td>\n",
              "      <td>No</td>\n",
              "      <td>No</td>\n",
              "      <td>No</td>\n",
              "      <td>DSL</td>\n",
              "      <td>Yes</td>\n",
              "      <td>No</td>\n",
              "      <td>Yes</td>\n",
              "      <td>Yes</td>\n",
              "      <td>No</td>\n",
              "      <td>Yes</td>\n",
              "    </tr>\n",
              "    <tr>\n",
              "      <th>5936</th>\n",
              "      <td>9418-RUKPH</td>\n",
              "      <td>Two year</td>\n",
              "      <td>Yes</td>\n",
              "      <td>Mailed check</td>\n",
              "      <td>19.95</td>\n",
              "      <td>756.40</td>\n",
              "      <td>0.0</td>\n",
              "      <td>1157</td>\n",
              "      <td>Female</td>\n",
              "      <td>0</td>\n",
              "      <td>Yes</td>\n",
              "      <td>Yes</td>\n",
              "      <td>No</td>\n",
              "      <td>no_internet</td>\n",
              "      <td>No</td>\n",
              "      <td>No</td>\n",
              "      <td>No</td>\n",
              "      <td>No</td>\n",
              "      <td>No</td>\n",
              "      <td>No</td>\n",
              "    </tr>\n",
              "  </tbody>\n",
              "</table>\n",
              "</div>\n",
              "      <button class=\"colab-df-convert\" onclick=\"convertToInteractive('df-50fe9573-b4ee-4ce0-a329-ed60d75235f5')\"\n",
              "              title=\"Convert this dataframe to an interactive table.\"\n",
              "              style=\"display:none;\">\n",
              "        \n",
              "  <svg xmlns=\"http://www.w3.org/2000/svg\" height=\"24px\"viewBox=\"0 0 24 24\"\n",
              "       width=\"24px\">\n",
              "    <path d=\"M0 0h24v24H0V0z\" fill=\"none\"/>\n",
              "    <path d=\"M18.56 5.44l.94 2.06.94-2.06 2.06-.94-2.06-.94-.94-2.06-.94 2.06-2.06.94zm-11 1L8.5 8.5l.94-2.06 2.06-.94-2.06-.94L8.5 2.5l-.94 2.06-2.06.94zm10 10l.94 2.06.94-2.06 2.06-.94-2.06-.94-.94-2.06-.94 2.06-2.06.94z\"/><path d=\"M17.41 7.96l-1.37-1.37c-.4-.4-.92-.59-1.43-.59-.52 0-1.04.2-1.43.59L10.3 9.45l-7.72 7.72c-.78.78-.78 2.05 0 2.83L4 21.41c.39.39.9.59 1.41.59.51 0 1.02-.2 1.41-.59l7.78-7.78 2.81-2.81c.8-.78.8-2.07 0-2.86zM5.41 20L4 18.59l7.72-7.72 1.47 1.35L5.41 20z\"/>\n",
              "  </svg>\n",
              "      </button>\n",
              "      \n",
              "  <style>\n",
              "    .colab-df-container {\n",
              "      display:flex;\n",
              "      flex-wrap:wrap;\n",
              "      gap: 12px;\n",
              "    }\n",
              "\n",
              "    .colab-df-convert {\n",
              "      background-color: #E8F0FE;\n",
              "      border: none;\n",
              "      border-radius: 50%;\n",
              "      cursor: pointer;\n",
              "      display: none;\n",
              "      fill: #1967D2;\n",
              "      height: 32px;\n",
              "      padding: 0 0 0 0;\n",
              "      width: 32px;\n",
              "    }\n",
              "\n",
              "    .colab-df-convert:hover {\n",
              "      background-color: #E2EBFA;\n",
              "      box-shadow: 0px 1px 2px rgba(60, 64, 67, 0.3), 0px 1px 3px 1px rgba(60, 64, 67, 0.15);\n",
              "      fill: #174EA6;\n",
              "    }\n",
              "\n",
              "    [theme=dark] .colab-df-convert {\n",
              "      background-color: #3B4455;\n",
              "      fill: #D2E3FC;\n",
              "    }\n",
              "\n",
              "    [theme=dark] .colab-df-convert:hover {\n",
              "      background-color: #434B5C;\n",
              "      box-shadow: 0px 1px 3px 1px rgba(0, 0, 0, 0.15);\n",
              "      filter: drop-shadow(0px 1px 2px rgba(0, 0, 0, 0.3));\n",
              "      fill: #FFFFFF;\n",
              "    }\n",
              "  </style>\n",
              "\n",
              "      <script>\n",
              "        const buttonEl =\n",
              "          document.querySelector('#df-50fe9573-b4ee-4ce0-a329-ed60d75235f5 button.colab-df-convert');\n",
              "        buttonEl.style.display =\n",
              "          google.colab.kernel.accessAllowed ? 'block' : 'none';\n",
              "\n",
              "        async function convertToInteractive(key) {\n",
              "          const element = document.querySelector('#df-50fe9573-b4ee-4ce0-a329-ed60d75235f5');\n",
              "          const dataTable =\n",
              "            await google.colab.kernel.invokeFunction('convertToInteractive',\n",
              "                                                     [key], {});\n",
              "          if (!dataTable) return;\n",
              "\n",
              "          const docLinkHtml = 'Like what you see? Visit the ' +\n",
              "            '<a target=\"_blank\" href=https://colab.research.google.com/notebooks/data_table.ipynb>data table notebook</a>'\n",
              "            + ' to learn more about interactive tables.';\n",
              "          element.innerHTML = '';\n",
              "          dataTable['output_type'] = 'display_data';\n",
              "          await google.colab.output.renderOutput(dataTable, element);\n",
              "          const docLink = document.createElement('div');\n",
              "          docLink.innerHTML = docLinkHtml;\n",
              "          element.appendChild(docLink);\n",
              "        }\n",
              "      </script>\n",
              "    </div>\n",
              "  </div>\n",
              "  "
            ]
          },
          "metadata": {},
          "execution_count": 71
        }
      ],
      "source": [
        "df.sample(5)"
      ]
    },
    {
      "cell_type": "markdown",
      "metadata": {
        "id": "h8j8Xh9Q8b6A"
      },
      "source": [
        "Let's delete `customer_id`, as this feature will only hinder model training after merging."
      ]
    },
    {
      "cell_type": "code",
      "execution_count": 72,
      "metadata": {
        "id": "H7iw6qMf93O6"
      },
      "outputs": [],
      "source": [
        "df = df.drop('customer_id', axis=1)"
      ]
    },
    {
      "cell_type": "markdown",
      "metadata": {
        "id": "ocPxlmMYRLcm"
      },
      "source": [
        "## Feature correlation analysis"
      ]
    },
    {
      "cell_type": "code",
      "execution_count": 73,
      "metadata": {
        "colab": {
          "base_uri": "https://localhost:8080/"
        },
        "id": "1HYYtZHyPpjG",
        "outputId": "d5a0b7fc-78ee-423a-f6f2-d110b5915c7c"
      },
      "outputs": [
        {
          "output_type": "stream",
          "name": "stdout",
          "text": [
            "interval columns not set, guessing: ['monthly_charges', 'total_charges', 'left', 'loyalty', 'senior_citizen']\n"
          ]
        }
      ],
      "source": [
        "phik_overview = df.phik_matrix()"
      ]
    },
    {
      "cell_type": "code",
      "execution_count": 74,
      "metadata": {
        "colab": {
          "base_uri": "https://localhost:8080/",
          "height": 617
        },
        "id": "F8ICtJ2mSCFz",
        "outputId": "280cf8b9-a271-479f-c388-d96bbe1cc240"
      },
      "outputs": [
        {
          "output_type": "display_data",
          "data": {
            "text/plain": [
              "<Figure size 1080x720 with 2 Axes>"
            ],
            "image/png": "[encoded data removed]"
          },
          "metadata": {}
        }
      ],
      "source": [
        "plot_correlation_matrix(phik_overview.values, \n",
        "                        x_labels=phik_overview.columns, \n",
        "                        y_labels=phik_overview.index, \n",
        "                        vmin=0, vmax=1, color_map=\"Blues\", \n",
        "                        title=r\"correlation $\\phi_K$\", \n",
        "                        fontsize_factor=1.0, \n",
        "                        figsize=(15, 10))\n",
        "plt.tight_layout()"
      ]
    },
    {
      "cell_type": "markdown",
      "metadata": {
        "id": "Q39wVk8BW2_J"
      },
      "source": [
        "### Conclusion\n",
        "`monthly_charges` is highly dependent on a series of internet services, especially on `streaming_tv` and `streaming_movies`. It is noticeable that they are interdependent (obviously, streaming TV usually comes with streaming movies) with a correlation coefficient of 0.74. The correct solution would be to remove one column. Let's remove `streaming_tv`."
      ]
    },
    {
      "cell_type": "markdown",
      "metadata": {
        "id": "Cg2vyBsWcz6-"
      },
      "source": [
        "## Making changes according to the conclusion"
      ]
    },
    {
      "cell_type": "code",
      "execution_count": 75,
      "metadata": {
        "id": "17yxt888eizb"
      },
      "outputs": [],
      "source": [
        "df = df.drop('streaming_tv', axis=1)"
      ]
    },
    {
      "cell_type": "markdown",
      "source": [
        "## Splitting into Training and Testing"
      ],
      "metadata": {
        "id": "OEfOpdv7zeWf"
      }
    },
    {
      "cell_type": "code",
      "execution_count": 76,
      "metadata": {
        "id": "8Q6wntmdel6h"
      },
      "outputs": [],
      "source": [
        "X_train, X_test, y_train, y_test = train_test_split(\n",
        "    df.drop('left', axis=1), df.left, test_size=0.25, random_state=171022)"
      ]
    },
    {
      "cell_type": "markdown",
      "source": [
        "## Feature Encoding"
      ],
      "metadata": {
        "id": "n0gzvZNozkik"
      }
    },
    {
      "cell_type": "code",
      "execution_count": 77,
      "metadata": {
        "id": "KiUrZQOBepyP"
      },
      "outputs": [],
      "source": [
        "cat_features = ['type', 'paperless_billing', 'payment_method', 'gender', 'partner', 'dependents', 'multiple_lines', 'internet_service', 'online_security', 'online_backup', 'device_protection', 'tech_support', 'streaming_movies']"
      ]
    },
    {
      "cell_type": "code",
      "execution_count": 78,
      "metadata": {
        "id": "cTIS6lXjeuCq"
      },
      "outputs": [],
      "source": [
        "ohe_enc = OneHotEncoder(drop = 'first')"
      ]
    },
    {
      "cell_type": "code",
      "execution_count": 79,
      "metadata": {
        "colab": {
          "base_uri": "https://localhost:8080/"
        },
        "id": "sqI5IvQ9ext-",
        "outputId": "00d67032-09a4-4645-b789-603172ad6de4"
      },
      "outputs": [
        {
          "output_type": "execute_result",
          "data": {
            "text/plain": [
              "OneHotEncoder(drop='first')"
            ]
          },
          "metadata": {},
          "execution_count": 79
        }
      ],
      "source": [
        "ohe_enc.fit(X_train[cat_features])"
      ]
    },
    {
      "cell_type": "code",
      "execution_count": 80,
      "metadata": {
        "colab": {
          "base_uri": "https://localhost:8080/"
        },
        "id": "8IjgHWmCe0b9",
        "outputId": "7b80ad0c-0a1e-439f-b7f7-ed0a6146ba22"
      },
      "outputs": [
        {
          "output_type": "stream",
          "name": "stderr",
          "text": [
            "/usr/local/lib/python3.8/dist-packages/sklearn/utils/deprecation.py:87: FutureWarning: Function get_feature_names is deprecated; get_feature_names is deprecated in 1.0 and will be removed in 1.2. Please use get_feature_names_out instead.\n",
            "  warnings.warn(msg, category=FutureWarning)\n"
          ]
        }
      ],
      "source": [
        "new_columns = ohe_enc.get_feature_names(cat_features)"
      ]
    },
    {
      "cell_type": "markdown",
      "source": [
        "### Encoding of the training dataset"
      ],
      "metadata": {
        "id": "AnXy3T13zwFk"
      }
    },
    {
      "cell_type": "code",
      "execution_count": 81,
      "metadata": {
        "id": "nq5OZcLtfBMV"
      },
      "outputs": [],
      "source": [
        "X_train_ohe = pd.DataFrame(ohe_enc.transform(X_train[cat_features]).toarray(), columns = new_columns).reset_index(drop=True)"
      ]
    },
    {
      "cell_type": "code",
      "execution_count": 82,
      "metadata": {
        "id": "Z2fx7oOVfDuf"
      },
      "outputs": [],
      "source": [
        "X_train_enc = X_train.drop(cat_features, axis=1).reset_index(drop=True)"
      ]
    },
    {
      "cell_type": "code",
      "execution_count": 83,
      "metadata": {
        "id": "C1pkKPqUfHwG"
      },
      "outputs": [],
      "source": [
        "X_train_enc = X_train_enc.join(X_train_ohe)"
      ]
    },
    {
      "cell_type": "code",
      "execution_count": 84,
      "metadata": {
        "colab": {
          "base_uri": "https://localhost:8080/"
        },
        "id": "09A3qZ2VfKGc",
        "outputId": "89a957bc-0b2d-445e-c729-60c2a781a0d1"
      },
      "outputs": [
        {
          "output_type": "stream",
          "name": "stdout",
          "text": [
            "<class 'pandas.core.frame.DataFrame'>\n",
            "RangeIndex: 5282 entries, 0 to 5281\n",
            "Data columns (total 22 columns):\n",
            " #   Column                                  Non-Null Count  Dtype  \n",
            "---  ------                                  --------------  -----  \n",
            " 0   monthly_charges                         5282 non-null   float64\n",
            " 1   total_charges                           5282 non-null   float64\n",
            " 2   loyalty                                 5282 non-null   int64  \n",
            " 3   senior_citizen                          5282 non-null   int64  \n",
            " 4   type_One year                           5282 non-null   float64\n",
            " 5   type_Two year                           5282 non-null   float64\n",
            " 6   paperless_billing_Yes                   5282 non-null   float64\n",
            " 7   payment_method_Credit card (automatic)  5282 non-null   float64\n",
            " 8   payment_method_Electronic check         5282 non-null   float64\n",
            " 9   payment_method_Mailed check             5282 non-null   float64\n",
            " 10  gender_Male                             5282 non-null   float64\n",
            " 11  partner_Yes                             5282 non-null   float64\n",
            " 12  dependents_Yes                          5282 non-null   float64\n",
            " 13  multiple_lines_Yes                      5282 non-null   float64\n",
            " 14  multiple_lines_no_phone                 5282 non-null   float64\n",
            " 15  internet_service_Fiber optic            5282 non-null   float64\n",
            " 16  internet_service_no_internet            5282 non-null   float64\n",
            " 17  online_security_Yes                     5282 non-null   float64\n",
            " 18  online_backup_Yes                       5282 non-null   float64\n",
            " 19  device_protection_Yes                   5282 non-null   float64\n",
            " 20  tech_support_Yes                        5282 non-null   float64\n",
            " 21  streaming_movies_Yes                    5282 non-null   float64\n",
            "dtypes: float64(20), int64(2)\n",
            "memory usage: 908.0 KB\n"
          ]
        }
      ],
      "source": [
        "X_train_enc.info()"
      ]
    },
    {
      "cell_type": "markdown",
      "source": [
        "### Encoding of the testing dataset"
      ],
      "metadata": {
        "id": "ZEShlr0R0Auv"
      }
    },
    {
      "cell_type": "code",
      "execution_count": 85,
      "metadata": {
        "id": "XdDzP2T1fhSb"
      },
      "outputs": [],
      "source": [
        "X_test_ohe = pd.DataFrame(ohe_enc.transform(X_test[cat_features]).toarray(), columns = new_columns).reset_index(drop=True)"
      ]
    },
    {
      "cell_type": "code",
      "execution_count": 86,
      "metadata": {
        "id": "_s8nR3mFfhSb"
      },
      "outputs": [],
      "source": [
        "X_test_enc = X_test.drop(cat_features, axis=1).reset_index(drop=True)"
      ]
    },
    {
      "cell_type": "code",
      "execution_count": 87,
      "metadata": {
        "id": "CfzhuCnUfhSb"
      },
      "outputs": [],
      "source": [
        "X_test_enc = X_test_enc.join(X_test_ohe)"
      ]
    },
    {
      "cell_type": "code",
      "execution_count": 88,
      "metadata": {
        "colab": {
          "base_uri": "https://localhost:8080/"
        },
        "id": "9gCrwrHNfhSc",
        "outputId": "fd256c73-e44a-438a-8eff-2007b05c50ad"
      },
      "outputs": [
        {
          "output_type": "stream",
          "name": "stdout",
          "text": [
            "<class 'pandas.core.frame.DataFrame'>\n",
            "RangeIndex: 1761 entries, 0 to 1760\n",
            "Data columns (total 22 columns):\n",
            " #   Column                                  Non-Null Count  Dtype  \n",
            "---  ------                                  --------------  -----  \n",
            " 0   monthly_charges                         1761 non-null   float64\n",
            " 1   total_charges                           1761 non-null   float64\n",
            " 2   loyalty                                 1761 non-null   int64  \n",
            " 3   senior_citizen                          1761 non-null   int64  \n",
            " 4   type_One year                           1761 non-null   float64\n",
            " 5   type_Two year                           1761 non-null   float64\n",
            " 6   paperless_billing_Yes                   1761 non-null   float64\n",
            " 7   payment_method_Credit card (automatic)  1761 non-null   float64\n",
            " 8   payment_method_Electronic check         1761 non-null   float64\n",
            " 9   payment_method_Mailed check             1761 non-null   float64\n",
            " 10  gender_Male                             1761 non-null   float64\n",
            " 11  partner_Yes                             1761 non-null   float64\n",
            " 12  dependents_Yes                          1761 non-null   float64\n",
            " 13  multiple_lines_Yes                      1761 non-null   float64\n",
            " 14  multiple_lines_no_phone                 1761 non-null   float64\n",
            " 15  internet_service_Fiber optic            1761 non-null   float64\n",
            " 16  internet_service_no_internet            1761 non-null   float64\n",
            " 17  online_security_Yes                     1761 non-null   float64\n",
            " 18  online_backup_Yes                       1761 non-null   float64\n",
            " 19  device_protection_Yes                   1761 non-null   float64\n",
            " 20  tech_support_Yes                        1761 non-null   float64\n",
            " 21  streaming_movies_Yes                    1761 non-null   float64\n",
            "dtypes: float64(20), int64(2)\n",
            "memory usage: 302.8 KB\n"
          ]
        }
      ],
      "source": [
        "X_test_enc.info()"
      ]
    },
    {
      "cell_type": "markdown",
      "metadata": {
        "id": "nnDbjb72f2zq"
      },
      "source": [
        "### Conclusion\n",
        "We have successfully encoded the features using the `one-hot encoding` method."
      ]
    },
    {
      "cell_type": "markdown",
      "metadata": {
        "id": "c2FrISiXgHgH"
      },
      "source": [
        "## Training models"
      ]
    },
    {
      "cell_type": "markdown",
      "metadata": {
        "id": "hQO_928Zg-bv"
      },
      "source": [
        "Let's train random forest and gradient boosting models and see their results (roc-auc) on cross-validation."
      ]
    },
    {
      "cell_type": "markdown",
      "metadata": {
        "id": "o6YB-sOvgza9"
      },
      "source": [
        "### Random Forest Classifier"
      ]
    },
    {
      "cell_type": "code",
      "execution_count": 89,
      "metadata": {
        "colab": {
          "base_uri": "https://localhost:8080/"
        },
        "id": "JYsZzNLUgGax",
        "outputId": "ce2dc05e-d1d7-4d26-bfa1-0fecb7b8b879"
      },
      "outputs": [
        {
          "output_type": "stream",
          "name": "stdout",
          "text": [
            "Fitting 5 folds for each of 28 candidates, totalling 140 fits\n",
            "Лучший средний roc-auc на обучающей выборке: 0.85 , для модели с параметрами: {'max_depth': 6, 'n_estimators': 16}\n"
          ]
        }
      ],
      "source": [
        "clf_forest = RandomForestClassifier(random_state=171022)\n",
        "parametrs_forest = {'n_estimators': range (1, 20, 5), 'max_depth': range (1, 8, 1)}\n",
        "grid_forest = GridSearchCV(clf_forest, parametrs_forest, cv=5, verbose=1, n_jobs=-1, scoring='roc_auc')\n",
        "grid_forest.fit(X_train_enc, y_train)\n",
        "grid_forest.best_params_\n",
        "print('Лучший средний roc-auc на обучающей выборке:', round(grid_forest.best_score_, 2), ', для модели с параметрами:', grid_forest.best_params_)\n"
      ]
    },
    {
      "cell_type": "markdown",
      "metadata": {
        "id": "iMQg1fSPjX1X"
      },
      "source": [
        "### CatBoost"
      ]
    },
    {
      "cell_type": "code",
      "execution_count": 90,
      "metadata": {
        "id": "iRZVjzkaoXoN"
      },
      "outputs": [],
      "source": [
        "params = {\n",
        "'loss_function' : 'Logloss',\n",
        "'custom_loss' : 'AUC:hints=skip_train~false',\n",
        "'eval_metric' : 'AUC:hints=skip_train~false',\n",
        "'verbose' : 200,\n",
        "'random_seed' : 171022,\n",
        "'cat_features' : cat_features\n",
        "}"
      ]
    },
    {
      "cell_type": "code",
      "execution_count": 91,
      "metadata": {
        "id": "hKHZszFtigKx"
      },
      "outputs": [],
      "source": [
        "model = CatBoostClassifier(**params)"
      ]
    },
    {
      "cell_type": "code",
      "execution_count": 92,
      "metadata": {
        "id": "L9BfgobjllZv"
      },
      "outputs": [],
      "source": [
        "grid = {'learning_rate': [0.01, 0.1, 0.4], 'depth': [1, 4, 50], }"
      ]
    },
    {
      "cell_type": "code",
      "execution_count": 93,
      "metadata": {
        "colab": {
          "base_uri": "https://localhost:8080/"
        },
        "id": "6Vz6V4aWlmQJ",
        "outputId": "b84edf74-ec28-4509-bff5-7d8fdf854e62",
        "scrolled": true
      },
      "outputs": [
        {
          "output_type": "stream",
          "name": "stdout",
          "text": [
            "0:\tlearn: 0.6609121\ttest: 0.6681350\tbest: 0.6681350 (0)\ttotal: 58.1ms\tremaining: 58s\n",
            "200:\tlearn: 0.8406407\ttest: 0.8436740\tbest: 0.8438178 (197)\ttotal: 1.87s\tremaining: 7.43s\n",
            "400:\tlearn: 0.8480529\ttest: 0.8474016\tbest: 0.8474387 (375)\ttotal: 3.23s\tremaining: 4.82s\n",
            "600:\tlearn: 0.8522749\ttest: 0.8504519\tbest: 0.8504843 (598)\ttotal: 4.61s\tremaining: 3.06s\n",
            "800:\tlearn: 0.8552799\ttest: 0.8527181\tbest: 0.8528201 (793)\ttotal: 5.92s\tremaining: 1.47s\n",
            "999:\tlearn: 0.8582794\ttest: 0.8550284\tbest: 0.8550284 (999)\ttotal: 7.52s\tremaining: 0us\n",
            "\n",
            "bestTest = 0.8550283917\n",
            "bestIteration = 999\n",
            "\n",
            "0:\tloss: 0.8550284\tbest: 0.8550284 (0)\ttotal: 7.57s\tremaining: 1m\n",
            "0:\tlearn: 0.6609121\ttest: 0.6681350\tbest: 0.6681350 (0)\ttotal: 6.11ms\tremaining: 6.11s\n",
            "200:\tlearn: 0.8636261\ttest: 0.8586585\tbest: 0.8588348 (198)\ttotal: 1.42s\tremaining: 5.64s\n",
            "400:\tlearn: 0.8696053\ttest: 0.8631353\tbest: 0.8631353 (400)\ttotal: 3.99s\tremaining: 5.96s\n",
            "600:\tlearn: 0.8738154\ttest: 0.8654851\tbest: 0.8656335 (594)\ttotal: 6.14s\tremaining: 4.08s\n",
            "800:\tlearn: 0.8765379\ttest: 0.8671111\tbest: 0.8672039 (794)\ttotal: 7.59s\tremaining: 1.89s\n",
            "999:\tlearn: 0.8784887\ttest: 0.8685353\tbest: 0.8685353 (997)\ttotal: 8.3s\tremaining: 0us\n",
            "\n",
            "bestTest = 0.8685353226\n",
            "bestIteration = 997\n",
            "\n",
            "1:\tloss: 0.8685353\tbest: 0.8685353 (1)\ttotal: 15.9s\tremaining: 55.7s\n",
            "0:\tlearn: 0.6609121\ttest: 0.6681350\tbest: 0.6681350 (0)\ttotal: 3.78ms\tremaining: 3.78s\n",
            "200:\tlearn: 0.8774081\ttest: 0.8674822\tbest: 0.8675147 (195)\ttotal: 743ms\tremaining: 2.95s\n",
            "400:\tlearn: 0.8851998\ttest: 0.8724160\tbest: 0.8724160 (400)\ttotal: 1.46s\tremaining: 2.18s\n",
            "600:\tlearn: 0.8901717\ttest: 0.8741278\tbest: 0.8741742 (596)\ttotal: 2.15s\tremaining: 1.43s\n",
            "800:\tlearn: 0.8940961\ttest: 0.8770552\tbest: 0.8770737 (788)\ttotal: 2.84s\tremaining: 706ms\n",
            "999:\tlearn: 0.8974480\ttest: 0.8788459\tbest: 0.8788923 (989)\ttotal: 3.52s\tremaining: 0us\n",
            "\n",
            "bestTest = 0.87889226\n",
            "bestIteration = 989\n",
            "\n",
            "2:\tloss: 0.8788923\tbest: 0.8788923 (2)\ttotal: 19.5s\tremaining: 38.9s\n",
            "0:\tlearn: 0.7833943\ttest: 0.7986927\tbest: 0.7986927 (0)\ttotal: 7.64ms\tremaining: 7.63s\n",
            "200:\tlearn: 0.8609827\ttest: 0.8559353\tbest: 0.8559725 (199)\ttotal: 1.31s\tremaining: 5.2s\n",
            "400:\tlearn: 0.8720916\ttest: 0.8643462\tbest: 0.8643786 (396)\ttotal: 2.69s\tremaining: 4.01s\n",
            "600:\tlearn: 0.8787781\ttest: 0.8679415\tbest: 0.8679415 (598)\ttotal: 4.01s\tremaining: 2.66s\n",
            "800:\tlearn: 0.8845430\ttest: 0.8717433\tbest: 0.8717433 (800)\ttotal: 5.74s\tremaining: 1.43s\n",
            "999:\tlearn: 0.8922680\ttest: 0.8779876\tbest: 0.8779876 (999)\ttotal: 8.07s\tremaining: 0us\n",
            "\n",
            "bestTest = 0.8779876227\n",
            "bestIteration = 999\n",
            "\n",
            "3:\tloss: 0.8779876\tbest: 0.8788923 (2)\ttotal: 27.6s\tremaining: 34.4s\n",
            "0:\tlearn: 0.7833943\ttest: 0.7986927\tbest: 0.7986927 (0)\ttotal: 12.3ms\tremaining: 12.3s\n",
            "200:\tlearn: 0.9233481\ttest: 0.8966324\tbest: 0.8968226 (197)\ttotal: 2.05s\tremaining: 8.14s\n",
            "400:\tlearn: 0.9547704\ttest: 0.9121064\tbest: 0.9121713 (399)\ttotal: 3.5s\tremaining: 5.22s\n",
            "600:\tlearn: 0.9714503\ttest: 0.9214125\tbest: 0.9214775 (596)\ttotal: 5s\tremaining: 3.32s\n",
            "800:\tlearn: 0.9809968\ttest: 0.9255460\tbest: 0.9255599 (797)\ttotal: 6.58s\tremaining: 1.63s\n",
            "999:\tlearn: 0.9867756\ttest: 0.9252770\tbest: 0.9258429 (875)\ttotal: 8.04s\tremaining: 0us\n",
            "\n",
            "bestTest = 0.9258429364\n",
            "bestIteration = 875\n",
            "\n",
            "4:\tloss: 0.9258429\tbest: 0.9258429 (4)\ttotal: 35.6s\tremaining: 28.5s\n",
            "0:\tlearn: 0.7833943\ttest: 0.7986927\tbest: 0.7986927 (0)\ttotal: 7.11ms\tremaining: 7.1s\n",
            "200:\tlearn: 0.9779334\ttest: 0.9204290\tbest: 0.9204290 (200)\ttotal: 1.44s\tremaining: 5.73s\n",
            "400:\tlearn: 0.9953144\ttest: 0.9266130\tbest: 0.9283666 (366)\ttotal: 2.96s\tremaining: 4.42s\n",
            "600:\tlearn: 0.9991317\ttest: 0.9242331\tbest: 0.9283666 (366)\ttotal: 5.1s\tremaining: 3.38s\n",
            "800:\tlearn: 0.9998205\ttest: 0.9218022\tbest: 0.9283666 (366)\ttotal: 7.53s\tremaining: 1.87s\n",
            "999:\tlearn: 0.9999744\ttest: 0.9195893\tbest: 0.9283666 (366)\ttotal: 9.31s\tremaining: 0us\n",
            "\n",
            "bestTest = 0.9283666425\n",
            "bestIteration = 366\n",
            "\n",
            "5:\tloss: 0.9283666\tbest: 0.9283666 (5)\ttotal: 45s\tremaining: 22.5s\n",
            "Estimating final quality...\n",
            "Training on fold [0/3]\n",
            "0:\tlearn: 0.7830431\ttest: 0.7778736\tbest: 0.7778736 (0)\ttotal: 7.05ms\tremaining: 7.04s\n",
            "200:\tlearn: 0.9858378\ttest: 0.9074601\tbest: 0.9106611 (162)\ttotal: 1.33s\tremaining: 5.31s\n",
            "400:\tlearn: 0.9973583\ttest: 0.9017912\tbest: 0.9106611 (162)\ttotal: 2.68s\tremaining: 4.01s\n",
            "600:\tlearn: 0.9997051\ttest: 0.9017140\tbest: 0.9106611 (162)\ttotal: 4s\tremaining: 2.66s\n",
            "800:\tlearn: 0.9999683\ttest: 0.8994343\tbest: 0.9106611 (162)\ttotal: 5.34s\tremaining: 1.33s\n",
            "999:\tlearn: 0.9999984\ttest: 0.8973041\tbest: 0.9106611 (162)\ttotal: 6.67s\tremaining: 0us\n",
            "\n",
            "bestTest = 0.9106611024\n",
            "bestIteration = 162\n",
            "\n",
            "Training on fold [1/3]\n",
            "0:\tlearn: 0.7973725\ttest: 0.7996484\tbest: 0.7996484 (0)\ttotal: 7.3ms\tremaining: 7.29s\n",
            "200:\tlearn: 0.9832856\ttest: 0.8982574\tbest: 0.8995181 (196)\ttotal: 1.34s\tremaining: 5.35s\n",
            "400:\tlearn: 0.9975492\ttest: 0.8987546\tbest: 0.9004237 (266)\ttotal: 2.98s\tremaining: 4.45s\n",
            "600:\tlearn: 0.9996290\ttest: 0.8989223\tbest: 0.9007336 (477)\ttotal: 5.16s\tremaining: 3.42s\n",
            "800:\tlearn: 0.9999634\ttest: 0.8993965\tbest: 0.9007336 (477)\ttotal: 7.29s\tremaining: 1.81s\n",
            "999:\tlearn: 0.9999947\ttest: 0.8997498\tbest: 0.9007336 (477)\ttotal: 8.6s\tremaining: 0us\n",
            "\n",
            "bestTest = 0.9007335538\n",
            "bestIteration = 477\n",
            "\n",
            "Training on fold [2/3]\n",
            "0:\tlearn: 0.7781832\ttest: 0.7783696\tbest: 0.7783696 (0)\ttotal: 7.03ms\tremaining: 7.03s\n",
            "200:\tlearn: 0.9797858\ttest: 0.9010046\tbest: 0.9032562 (180)\ttotal: 1.33s\tremaining: 5.29s\n",
            "400:\tlearn: 0.9971390\ttest: 0.9065966\tbest: 0.9076853 (388)\ttotal: 2.69s\tremaining: 4.01s\n",
            "600:\tlearn: 0.9995215\ttest: 0.9064195\tbest: 0.9076853 (388)\ttotal: 4.03s\tremaining: 2.67s\n",
            "800:\tlearn: 0.9999606\ttest: 0.9057261\tbest: 0.9076853 (388)\ttotal: 5.37s\tremaining: 1.33s\n",
            "999:\tlearn: 0.9999934\ttest: 0.9056948\tbest: 0.9076853 (388)\ttotal: 6.7s\tremaining: 0us\n",
            "\n",
            "bestTest = 0.9076853138\n",
            "bestIteration = 388\n",
            "\n"
          ]
        }
      ],
      "source": [
        "grid_search_result = model.grid_search(grid, X=X_train, y=y_train)"
      ]
    },
    {
      "cell_type": "code",
      "execution_count": 94,
      "metadata": {
        "colab": {
          "base_uri": "https://localhost:8080/"
        },
        "id": "o0ccZ4UGl1VS",
        "outputId": "77b07f67-fdd9-451c-fe13-0487a32c232c"
      },
      "outputs": [
        {
          "output_type": "execute_result",
          "data": {
            "text/plain": [
              "{'loss_function': 'Logloss',\n",
              " 'random_seed': 171022,\n",
              " 'verbose': 200,\n",
              " 'custom_loss': 'AUC:hints=skip_train~false',\n",
              " 'eval_metric': 'AUC:hints=skip_train~false',\n",
              " 'cat_features': ['type',\n",
              "  'paperless_billing',\n",
              "  'payment_method',\n",
              "  'gender',\n",
              "  'partner',\n",
              "  'dependents',\n",
              "  'multiple_lines',\n",
              "  'internet_service',\n",
              "  'online_security',\n",
              "  'online_backup',\n",
              "  'device_protection',\n",
              "  'tech_support',\n",
              "  'streaming_movies'],\n",
              " 'depth': 4,\n",
              " 'learning_rate': 0.4}"
            ]
          },
          "metadata": {},
          "execution_count": 94
        }
      ],
      "source": [
        "model.get_params()"
      ]
    },
    {
      "cell_type": "code",
      "execution_count": 95,
      "metadata": {
        "colab": {
          "base_uri": "https://localhost:8080/"
        },
        "id": "yqAbH6jWtD8v",
        "outputId": "6ee87b04-ea9b-4fdf-f3f3-5cabb74a60bb",
        "scrolled": true
      },
      "outputs": [
        {
          "output_type": "execute_result",
          "data": {
            "text/plain": [
              "0.9034533555038023"
            ]
          },
          "metadata": {},
          "execution_count": 95
        }
      ],
      "source": [
        "max(grid_search_result['cv_results']['test-AUC-mean'])"
      ]
    },
    {
      "cell_type": "markdown",
      "metadata": {
        "id": "1O0DrFa6tBIj"
      },
      "source": [
        "### Conclusion\n",
        "Cat Boost showed an `AUC-ROC` score of `0.90`, while Random Forest showed `0.85`. We choose Cat Boost and will test the model's quality on the test set."
      ]
    },
    {
      "cell_type": "markdown",
      "metadata": {
        "id": "PVN7k5motR81"
      },
      "source": [
        "## Testing the model on a test dataset"
      ]
    },
    {
      "cell_type": "code",
      "execution_count": 96,
      "metadata": {
        "id": "95Y4tM2EwfQv"
      },
      "outputs": [],
      "source": [
        "params = {\n",
        "'loss_function' : 'Logloss',\n",
        "'custom_loss' : 'AUC:hints=skip_train~false',\n",
        "'eval_metric' : 'AUC:hints=skip_train~false',\n",
        "'verbose' : 200,\n",
        "'random_seed' : 171022,\n",
        "'learning_rate': 0.12, \n",
        "'depth': 4,\n",
        "'iterations': 1000,\n",
        "'cat_features' : cat_features\n",
        "}"
      ]
    },
    {
      "cell_type": "code",
      "execution_count": 97,
      "metadata": {
        "id": "GGJn8tZJwqz8"
      },
      "outputs": [],
      "source": [
        "model = CatBoostClassifier(**params)"
      ]
    },
    {
      "cell_type": "code",
      "execution_count": 98,
      "metadata": {
        "colab": {
          "base_uri": "https://localhost:8080/"
        },
        "id": "CqniPKXPwszq",
        "outputId": "6c5fd8be-c09b-4b91-eeea-2b7ee579f9fc",
        "scrolled": true
      },
      "outputs": [
        {
          "output_type": "stream",
          "name": "stdout",
          "text": [
            "0:\tlearn: 0.7983081\ttotal: 7.36ms\tremaining: 7.35s\n",
            "10:\tlearn: 0.8520559\ttotal: 82.6ms\tremaining: 7.43s\n",
            "20:\tlearn: 0.8647475\ttotal: 150ms\tremaining: 7.01s\n",
            "30:\tlearn: 0.8738882\ttotal: 225ms\tremaining: 7.03s\n",
            "40:\tlearn: 0.8777273\ttotal: 296ms\tremaining: 6.93s\n",
            "50:\tlearn: 0.8807184\ttotal: 378ms\tremaining: 7.02s\n",
            "60:\tlearn: 0.8854717\ttotal: 448ms\tremaining: 6.89s\n",
            "70:\tlearn: 0.8874383\ttotal: 519ms\tremaining: 6.79s\n",
            "80:\tlearn: 0.8908011\ttotal: 601ms\tremaining: 6.81s\n",
            "90:\tlearn: 0.8939913\ttotal: 676ms\tremaining: 6.75s\n",
            "100:\tlearn: 0.8971144\ttotal: 760ms\tremaining: 6.77s\n",
            "110:\tlearn: 0.9015594\ttotal: 839ms\tremaining: 6.72s\n",
            "120:\tlearn: 0.9061947\ttotal: 917ms\tremaining: 6.66s\n",
            "130:\tlearn: 0.9089844\ttotal: 991ms\tremaining: 6.57s\n",
            "140:\tlearn: 0.9121019\ttotal: 1.06s\tremaining: 6.47s\n",
            "150:\tlearn: 0.9146031\ttotal: 1.15s\tremaining: 6.45s\n",
            "160:\tlearn: 0.9181387\ttotal: 1.25s\tremaining: 6.52s\n",
            "170:\tlearn: 0.9196972\ttotal: 1.33s\tremaining: 6.46s\n",
            "180:\tlearn: 0.9221920\ttotal: 1.41s\tremaining: 6.38s\n",
            "190:\tlearn: 0.9238392\ttotal: 1.49s\tremaining: 6.29s\n",
            "200:\tlearn: 0.9258453\ttotal: 1.56s\tremaining: 6.21s\n",
            "210:\tlearn: 0.9286389\ttotal: 1.64s\tremaining: 6.14s\n",
            "220:\tlearn: 0.9301066\ttotal: 1.72s\tremaining: 6.05s\n",
            "230:\tlearn: 0.9317282\ttotal: 1.8s\tremaining: 5.98s\n",
            "240:\tlearn: 0.9334190\ttotal: 1.88s\tremaining: 5.91s\n",
            "250:\tlearn: 0.9361134\ttotal: 1.95s\tremaining: 5.82s\n",
            "260:\tlearn: 0.9378423\ttotal: 2.02s\tremaining: 5.73s\n",
            "270:\tlearn: 0.9401647\ttotal: 2.11s\tremaining: 5.68s\n",
            "280:\tlearn: 0.9419378\ttotal: 2.19s\tremaining: 5.59s\n",
            "290:\tlearn: 0.9435367\ttotal: 2.26s\tremaining: 5.5s\n",
            "300:\tlearn: 0.9451543\ttotal: 2.35s\tremaining: 5.46s\n",
            "310:\tlearn: 0.9468077\ttotal: 2.43s\tremaining: 5.38s\n",
            "320:\tlearn: 0.9482331\ttotal: 2.5s\tremaining: 5.3s\n",
            "330:\tlearn: 0.9497214\ttotal: 2.58s\tremaining: 5.22s\n",
            "340:\tlearn: 0.9504484\ttotal: 2.66s\tremaining: 5.14s\n",
            "350:\tlearn: 0.9517336\ttotal: 2.73s\tremaining: 5.06s\n",
            "360:\tlearn: 0.9527950\ttotal: 2.81s\tremaining: 4.97s\n",
            "370:\tlearn: 0.9535361\ttotal: 2.89s\tremaining: 4.9s\n",
            "380:\tlearn: 0.9541847\ttotal: 2.96s\tremaining: 4.82s\n",
            "390:\tlearn: 0.9548428\ttotal: 3.04s\tremaining: 4.74s\n",
            "400:\tlearn: 0.9556721\ttotal: 3.12s\tremaining: 4.67s\n",
            "410:\tlearn: 0.9567986\ttotal: 3.2s\tremaining: 4.58s\n",
            "420:\tlearn: 0.9577265\ttotal: 3.28s\tremaining: 4.51s\n",
            "430:\tlearn: 0.9586730\ttotal: 3.37s\tremaining: 4.44s\n",
            "440:\tlearn: 0.9592905\ttotal: 3.44s\tremaining: 4.36s\n",
            "450:\tlearn: 0.9599581\ttotal: 3.51s\tremaining: 4.28s\n",
            "460:\tlearn: 0.9609336\ttotal: 3.58s\tremaining: 4.19s\n",
            "470:\tlearn: 0.9617674\ttotal: 3.66s\tremaining: 4.11s\n",
            "480:\tlearn: 0.9625379\ttotal: 3.74s\tremaining: 4.04s\n",
            "490:\tlearn: 0.9634489\ttotal: 3.82s\tremaining: 3.96s\n",
            "500:\tlearn: 0.9638126\ttotal: 3.89s\tremaining: 3.88s\n",
            "510:\tlearn: 0.9644676\ttotal: 3.97s\tremaining: 3.8s\n",
            "520:\tlearn: 0.9653296\ttotal: 4.04s\tremaining: 3.72s\n",
            "530:\tlearn: 0.9663408\ttotal: 4.13s\tremaining: 3.65s\n",
            "540:\tlearn: 0.9671404\ttotal: 4.21s\tremaining: 3.57s\n",
            "550:\tlearn: 0.9677237\ttotal: 4.28s\tremaining: 3.49s\n",
            "560:\tlearn: 0.9682698\ttotal: 4.38s\tremaining: 3.43s\n",
            "570:\tlearn: 0.9687126\ttotal: 4.46s\tremaining: 3.35s\n",
            "580:\tlearn: 0.9692987\ttotal: 4.54s\tremaining: 3.27s\n",
            "590:\tlearn: 0.9697660\ttotal: 4.62s\tremaining: 3.19s\n",
            "600:\tlearn: 0.9701597\ttotal: 4.7s\tremaining: 3.12s\n",
            "610:\tlearn: 0.9706114\ttotal: 4.78s\tremaining: 3.04s\n",
            "620:\tlearn: 0.9715934\ttotal: 4.86s\tremaining: 2.96s\n",
            "630:\tlearn: 0.9722191\ttotal: 4.93s\tremaining: 2.88s\n",
            "640:\tlearn: 0.9726658\ttotal: 5.01s\tremaining: 2.81s\n",
            "650:\tlearn: 0.9731537\ttotal: 5.1s\tremaining: 2.73s\n",
            "660:\tlearn: 0.9736996\ttotal: 5.18s\tremaining: 2.65s\n",
            "670:\tlearn: 0.9744604\ttotal: 5.25s\tremaining: 2.58s\n",
            "680:\tlearn: 0.9752353\ttotal: 5.33s\tremaining: 2.5s\n",
            "690:\tlearn: 0.9755603\ttotal: 5.42s\tremaining: 2.42s\n",
            "700:\tlearn: 0.9762124\ttotal: 5.5s\tremaining: 2.35s\n",
            "710:\tlearn: 0.9767687\ttotal: 5.58s\tremaining: 2.27s\n",
            "720:\tlearn: 0.9772662\ttotal: 5.66s\tremaining: 2.19s\n",
            "730:\tlearn: 0.9777015\ttotal: 5.75s\tremaining: 2.12s\n",
            "740:\tlearn: 0.9782512\ttotal: 5.96s\tremaining: 2.08s\n",
            "750:\tlearn: 0.9786992\ttotal: 6.13s\tremaining: 2.03s\n",
            "760:\tlearn: 0.9791314\ttotal: 6.33s\tremaining: 1.99s\n",
            "770:\tlearn: 0.9794850\ttotal: 6.55s\tremaining: 1.95s\n",
            "780:\tlearn: 0.9798706\ttotal: 6.74s\tremaining: 1.89s\n",
            "790:\tlearn: 0.9801597\ttotal: 6.92s\tremaining: 1.83s\n",
            "800:\tlearn: 0.9804739\ttotal: 7.11s\tremaining: 1.77s\n",
            "810:\tlearn: 0.9807464\ttotal: 7.31s\tremaining: 1.7s\n",
            "820:\tlearn: 0.9810602\ttotal: 7.53s\tremaining: 1.64s\n",
            "830:\tlearn: 0.9812901\ttotal: 7.74s\tremaining: 1.57s\n",
            "840:\tlearn: 0.9814838\ttotal: 7.92s\tremaining: 1.5s\n",
            "850:\tlearn: 0.9817493\ttotal: 8.09s\tremaining: 1.42s\n",
            "860:\tlearn: 0.9821929\ttotal: 8.27s\tremaining: 1.33s\n",
            "870:\tlearn: 0.9825873\ttotal: 8.45s\tremaining: 1.25s\n",
            "880:\tlearn: 0.9829532\ttotal: 8.62s\tremaining: 1.16s\n",
            "890:\tlearn: 0.9831884\ttotal: 8.8s\tremaining: 1.08s\n",
            "900:\tlearn: 0.9834629\ttotal: 8.99s\tremaining: 988ms\n",
            "910:\tlearn: 0.9837174\ttotal: 9.16s\tremaining: 895ms\n",
            "920:\tlearn: 0.9840016\ttotal: 9.31s\tremaining: 798ms\n",
            "930:\tlearn: 0.9842412\ttotal: 9.47s\tremaining: 702ms\n",
            "940:\tlearn: 0.9844466\ttotal: 9.66s\tremaining: 606ms\n",
            "950:\tlearn: 0.9846659\ttotal: 9.85s\tremaining: 508ms\n",
            "960:\tlearn: 0.9849245\ttotal: 10s\tremaining: 407ms\n",
            "970:\tlearn: 0.9850748\ttotal: 10.2s\tremaining: 305ms\n",
            "980:\tlearn: 0.9853675\ttotal: 10.4s\tremaining: 201ms\n",
            "990:\tlearn: 0.9855980\ttotal: 10.5s\tremaining: 95.5ms\n",
            "999:\tlearn: 0.9857718\ttotal: 10.6s\tremaining: 0us\n"
          ]
        },
        {
          "output_type": "execute_result",
          "data": {
            "text/plain": [
              "<catboost.core.CatBoostClassifier at 0x7fb983b5eeb0>"
            ]
          },
          "metadata": {},
          "execution_count": 98
        }
      ],
      "source": [
        "model.fit(X_train, y_train, verbose=10)"
      ]
    },
    {
      "cell_type": "code",
      "execution_count": 99,
      "metadata": {
        "colab": {
          "base_uri": "https://localhost:8080/",
          "height": 339
        },
        "id": "X-KH-1O72q1E",
        "outputId": "43b0403e-5f18-4d92-a296-445fb47c1904"
      },
      "outputs": [
        {
          "output_type": "display_data",
          "data": {
            "text/plain": [
              "<Figure size 432x288 with 1 Axes>"
            ],
            "image/png": "[encoded data removed]"
          },
          "metadata": {}
        },
        {
          "output_type": "stream",
          "name": "stdout",
          "text": [
            "\n",
            "ROC-AUC metric value on the test set: 0.92402\n",
            "Accuracy metric value on the test set: 0.88018\n"
          ]
        }
      ],
      "source": [
        "y_pred_proba = model.predict_proba(X_test)[::,1]\n",
        "fpr, tpr, _ = metrics.roc_curve(y_test,  y_pred_proba)\n",
        "final_roc_auc = metrics.roc_auc_score(y_test, y_pred_proba)\n",
        "\n",
        "plt.plot(fpr,tpr,label=\"AUC=\"+str(final_roc_auc))\n",
        "plt.ylabel('True Positive Rate')\n",
        "plt.xlabel('False Positive Rate')\n",
        "plt.legend(loc=4)\n",
        "plt.show()\n",
        "print('')\n",
        "print('ROC-AUC metric value on the test set:', round(final_roc_auc, 5))\n",
        "final_accuracy = metrics.accuracy_score(y_test, model.predict(X_test))\n",
        "print('Accuracy metric value on the test set:', round(final_accuracy, 5))"
      ]
    },
    {
      "cell_type": "markdown",
      "metadata": {
        "id": "VDf7pRt4-7PF"
      },
      "source": [
        "## Feature Importance Analysis"
      ]
    },
    {
      "cell_type": "code",
      "execution_count": 100,
      "metadata": {
        "colab": {
          "base_uri": "https://localhost:8080/",
          "height": 582
        },
        "id": "Nb0PYOooxKeH",
        "outputId": "202a738f-bc03-4208-97ec-6acadeee28f1"
      },
      "outputs": [
        {
          "output_type": "execute_result",
          "data": {
            "text/plain": [
              "              feature  importance\n",
              "5             loyalty   56.416009\n",
              "3     monthly_charges   11.573712\n",
              "4       total_charges   10.079284\n",
              "0                type    6.513554\n",
              "11   internet_service    3.227057\n",
              "2      payment_method    2.697286\n",
              "10     multiple_lines    2.208928\n",
              "1   paperless_billing    1.120432\n",
              "6              gender    1.087121\n",
              "15       tech_support    1.012856\n",
              "16   streaming_movies    0.743465\n",
              "12    online_security    0.727486\n",
              "13      online_backup    0.646662\n",
              "7      senior_citizen    0.624575\n",
              "8             partner    0.563452\n",
              "9          dependents    0.546318\n",
              "14  device_protection    0.211800"
            ],
            "text/html": [
              "\n",
              "  <div id=\"df-1fe4a01f-0410-4691-b87c-8d354df39b50\">\n",
              "    <div class=\"colab-df-container\">\n",
              "      <div>\n",
              "<style scoped>\n",
              "    .dataframe tbody tr th:only-of-type {\n",
              "        vertical-align: middle;\n",
              "    }\n",
              "\n",
              "    .dataframe tbody tr th {\n",
              "        vertical-align: top;\n",
              "    }\n",
              "\n",
              "    .dataframe thead th {\n",
              "        text-align: right;\n",
              "    }\n",
              "</style>\n",
              "<table border=\"1\" class=\"dataframe\">\n",
              "  <thead>\n",
              "    <tr style=\"text-align: right;\">\n",
              "      <th></th>\n",
              "      <th>feature</th>\n",
              "      <th>importance</th>\n",
              "    </tr>\n",
              "  </thead>\n",
              "  <tbody>\n",
              "    <tr>\n",
              "      <th>5</th>\n",
              "      <td>loyalty</td>\n",
              "      <td>56.416009</td>\n",
              "    </tr>\n",
              "    <tr>\n",
              "      <th>3</th>\n",
              "      <td>monthly_charges</td>\n",
              "      <td>11.573712</td>\n",
              "    </tr>\n",
              "    <tr>\n",
              "      <th>4</th>\n",
              "      <td>total_charges</td>\n",
              "      <td>10.079284</td>\n",
              "    </tr>\n",
              "    <tr>\n",
              "      <th>0</th>\n",
              "      <td>type</td>\n",
              "      <td>6.513554</td>\n",
              "    </tr>\n",
              "    <tr>\n",
              "      <th>11</th>\n",
              "      <td>internet_service</td>\n",
              "      <td>3.227057</td>\n",
              "    </tr>\n",
              "    <tr>\n",
              "      <th>2</th>\n",
              "      <td>payment_method</td>\n",
              "      <td>2.697286</td>\n",
              "    </tr>\n",
              "    <tr>\n",
              "      <th>10</th>\n",
              "      <td>multiple_lines</td>\n",
              "      <td>2.208928</td>\n",
              "    </tr>\n",
              "    <tr>\n",
              "      <th>1</th>\n",
              "      <td>paperless_billing</td>\n",
              "      <td>1.120432</td>\n",
              "    </tr>\n",
              "    <tr>\n",
              "      <th>6</th>\n",
              "      <td>gender</td>\n",
              "      <td>1.087121</td>\n",
              "    </tr>\n",
              "    <tr>\n",
              "      <th>15</th>\n",
              "      <td>tech_support</td>\n",
              "      <td>1.012856</td>\n",
              "    </tr>\n",
              "    <tr>\n",
              "      <th>16</th>\n",
              "      <td>streaming_movies</td>\n",
              "      <td>0.743465</td>\n",
              "    </tr>\n",
              "    <tr>\n",
              "      <th>12</th>\n",
              "      <td>online_security</td>\n",
              "      <td>0.727486</td>\n",
              "    </tr>\n",
              "    <tr>\n",
              "      <th>13</th>\n",
              "      <td>online_backup</td>\n",
              "      <td>0.646662</td>\n",
              "    </tr>\n",
              "    <tr>\n",
              "      <th>7</th>\n",
              "      <td>senior_citizen</td>\n",
              "      <td>0.624575</td>\n",
              "    </tr>\n",
              "    <tr>\n",
              "      <th>8</th>\n",
              "      <td>partner</td>\n",
              "      <td>0.563452</td>\n",
              "    </tr>\n",
              "    <tr>\n",
              "      <th>9</th>\n",
              "      <td>dependents</td>\n",
              "      <td>0.546318</td>\n",
              "    </tr>\n",
              "    <tr>\n",
              "      <th>14</th>\n",
              "      <td>device_protection</td>\n",
              "      <td>0.211800</td>\n",
              "    </tr>\n",
              "  </tbody>\n",
              "</table>\n",
              "</div>\n",
              "      <button class=\"colab-df-convert\" onclick=\"convertToInteractive('df-1fe4a01f-0410-4691-b87c-8d354df39b50')\"\n",
              "              title=\"Convert this dataframe to an interactive table.\"\n",
              "              style=\"display:none;\">\n",
              "        \n",
              "  <svg xmlns=\"http://www.w3.org/2000/svg\" height=\"24px\"viewBox=\"0 0 24 24\"\n",
              "       width=\"24px\">\n",
              "    <path d=\"M0 0h24v24H0V0z\" fill=\"none\"/>\n",
              "    <path d=\"M18.56 5.44l.94 2.06.94-2.06 2.06-.94-2.06-.94-.94-2.06-.94 2.06-2.06.94zm-11 1L8.5 8.5l.94-2.06 2.06-.94-2.06-.94L8.5 2.5l-.94 2.06-2.06.94zm10 10l.94 2.06.94-2.06 2.06-.94-2.06-.94-.94-2.06-.94 2.06-2.06.94z\"/><path d=\"M17.41 7.96l-1.37-1.37c-.4-.4-.92-.59-1.43-.59-.52 0-1.04.2-1.43.59L10.3 9.45l-7.72 7.72c-.78.78-.78 2.05 0 2.83L4 21.41c.39.39.9.59 1.41.59.51 0 1.02-.2 1.41-.59l7.78-7.78 2.81-2.81c.8-.78.8-2.07 0-2.86zM5.41 20L4 18.59l7.72-7.72 1.47 1.35L5.41 20z\"/>\n",
              "  </svg>\n",
              "      </button>\n",
              "      \n",
              "  <style>\n",
              "    .colab-df-container {\n",
              "      display:flex;\n",
              "      flex-wrap:wrap;\n",
              "      gap: 12px;\n",
              "    }\n",
              "\n",
              "    .colab-df-convert {\n",
              "      background-color: #E8F0FE;\n",
              "      border: none;\n",
              "      border-radius: 50%;\n",
              "      cursor: pointer;\n",
              "      display: none;\n",
              "      fill: #1967D2;\n",
              "      height: 32px;\n",
              "      padding: 0 0 0 0;\n",
              "      width: 32px;\n",
              "    }\n",
              "\n",
              "    .colab-df-convert:hover {\n",
              "      background-color: #E2EBFA;\n",
              "      box-shadow: 0px 1px 2px rgba(60, 64, 67, 0.3), 0px 1px 3px 1px rgba(60, 64, 67, 0.15);\n",
              "      fill: #174EA6;\n",
              "    }\n",
              "\n",
              "    [theme=dark] .colab-df-convert {\n",
              "      background-color: #3B4455;\n",
              "      fill: #D2E3FC;\n",
              "    }\n",
              "\n",
              "    [theme=dark] .colab-df-convert:hover {\n",
              "      background-color: #434B5C;\n",
              "      box-shadow: 0px 1px 3px 1px rgba(0, 0, 0, 0.15);\n",
              "      filter: drop-shadow(0px 1px 2px rgba(0, 0, 0, 0.3));\n",
              "      fill: #FFFFFF;\n",
              "    }\n",
              "  </style>\n",
              "\n",
              "      <script>\n",
              "        const buttonEl =\n",
              "          document.querySelector('#df-1fe4a01f-0410-4691-b87c-8d354df39b50 button.colab-df-convert');\n",
              "        buttonEl.style.display =\n",
              "          google.colab.kernel.accessAllowed ? 'block' : 'none';\n",
              "\n",
              "        async function convertToInteractive(key) {\n",
              "          const element = document.querySelector('#df-1fe4a01f-0410-4691-b87c-8d354df39b50');\n",
              "          const dataTable =\n",
              "            await google.colab.kernel.invokeFunction('convertToInteractive',\n",
              "                                                     [key], {});\n",
              "          if (!dataTable) return;\n",
              "\n",
              "          const docLinkHtml = 'Like what you see? Visit the ' +\n",
              "            '<a target=\"_blank\" href=https://colab.research.google.com/notebooks/data_table.ipynb>data table notebook</a>'\n",
              "            + ' to learn more about interactive tables.';\n",
              "          element.innerHTML = '';\n",
              "          dataTable['output_type'] = 'display_data';\n",
              "          await google.colab.output.renderOutput(dataTable, element);\n",
              "          const docLink = document.createElement('div');\n",
              "          docLink.innerHTML = docLinkHtml;\n",
              "          element.appendChild(docLink);\n",
              "        }\n",
              "      </script>\n",
              "    </div>\n",
              "  </div>\n",
              "  "
            ]
          },
          "metadata": {},
          "execution_count": 100
        }
      ],
      "source": [
        "df_importance = {'feature': X_test.columns, 'importance': model.get_feature_importance()}\n",
        "df_importance = pd.DataFrame(data=df_importance).sort_values(by='importance', ascending= False)\n",
        "df_importance"
      ]
    },
    {
      "cell_type": "code",
      "source": [
        "a = sns.barplot(x=\"importance\", y=\"feature\", data=df_importance)\n",
        "a.set(xlabel='Importance', ylabel='Feature', \n",
        "      title='Importance level for each feature')\n",
        "plt.show()"
      ],
      "metadata": {
        "colab": {
          "base_uri": "https://localhost:8080/",
          "height": 301
        },
        "id": "z1g_TZuf4WFz",
        "outputId": "dd92016c-cba8-4b4f-affb-00a461d3c86c"
      },
      "execution_count": 101,
      "outputs": [
        {
          "output_type": "display_data",
          "data": {
            "text/plain": [
              "<Figure size 432x288 with 1 Axes>"
            ],
            "image/png": "[encoded data removed]"
          },
          "metadata": {}
        }
      ]
    },
    {
      "cell_type": "markdown",
      "metadata": {
        "id": "WcncOqmu_KMq"
      },
      "source": [
        "## Intermediate Conclusion\n",
        "\n",
        "To predict customer churn, it was decided to take two models: Random Forest and Catboost, compare their results on cross-validation, determine the best model and its optimal hyperparameters, and test its quality on the test dataset.\n",
        "\n",
        "The comparison was made using the ROC-AUC metric. The random forest model showed a result of `0.85`, while Catboost showed `0.9`. For the final test, we took the Catboost model with hyperparameters: `'depth': 4, 'learning_rate': 0.1` that we selected during the cross-validation process. We left the other hyperparameters with their default values.\n",
        "\n",
        "As a result, the model showed a ROC-AUC metric value of `0.92252` on the test dataset, with an auxiliary accuracy metric of `0.88132`.\n",
        "\n",
        "After obtaining the results, we displayed a diagram and the feature importance values. Noticeably, the most important feature for the model is the `loyalty` feature with a value of `55.8`. We keep information in this feature about how long the customer stayed with us before leaving or, if they did not leave, at the time of data extraction. Less significant but still outstanding features are `type: 6.595549`, `monthly_charges: 11.725656`, `total_charges: 10.220329`. These are contract type and numeric features: monthly payment and the amount the customer spent on services during their usage period."
      ]
    },
    {
      "cell_type": "markdown",
      "metadata": {
        "id": "Y5gLj9-BEJSS"
      },
      "source": [
        "## Work report\n",
        "\n",
        "### Plan\n",
        "\n",
        "The work was carried out according to the plan. Some changes, such as adding new features or changing the data type, were made as the work progressed, as further actions required.\n",
        "\n",
        "### Difficulties\n",
        "\n",
        "No significant difficulties arose during the work process.\n",
        "\n",
        "### Key Steps\n",
        "\n",
        "The main steps that allowed achieving a high value of the target metric were: preprocessing and merging of tables, filling in missing values in the final dataframe, and selecting the Catboost model.\n",
        "\n",
        "### Model\n",
        "\n",
        "The model was chosen from two contenders: Random Forest and Gradient Boosting. Hyperparameter tuning and cross-validation were conducted, resulting in the Catboost Gradient Boosting model with hyperparameters: `depth: 4, learning_rate: 0.1` performing the best. All categorical features were also passed to the model as `cat_features`, leaving the other hyperparameters as default.\n",
        "\n",
        "### Features\n",
        "\n",
        "All parameters were used for model training with little to no changes. All tables were merged into one, the target feature `left` was obtained based on the principle \"if there is an end date in the contract data - the client has left, no - they have not,\" the number of days that the subscriber spent as a company client before leaving or at the time of data extraction from the database was calculated and separated into a separate feature `loyalty`. Date columns were removed to prevent interference with training. After studying the correlations, the feature `streaming_tv` was removed as it was highly correlated with the `streaming_movies` feature and could have degraded the final model quality.\n",
        "\n",
        "List of features used for training: `type, paperless_billing, payment_method, monthly_charges,        total_charges, loyalty, gender, senior_citizen, partner,        dependents, multiple_lines, internet_service, online_security,        online_backup, device_protection, tech_support,        streaming_movies`\n",
        "\n",
        "### Data Preprocessing\n",
        "\n",
        "Data preprocessing mainly involved handling missing values resulting from table merging. After merging data on subscribers and contracts with data on internet services, missing values were filled with `no_internet` for one categorical feature and `No` for the rest of the binary features. This makes sense, as if a person does not use the internet, it is necessary to indicate this. The same approach was applied to the table on telephone services. Another issue related to data preprocessing arose at the very beginning: because the `TotalCharges` value contained spaces, the column acquired a string data type. This was discovered during the exploration of the `contract` table due to an error when applying the `.describe` method to the table. Looking at the contract data for these subscribers, it became clear that these were people who had just entered into a contract and had not yet had time to pay for their first month (the data had not yet been updated), so the data with spaces were replaced with values from the `MonthlyCharges` column, as it is assumed that subscribers pay in advance for a month."
      ]
    }
  ],
  "metadata": {
    "ExecuteTimeLog": [
      {
        "duration": 350,
        "start_time": "2022-10-21T05:39:37.352Z"
      },
      {
        "duration": 380,
        "start_time": "2022-10-21T05:39:39.158Z"
      },
      {
        "duration": 397,
        "start_time": "2022-10-21T05:39:41.423Z"
      },
      {
        "duration": 4,
        "start_time": "2022-10-21T05:39:51.239Z"
      },
      {
        "duration": 62,
        "start_time": "2022-10-21T05:39:52.287Z"
      },
      {
        "duration": 143,
        "start_time": "2022-10-21T05:40:08.472Z"
      },
      {
        "duration": 19,
        "start_time": "2022-10-21T05:40:09.767Z"
      },
      {
        "duration": 45,
        "start_time": "2022-10-27T03:20:46.112Z"
      },
      {
        "duration": 6,
        "start_time": "2022-10-27T03:20:46.562Z"
      },
      {
        "duration": 4528,
        "start_time": "2022-10-27T03:20:56.842Z"
      },
      {
        "duration": 1901,
        "start_time": "2022-10-27T03:21:01.372Z"
      },
      {
        "duration": 111,
        "start_time": "2022-10-27T03:21:07.127Z"
      },
      {
        "duration": 13,
        "start_time": "2022-10-27T03:21:07.303Z"
      },
      {
        "duration": 13,
        "start_time": "2022-10-27T03:21:07.448Z"
      },
      {
        "duration": 2,
        "start_time": "2022-10-27T03:21:07.557Z"
      },
      {
        "duration": 12,
        "start_time": "2022-10-27T03:21:07.740Z"
      },
      {
        "duration": 5,
        "start_time": "2022-10-27T03:21:08.442Z"
      },
      {
        "duration": 5,
        "start_time": "2022-10-27T03:21:08.610Z"
      },
      {
        "duration": 9,
        "start_time": "2022-10-27T03:21:08.771Z"
      },
      {
        "duration": 8,
        "start_time": "2022-10-27T03:21:08.923Z"
      },
      {
        "duration": 271,
        "start_time": "2022-10-27T03:21:09.067Z"
      },
      {
        "duration": 301,
        "start_time": "2022-10-27T03:21:09.341Z"
      },
      {
        "duration": 4,
        "start_time": "2022-10-27T03:21:09.644Z"
      },
      {
        "duration": 9,
        "start_time": "2022-10-27T03:21:09.650Z"
      },
      {
        "duration": 5,
        "start_time": "2022-10-27T03:21:09.678Z"
      },
      {
        "duration": 5,
        "start_time": "2022-10-27T03:21:09.810Z"
      },
      {
        "duration": 4,
        "start_time": "2022-10-27T03:21:09.980Z"
      },
      {
        "duration": 5,
        "start_time": "2022-10-27T03:21:10.140Z"
      },
      {
        "duration": 8,
        "start_time": "2022-10-27T03:21:10.291Z"
      },
      {
        "duration": 7,
        "start_time": "2022-10-27T03:21:10.451Z"
      },
      {
        "duration": 72,
        "start_time": "2022-10-27T03:21:11.027Z"
      },
      {
        "duration": 11,
        "start_time": "2022-10-27T03:21:11.204Z"
      },
      {
        "duration": 11,
        "start_time": "2022-10-27T03:21:11.331Z"
      },
      {
        "duration": 28,
        "start_time": "2022-10-27T03:21:11.476Z"
      },
      {
        "duration": 4,
        "start_time": "2022-10-27T03:21:11.635Z"
      },
      {
        "duration": 118,
        "start_time": "2022-10-27T03:21:12.123Z"
      },
      {
        "duration": 14,
        "start_time": "2022-10-27T03:21:12.281Z"
      },
      {
        "duration": 9,
        "start_time": "2022-10-27T03:21:12.451Z"
      },
      {
        "duration": 6,
        "start_time": "2022-10-27T03:21:12.563Z"
      },
      {
        "duration": 4,
        "start_time": "2022-10-27T03:21:12.723Z"
      },
      {
        "duration": 96,
        "start_time": "2022-10-27T03:21:13.219Z"
      },
      {
        "duration": 11,
        "start_time": "2022-10-27T03:21:13.395Z"
      },
      {
        "duration": 7,
        "start_time": "2022-10-27T03:21:13.517Z"
      },
      {
        "duration": 3,
        "start_time": "2022-10-27T03:21:15.804Z"
      },
      {
        "duration": 3,
        "start_time": "2022-10-27T03:21:15.973Z"
      },
      {
        "duration": 6,
        "start_time": "2022-10-27T03:21:16.307Z"
      },
      {
        "duration": 6,
        "start_time": "2022-10-27T03:21:16.795Z"
      },
      {
        "duration": 10,
        "start_time": "2022-10-27T03:21:17.146Z"
      },
      {
        "duration": 5,
        "start_time": "2022-10-27T03:21:17.475Z"
      },
      {
        "duration": 3,
        "start_time": "2022-10-27T03:21:17.651Z"
      },
      {
        "duration": 41,
        "start_time": "2022-10-27T03:21:17.811Z"
      },
      {
        "duration": 6,
        "start_time": "2022-10-27T03:21:17.979Z"
      },
      {
        "duration": 12,
        "start_time": "2022-10-27T03:21:18.274Z"
      },
      {
        "duration": 11,
        "start_time": "2022-10-27T03:21:18.492Z"
      },
      {
        "duration": 5,
        "start_time": "2022-10-27T03:21:18.827Z"
      },
      {
        "duration": 3,
        "start_time": "2022-10-27T03:21:18.996Z"
      },
      {
        "duration": 12,
        "start_time": "2022-10-27T03:21:19.155Z"
      },
      {
        "duration": 10,
        "start_time": "2022-10-27T03:21:19.320Z"
      },
      {
        "duration": 10,
        "start_time": "2022-10-27T03:21:19.501Z"
      },
      {
        "duration": 4,
        "start_time": "2022-10-27T03:21:19.842Z"
      },
      {
        "duration": 3,
        "start_time": "2022-10-27T03:21:20.291Z"
      },
      {
        "duration": 9,
        "start_time": "2022-10-27T03:21:20.474Z"
      },
      {
        "duration": 3,
        "start_time": "2022-10-27T03:21:20.674Z"
      },
      {
        "duration": 11,
        "start_time": "2022-10-27T03:21:20.850Z"
      },
      {
        "duration": 12,
        "start_time": "2022-10-27T03:21:20.988Z"
      },
      {
        "duration": 5,
        "start_time": "2022-10-27T03:21:21.306Z"
      },
      {
        "duration": 3,
        "start_time": "2022-10-27T03:21:21.474Z"
      },
      {
        "duration": 9,
        "start_time": "2022-10-27T03:21:21.635Z"
      },
      {
        "duration": 7,
        "start_time": "2022-10-27T03:21:21.859Z"
      },
      {
        "duration": 11,
        "start_time": "2022-10-27T03:21:22.378Z"
      },
      {
        "duration": 13,
        "start_time": "2022-10-27T03:21:22.555Z"
      },
      {
        "duration": 10,
        "start_time": "2022-10-27T03:21:22.731Z"
      },
      {
        "duration": 13,
        "start_time": "2022-10-27T03:21:22.922Z"
      },
      {
        "duration": 3,
        "start_time": "2022-10-27T03:21:23.075Z"
      },
      {
        "duration": 11,
        "start_time": "2022-10-27T03:21:23.258Z"
      },
      {
        "duration": 14,
        "start_time": "2022-10-27T03:21:23.450Z"
      },
      {
        "duration": 18,
        "start_time": "2022-10-27T03:21:23.627Z"
      },
      {
        "duration": 4,
        "start_time": "2022-10-27T03:21:23.803Z"
      },
      {
        "duration": 4,
        "start_time": "2022-10-27T03:21:23.986Z"
      },
      {
        "duration": 17,
        "start_time": "2022-10-27T03:21:24.187Z"
      },
      {
        "duration": 18,
        "start_time": "2022-10-27T03:21:24.371Z"
      },
      {
        "duration": 21,
        "start_time": "2022-10-27T03:21:24.571Z"
      },
      {
        "duration": 8,
        "start_time": "2022-10-27T03:21:24.954Z"
      },
      {
        "duration": 8,
        "start_time": "2022-10-27T03:21:25.107Z"
      },
      {
        "duration": 8,
        "start_time": "2022-10-27T03:21:25.723Z"
      },
      {
        "duration": 13,
        "start_time": "2022-10-27T03:21:26.667Z"
      },
      {
        "duration": 14,
        "start_time": "2022-10-27T03:21:27.730Z"
      },
      {
        "duration": 3,
        "start_time": "2022-10-27T03:21:28.197Z"
      },
      {
        "duration": 3,
        "start_time": "2022-10-27T03:21:29.619Z"
      },
      {
        "duration": 11,
        "start_time": "2022-10-27T03:21:30.004Z"
      },
      {
        "duration": 3,
        "start_time": "2022-10-27T03:21:31.019Z"
      },
      {
        "duration": 27,
        "start_time": "2022-10-27T03:21:31.627Z"
      },
      {
        "duration": 4,
        "start_time": "2022-10-27T03:21:32.404Z"
      },
      {
        "duration": 13,
        "start_time": "2022-10-27T03:21:36.220Z"
      },
      {
        "duration": 5,
        "start_time": "2022-10-27T03:21:48.597Z"
      },
      {
        "duration": 15,
        "start_time": "2022-10-27T03:21:50.061Z"
      },
      {
        "duration": 15,
        "start_time": "2022-10-27T03:22:52.309Z"
      },
      {
        "duration": 3,
        "start_time": "2022-10-27T03:35:54.598Z"
      },
      {
        "duration": 10,
        "start_time": "2022-10-27T03:35:55.366Z"
      },
      {
        "duration": 3,
        "start_time": "2022-10-27T03:35:55.727Z"
      },
      {
        "duration": 16,
        "start_time": "2022-10-27T03:35:55.902Z"
      },
      {
        "duration": 4,
        "start_time": "2022-10-27T03:35:56.342Z"
      },
      {
        "duration": 6,
        "start_time": "2022-10-27T03:35:56.485Z"
      },
      {
        "duration": 16,
        "start_time": "2022-10-27T03:35:56.733Z"
      },
      {
        "duration": 4042,
        "start_time": "2022-10-27T03:35:57.695Z"
      },
      {
        "duration": 12174,
        "start_time": "2022-10-27T03:36:01.739Z"
      },
      {
        "duration": 4,
        "start_time": "2022-10-27T03:36:13.915Z"
      },
      {
        "duration": 8,
        "start_time": "2022-10-27T03:36:13.920Z"
      },
      {
        "duration": 7,
        "start_time": "2022-10-27T03:36:13.929Z"
      },
      {
        "duration": 3,
        "start_time": "2022-10-27T03:36:13.937Z"
      },
      {
        "duration": 36,
        "start_time": "2022-10-27T03:36:13.941Z"
      },
      {
        "duration": 10,
        "start_time": "2022-10-27T03:36:13.978Z"
      },
      {
        "duration": 16,
        "start_time": "2022-10-27T03:36:13.990Z"
      },
      {
        "duration": 30,
        "start_time": "2022-10-27T03:36:14.009Z"
      },
      {
        "duration": 7,
        "start_time": "2022-10-27T03:36:14.041Z"
      },
      {
        "duration": 40,
        "start_time": "2022-10-27T03:36:14.050Z"
      },
      {
        "duration": 24,
        "start_time": "2022-10-27T03:36:14.092Z"
      },
      {
        "duration": 7,
        "start_time": "2022-10-27T03:36:14.117Z"
      },
      {
        "duration": 17,
        "start_time": "2022-10-27T03:36:14.125Z"
      },
      {
        "duration": 10,
        "start_time": "2022-10-27T03:36:14.144Z"
      },
      {
        "duration": 91,
        "start_time": "2022-10-27T03:36:14.156Z"
      },
      {
        "duration": 13,
        "start_time": "2022-10-27T03:36:14.249Z"
      },
      {
        "duration": 13,
        "start_time": "2022-10-27T03:36:14.264Z"
      },
      {
        "duration": 31,
        "start_time": "2022-10-27T03:36:14.279Z"
      },
      {
        "duration": 1273,
        "start_time": "2022-10-27T03:36:14.312Z"
      },
      {
        "duration": 4159,
        "start_time": "2022-10-27T03:36:15.587Z"
      },
      {
        "duration": 4,
        "start_time": "2022-10-27T03:36:23.036Z"
      },
      {
        "duration": 3,
        "start_time": "2022-10-27T03:36:28.333Z"
      },
      {
        "duration": 2,
        "start_time": "2022-10-27T03:36:29.902Z"
      },
      {
        "duration": 3,
        "start_time": "2022-10-27T03:36:52.968Z"
      },
      {
        "duration": 26230,
        "start_time": "2022-10-27T03:36:53.503Z"
      },
      {
        "duration": 5,
        "start_time": "2022-10-27T03:37:24.375Z"
      },
      {
        "duration": 4,
        "start_time": "2022-10-27T03:37:26.688Z"
      },
      {
        "duration": 105,
        "start_time": "2022-10-27T03:45:49.999Z"
      },
      {
        "duration": 10,
        "start_time": "2022-10-27T03:45:53.496Z"
      },
      {
        "duration": 4,
        "start_time": "2022-10-27T03:46:03.496Z"
      },
      {
        "duration": 3,
        "start_time": "2022-10-27T03:46:29.946Z"
      },
      {
        "duration": 61,
        "start_time": "2022-10-27T03:46:39.520Z"
      },
      {
        "duration": 9,
        "start_time": "2022-10-27T03:47:31.187Z"
      },
      {
        "duration": 9,
        "start_time": "2022-10-27T03:47:51.835Z"
      },
      {
        "duration": 72,
        "start_time": "2022-10-27T03:47:54.890Z"
      },
      {
        "duration": 51,
        "start_time": "2022-10-27T03:48:07.437Z"
      },
      {
        "duration": 3,
        "start_time": "2022-10-27T03:48:21.619Z"
      },
      {
        "duration": 57,
        "start_time": "2022-10-27T03:48:28.219Z"
      },
      {
        "duration": 8,
        "start_time": "2022-10-27T03:48:47.485Z"
      },
      {
        "duration": 9,
        "start_time": "2022-10-27T03:48:58.419Z"
      },
      {
        "duration": 58,
        "start_time": "2022-10-27T03:49:03.308Z"
      },
      {
        "duration": 8,
        "start_time": "2022-10-27T03:49:13.644Z"
      },
      {
        "duration": 8,
        "start_time": "2022-10-27T03:49:15.755Z"
      },
      {
        "duration": 9,
        "start_time": "2022-10-27T03:49:19.163Z"
      },
      {
        "duration": 48,
        "start_time": "2022-10-27T03:49:24.091Z"
      },
      {
        "duration": 9,
        "start_time": "2022-10-27T03:50:32.919Z"
      },
      {
        "duration": 58,
        "start_time": "2022-10-27T03:50:43.365Z"
      },
      {
        "duration": 9,
        "start_time": "2022-10-27T03:50:45.966Z"
      },
      {
        "duration": 9,
        "start_time": "2022-10-27T03:51:18.617Z"
      },
      {
        "duration": 4,
        "start_time": "2022-10-27T03:51:23.047Z"
      },
      {
        "duration": 57,
        "start_time": "2022-10-27T03:51:32.152Z"
      },
      {
        "duration": 10,
        "start_time": "2022-10-27T03:51:59.353Z"
      },
      {
        "duration": 9,
        "start_time": "2022-10-27T03:52:05.125Z"
      },
      {
        "duration": 9,
        "start_time": "2022-10-27T03:52:10.508Z"
      },
      {
        "duration": 9,
        "start_time": "2022-10-27T03:52:23.925Z"
      },
      {
        "duration": 10,
        "start_time": "2022-10-27T03:52:27.803Z"
      },
      {
        "duration": 5,
        "start_time": "2022-10-27T03:52:43.009Z"
      },
      {
        "duration": 10,
        "start_time": "2022-10-27T03:52:53.928Z"
      },
      {
        "duration": 4,
        "start_time": "2022-10-27T03:52:58.826Z"
      },
      {
        "duration": 9,
        "start_time": "2022-10-27T03:53:13.282Z"
      }
    ],
    "colab": {
      "provenance": []
    },
    "kernelspec": {
      "display_name": "Python 3 (ipykernel)",
      "language": "python",
      "name": "python3"
    },
    "language_info": {
      "codemirror_mode": {
        "name": "ipython",
        "version": 3
      },
      "file_extension": ".py",
      "mimetype": "text/x-python",
      "name": "python",
      "nbconvert_exporter": "python",
      "pygments_lexer": "ipython3",
      "version": "3.9.5"
    },
    "toc": {
      "base_numbering": 1,
      "nav_menu": {},
      "number_sections": true,
      "sideBar": true,
      "skip_h1_title": true,
      "title_cell": "Table of Contents",
      "title_sidebar": "Contents",
      "toc_cell": false,
      "toc_position": {},
      "toc_section_display": true,
      "toc_window_display": false
    }
  },
  "nbformat": 4,
  "nbformat_minor": 0
}